{
 "cells": [
  {
   "cell_type": "code",
   "execution_count": 291,
   "id": "8aeb9217",
   "metadata": {},
   "outputs": [],
   "source": [
    "import numpy as np\n",
    "from keras.datasets import imdb\n",
    "from keras.models import Sequential\n",
    "from keras.layers import Dense\n",
    "from keras.layers import LSTM\n",
    "from keras.layers.embeddings import Embedding\n",
    "from keras.preprocessing import sequence\n",
    "# fix random seed for reproducibility\n",
    "numpy.random.seed(6012)"
   ]
  },
  {
   "cell_type": "code",
   "execution_count": 292,
   "id": "fbe8da76",
   "metadata": {},
   "outputs": [],
   "source": [
    "def open_path(path):\n",
    "    datalist=[]\n",
    "    with open(path) as f:\n",
    "        for line in f:\n",
    "            line_list = line.split()\n",
    "            datalist.append(line_list)\n",
    "        new_list = []\n",
    "        new_datalist = []\n",
    "        for lst in datalist:\n",
    "            for val in lst:\n",
    "                val = float(val)\n",
    "                new_list.append(val)\n",
    "            new_datalist.append(new_list)\n",
    "            new_list = []\n",
    "        featurelist = []\n",
    "        if path == \"y_train.txt\":\n",
    "            new_datalist = sum(new_datalist, [])\n",
    "            pass\n",
    "        else:\n",
    "            for row in new_datalist:\n",
    "                array = np.asarray(row).astype('float32')\n",
    "                featurelist.append(array)    \n",
    "    return featurelist, new_datalist"
   ]
  },
  {
   "cell_type": "code",
   "execution_count": 334,
   "id": "e2a8c4c2",
   "metadata": {},
   "outputs": [],
   "source": [
    "x_acc_train = open_path(\"body_acc_x_train.txt\")[0]\n",
    "y_acc_train = open_path(\"body_acc_y_train.txt\")[0]\n",
    "z_acc_train = open_path(\"body_acc_z_train.txt\")[0]\n",
    "x_gyro_train = open_path(\"body_gyro_x_train.txt\")[0]\n",
    "y_gyro_train = open_path(\"body_gyro_y_train.txt\")[0]\n",
    "z_gyro_train = open_path(\"body_gyro_z_train.txt\")[0]\n",
    "total_acc_x_train = open_path(\"total_acc_x_train.txt\")[0]\n",
    "total_acc_y_train = open_path(\"total_acc_y_train.txt\")[0]\n",
    "total_acc_z_train = open_path(\"total_acc_z_train.txt\")[0]\n",
    "\n",
    "\n",
    "\n",
    "subject_train = open_path(\"subject_train.txt\")[0]\n",
    "y_train = open_path(\"y_train.txt\")[1]\n",
    "\n"
   ]
  },
  {
   "cell_type": "code",
   "execution_count": 333,
   "id": "03294de4",
   "metadata": {},
   "outputs": [
    {
     "data": {
      "text/plain": [
       "list"
      ]
     },
     "execution_count": 333,
     "metadata": {},
     "output_type": "execute_result"
    }
   ],
   "source": [
    "type(x_acc_train)\n"
   ]
  },
  {
   "cell_type": "code",
   "execution_count": 318,
   "id": "ac3973c2",
   "metadata": {},
   "outputs": [],
   "source": [
    "x_acc_test = open_path(\"body_acc_x_test.txt\")[0]\n",
    "y_acc_test = open_path(\"body_acc_y_test.txt\")[0]\n",
    "z_acc_test = open_path(\"body_acc_z_test.txt\")[0]\n",
    "x_gyro_test = open_path(\"body_gyro_x_test.txt\")[0]\n",
    "y_gyro_test = open_path(\"body_gyro_y_test.txt\")[0]\n",
    "z_gyro_test = open_path(\"body_gyro_z_test.txt\")[0]\n",
    "y_test = open_path(\"y_test.txt\")[1]\n",
    "\n"
   ]
  },
  {
   "cell_type": "code",
   "execution_count": 335,
   "id": "41e764a2",
   "metadata": {},
   "outputs": [],
   "source": [
    "stacked_arrays = np.stack((x_acc_train, y_acc_train, z_acc_train, \n",
    "                           x_gyro_train, y_gyro_train, z_gyro_train,\n",
    "                           total_acc_x_train, total_acc_y_train, total_acc_z_train))"
   ]
  },
  {
   "cell_type": "code",
   "execution_count": 336,
   "id": "012e9ccc",
   "metadata": {},
   "outputs": [],
   "source": [
    "import torch"
   ]
  },
  {
   "cell_type": "code",
   "execution_count": 337,
   "id": "9954c17f",
   "metadata": {},
   "outputs": [],
   "source": [
    "import tensorflow as tf"
   ]
  },
  {
   "cell_type": "code",
   "execution_count": 370,
   "id": "1cd1c0ac",
   "metadata": {},
   "outputs": [],
   "source": [
    "def LSTMready(X):\n",
    "    \n",
    "    X = (X - np.min(X)) / (np.max(X) - np.min(X))\n",
    "    X = X.reshape(len(X), 128, 1)\n",
    "    return X"
   ]
  },
  {
   "cell_type": "code",
   "execution_count": 371,
   "id": "e05ad8d8",
   "metadata": {},
   "outputs": [],
   "source": [
    "x_acc_LSTMready = LSTM_ready(x_acc_train)\n",
    "y_acc_LSTMready = LSTM_ready(y_acc_train)\n",
    "z_acc_LSTMready = LSTM_ready(z_acc_train)\n",
    "x_gyro_LSTMready = LSTM_ready(x_gyro_train)\n",
    "y_gyro_LSTMready = LSTM_ready(y_gyro_train)\n",
    "z_gyro_LSTMready = LSTM_ready(z_gyro_train)\n",
    "total_acc_x_LSTMready = LSTM_ready(total_acc_x_train)\n",
    "total_acc_y_LSTMready = LSTM_ready(total_acc_y_train)\n",
    "total_acc_z_LSTMready = LSTM_ready(total_acc_z_train)"
   ]
  },
  {
   "cell_type": "code",
   "execution_count": 372,
   "id": "0162441f",
   "metadata": {},
   "outputs": [],
   "source": [
    "train_stack = np.stack((x_acc_LSTMready, y_acc_LSTMready, z_acc_LSTMready, \n",
    "                        x_gyro_LSTMready, y_gyro_LSTMready, z_gyro_LSTMready,\n",
    "                        total_acc_x_LSTMready, total_acc_y_LSTMready, total_acc_z_LSTMready))"
   ]
  },
  {
   "cell_type": "code",
   "execution_count": 373,
   "id": "6f4c68fc",
   "metadata": {},
   "outputs": [
    {
     "data": {
      "text/plain": [
       "(9, 7352, 128, 1)"
      ]
     },
     "execution_count": 373,
     "metadata": {},
     "output_type": "execute_result"
    }
   ],
   "source": [
    "np.shape(train_stack)"
   ]
  },
  {
   "cell_type": "code",
   "execution_count": 374,
   "id": "2727ec9e",
   "metadata": {},
   "outputs": [],
   "source": [
    "train_stack = train_stack.reshape(7352, 128, 9)"
   ]
  },
  {
   "cell_type": "code",
   "execution_count": 375,
   "id": "8f9a4a52",
   "metadata": {},
   "outputs": [
    {
     "data": {
      "text/plain": [
       "(7352, 128, 9)"
      ]
     },
     "execution_count": 375,
     "metadata": {},
     "output_type": "execute_result"
    }
   ],
   "source": [
    "np.shape(train_stack)"
   ]
  },
  {
   "cell_type": "code",
   "execution_count": 376,
   "id": "482bfdbf",
   "metadata": {},
   "outputs": [],
   "source": [
    "y = np.array(y_train)"
   ]
  },
  {
   "cell_type": "code",
   "execution_count": 377,
   "id": "54ba0002",
   "metadata": {},
   "outputs": [],
   "source": [
    "y_tf = tf.keras.utils.to_categorical(y-1, num_classes = 6)"
   ]
  },
  {
   "cell_type": "code",
   "execution_count": 379,
   "id": "6eaa987b",
   "metadata": {
    "scrolled": true
   },
   "outputs": [
    {
     "name": "stdout",
     "output_type": "stream",
     "text": [
      "Epoch 1/10\n",
      "15/15 [==============================] - 11s 445ms/step - loss: 1.8116 - accuracy: 0.1798\n",
      "Epoch 2/10\n",
      "15/15 [==============================] - 7s 436ms/step - loss: 1.8052 - accuracy: 0.1857\n",
      "Epoch 3/10\n",
      "15/15 [==============================] - 7s 456ms/step - loss: 1.8005 - accuracy: 0.1862\n",
      "Epoch 4/10\n",
      "15/15 [==============================] - 7s 498ms/step - loss: 1.7967 - accuracy: 0.1764\n",
      "Epoch 5/10\n",
      "15/15 [==============================] - 7s 485ms/step - loss: 1.7956 - accuracy: 0.1741\n",
      "Epoch 6/10\n",
      "15/15 [==============================] - 7s 485ms/step - loss: 1.7907 - accuracy: 0.1840\n",
      "Epoch 7/10\n",
      "15/15 [==============================] - 7s 460ms/step - loss: 1.7914 - accuracy: 0.1817\n",
      "Epoch 8/10\n",
      "15/15 [==============================] - 8s 500ms/step - loss: 1.7913 - accuracy: 0.1827\n",
      "Epoch 9/10\n",
      "15/15 [==============================] - 8s 525ms/step - loss: 1.7900 - accuracy: 0.1741\n",
      "Epoch 10/10\n",
      "15/15 [==============================] - 7s 477ms/step - loss: 1.7893 - accuracy: 0.1839\n"
     ]
    },
    {
     "data": {
      "text/plain": [
       "<keras.callbacks.History at 0x1c9860fae80>"
      ]
     },
     "execution_count": 379,
     "metadata": {},
     "output_type": "execute_result"
    }
   ],
   "source": [
    "X = train_stack\n",
    "\n",
    "\n",
    "y = y_tf\n",
    "\n",
    "model = Sequential()\n",
    "model.add(tf.keras.layers.Dropout(rate=0.25))\n",
    "model.add(LSTM(50, return_sequences=False, input_shape=(X.shape[1], X.shape[2])))\n",
    "model.add(tf.keras.layers.Dropout(rate=0.25))\n",
    "model.add(Dense(6, activation='softmax'))\n",
    "model.compile(loss='categorical_crossentropy', optimizer='SGD', metrics=['accuracy'])\n",
    "#model.compile(optimizer='adam', loss='mse')\n",
    "\n",
    "model.fit(X, y, batch_size=500, epochs=10)"
   ]
  },
  {
   "cell_type": "code",
   "execution_count": 314,
   "id": "5e5e4a85",
   "metadata": {},
   "outputs": [],
   "source": [
    "predictions = model.predict(X)"
   ]
  },
  {
   "cell_type": "code",
   "execution_count": 315,
   "id": "c599a9f7",
   "metadata": {},
   "outputs": [
    {
     "data": {
      "text/plain": [
       "array([[0.47971213, 0.45224988, 0.44907835, 0.50356084, 0.5183544 ,\n",
       "        0.5298096 ],\n",
       "       [0.4797316 , 0.45230243, 0.4491513 , 0.5035473 , 0.5183367 ,\n",
       "        0.5297919 ],\n",
       "       [0.47968116, 0.45224112, 0.44900453, 0.5035372 , 0.5183594 ,\n",
       "        0.5298216 ],\n",
       "       ...,\n",
       "       [0.47408712, 0.4434974 , 0.42995024, 0.50368696, 0.5211948 ,\n",
       "        0.53222454],\n",
       "       [0.4755715 , 0.44486177, 0.4356188 , 0.50352585, 0.52111673,\n",
       "        0.5331241 ],\n",
       "       [0.47968003, 0.45272675, 0.45041487, 0.5028998 , 0.5183965 ,\n",
       "        0.53075194]], dtype=float32)"
      ]
     },
     "execution_count": 315,
     "metadata": {},
     "output_type": "execute_result"
    }
   ],
   "source": [
    "predictions"
   ]
  },
  {
   "cell_type": "code",
   "execution_count": 286,
   "id": "83e8ee62",
   "metadata": {},
   "outputs": [],
   "source": [
    "pred_list = []\n",
    "for arr in predictions:\n",
    "    pred_probs = arr.tolist()\n",
    "    pred = pred_probs.index(max(pred_probs))\n",
    "    pred_list.append(int(pred)+1)\n",
    "    \n"
   ]
  },
  {
   "cell_type": "code",
   "execution_count": null,
   "id": "91a3d591",
   "metadata": {},
   "outputs": [],
   "source": []
  }
 ],
 "metadata": {
  "kernelspec": {
   "display_name": "Python 3 (ipykernel)",
   "language": "python",
   "name": "python3"
  },
  "language_info": {
   "codemirror_mode": {
    "name": "ipython",
    "version": 3
   },
   "file_extension": ".py",
   "mimetype": "text/x-python",
   "name": "python",
   "nbconvert_exporter": "python",
   "pygments_lexer": "ipython3",
   "version": "3.9.7"
  }
 },
 "nbformat": 4,
 "nbformat_minor": 5
}
