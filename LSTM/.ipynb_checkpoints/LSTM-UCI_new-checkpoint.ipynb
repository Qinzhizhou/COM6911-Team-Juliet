{
 "cells": [
  {
   "cell_type": "code",
   "execution_count": 1,
   "metadata": {
    "id": "RLc5jd6wOgXo"
   },
   "outputs": [],
   "source": [
    "import numpy as np\n",
    "import pandas as pd\n",
    "import re\n",
    "import matplotlib.pyplot as plt\n",
    "from collections import Counter\n",
    "from sklearn.model_selection import train_test_split\n",
    "from sklearn import metrics\n",
    "import seaborn as sns\n",
    "\n",
    "from tqdm import tqdm\n",
    "import numpy as np\n",
    "import torch\n",
    "import torchvision\n",
    "import torch.nn as nn\n",
    "import torch.nn.functional as F\n",
    "from torch.autograd import Variable\n",
    "from torch.utils.data import TensorDataset\n",
    "import torch.optim as optim\n",
    "import torch.utils.data as data\n",
    "from torchvision import datasets\n",
    "import torchvision.transforms as transforms\n",
    "\n",
    "device = torch.device(\"cuda\" if torch.cuda.is_available() else \"cpu\") # use gpu"
   ]
  },
  {
   "cell_type": "code",
   "execution_count": 2,
   "metadata": {
    "id": "lWJtcBhZPI-d"
   },
   "outputs": [],
   "source": [
    "# loading data\n",
    "# uci_raw_data = pd.read_csv('Data/UCI_HAR_train.csv')\n",
    "train_features = np.load('../Data/UCI_train_features.npy')\n",
    "test_features = np.load('../Data/UCI_test_features.npy')\n",
    "train_labels = np.load('../Data/UCI_train_labels.npy')\n",
    "test_labels = np.load('../Data/UCI_test_labels.npy')\n",
    "train_labels = train_labels - 1\n",
    "test_labels = test_labels - 1"
   ]
  },
  {
   "cell_type": "code",
   "execution_count": 3,
   "metadata": {},
   "outputs": [
    {
     "data": {
      "text/plain": [
       "array([4, 4, 4, 4, 4, 4, 4, 4, 4, 4, 4, 4, 4, 4, 4, 4, 4, 4, 4, 4, 4, 4,\n",
       "       4, 4, 4, 4, 4, 3, 3, 3, 3, 3, 3, 3, 3, 3, 3, 3, 3, 3, 3, 3, 3, 3,\n",
       "       3, 3, 3, 3, 3, 3, 3, 5, 5, 5, 5, 5, 5, 5, 5, 5, 5, 5, 5, 5, 5, 5,\n",
       "       5, 5, 5, 5, 5, 5, 5, 5, 5, 5, 5, 5, 0, 0, 0, 0, 0, 0, 0, 0, 0, 0,\n",
       "       0, 0, 0, 0, 0, 0, 0, 0, 0, 0, 0, 0], dtype=int64)"
      ]
     },
     "execution_count": 3,
     "metadata": {},
     "output_type": "execute_result"
    }
   ],
   "source": [
    "train_labels[:100]\n"
   ]
  },
  {
   "cell_type": "code",
   "execution_count": 4,
   "metadata": {
    "id": "JgLIOSDNeDvP"
   },
   "outputs": [],
   "source": [
    "# only features and label.\n",
    "# uci_unprocessed = uci_raw_data[['x_acc','y_acc','z_acc','x_gyro','y_gyro','z_gyro','x_total_acc', 'y_total_acc', 'z_total_acc', 'activity']]"
   ]
  },
  {
   "cell_type": "code",
   "execution_count": 5,
   "metadata": {
    "colab": {
     "base_uri": "https://localhost:8080/",
     "height": 206
    },
    "id": "SjrOukIQtDdt",
    "outputId": "aa6674d8-0f21-4f46-8597-25b46a758e3e"
   },
   "outputs": [],
   "source": [
    "# uci_unprocessed.head(5)"
   ]
  },
  {
   "cell_type": "code",
   "execution_count": 6,
   "metadata": {
    "id": "9XLG4Gn-tKpf"
   },
   "outputs": [],
   "source": [
    "# window_size: size of time window\n",
    "# step: overlapping\n",
    "# data: dataset\n",
    "def time_windows(window_size,overlapping,data):\n",
    "    sigmentation_data_temp = []\n",
    "    sigmentation_data = []\n",
    "    sigmentation_label = []\n",
    "\n",
    "    for i in range(0,len(data),overlapping):\n",
    "        acc_x = data['x_acc'].values[i:i+window_size]\n",
    "        acc_y = data['y_acc'].values[i:i+window_size]\n",
    "        acc_z = data['z_acc'].values[i:i+window_size]\n",
    "        gyro_x = data['x_gyro'].values[i:i+window_size]\n",
    "        gyro_y = data['y_gyro'].values[i:i+window_size]\n",
    "        gyro_z = data['z_gyro'].values[i:i+window_size]\n",
    "        total_acc_x = data['x_total_acc'].values[i:i+window_size]\n",
    "        total_acc_y = data['y_total_acc'].values[i:i+window_size]\n",
    "        total_acc_z = data['z_total_acc'].values[i:i+window_size]\n",
    "        total_label = data['activity'].values[i:i+window_size]\n",
    "        label = Counter(total_label).most_common()[0][0]\n",
    "        sigmentation_data_temp.append([acc_x,acc_y,acc_z,gyro_x,gyro_y,gyro_z, total_acc_x, total_acc_y, total_acc_z])\n",
    "        sigmentation_arr = np.asarray(sigmentation_data_temp)\n",
    "        sig_size = sigmentation_arr.shape\n",
    "        if sig_size[2] == window_size:\n",
    "            sigmentation_arr.reshape(window_size,9)\n",
    "            sigmentation_data.append(sigmentation_arr)\n",
    "            sigmentation_label.append(label)\n",
    "            sigmentation_data_temp = []\n",
    "        else:\n",
    "            sigmentation_data_temp = []\n",
    "\n",
    "    sigmentation_data_arr = np.asarray(sigmentation_data)\n",
    "    sigmentation_label_arr = np.asarray(sigmentation_label)\n",
    "\n",
    "    return sigmentation_data_arr,sigmentation_label_arr\n"
   ]
  },
  {
   "cell_type": "code",
   "execution_count": 7,
   "metadata": {},
   "outputs": [],
   "source": [
    "tensor_train_features = torch.Tensor(train_features)\n",
    "tensor_train_labels = torch.Tensor(train_labels)\n",
    "tensor_test_features = torch.Tensor(test_features)\n",
    "tensor_test_labels = torch.Tensor(test_labels)\n",
    "\n",
    "# Add one dimension of channel\n",
    "tensor_train_features = torch.unsqueeze(tensor_train_features, 1)\n",
    "tensor_test_features = torch.unsqueeze(tensor_test_features, 1)\n",
    "train_dataset = TensorDataset(tensor_train_features, tensor_train_labels)\n",
    "test_dataset = TensorDataset(tensor_test_features, tensor_test_labels)"
   ]
  },
  {
   "cell_type": "code",
   "execution_count": 8,
   "metadata": {},
   "outputs": [],
   "source": [
    "train_loader = torch.utils.data.DataLoader(dataset=train_dataset,batch_size=32,shuffle=True)\n",
    "test_loader = torch.utils.data.DataLoader(dataset=test_dataset,batch_size=32,shuffle=True)"
   ]
  },
  {
   "cell_type": "code",
   "execution_count": 9,
   "metadata": {},
   "outputs": [],
   "source": [
    "# y = np.array(y_train)\n",
    "# y_tf = tf.keras.utils.to_categorical(y-1, num_classes = 6)"
   ]
  },
  {
   "cell_type": "code",
   "execution_count": 10,
   "metadata": {},
   "outputs": [],
   "source": [
    "# Hyper parameter \n",
    "BATCH_SIZE = 32# 32 # \n",
    "EPOCHES = 30"
   ]
  },
  {
   "cell_type": "code",
   "execution_count": 11,
   "metadata": {},
   "outputs": [
    {
     "data": {
      "text/plain": [
       "(torch.Size([32, 1, 9, 128]), torch.Size([32]))"
      ]
     },
     "execution_count": 11,
     "metadata": {},
     "output_type": "execute_result"
    }
   ],
   "source": [
    "# size if of bacth, tensor \n",
    "images,labels = next(iter(train_loader))\n",
    "images.shape, labels.shape"
   ]
  },
  {
   "cell_type": "code",
   "execution_count": 12,
   "metadata": {},
   "outputs": [],
   "source": [
    "# This is a batch of image u put in training or test\n",
    "\n",
    "def imshow(inp):\n",
    "    inp = inp.numpy().transpose((1,2,0))\n",
    "    mean = np.array([0.485, 0.456, 0.406])\n",
    "    std = np.array([0.229, 0.224, 0.225])\n",
    "    inp = std * inp + mean # Recovery the image\n",
    "    inp = np.clip(inp, 0, 1) # clip the pixel between 0 and 1\n",
    "    plt.imshow(inp)\n",
    "    #if titlle is not None:\n",
    "        #plt.title(title)\n",
    "   "
   ]
  },
  {
   "cell_type": "code",
   "execution_count": 13,
   "metadata": {},
   "outputs": [
    {
     "data": {
      "image/png": "[encoded data removed]",
      "text/plain": [
       "<Figure size 432x288 with 1 Axes>"
      ]
     },
     "metadata": {
      "needs_background": "light"
     },
     "output_type": "display_data"
    }
   ],
   "source": [
    "out = torchvision.utils.make_grid(images)\n",
    "imshow(out)"
   ]
  },
  {
   "cell_type": "markdown",
   "metadata": {},
   "source": [
    "### LSTM Model"
   ]
  },
  {
   "cell_type": "code",
   "execution_count": 14,
   "metadata": {},
   "outputs": [],
   "source": [
    "class LSTM_model(nn.Module):\n",
    "    def __init__(self, input_dim, hidden_dim, layer_dim, output_dim):\n",
    "        super(LSTM_model, self).__init__()\n",
    "        self.hidden_dim = hidden_dim\n",
    "        self.layer_dim = layer_dim\n",
    "        self.lstm = nn.LSTM(input_dim, hidden_dim, layer_dim, batch_first = True)\n",
    "        #FC_layer\n",
    "        self.fc = nn.Linear(hidden_dim, output_dim)\n",
    "        \n",
    "    def forward(self, x):\n",
    "        h0 = torch.zeros(self.layer_dim, x.size(0),self.hidden_dim).requires_grad_()#.to(device) \n",
    "        c0 = torch.zeros(self.layer_dim, x.size(0),self.hidden_dim).requires_grad_()#.to(device) \n",
    "        # X.SIZE = batch SIZE\n",
    "        \n",
    "        # detach the hidden state to prevent exploding gradient\n",
    "        out, (hn,cn) = self.lstm(x,( h0.detach(),c0.detach()))# detach \n",
    "        out = self.fc(out[:, -1, :])# -1 the last layer state at time t     \n",
    "        return out"
   ]
  },
  {
   "cell_type": "code",
   "execution_count": 15,
   "metadata": {},
   "outputs": [],
   "source": [
    "input_dim = 128 # input dimension\n",
    "hidden_dim = 150 # hidden layers number\n",
    "layer_dim = 1\n",
    "output_dim = 6  # output dimension\n",
    "\n",
    "# initialize the model\n",
    "model_lstm = LSTM_model(input_dim, hidden_dim, layer_dim, output_dim)\n",
    "# device = torch.device('cuda:0' if torch.cuda.is_available() else  'cpu')\n",
    "\n",
    "#model = model.to(device)"
   ]
  },
  {
   "cell_type": "code",
   "execution_count": 16,
   "metadata": {},
   "outputs": [
    {
     "name": "stdout",
     "output_type": "stream",
     "text": [
      "parameters: 1\n",
      "torch.Size([600, 128])\n",
      "parameters: 2\n",
      "torch.Size([600, 150])\n",
      "parameters: 3\n",
      "torch.Size([600])\n",
      "parameters: 4\n",
      "torch.Size([600])\n",
      "parameters: 5\n",
      "torch.Size([6, 150])\n",
      "parameters: 6\n",
      "torch.Size([6])\n"
     ]
    }
   ],
   "source": [
    "for i in range(len(list(model_lstm.parameters()))):\n",
    "    print(\"parameters: %d\" %(i+1))\n",
    "    print(list(model_lstm.parameters())[i].size())"
   ]
  },
  {
   "cell_type": "code",
   "execution_count": 17,
   "metadata": {},
   "outputs": [],
   "source": [
    "criterion = nn.CrossEntropyLoss()\n",
    "learning_rate = 0.001\n",
    "optimizer = torch.optim.SGD(model_lstm.parameters(), lr = learning_rate)"
   ]
  },
  {
   "cell_type": "code",
   "execution_count": 18,
   "metadata": {},
   "outputs": [],
   "source": [
    "sequence_dim = 9\n",
    "lost_list_LSTM = []\n",
    "accuracy_list = []\n",
    "iteration_list = [] \n",
    "iter = 0\n",
    "\n",
    "sequence_dim = 9\n",
    "lost_list_LSTM = []\n",
    "accuracy_list = []\n",
    "iteration_list = [] \n",
    "iter = 0\n",
    "def SGD(images, labels, train_loader, sequence_dim, input_dim):\n",
    "    iter=0\n",
    "    for epoch in range(EPOCHES):\n",
    "        for i, (images, labels) in enumerate(train_loader):\n",
    "            model_lstm.train()\n",
    "            # 32*1*6*128\n",
    "            images = images.view(-1, sequence_dim, input_dim).requires_grad_()#.to(device)\n",
    "            labels = labels.to(torch.int64)\n",
    "            #labels = labels.to(device)\n",
    "            # gradient.zero\n",
    "            optimizer.zero_grad()\n",
    "            #forward pass\n",
    "\n",
    "            outputs = model_lstm(images)\n",
    "            # print(output.size(), labels.size(), \"pass\")\n",
    "            # loss calc\n",
    "            loss_lstm = criterion(outputs, labels)\n",
    "            # backword\n",
    "            loss_lstm.backward()\n",
    "            # renew the parameter\n",
    "            optimizer.step()\n",
    "\n",
    "            iter += 1\n",
    "            if iter % 1000 == 0:\n",
    "                model_lstm.eval()\n",
    "                # accuracy\n",
    "                correct = 0\n",
    "                total = 0\n",
    "                for i, (images, labels) in enumerate(train_loader):\n",
    "                        images = images.view(-1, sequence_dim, input_dim)#.to(device)\n",
    "                        outputs = model_lstm(images)\n",
    "                        #print(outputs.size())\n",
    "\n",
    "                        predict = torch.max(outputs.data, 1)[1]\n",
    "                        total += labels.size(0)\n",
    "                        correct += (predict == labels).sum()\n",
    "\n",
    "                accuracy = correct / total * 100\n",
    "                lost_list_LSTM.append(loss_lstm.data)\n",
    "                accuracy_list.append(accuracy)\n",
    "                iteration_list.append(iter)\n",
    "                # print the info\n",
    "                print(\"Iter:{},loss:{},Accuracy:{}\".format(iter, loss_lstm.item(), accuracy))\n",
    "\n",
    "    return loss_lstm"
   ]
  },
  {
   "cell_type": "code",
   "execution_count": 19,
   "metadata": {},
   "outputs": [
    {
     "name": "stdout",
     "output_type": "stream",
     "text": [
      "Iter:1000,loss:0.9331765174865723,Accuracy:64.81229400634766\n",
      "Iter:2000,loss:0.8842961192131042,Accuracy:72.30685424804688\n",
      "Iter:3000,loss:0.884301483631134,Accuracy:74.07508087158203\n",
      "Iter:4000,loss:0.7368564009666443,Accuracy:78.44123840332031\n",
      "Iter:5000,loss:0.7196754217147827,Accuracy:78.33242797851562\n",
      "Iter:6000,loss:0.4986669421195984,Accuracy:74.2655029296875\n"
     ]
    },
    {
     "data": {
      "text/plain": [
       "tensor(0.6388, grad_fn=<NllLossBackward0>)"
      ]
     },
     "execution_count": 19,
     "metadata": {},
     "output_type": "execute_result"
    }
   ],
   "source": [
    "SGD(images, labels, train_loader, sequence_dim, input_dim)"
   ]
  },
  {
   "cell_type": "code",
   "execution_count": 20,
   "metadata": {},
   "outputs": [
    {
     "data": {
      "image/png": "[encoded data removed]",
      "text/plain": [
       "<Figure size 432x288 with 1 Axes>"
      ]
     },
     "metadata": {
      "needs_background": "light"
     },
     "output_type": "display_data"
    }
   ],
   "source": [
    "plt.plot(iteration_list,lost_list_LSTM)\n",
    "plt.xlabel(\"Number of Iteration\")\n",
    "plt.ylabel(\"Loss\")\n",
    "plt.title(\"LSTM loss on UCI\")\n",
    "plt.show()"
   ]
  },
  {
   "cell_type": "code",
   "execution_count": 21,
   "metadata": {},
   "outputs": [
    {
     "data": {
      "image/png": "[encoded data removed]",
      "text/plain": [
       "<Figure size 432x288 with 1 Axes>"
      ]
     },
     "metadata": {
      "needs_background": "light"
     },
     "output_type": "display_data"
    }
   ],
   "source": [
    "plt.plot(iteration_list,accuracy_list, color = \"r\")\n",
    "plt.xlabel(\"Number of Iteration\")\n",
    "plt.ylabel(\"Accuracy\")\n",
    "plt.title(\"LSTM accuracy on USI\")\n",
    "plt.show()"
   ]
  },
  {
   "cell_type": "code",
   "execution_count": 22,
   "metadata": {},
   "outputs": [
    {
     "name": "stdout",
     "output_type": "stream",
     "text": [
      "Test Accuracy of the basic LSTM model on the UCI test features: 76.55242919921875 %\n"
     ]
    }
   ],
   "source": [
    "labels = []\n",
    "predictions = []\n",
    "with torch.no_grad():\n",
    "    correct = 0\n",
    "    total = 0\n",
    "    for i, (images, labels) in enumerate(test_loader):\n",
    "        images = images.view(-1, sequence_dim, input_dim)#.to(device)\n",
    "        outputs = model_lstm(images)\n",
    "        #print(outputs.size())\n",
    "                    \n",
    "        predict = torch.max(outputs.data, 1)[1]\n",
    "        total += labels.size(0)\n",
    "        correct += (predict == labels).sum()\n",
    "    \n",
    "    print('Test Accuracy of the basic LSTM model on the UCI test features: {} %'.format((correct / total) * 100))"
   ]
  },
  {
   "cell_type": "code",
   "execution_count": 23,
   "metadata": {},
   "outputs": [
    {
     "name": "stdout",
     "output_type": "stream",
     "text": [
      "Test Accuracy of the basic LSTM model on the UCI test features: 76.55242919921875 %\n"
     ]
    },
    {
     "data": {
      "text/plain": [
       "Text(85.92, 0.5, 'predicted label')"
      ]
     },
     "execution_count": 23,
     "metadata": {},
     "output_type": "execute_result"
    },
    {
     "data": {
      "image/png": "[encoded data removed]",
      "text/plain": [
       "<Figure size 792x792 with 1 Axes>"
      ]
     },
     "metadata": {
      "needs_background": "light"
     },
     "output_type": "display_data"
    }
   ],
   "source": [
    "labels_list = []\n",
    "predictions = []\n",
    "classes = [\n",
    "    'walking forward', \n",
    "    'walking left', \n",
    "    'walking right',\n",
    "    'walking upstairs ',\n",
    "    'walking downstairs',\n",
    "    'running forward',\n",
    "    'jumping', \n",
    "    'sitting', \n",
    "    'standing ', 'sleeping ',\n",
    "    ' elevator up', \n",
    "    'elevator down'\n",
    "]\n",
    "\n",
    "with torch.no_grad():\n",
    "    correct = 0\n",
    "    total = 0\n",
    "    for i, (images, labels) in enumerate(test_loader):\n",
    "        images = images.view(-1, sequence_dim, input_dim)#.to(device)\n",
    "        outputs = model_lstm(images)\n",
    "        #print(outputs.size())\n",
    "                    \n",
    "        predict = torch.max(outputs.data, 1)[1]\n",
    "        total += labels.size(0)\n",
    "        correct += (predict == labels).sum()\n",
    "        predictions.append(predict)\n",
    "        labels_list.append(labels)\n",
    "    \n",
    "    print('Test Accuracy of the basic LSTM model on the UCI test features: {} %'.format((correct / total) * 100))\n",
    "    \n",
    "mat = metrics.confusion_matrix(torch.cat(predictions), torch.cat(labels_list))\n",
    "\n",
    "plt.figure(figsize=(6, 6))\n",
    "sns.heatmap(mat.T, square=True, annot=True, fmt='d', cbar=False,\n",
    "            xticklabels=classes, yticklabels=classes)\n",
    "plt.xlabel('true label')\n",
    "plt.ylabel('predicted label')"
   ]
  },
  {
   "cell_type": "markdown",
   "metadata": {},
   "source": [
    "### RNN try"
   ]
  },
  {
   "cell_type": "code",
   "execution_count": 24,
   "metadata": {},
   "outputs": [],
   "source": [
    "# rnn\n",
    "# num_feature = 6\n",
    "# feature_width = 128\n",
    "class RNN_model(nn.Module):\n",
    "    def __init__(self, input_dim, hidden_dim, layer_dim, output_dim):\n",
    "        super(RNN_model, self).__init__()\n",
    "        self.hidden_dim = hidden_dim\n",
    "        self.layer_dim = layer_dim\n",
    "        #循环对象\n",
    "        self.rnn = nn.RNN(input_dim, hidden_dim, layer_dim, batch_first = True, nonlinearity = \"relu\")\n",
    "        \n",
    "        #FC_layer\n",
    "        self.fc = nn.Linear(hidden_dim, output_dim)\n",
    "        \n",
    "    def forward(self, x):\n",
    "        h0 = torch.zeros(self.layer_dim, x.size(0),self.hidden_dim).requires_grad_()#.to(device) \n",
    "        # X.SIZE = batch SIZE\n",
    "        \n",
    "        # 分离隐藏状态，避免梯度爆炸\n",
    "        out, hn = self.rnn(x, h0.detach())# detach 分离\n",
    "        out = self.fc(out[:, -1, :])# -1 the last layer state at time t\n",
    "            \n",
    "        return out\n",
    "        "
   ]
  },
  {
   "cell_type": "code",
   "execution_count": 25,
   "metadata": {},
   "outputs": [],
   "source": [
    "input_dim = 128 # input dimension\n",
    "hidden_dim = 150 # hidden layers number\n",
    "layer_dim = 2 \n",
    "output_dim = 6 # output dimension\n",
    "\n",
    "# initialize the model\n",
    "model_rnn = RNN_model(input_dim, hidden_dim, layer_dim, output_dim)\n",
    "# device = torch.device('cuda:0' if torch.cuda.is_available() else  'cpu')\n",
    "\n",
    "#model = model.to(device)"
   ]
  },
  {
   "cell_type": "code",
   "execution_count": 26,
   "metadata": {},
   "outputs": [
    {
     "name": "stdout",
     "output_type": "stream",
     "text": [
      "parameters: 1\n",
      "torch.Size([150, 128])\n",
      "parameters: 2\n",
      "torch.Size([150, 150])\n",
      "parameters: 3\n",
      "torch.Size([150])\n",
      "parameters: 4\n",
      "torch.Size([150])\n",
      "parameters: 5\n",
      "torch.Size([150, 150])\n",
      "parameters: 6\n",
      "torch.Size([150, 150])\n",
      "parameters: 7\n",
      "torch.Size([150])\n",
      "parameters: 8\n",
      "torch.Size([150])\n",
      "parameters: 9\n",
      "torch.Size([6, 150])\n",
      "parameters: 10\n",
      "torch.Size([6])\n"
     ]
    }
   ],
   "source": [
    "criterion = nn.CrossEntropyLoss()\n",
    "learning_rate = 0.001\n",
    "optimizer = torch.optim.SGD(model_rnn.parameters(), lr = learning_rate)\n",
    "length = (len(list(model_rnn.parameters())))\n",
    "for i in range(length):\n",
    "    print(\"parameters: %d\" %(i+1))\n",
    "    print(list(model_rnn.parameters())[i].size())"
   ]
  },
  {
   "cell_type": "code",
   "execution_count": null,
   "metadata": {},
   "outputs": [
    {
     "name": "stdout",
     "output_type": "stream",
     "text": [
      "Iter:1000,loss:0.2668864130973816,Accuracy:87.5\n",
      "Iter:2000,loss:0.2700830101966858,Accuracy:89.75788879394531\n",
      "Iter:3000,loss:0.28200235962867737,Accuracy:88.95538330078125\n",
      "Iter:4000,loss:0.25925108790397644,Accuracy:90.95484161376953\n"
     ]
    }
   ],
   "source": [
    "sequence_dim = 9\n",
    "loss_list = []\n",
    "accuracy_list = []\n",
    "iteration_list = [] \n",
    "# 24576 = 32*1*6*128\n",
    "iter =  0\n",
    "for epoch in range(EPOCHES):\n",
    "    for i, (images, labels) in enumerate(train_loader):\n",
    "        model_rnn.train()\n",
    "        # A batch of data with transfering the RNN input dimention \n",
    "        # 32*1*6*128\n",
    "        images = images.view(-1, sequence_dim, input_dim).requires_grad_()#.to(device)\n",
    "        labels = labels.to(torch.int64)\n",
    "        #labels = labels.to(device)\n",
    "        # gradient.zero\n",
    "        optimizer.zero_grad()\n",
    "        #forward pass\n",
    "        output = model_rnn(images)\n",
    "\n",
    "        \n",
    "        # print(output.size(), labels.size(), \"pass\")\n",
    "        # loss calc\n",
    "        loss_rnn = criterion(output, labels)\n",
    "        # backword\n",
    "        loss_rnn.backward()\n",
    "        # renew the parameter\n",
    "        optimizer.step()\n",
    "        \n",
    "        iter += 1\n",
    "        if iter % 1000 == 0:\n",
    "            model_rnn.eval()\n",
    "            # accuracy\n",
    "            correct = 0\n",
    "            total = 0\n",
    "            for i, (images, labels) in enumerate(train_loader):\n",
    "                    images = images.view(-1, sequence_dim, input_dim)#.to(device)\n",
    "                    outputs = model_rnn(images)\n",
    "                    #print(outputs.size())\n",
    "                    \n",
    "                    predict = torch.max(outputs.data, 1)[1]\n",
    "                    total += labels.size(0)\n",
    "                    correct += (predict == labels).sum()\n",
    "            \n",
    "            accuracy = correct / total * 100\n",
    "            loss_list.append(loss_rnn.data)\n",
    "            accuracy_list.append(accuracy)\n",
    "            iteration_list.append(iter)\n",
    "            # print the info\n",
    "            print(\"Iter:{},loss:{},Accuracy:{}\".format(iter, loss_rnn.item(), accuracy))"
   ]
  },
  {
   "cell_type": "code",
   "execution_count": null,
   "metadata": {},
   "outputs": [],
   "source": [
    "plt.plot(iteration_list,loss_list)\n",
    "plt.xlabel(\"Number of Iteration\")\n",
    "plt.ylabel(\"Loss\")\n",
    "plt.title(\"RNN\")\n",
    "plt.show()"
   ]
  },
  {
   "cell_type": "code",
   "execution_count": null,
   "metadata": {},
   "outputs": [],
   "source": [
    "plt.plot(iteration_list,accuracy_list, color = \"r\")\n",
    "plt.xlabel(\"Number of Iteration\")\n",
    "plt.ylabel(\"Accuracy\")\n",
    "plt.title(\"RNN\")\n",
    "plt.show()"
   ]
  },
  {
   "cell_type": "code",
   "execution_count": null,
   "metadata": {},
   "outputs": [],
   "source": [
    "labels_list = []\n",
    "predictions = []\n",
    "\n",
    "\n",
    "with torch.no_grad():\n",
    "    correct = 0\n",
    "    total = 0\n",
    "    for i, (images, labels) in enumerate(test_loader):\n",
    "        images = images.view(-1, sequence_dim, input_dim)#.to(device)\n",
    "        outputs = model_rnn(images)\n",
    "        #print(outputs.size())\n",
    "                    \n",
    "        predict = torch.max(outputs.data, 1)[1]\n",
    "        total += labels.size(0)\n",
    "        correct += (predict == labels).sum()\n",
    "        predictions.append(predict)\n",
    "        labels_list.append(labels)\n",
    "    \n",
    "    print('Test Accuracy of the basic RNN model on the UCI test features: {} %'.format((correct / total) * 100))\n",
    "    \n",
    "mat = metrics.confusion_matrix(torch.cat(predictions), torch.cat(labels_list))\n",
    "\n",
    "plt.figure(figsize=(12, 12))\n",
    "sns.heatmap(mat.T, square=True, annot=True, fmt='d', cbar=False,\n",
    "            xticklabels=classes, yticklabels=classes)\n",
    "plt.xlabel('true label')\n",
    "plt.ylabel('predicted label')"
   ]
  },
  {
   "cell_type": "code",
   "execution_count": null,
   "metadata": {},
   "outputs": [],
   "source": []
  },
  {
   "cell_type": "code",
   "execution_count": null,
   "metadata": {},
   "outputs": [],
   "source": []
  },
  {
   "cell_type": "code",
   "execution_count": null,
   "metadata": {},
   "outputs": [],
   "source": []
  },
  {
   "cell_type": "code",
   "execution_count": null,
   "metadata": {},
   "outputs": [],
   "source": []
  },
  {
   "cell_type": "code",
   "execution_count": null,
   "metadata": {},
   "outputs": [],
   "source": []
  },
  {
   "cell_type": "code",
   "execution_count": null,
   "metadata": {},
   "outputs": [],
   "source": []
  },
  {
   "cell_type": "code",
   "execution_count": null,
   "metadata": {},
   "outputs": [],
   "source": []
  },
  {
   "cell_type": "code",
   "execution_count": null,
   "metadata": {},
   "outputs": [],
   "source": []
  }
 ],
 "metadata": {
  "accelerator": "GPU",
  "colab": {
   "collapsed_sections": [],
   "name": "CNN-USCHAD.ipynb",
   "provenance": []
  },
  "kernelspec": {
   "display_name": "Python 3 (ipykernel)",
   "language": "python",
   "name": "python3"
  },
  "language_info": {
   "codemirror_mode": {
    "name": "ipython",
    "version": 3
   },
   "file_extension": ".py",
   "mimetype": "text/x-python",
   "name": "python",
   "nbconvert_exporter": "python",
   "pygments_lexer": "ipython3",
   "version": "3.9.7"
  }
 },
 "nbformat": 4,
 "nbformat_minor": 1
}
