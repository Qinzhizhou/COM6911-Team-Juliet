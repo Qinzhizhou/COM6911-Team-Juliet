{
 "cells": [
  {
   "cell_type": "code",
   "execution_count": 1,
   "metadata": {
    "id": "RLc5jd6wOgXo"
   },
   "outputs": [],
   "source": [
    "import numpy as np\n",
    "import pandas as pd\n",
    "import re\n",
    "import matplotlib.pyplot as plt\n",
    "from collections import Counter\n",
    "from sklearn.model_selection import train_test_split\n",
    "\n",
    "from tqdm import tqdm\n",
    "import numpy as np\n",
    "import torch\n",
    "import torchvision\n",
    "import torch.nn as nn\n",
    "import torch.nn.functional as F\n",
    "from torch.autograd import Variable\n",
    "from torch.utils.data import TensorDataset\n",
    "import torch.optim as optim\n",
    "import torch.utils.data as data\n",
    "from torchvision import datasets\n",
    "import torchvision.transforms as transforms\n",
    "\n",
    "device = torch.device(\"cuda\" if torch.cuda.is_available() else \"cpu\") # use gpu"
   ]
  },
  {
   "cell_type": "code",
   "execution_count": 2,
   "metadata": {
    "id": "lWJtcBhZPI-d"
   },
   "outputs": [],
   "source": [
    "# loading data\n",
    "usc_raw_data = pd.read_csv('../Data/USC_HAD_raw.csv')"
   ]
  },
  {
   "cell_type": "code",
   "execution_count": 3,
   "metadata": {
    "id": "JgLIOSDNeDvP"
   },
   "outputs": [],
   "source": [
    "# only features and label.\n",
    "usc_unprocessed = usc_raw_data[['acc_x','acc_y','acc_z','gyro_x','gyro_y','gyro_z','label']]"
   ]
  },
  {
   "cell_type": "code",
   "execution_count": 4,
   "metadata": {
    "colab": {
     "base_uri": "https://localhost:8080/",
     "height": 206
    },
    "id": "SjrOukIQtDdt",
    "outputId": "aa6674d8-0f21-4f46-8597-25b46a758e3e"
   },
   "outputs": [
    {
     "data": {
      "text/html": [
       "<div>\n",
       "<style scoped>\n",
       "    .dataframe tbody tr th:only-of-type {\n",
       "        vertical-align: middle;\n",
       "    }\n",
       "\n",
       "    .dataframe tbody tr th {\n",
       "        vertical-align: top;\n",
       "    }\n",
       "\n",
       "    .dataframe thead th {\n",
       "        text-align: right;\n",
       "    }\n",
       "</style>\n",
       "<table border=\"1\" class=\"dataframe\">\n",
       "  <thead>\n",
       "    <tr style=\"text-align: right;\">\n",
       "      <th></th>\n",
       "      <th>acc_x</th>\n",
       "      <th>acc_y</th>\n",
       "      <th>acc_z</th>\n",
       "      <th>gyro_x</th>\n",
       "      <th>gyro_y</th>\n",
       "      <th>gyro_z</th>\n",
       "      <th>label</th>\n",
       "    </tr>\n",
       "  </thead>\n",
       "  <tbody>\n",
       "    <tr>\n",
       "      <th>0</th>\n",
       "      <td>0.925848</td>\n",
       "      <td>0.331869</td>\n",
       "      <td>-0.27382</td>\n",
       "      <td>-4.849138</td>\n",
       "      <td>1.836862</td>\n",
       "      <td>-0.599354</td>\n",
       "      <td>7</td>\n",
       "    </tr>\n",
       "    <tr>\n",
       "      <th>1</th>\n",
       "      <td>0.922414</td>\n",
       "      <td>0.331869</td>\n",
       "      <td>-0.27382</td>\n",
       "      <td>-3.237809</td>\n",
       "      <td>1.829803</td>\n",
       "      <td>-1.399718</td>\n",
       "      <td>7</td>\n",
       "    </tr>\n",
       "    <tr>\n",
       "      <th>2</th>\n",
       "      <td>0.922414</td>\n",
       "      <td>0.331869</td>\n",
       "      <td>-0.27382</td>\n",
       "      <td>-1.626481</td>\n",
       "      <td>1.020218</td>\n",
       "      <td>-2.197093</td>\n",
       "      <td>7</td>\n",
       "    </tr>\n",
       "    <tr>\n",
       "      <th>3</th>\n",
       "      <td>0.918980</td>\n",
       "      <td>0.328250</td>\n",
       "      <td>-0.27382</td>\n",
       "      <td>0.387679</td>\n",
       "      <td>1.016325</td>\n",
       "      <td>-2.590186</td>\n",
       "      <td>7</td>\n",
       "    </tr>\n",
       "    <tr>\n",
       "      <th>4</th>\n",
       "      <td>0.915547</td>\n",
       "      <td>0.339107</td>\n",
       "      <td>-0.27382</td>\n",
       "      <td>2.401839</td>\n",
       "      <td>1.413761</td>\n",
       "      <td>-2.981848</td>\n",
       "      <td>7</td>\n",
       "    </tr>\n",
       "  </tbody>\n",
       "</table>\n",
       "</div>"
      ],
      "text/plain": [
       "      acc_x     acc_y    acc_z    gyro_x    gyro_y    gyro_z  label\n",
       "0  0.925848  0.331869 -0.27382 -4.849138  1.836862 -0.599354      7\n",
       "1  0.922414  0.331869 -0.27382 -3.237809  1.829803 -1.399718      7\n",
       "2  0.922414  0.331869 -0.27382 -1.626481  1.020218 -2.197093      7\n",
       "3  0.918980  0.328250 -0.27382  0.387679  1.016325 -2.590186      7\n",
       "4  0.915547  0.339107 -0.27382  2.401839  1.413761 -2.981848      7"
      ]
     },
     "execution_count": 4,
     "metadata": {},
     "output_type": "execute_result"
    }
   ],
   "source": [
    "usc_unprocessed.head(5)"
   ]
  },
  {
   "cell_type": "code",
   "execution_count": 5,
   "metadata": {
    "id": "9XLG4Gn-tKpf"
   },
   "outputs": [],
   "source": [
    "# window_size: size of time window\n",
    "# step: overlapping\n",
    "# data: dataset\n",
    "def time_windows(window_size,overlapping,data):\n",
    "  sigmentation_data_temp = []\n",
    "  sigmentation_data = []\n",
    "  sigmentation_label = []\n",
    "  for i in range(0,len(data),overlapping):\n",
    "    acc_x = data['acc_x'].values[i:i+window_size]\n",
    "    acc_y = data['acc_y'].values[i:i+window_size]\n",
    "    acc_z = data['acc_z'].values[i:i+window_size]\n",
    "    gyro_x = data['gyro_x'].values[i:i+window_size]\n",
    "    gyro_y = data['gyro_y'].values[i:i+window_size]\n",
    "    gyro_z = data['gyro_z'].values[i:i+window_size]\n",
    "    total_label = data['label'].values[i:i+window_size]\n",
    "    label = Counter(total_label).most_common()[0][0]\n",
    "    sigmentation_data_temp.append([acc_x,acc_y,acc_z,gyro_x,gyro_y,gyro_z])\n",
    "    sigmentation_arr = np.asarray(sigmentation_data_temp)\n",
    "    sig_size = sigmentation_arr.shape\n",
    "    if sig_size[2] == window_size:\n",
    "      sigmentation_arr.reshape(window_size,6)\n",
    "      sigmentation_data.append(sigmentation_arr)\n",
    "      sigmentation_label.append(label)\n",
    "      sigmentation_data_temp = []\n",
    "    else:\n",
    "      sigmentation_data_temp = []\n",
    "\n",
    "  sigmentation_data_arr = np.asarray(sigmentation_data)\n",
    "  sigmentation_label_arr = np.asarray(sigmentation_label)\n",
    "\n",
    "  return sigmentation_data_arr,sigmentation_label_arr\n"
   ]
  },
  {
   "cell_type": "code",
   "execution_count": 6,
   "metadata": {
    "id": "zN-E84m783wt"
   },
   "outputs": [],
   "source": [
    "# here use semi-non-overlapping\n",
    "# signal segmentation and relevant labels\n",
    "uci_readings,uci_labels = time_windows(128,64,usc_unprocessed)"
   ]
  },
  {
   "cell_type": "code",
   "execution_count": 7,
   "metadata": {
    "id": "Q3bxbiAELH1G"
   },
   "outputs": [],
   "source": [
    "# in the model, requires 0-n label so make labels from 1-12 into 0-11\n",
    "uci_labels = uci_labels-1"
   ]
  },
  {
   "cell_type": "code",
   "execution_count": 8,
   "metadata": {
    "colab": {
     "base_uri": "https://localhost:8080/"
    },
    "id": "82KEQT9kJr56",
    "outputId": "76ee0896-deea-4999-d0b4-efd6eb5fdf8e"
   },
   "outputs": [
    {
     "name": "stdout",
     "output_type": "stream",
     "text": [
      "Shape of data:\n",
      "(43894, 1, 6, 128)\n",
      "#######################\n",
      "Shape of labels: \n",
      "(43894,)\n"
     ]
    }
   ],
   "source": [
    "print('Shape of data:')\n",
    "print(uci_readings.shape)\n",
    "print('#######################')\n",
    "print('Shape of labels: ')\n",
    "print(uci_labels.shape)"
   ]
  },
  {
   "cell_type": "code",
   "execution_count": 9,
   "metadata": {
    "id": "bZE8XWM6KXPf"
   },
   "outputs": [],
   "source": [
    "# use train_test_split to generate train,val and test data\n",
    "x_train,x_val_test,y_train,y_val_test = train_test_split(uci_readings,uci_labels,test_size = 0.3)\n",
    "x_val,x_test,y_val,y_test = train_test_split(x_val_test,y_val_test,test_size = 0.3 )"
   ]
  },
  {
   "cell_type": "code",
   "execution_count": 10,
   "metadata": {
    "id": "QT92qKzqRf6u"
   },
   "outputs": [],
   "source": [
    "# use torch.TensorDataset to make dataset\n",
    "train_dataset = TensorDataset(torch.from_numpy(x_train).to(torch.float32),torch.from_numpy(y_train).to(torch.float32))\n",
    "val_dataset = TensorDataset(torch.from_numpy(x_val).to(torch.float32),torch.from_numpy(y_val).to(torch.float32))\n",
    "test_dataset = TensorDataset(torch.from_numpy(x_test).to(torch.float32),torch.from_numpy(y_test).to(torch.float32))"
   ]
  },
  {
   "cell_type": "code",
   "execution_count": 11,
   "metadata": {
    "id": "pX7NAsa2UJtJ"
   },
   "outputs": [],
   "source": [
    "# DataLoader generation\n",
    "train_loader = data.DataLoader(dataset = train_dataset,batch_size = 64,shuffle = True)\n",
    "val_loader = data.DataLoader(dataset = val_dataset,batch_size = 64,shuffle = True)\n",
    "test_loader = data.DataLoader(dataset = test_dataset,batch_size = 64,shuffle = False)"
   ]
  },
  {
   "cell_type": "code",
   "execution_count": 12,
   "metadata": {},
   "outputs": [
    {
     "data": {
      "text/plain": [
       "(torch.Size([64, 1, 6, 128]), torch.Size([64]))"
      ]
     },
     "execution_count": 12,
     "metadata": {},
     "output_type": "execute_result"
    }
   ],
   "source": [
    "images,labels = next(iter(train_loader))\n",
    "images.shape, labels.shape"
   ]
  },
  {
   "cell_type": "code",
   "execution_count": 13,
   "metadata": {},
   "outputs": [],
   "source": [
    "# Hyper parameter \n",
    "BATCH_SIZE = 64# 32 # \n",
    "EPOCHES = 10"
   ]
  },
  {
   "cell_type": "code",
   "execution_count": 14,
   "metadata": {},
   "outputs": [],
   "source": [
    "def imshow(inp):\n",
    "    inp = inp.numpy().transpose((1,2,0))\n",
    "    mean = np.array([0.485, 0.456, 0.406])\n",
    "    std = np.array([0.229, 0.224, 0.225])\n",
    "    inp = std * inp + mean # Recovery the image\n",
    "    inp = np.clip(inp, 0, 1) # clip the pixel between 0 and 1\n",
    "    plt.imshow(inp)\n",
    "    #if titlle is not None:\n",
    "        #plt.title(title)\n",
    "   "
   ]
  },
  {
   "cell_type": "code",
   "execution_count": 15,
   "metadata": {},
   "outputs": [
    {
     "data": {
      "image/png": "[encoded data removed]",
      "text/plain": [
       "<Figure size 432x288 with 1 Axes>"
      ]
     },
     "metadata": {
      "needs_background": "light"
     },
     "output_type": "display_data"
    }
   ],
   "source": [
    "out = torchvision.utils.make_grid(images)\n",
    "imshow(out)"
   ]
  },
  {
   "cell_type": "markdown",
   "metadata": {},
   "source": [
    "### LSTM Model"
   ]
  },
  {
   "cell_type": "code",
   "execution_count": 16,
   "metadata": {},
   "outputs": [],
   "source": [
    "class LSTM_model(nn.Module):\n",
    "    def __init__(self, input_dim, hidden_dim, layer_dim, output_dim):\n",
    "        super(LSTM_model, self).__init__()\n",
    "        self.hidden_dim = hidden_dim\n",
    "        self.layer_dim = layer_dim\n",
    "        self.lstm = nn.LSTM(input_dim, hidden_dim, layer_dim, batch_first = True)\n",
    "        #FC_layer\n",
    "        self.fc = nn.Linear(hidden_dim, output_dim)\n",
    "        \n",
    "    def forward(self, x):\n",
    "        h0 = torch.zeros(self.layer_dim, x.size(0),self.hidden_dim).requires_grad_()#.to(device) \n",
    "        c0 = torch.zeros(self.layer_dim, x.size(0),self.hidden_dim).requires_grad_()#.to(device) \n",
    "        # X.SIZE = batch SIZE\n",
    "        \n",
    "        # detach the hidden state to prevent exploding gradient\n",
    "        out, (hn,cn) = self.lstm(x,( h0.detach(),c0.detach()))# detach \n",
    "        out = self.fc(out[:, -1, :])# -1 the last layer state at time t     \n",
    "        return out"
   ]
  },
  {
   "cell_type": "code",
   "execution_count": 17,
   "metadata": {},
   "outputs": [],
   "source": [
    "input_dim = 128 # input dimension\n",
    "hidden_dim = 100 # hidden layers number\n",
    "layer_dim = 1 \n",
    "output_dim = 27 + 1 # output dimension\n",
    "\n",
    "# initialize the model\n",
    "model_lstm = LSTM_model(input_dim, hidden_dim, layer_dim, output_dim)\n",
    "# device = torch.device('cuda:0' if torch.cuda.is_available() else  'cpu')\n",
    "\n",
    "#model = model.to(device)"
   ]
  },
  {
   "cell_type": "code",
   "execution_count": 18,
   "metadata": {},
   "outputs": [
    {
     "name": "stdout",
     "output_type": "stream",
     "text": [
      "parameters: 1\n",
      "torch.Size([400, 128])\n",
      "parameters: 2\n",
      "torch.Size([400, 100])\n",
      "parameters: 3\n",
      "torch.Size([400])\n",
      "parameters: 4\n",
      "torch.Size([400])\n",
      "parameters: 5\n",
      "torch.Size([28, 100])\n",
      "parameters: 6\n",
      "torch.Size([28])\n"
     ]
    }
   ],
   "source": [
    "for i in range(len(list(model_lstm.parameters()))):\n",
    "    print(\"parameters: %d\" %(i+1))\n",
    "    print(list(model_lstm.parameters())[i].size())"
   ]
  },
  {
   "cell_type": "code",
   "execution_count": 19,
   "metadata": {},
   "outputs": [],
   "source": [
    "criterion = nn.CrossEntropyLoss()\n",
    "learning_rate = 0.1\n",
    "optimizer = torch.optim.SGD(model_lstm.parameters(), lr = learning_rate)"
   ]
  },
  {
   "cell_type": "code",
   "execution_count": 20,
   "metadata": {},
   "outputs": [
    {
     "name": "stdout",
     "output_type": "stream",
     "text": [
      "Iter:200,loss:1.818539023399353,Accuracy:35.40439224243164\n",
      "Iter:400,loss:1.535778522491455,Accuracy:45.87469482421875\n",
      "Iter:600,loss:1.5406306982040405,Accuracy:50.2457275390625\n",
      "Iter:800,loss:1.2231827974319458,Accuracy:54.535396575927734\n",
      "Iter:1000,loss:1.1213802099227905,Accuracy:57.187957763671875\n",
      "Iter:1200,loss:1.3625779151916504,Accuracy:59.80146408081055\n",
      "Iter:1400,loss:1.1575356721878052,Accuracy:62.043941497802734\n",
      "Iter:1600,loss:1.0193252563476562,Accuracy:64.66395568847656\n",
      "Iter:1800,loss:0.9508020877838135,Accuracy:65.79332733154297\n",
      "Iter:2000,loss:0.9018592834472656,Accuracy:66.92269897460938\n",
      "Iter:2200,loss:0.949704647064209,Accuracy:67.55410766601562\n",
      "Iter:2400,loss:0.9191740155220032,Accuracy:68.19528198242188\n",
      "Iter:2600,loss:0.8638657331466675,Accuracy:69.5785140991211\n",
      "Iter:2800,loss:1.0900388956069946,Accuracy:70.28804016113281\n",
      "Iter:3000,loss:0.8881556987762451,Accuracy:69.99837493896484\n",
      "Iter:3200,loss:0.7207568287849426,Accuracy:70.48006439208984\n",
      "Iter:3400,loss:0.6245740056037903,Accuracy:71.34580993652344\n",
      "Iter:3600,loss:0.9998288154602051,Accuracy:71.36859130859375\n",
      "Iter:3800,loss:0.8567593693733215,Accuracy:71.73311614990234\n",
      "Iter:4000,loss:0.6214198470115662,Accuracy:72.78437805175781\n",
      "Iter:4200,loss:0.7324918508529663,Accuracy:72.89503479003906\n",
      "Iter:4400,loss:0.7898122072219849,Accuracy:73.40277099609375\n",
      "Iter:4600,loss:0.789663553237915,Accuracy:73.89747619628906\n",
      "Iter:4800,loss:0.6307822465896606,Accuracy:73.33767700195312\n"
     ]
    }
   ],
   "source": [
    "sequence_dim = 6\n",
    "lost_list_LSTM = []\n",
    "accuracy_list = []\n",
    "iteration_list = [] \n",
    "iter = 0\n",
    "\n",
    "for epoch in range(EPOCHES):\n",
    "    for i, (images, labels) in enumerate(train_loader):\n",
    "        model_lstm.train()\n",
    "        # 32*1*6*128\n",
    "        images = images.view(-1, sequence_dim, input_dim).requires_grad_()#.to(device)\n",
    "        labels = labels.to(torch.int64)\n",
    "        #labels = labels.to(device)\n",
    "        # gradient.zero\n",
    "        optimizer.zero_grad()\n",
    "        #forward pass\n",
    "        \n",
    "        outputs = model_lstm(images)\n",
    "        # print(output.size(), labels.size(), \"pass\")\n",
    "        # loss calc\n",
    "        loss_lstm = criterion(outputs, labels)\n",
    "        # backword\n",
    "        loss_lstm.backward()\n",
    "        # renew the parameter\n",
    "        optimizer.step()\n",
    "        \n",
    "        iter += 1\n",
    "        if iter % 200 == 0:\n",
    "            model_lstm.eval()\n",
    "            # accuracy\n",
    "            correct = 0\n",
    "            total = 0\n",
    "            for i, (images, labels) in enumerate(train_loader):\n",
    "                    images = images.view(-1, sequence_dim, input_dim)#.to(device)\n",
    "                    outputs = model_lstm(images)\n",
    "                    #print(outputs.size())\n",
    "                    \n",
    "                    predict = torch.max(outputs.data, 1)[1]\n",
    "                    total += labels.size(0)\n",
    "                    correct += (predict == labels).sum()\n",
    "            \n",
    "            accuracy = correct / total * 100\n",
    "            lost_list_LSTM.append(loss_lstm.data)\n",
    "            accuracy_list.append(accuracy)\n",
    "            iteration_list.append(iter)\n",
    "            # print the info\n",
    "            print(\"Iter:{},loss:{},Accuracy:{}\".format(iter, loss_lstm.item(), accuracy))\n",
    "            "
   ]
  },
  {
   "cell_type": "code",
   "execution_count": 21,
   "metadata": {},
   "outputs": [
    {
     "data": {
      "image/png": "[encoded data removed]",
      "text/plain": [
       "<Figure size 432x288 with 1 Axes>"
      ]
     },
     "metadata": {
      "needs_background": "light"
     },
     "output_type": "display_data"
    }
   ],
   "source": [
    "plt.plot(iteration_list,lost_list_LSTM)\n",
    "plt.xlabel(\"Number of Iteration\")\n",
    "plt.ylabel(\"Loss\")\n",
    "plt.title(\"LSTM loss on USC\")\n",
    "plt.show()"
   ]
  },
  {
   "cell_type": "code",
   "execution_count": 22,
   "metadata": {},
   "outputs": [
    {
     "data": {
      "image/png": "[encoded data removed]",
      "text/plain": [
       "<Figure size 432x288 with 1 Axes>"
      ]
     },
     "metadata": {
      "needs_background": "light"
     },
     "output_type": "display_data"
    }
   ],
   "source": [
    "plt.plot(iteration_list,accuracy_list, color = \"r\")\n",
    "plt.xlabel(\"Number of Iteration\")\n",
    "plt.ylabel(\"Accuracy\")\n",
    "plt.title(\"LSTM accuracy on USC\")\n",
    "plt.show()"
   ]
  },
  {
   "cell_type": "code",
   "execution_count": 23,
   "metadata": {},
   "outputs": [
    {
     "name": "stdout",
     "output_type": "stream",
     "text": [
      "Test Accuracy of the basic LSTM model on the USC test features: 66.61604309082031 %\n"
     ]
    }
   ],
   "source": [
    "labels = []\n",
    "predictions = []\n",
    "with torch.no_grad():\n",
    "    correct = 0\n",
    "    total = 0\n",
    "    for i, (images, labels) in enumerate(test_loader):\n",
    "        images = images.view(-1, sequence_dim, input_dim)#.to(device)\n",
    "        outputs = model_lstm(images)\n",
    "        #print(outputs.size())\n",
    "                    \n",
    "        predict = torch.max(outputs.data, 1)[1]\n",
    "        total += labels.size(0)\n",
    "        correct += (predict == labels).sum()\n",
    "    \n",
    "    print('Test Accuracy of the basic LSTM model on the USC test features: {} %'.format((correct / total) * 100))"
   ]
  },
  {
   "cell_type": "markdown",
   "metadata": {},
   "source": [
    "### RNN try"
   ]
  },
  {
   "cell_type": "code",
   "execution_count": null,
   "metadata": {},
   "outputs": [],
   "source": [
    "# rnn\n",
    "# num_feature = 6\n",
    "# feature_width = 128\n",
    "class RNN_model(nn.Module):\n",
    "    def __init__(self, input_dim, hidden_dim, layer_dim, output_dim):\n",
    "        super(RNN_model, self).__init__()\n",
    "        self.hidden_dim = hidden_dim\n",
    "        self.layer_dim = layer_dim\n",
    "        #循环对象\n",
    "        self.rnn = nn.RNN(input_dim, hidden_dim, layer_dim, batch_first = True, nonlinearity = \"relu\")\n",
    "        \n",
    "        #FC_layer\n",
    "        self.fc = nn.Linear(hidden_dim, output_dim)\n",
    "        \n",
    "    def forward(self, x):\n",
    "        h0 = torch.zeros(self.layer_dim, x.size(0),self.hidden_dim).requires_grad_()#.to(device) \n",
    "        # X.SIZE = batch SIZE\n",
    "        \n",
    "        # 分离隐藏状态，避免梯度爆炸\n",
    "        out, hn = self.rnn(x, h0.detach())# detach 分离\n",
    "        out = self.fc(out[:, -1, :])# -1 the last layer state at time t\n",
    "            \n",
    "        return out\n",
    "        "
   ]
  },
  {
   "cell_type": "code",
   "execution_count": null,
   "metadata": {},
   "outputs": [],
   "source": [
    "input_dim = 128 # input dimension\n",
    "hidden_dim = 100 # hidden layers number\n",
    "layer_dim = 2 \n",
    "output_dim = 27 + 1 # output dimension\n",
    "\n",
    "# initialize the model\n",
    "model_rnn = RNN_model(input_dim, hidden_dim, layer_dim, output_dim)\n",
    "# device = torch.device('cuda:0' if torch.cuda.is_available() else  'cpu')\n",
    "\n",
    "#model = model.to(device)"
   ]
  }
 ],
 "metadata": {
  "accelerator": "GPU",
  "colab": {
   "collapsed_sections": [],
   "name": "CNN-USCHAD.ipynb",
   "provenance": []
  },
  "kernelspec": {
   "display_name": "Python 3 (ipykernel)",
   "language": "python",
   "name": "python3"
  },
  "language_info": {
   "codemirror_mode": {
    "name": "ipython",
    "version": 3
   },
   "file_extension": ".py",
   "mimetype": "text/x-python",
   "name": "python",
   "nbconvert_exporter": "python",
   "pygments_lexer": "ipython3",
   "version": "3.9.7"
  }
 },
 "nbformat": 4,
 "nbformat_minor": 1
}
