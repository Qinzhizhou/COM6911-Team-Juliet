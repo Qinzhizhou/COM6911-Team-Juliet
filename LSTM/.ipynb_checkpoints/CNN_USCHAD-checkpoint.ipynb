{
 "cells": [
  {
   "cell_type": "code",
   "execution_count": 2,
   "metadata": {
    "id": "RLc5jd6wOgXo"
   },
   "outputs": [],
   "source": [
    "import numpy as np\n",
    "import pandas as pd\n",
    "import re\n",
    "import matplotlib.pyplot as plt\n",
    "from collections import Counter\n",
    "from sklearn.model_selection import train_test_split\n",
    "\n",
    "from tqdm import tqdm\n",
    "import numpy as np\n",
    "import torch\n",
    "import torchvision\n",
    "import torch.nn as nn\n",
    "import torch.nn.functional as F\n",
    "from torch.autograd import Variable\n",
    "from torch.utils.data import TensorDataset\n",
    "import torch.optim as optim\n",
    "import torch.utils.data as data\n",
    "from torchvision import datasets\n",
    "import torchvision.transforms as transforms\n",
    "\n",
    "device = torch.device(\"cuda\" if torch.cuda.is_available() else \"cpu\") # use gpu"
   ]
  },
  {
   "cell_type": "code",
   "execution_count": 3,
   "metadata": {
    "id": "lWJtcBhZPI-d"
   },
   "outputs": [],
   "source": [
    "# loading data\n",
    "usc_raw_data = pd.read_csv('/content/drive/MyDrive/Industrial Team Project/USCHAD_rawdata.csv')"
   ]
  },
  {
   "cell_type": "code",
   "execution_count": 4,
   "metadata": {
    "id": "JgLIOSDNeDvP"
   },
   "outputs": [],
   "source": [
    "# only features and label.\n",
    "usc_unprocessed = usc_raw_data[['acc_x','acc_y','acc_z','gyro_x','gyro_y','gyro_z','label']]"
   ]
  },
  {
   "cell_type": "code",
   "execution_count": 5,
   "metadata": {
    "colab": {
     "base_uri": "https://localhost:8080/",
     "height": 206
    },
    "id": "SjrOukIQtDdt",
    "outputId": "aa6674d8-0f21-4f46-8597-25b46a758e3e"
   },
   "outputs": [
    {
     "data": {
      "text/html": [
       "\n",
       "  <div id=\"df-347ce40e-53ae-43e3-9b36-72939b4c1611\">\n",
       "    <div class=\"colab-df-container\">\n",
       "      <div>\n",
       "<style scoped>\n",
       "    .dataframe tbody tr th:only-of-type {\n",
       "        vertical-align: middle;\n",
       "    }\n",
       "\n",
       "    .dataframe tbody tr th {\n",
       "        vertical-align: top;\n",
       "    }\n",
       "\n",
       "    .dataframe thead th {\n",
       "        text-align: right;\n",
       "    }\n",
       "</style>\n",
       "<table border=\"1\" class=\"dataframe\">\n",
       "  <thead>\n",
       "    <tr style=\"text-align: right;\">\n",
       "      <th></th>\n",
       "      <th>acc_x</th>\n",
       "      <th>acc_y</th>\n",
       "      <th>acc_z</th>\n",
       "      <th>gyro_x</th>\n",
       "      <th>gyro_y</th>\n",
       "      <th>gyro_z</th>\n",
       "      <th>label</th>\n",
       "    </tr>\n",
       "  </thead>\n",
       "  <tbody>\n",
       "    <tr>\n",
       "      <th>0</th>\n",
       "      <td>0.977355</td>\n",
       "      <td>0.125578</td>\n",
       "      <td>-0.072511</td>\n",
       "      <td>-1.934198</td>\n",
       "      <td>4.831090</td>\n",
       "      <td>-3.059582</td>\n",
       "      <td>7</td>\n",
       "    </tr>\n",
       "    <tr>\n",
       "      <th>1</th>\n",
       "      <td>0.980789</td>\n",
       "      <td>0.125578</td>\n",
       "      <td>-0.072511</td>\n",
       "      <td>-1.128533</td>\n",
       "      <td>4.806113</td>\n",
       "      <td>-2.639555</td>\n",
       "      <td>7</td>\n",
       "    </tr>\n",
       "    <tr>\n",
       "      <th>2</th>\n",
       "      <td>0.980789</td>\n",
       "      <td>0.121959</td>\n",
       "      <td>-0.068851</td>\n",
       "      <td>-1.128533</td>\n",
       "      <td>3.979873</td>\n",
       "      <td>-2.222339</td>\n",
       "      <td>7</td>\n",
       "    </tr>\n",
       "    <tr>\n",
       "      <th>3</th>\n",
       "      <td>0.980789</td>\n",
       "      <td>0.121959</td>\n",
       "      <td>-0.072511</td>\n",
       "      <td>-0.725701</td>\n",
       "      <td>2.757195</td>\n",
       "      <td>-3.008654</td>\n",
       "      <td>7</td>\n",
       "    </tr>\n",
       "    <tr>\n",
       "      <th>4</th>\n",
       "      <td>0.980789</td>\n",
       "      <td>0.121959</td>\n",
       "      <td>-0.068851</td>\n",
       "      <td>-1.118572</td>\n",
       "      <td>2.743157</td>\n",
       "      <td>-2.989551</td>\n",
       "      <td>7</td>\n",
       "    </tr>\n",
       "  </tbody>\n",
       "</table>\n",
       "</div>\n",
       "      <button class=\"colab-df-convert\" onclick=\"convertToInteractive('df-347ce40e-53ae-43e3-9b36-72939b4c1611')\"\n",
       "              title=\"Convert this dataframe to an interactive table.\"\n",
       "              style=\"display:none;\">\n",
       "        \n",
       "  <svg xmlns=\"http://www.w3.org/2000/svg\" height=\"24px\"viewBox=\"0 0 24 24\"\n",
       "       width=\"24px\">\n",
       "    <path d=\"M0 0h24v24H0V0z\" fill=\"none\"/>\n",
       "    <path d=\"M18.56 5.44l.94 2.06.94-2.06 2.06-.94-2.06-.94-.94-2.06-.94 2.06-2.06.94zm-11 1L8.5 8.5l.94-2.06 2.06-.94-2.06-.94L8.5 2.5l-.94 2.06-2.06.94zm10 10l.94 2.06.94-2.06 2.06-.94-2.06-.94-.94-2.06-.94 2.06-2.06.94z\"/><path d=\"M17.41 7.96l-1.37-1.37c-.4-.4-.92-.59-1.43-.59-.52 0-1.04.2-1.43.59L10.3 9.45l-7.72 7.72c-.78.78-.78 2.05 0 2.83L4 21.41c.39.39.9.59 1.41.59.51 0 1.02-.2 1.41-.59l7.78-7.78 2.81-2.81c.8-.78.8-2.07 0-2.86zM5.41 20L4 18.59l7.72-7.72 1.47 1.35L5.41 20z\"/>\n",
       "  </svg>\n",
       "      </button>\n",
       "      \n",
       "  <style>\n",
       "    .colab-df-container {\n",
       "      display:flex;\n",
       "      flex-wrap:wrap;\n",
       "      gap: 12px;\n",
       "    }\n",
       "\n",
       "    .colab-df-convert {\n",
       "      background-color: #E8F0FE;\n",
       "      border: none;\n",
       "      border-radius: 50%;\n",
       "      cursor: pointer;\n",
       "      display: none;\n",
       "      fill: #1967D2;\n",
       "      height: 32px;\n",
       "      padding: 0 0 0 0;\n",
       "      width: 32px;\n",
       "    }\n",
       "\n",
       "    .colab-df-convert:hover {\n",
       "      background-color: #E2EBFA;\n",
       "      box-shadow: 0px 1px 2px rgba(60, 64, 67, 0.3), 0px 1px 3px 1px rgba(60, 64, 67, 0.15);\n",
       "      fill: #174EA6;\n",
       "    }\n",
       "\n",
       "    [theme=dark] .colab-df-convert {\n",
       "      background-color: #3B4455;\n",
       "      fill: #D2E3FC;\n",
       "    }\n",
       "\n",
       "    [theme=dark] .colab-df-convert:hover {\n",
       "      background-color: #434B5C;\n",
       "      box-shadow: 0px 1px 3px 1px rgba(0, 0, 0, 0.15);\n",
       "      filter: drop-shadow(0px 1px 2px rgba(0, 0, 0, 0.3));\n",
       "      fill: #FFFFFF;\n",
       "    }\n",
       "  </style>\n",
       "\n",
       "      <script>\n",
       "        const buttonEl =\n",
       "          document.querySelector('#df-347ce40e-53ae-43e3-9b36-72939b4c1611 button.colab-df-convert');\n",
       "        buttonEl.style.display =\n",
       "          google.colab.kernel.accessAllowed ? 'block' : 'none';\n",
       "\n",
       "        async function convertToInteractive(key) {\n",
       "          const element = document.querySelector('#df-347ce40e-53ae-43e3-9b36-72939b4c1611');\n",
       "          const dataTable =\n",
       "            await google.colab.kernel.invokeFunction('convertToInteractive',\n",
       "                                                     [key], {});\n",
       "          if (!dataTable) return;\n",
       "\n",
       "          const docLinkHtml = 'Like what you see? Visit the ' +\n",
       "            '<a target=\"_blank\" href=https://colab.research.google.com/notebooks/data_table.ipynb>data table notebook</a>'\n",
       "            + ' to learn more about interactive tables.';\n",
       "          element.innerHTML = '';\n",
       "          dataTable['output_type'] = 'display_data';\n",
       "          await google.colab.output.renderOutput(dataTable, element);\n",
       "          const docLink = document.createElement('div');\n",
       "          docLink.innerHTML = docLinkHtml;\n",
       "          element.appendChild(docLink);\n",
       "        }\n",
       "      </script>\n",
       "    </div>\n",
       "  </div>\n",
       "  "
      ],
      "text/plain": [
       "      acc_x     acc_y     acc_z    gyro_x    gyro_y    gyro_z  label\n",
       "0  0.977355  0.125578 -0.072511 -1.934198  4.831090 -3.059582      7\n",
       "1  0.980789  0.125578 -0.072511 -1.128533  4.806113 -2.639555      7\n",
       "2  0.980789  0.121959 -0.068851 -1.128533  3.979873 -2.222339      7\n",
       "3  0.980789  0.121959 -0.072511 -0.725701  2.757195 -3.008654      7\n",
       "4  0.980789  0.121959 -0.068851 -1.118572  2.743157 -2.989551      7"
      ]
     },
     "execution_count": 5,
     "metadata": {},
     "output_type": "execute_result"
    }
   ],
   "source": [
    "usc_unprocessed.head(5)"
   ]
  },
  {
   "cell_type": "code",
   "execution_count": 6,
   "metadata": {
    "id": "9XLG4Gn-tKpf"
   },
   "outputs": [],
   "source": [
    "# window_size: size of time window\n",
    "# step: overlapping\n",
    "# data: dataset\n",
    "def time_windows(window_size,overlapping,data):\n",
    "  sigmentation_data_temp = []\n",
    "  sigmentation_data = []\n",
    "  sigmentation_label = []\n",
    "  for i in range(0,len(data),overlapping):\n",
    "    acc_x = data['acc_x'].values[i:i+window_size]\n",
    "    acc_y = data['acc_y'].values[i:i+window_size]\n",
    "    acc_z = data['acc_z'].values[i:i+window_size]\n",
    "    gyro_x = data['gyro_x'].values[i:i+window_size]\n",
    "    gyro_y = data['gyro_y'].values[i:i+window_size]\n",
    "    gyro_z = data['gyro_z'].values[i:i+window_size]\n",
    "    total_label = data['label'].values[i:i+window_size]\n",
    "    label = Counter(total_label).most_common()[0][0]\n",
    "    sigmentation_data_temp.append([acc_x,acc_y,acc_z,gyro_x,gyro_y,gyro_z])\n",
    "    sigmentation_arr = np.asarray(sigmentation_data_temp)\n",
    "    sig_size = sigmentation_arr.shape\n",
    "    if sig_size[2] == window_size:\n",
    "      sigmentation_arr.reshape(window_size,6)\n",
    "      sigmentation_data.append(sigmentation_arr)\n",
    "      sigmentation_label.append(label)\n",
    "      sigmentation_data_temp = []\n",
    "    else:\n",
    "      sigmentation_data_temp = []\n",
    "\n",
    "  sigmentation_data_arr = np.asarray(sigmentation_data)\n",
    "  sigmentation_label_arr = np.asarray(sigmentation_label)\n",
    "\n",
    "  return sigmentation_data_arr,sigmentation_label_arr\n"
   ]
  },
  {
   "cell_type": "code",
   "execution_count": 7,
   "metadata": {
    "id": "zN-E84m783wt"
   },
   "outputs": [],
   "source": [
    "# here use semi-non-overlapping\n",
    "# signal segmentation and relevant labels\n",
    "uci_readings,uci_labels = time_windows(128,64,usc_unprocessed)"
   ]
  },
  {
   "cell_type": "code",
   "execution_count": 8,
   "metadata": {
    "id": "Q3bxbiAELH1G"
   },
   "outputs": [],
   "source": [
    "# in the model, requires 0-n label so make labels from 1-12 into 0-11\n",
    "uci_labels = uci_labels-1"
   ]
  },
  {
   "cell_type": "code",
   "execution_count": 9,
   "metadata": {
    "colab": {
     "base_uri": "https://localhost:8080/"
    },
    "id": "82KEQT9kJr56",
    "outputId": "76ee0896-deea-4999-d0b4-efd6eb5fdf8e"
   },
   "outputs": [
    {
     "name": "stdout",
     "output_type": "stream",
     "text": [
      "Shape of data:\n",
      "(43894, 1, 6, 128)\n",
      "#######################\n",
      "Shape of labels: \n",
      "(43894,)\n"
     ]
    }
   ],
   "source": [
    "print('Shape of data:')\n",
    "print(uci_readings.shape)\n",
    "print('#######################')\n",
    "print('Shape of labels: ')\n",
    "print(uci_labels.shape)"
   ]
  },
  {
   "cell_type": "code",
   "execution_count": 10,
   "metadata": {
    "id": "bZE8XWM6KXPf"
   },
   "outputs": [],
   "source": [
    "# use train_test_split to generate train,val and test data\n",
    "x_train,x_val_test,y_train,y_val_test = train_test_split(uci_readings,uci_labels,test_size = 0.3)\n",
    "x_val,x_test,y_val,y_test = train_test_split(x_val_test,y_val_test,test_size = 0.3 )"
   ]
  },
  {
   "cell_type": "code",
   "execution_count": 11,
   "metadata": {
    "id": "QT92qKzqRf6u"
   },
   "outputs": [],
   "source": [
    "# use torch.TensorDataset to make dataset\n",
    "train_dataset = TensorDataset(torch.from_numpy(x_train).to(torch.float32),torch.from_numpy(y_train).to(torch.float32))\n",
    "val_dataset = TensorDataset(torch.from_numpy(x_val).to(torch.float32),torch.from_numpy(y_val).to(torch.float32))\n",
    "test_dataset = TensorDataset(torch.from_numpy(x_test).to(torch.float32),torch.from_numpy(y_test).to(torch.float32))"
   ]
  },
  {
   "cell_type": "code",
   "execution_count": 12,
   "metadata": {
    "id": "pX7NAsa2UJtJ"
   },
   "outputs": [],
   "source": [
    "# DataLoader generation\n",
    "train_loader = data.DataLoader(dataset = train_dataset,batch_size = 64,shuffle = True)\n",
    "val_loader = data.DataLoader(dataset = val_dataset,batch_size = 64,shuffle = True)\n",
    "test_loader = data.DataLoader(dataset = test_dataset,batch_size = 64,shuffle = False)"
   ]
  },
  {
   "cell_type": "code",
   "execution_count": 43,
   "metadata": {
    "id": "27kecFzjYRhj"
   },
   "outputs": [],
   "source": [
    " # now define a class of CNN model\n",
    "class CNN(nn.Module):\n",
    "  def __init__(self):\n",
    "    super(CNN, self).__init__()\n",
    "    self.layer1 = nn.Sequential(\n",
    "            nn.Conv2d(1, 16, kernel_size=3, stride=1, padding=2),\n",
    "            nn.ReLU(),\n",
    "            nn.BatchNorm2d(16),\n",
    "            nn.MaxPool2d(kernel_size=2, stride=2))\n",
    "    self.layer2 = nn.Sequential(\n",
    "            nn.Conv2d(16, 32, kernel_size=3, stride=1, padding=2),\n",
    "            nn.ReLU(),\n",
    "            nn.BatchNorm2d(32),\n",
    "            nn.MaxPool2d(2,2))\n",
    "    self.layer3 = nn.Sequential(\n",
    "            nn.Conv2d(32, 64, kernel_size=3, stride=1, padding=2),\n",
    "            nn.ReLU()\n",
    "    )\n",
    "    # self.drop_out = nn.Dropout()\n",
    "    self.fc1 = nn.Linear(6336, 512)\n",
    "    self.fc3 = nn.Linear(512,12)\n",
    "  def forward(self, x):\n",
    "        out = self.layer1(x)\n",
    "        out = self.layer2(out)\n",
    "        out = self.layer3(out)\n",
    "        out = out.reshape(out.size(0), -1)\n",
    "        # out = self.drop_out(out)\n",
    "        out = self.fc1(out)\n",
    "        out = self.fc3(out)\n",
    "        return out\n",
    "        \n",
    "model = CNN().to(device)"
   ]
  },
  {
   "cell_type": "code",
   "execution_count": 44,
   "metadata": {
    "id": "gCE2BvFYZ2LY"
   },
   "outputs": [],
   "source": [
    "# hyperparameters\n",
    "epoches = 50\n",
    "lr = 0.01\n",
    "criterion = nn.CrossEntropyLoss()\n",
    "optimizer = optim.SGD(model.parameters(),lr=lr, weight_decay=0.0001,momentum = 0.8)"
   ]
  },
  {
   "cell_type": "code",
   "execution_count": 45,
   "metadata": {
    "colab": {
     "base_uri": "https://localhost:8080/"
    },
    "id": "FHKyoAymZ9yW",
    "outputId": "c585b167-278c-492d-81dc-5f81495bb51c"
   },
   "outputs": [
    {
     "name": "stdout",
     "output_type": "stream",
     "text": [
      "Epoch:  1 accuracy:  66.93897477624084  % Loss:  0.9185452025980068\n",
      "Epoch:  2 accuracy:  79.72986167615947  % Loss:  0.5541264724582744\n",
      "Epoch:  3 accuracy:  82.30105777054516  % Loss:  0.4769404412802936\n",
      "Epoch:  4 accuracy:  84.27990235964198  % Loss:  0.41459313230182426\n",
      "Epoch:  5 accuracy:  85.01545972335232  % Loss:  0.38824505416246563\n",
      "Epoch:  6 accuracy:  85.46460537021969  % Loss:  0.3813776067475519\n",
      "Epoch:  7 accuracy:  85.37021969080553  % Loss:  0.36799522791359873\n",
      "Epoch:  8 accuracy:  86.19365337672905  % Loss:  0.34372423344491176\n",
      "Epoch:  9 accuracy:  87.63222131814483  % Loss:  0.30136306434792315\n",
      "Epoch:  10 accuracy:  88.02929210740439  % Loss:  0.2831891499568172\n",
      "Epoch:  11 accuracy:  88.67697314890155  % Loss:  0.26600600354636783\n",
      "Epoch:  12 accuracy:  89.03498779495524  % Loss:  0.2529053847361627\n",
      "Epoch:  13 accuracy:  89.10984540276648  % Loss:  0.24693819655883834\n",
      "Epoch:  14 accuracy:  89.49064279902359  % Loss:  0.24043387030551439\n",
      "Epoch:  15 accuracy:  89.25956061838893  % Loss:  0.24263923667882437\n",
      "Epoch:  16 accuracy:  89.75427176566313  % Loss:  0.23174420154020345\n",
      "Epoch:  17 accuracy:  89.73148901545973  % Loss:  0.23011575699658007\n",
      "Epoch:  18 accuracy:  90.09275834011392  % Loss:  0.22399850200528662\n",
      "Epoch:  19 accuracy:  89.99511798209927  % Loss:  0.22613099727028374\n",
      "Epoch:  20 accuracy:  90.75345809601302  % Loss:  0.2090311475919091\n",
      "Epoch:  21 accuracy:  88.60211554109031  % Loss:  0.2687095377648447\n",
      "Epoch:  22 accuracy:  91.10170870626526  % Loss:  0.19352653449141805\n",
      "Epoch:  23 accuracy:  91.76240846216436  % Loss:  0.18634773459355203\n",
      "Epoch:  24 accuracy:  90.61350691619202  % Loss:  0.20807308993319712\n",
      "Epoch:  25 accuracy:  91.90235964198536  % Loss:  0.17362806077837448\n",
      "Epoch:  26 accuracy:  91.87957689178194  % Loss:  0.17595378338144377\n",
      "Epoch:  27 accuracy:  91.97070789259561  % Loss:  0.1669978042120567\n",
      "Epoch:  28 accuracy:  91.98698128559805  % Loss:  0.16752101041825795\n",
      "Epoch:  29 accuracy:  92.03905614320585  % Loss:  0.16418788784228094\n",
      "Epoch:  30 accuracy:  92.18877135882832  % Loss:  0.1643225733740662\n",
      "Epoch:  31 accuracy:  92.33523189585028  % Loss:  0.16306966107935023\n",
      "Epoch:  32 accuracy:  92.03254678600489  % Loss:  0.1710651996216336\n",
      "Epoch:  33 accuracy:  92.27013832384053  % Loss:  0.1645104008844885\n",
      "Epoch:  34 accuracy:  91.04637917005695  % Loss:  0.20365669740181952\n",
      "Epoch:  35 accuracy:  92.46541903986981  % Loss:  0.1542343079819675\n",
      "Epoch:  36 accuracy:  92.88201790073231  % Loss:  0.14789288205998852\n",
      "Epoch:  37 accuracy:  92.97314890154597  % Loss:  0.14469624624012536\n",
      "Epoch:  38 accuracy:  92.76810414971521  % Loss:  0.15258215593944716\n",
      "Epoch:  39 accuracy:  93.2432872253865  % Loss:  0.13774404513674812\n",
      "Epoch:  40 accuracy:  92.83970707892595  % Loss:  0.14851640040159472\n",
      "Epoch:  41 accuracy:  93.13588283157038  % Loss:  0.13931163110365616\n",
      "Epoch:  42 accuracy:  93.45484133441822  % Loss:  0.1325749956814886\n",
      "Epoch:  43 accuracy:  93.11960943856793  % Loss:  0.14470384308241555\n",
      "Epoch:  44 accuracy:  93.42229454841335  % Loss:  0.1344840617738122\n",
      "Epoch:  45 accuracy:  93.71847030105776  % Loss:  0.12736997605919093\n",
      "Epoch:  46 accuracy:  93.64361269324654  % Loss:  0.12674204060680033\n",
      "Epoch:  47 accuracy:  93.07078925956061  % Loss:  0.1469556998051006\n",
      "Epoch:  48 accuracy:  91.02685109845403  % Loss:  0.22572895100731363\n",
      "Epoch:  49 accuracy:  93.0772986167616  % Loss:  0.14643539145604365\n",
      "Epoch:  50 accuracy:  93.14239218877135  % Loss:  0.1507810495886758\n"
     ]
    }
   ],
   "source": [
    "# training\n",
    "loss_list = []\n",
    "for epoch in range(epoches):\n",
    "    acc = 0\n",
    "    correct = 0\n",
    "    total = 0\n",
    "    loss_num = 0\n",
    "    runtime_loss = 0\n",
    "    for (imgs,labels) in train_loader:\n",
    "        imgs = imgs.reshape(len(imgs),1,32,24)     \n",
    "        imgs = imgs.to(device)\n",
    "        labels = labels.type(torch.LongTensor)\n",
    "        labels = labels.to(device)\n",
    "        optimizer.zero_grad()\n",
    "        outputs = model(imgs)\n",
    "        loss = criterion(outputs, labels)\n",
    "        runtime_loss += loss.item()\n",
    "        loss.backward()\n",
    "        optimizer.step()\n",
    "        total += labels.size(0)\n",
    "        _,predicted = torch.max(outputs.data,1)\n",
    "        correct += (predicted == labels).sum().item()\n",
    "        loss_num+=1\n",
    "    acc = 100 * correct / total\n",
    "    epoch_loss = runtime_loss / loss_num\n",
    "    loss_list.append(epoch_loss)\n",
    "    loss_num = 0\n",
    "    print(\"Epoch: \",epoch+1, \"accuracy: \", acc,' %',\"Loss: \",epoch_loss)"
   ]
  },
  {
   "cell_type": "code",
   "execution_count": 46,
   "metadata": {
    "colab": {
     "base_uri": "https://localhost:8080/",
     "height": 281
    },
    "id": "t5IpD6ueY_V3",
    "outputId": "6a896ae0-5169-4463-e9db-7d017621ee76"
   },
   "outputs": [
    {
     "data": {
      "image/png": "[encoded data removed]",
      "text/plain": [
       "<Figure size 432x288 with 1 Axes>"
      ]
     },
     "metadata": {
      "needs_background": "light"
     },
     "output_type": "display_data"
    }
   ],
   "source": [
    "import matplotlib.pyplot as plt\n",
    "x = []\n",
    "for i in range(1,51):\n",
    "  x.append(i)\n",
    "y = loss_list\n",
    "fig = plt.figure()\n",
    "plt.plot(x,y,color = 'blue')\n",
    "plt.title('training loss history')\n",
    "plt.show()"
   ]
  },
  {
   "cell_type": "code",
   "execution_count": 47,
   "metadata": {
    "colab": {
     "base_uri": "https://localhost:8080/"
    },
    "id": "7asNawpU8paE",
    "outputId": "73104037-83b9-46dd-93a9-45958f0a00e2"
   },
   "outputs": [
    {
     "name": "stdout",
     "output_type": "stream",
     "text": [
      "validation accuracy is:  85.46322412670861\n"
     ]
    }
   ],
   "source": [
    "# validation\n",
    "correct_val = 0\n",
    "\n",
    "total_val = 0\n",
    "\n",
    "with torch.no_grad():\n",
    "\n",
    "  for (imgs_val,labels_val) in val_loader:\n",
    "\n",
    "    imgs_val = imgs_val.reshape(len(imgs_val),1,32,24)\n",
    "\n",
    "    imgs_val = imgs_val.to(device)\n",
    "\n",
    "    labels_val = labels_val.type(torch.LongTensor)\n",
    "\n",
    "    labels_val = labels_val.to(device)\n",
    "\n",
    "    outputs_val = model(imgs_val)\n",
    "\n",
    "    labels_val = labels_val.reshape(labels_val.shape[0],)\n",
    "\n",
    "    predicted_val = torch.max(outputs_val.data,1)[1]\n",
    "      \n",
    "    total_val += labels_val.size(0)\n",
    "      \n",
    "    correct_val += (predicted_val == labels_val).sum().item()\n",
    "\n",
    "    val_accuracy = 100*correct_val/total_val\n",
    "\n",
    "print('validation accuracy is: ',val_accuracy)"
   ]
  },
  {
   "cell_type": "code",
   "execution_count": 48,
   "metadata": {
    "colab": {
     "base_uri": "https://localhost:8080/"
    },
    "id": "gsAsxUVU9pAU",
    "outputId": "c1bf4cb3-9599-4ba1-a8d9-b26f9c58c215"
   },
   "outputs": [
    {
     "name": "stdout",
     "output_type": "stream",
     "text": [
      "validation accuracy is:  85.16831181979246\n"
     ]
    }
   ],
   "source": [
    "# test\n",
    "correct_test = 0\n",
    "\n",
    "total_test = 0\n",
    "\n",
    "with torch.no_grad():\n",
    "\n",
    "  for (imgs_test,labels_test) in test_loader:\n",
    "\n",
    "    imgs_test = imgs_test.reshape(len(imgs_test),1,32,24)\n",
    "\n",
    "    imgs_test = imgs_test.to(device)\n",
    "\n",
    "    labels_test = labels_test.type(torch.LongTensor)\n",
    "\n",
    "    labels_test = labels_test.to(device)\n",
    "\n",
    "    outputs_test = model(imgs_test)\n",
    "\n",
    "    labels_test = labels_test.reshape(labels_test.shape[0],)\n",
    "\n",
    "    predicted_test = torch.max(outputs_test.data,1)[1]\n",
    "      \n",
    "    total_test += labels_test.size(0)\n",
    "      \n",
    "    correct_test += (predicted_test == labels_test).sum().item()\n",
    "\n",
    "    test_accuracy = 100*correct_test/total_test\n",
    "\n",
    "print('validation accuracy is: ',test_accuracy)"
   ]
  }
 ],
 "metadata": {
  "accelerator": "GPU",
  "colab": {
   "collapsed_sections": [],
   "name": "CNN-USCHAD.ipynb",
   "provenance": []
  },
  "kernelspec": {
   "display_name": "Python 3 (ipykernel)",
   "language": "python",
   "name": "python3"
  },
  "language_info": {
   "codemirror_mode": {
    "name": "ipython",
    "version": 3
   },
   "file_extension": ".py",
   "mimetype": "text/x-python",
   "name": "python",
   "nbconvert_exporter": "python",
   "pygments_lexer": "ipython3",
   "version": "3.9.7"
  }
 },
 "nbformat": 4,
 "nbformat_minor": 1
}
