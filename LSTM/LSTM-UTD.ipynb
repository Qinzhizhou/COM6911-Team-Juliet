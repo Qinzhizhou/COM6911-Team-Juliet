{
 "cells": [
  {
   "cell_type": "code",
   "execution_count": 1,
   "id": "ee7c0c27",
   "metadata": {},
   "outputs": [],
   "source": [
    "%matplotlib inline\n",
    "import matplotlib.pyplot as plt\n",
    "import numpy as np\n",
    "import torch\n",
    "import torch.nn as nn\n",
    "import torch.nn.functional as F\n",
    "import torch.optim as optim\n",
    "import torchvision\n",
    "from torchvision import datasets, transforms\n",
    "from torch.utils.data import TensorDataset, DataLoader\n",
    "from sklearn import metrics\n",
    "import seaborn as sns"
   ]
  },
  {
   "cell_type": "code",
   "execution_count": 2,
   "id": "95f96995",
   "metadata": {},
   "outputs": [],
   "source": [
    "if torch.cuda.is_available():\n",
    "    torch.cuda.manual_seed_all(1)"
   ]
  },
  {
   "cell_type": "markdown",
   "id": "5c35fa37",
   "metadata": {},
   "source": [
    "## Load the dataset"
   ]
  },
  {
   "cell_type": "code",
   "execution_count": 3,
   "id": "6e83df40",
   "metadata": {},
   "outputs": [],
   "source": [
    "train_features = np.load('../Data/UTDMHAD_data/UTD_train_features.npy')\n",
    "test_features = np.load('../Data/UTDMHAD_data/UTD_test_features.npy')\n",
    "train_labels = np.load('../Data/UTDMHAD_data/UTD_train_labels.npy')\n",
    "test_labels = np.load('../Data/UTDMHAD_data/UTD_test_labels.npy')"
   ]
  },
  {
   "cell_type": "code",
   "execution_count": 4,
   "id": "c8d5a5cb",
   "metadata": {},
   "outputs": [
    {
     "data": {
      "text/plain": [
       "((688, 6, 128),)"
      ]
     },
     "execution_count": 4,
     "metadata": {},
     "output_type": "execute_result"
    }
   ],
   "source": [
    "train_features.shape,  # 688   6 * 128"
   ]
  },
  {
   "cell_type": "markdown",
   "id": "78c94e6d",
   "metadata": {},
   "source": [
    "#### Check the labels"
   ]
  },
  {
   "cell_type": "code",
   "execution_count": 5,
   "id": "32f986ae",
   "metadata": {},
   "outputs": [
    {
     "data": {
      "text/plain": [
       "array([ 7,  5, 11,  4, 12, 25, 25, 16,  1,  7, 15, 24,  7, 27, 16, 26, 18,\n",
       "       10, 26, 24, 17, 21, 11, 14,  3,  5, 14,  9, 14, 12, 22, 15, 17,  5,\n",
       "       14,  6, 17,  2, 15, 21, 17, 14, 14,  7, 19, 19, 27, 11, 25,  2,  7,\n",
       "       14, 20, 15, 10, 18, 10, 16, 18, 14, 10, 22, 16, 25,  3, 26,  6, 27,\n",
       "       13, 27,  5,  3, 23,  5,  2, 22,  3, 20, 26, 26, 16, 13,  8,  5,  6,\n",
       "        1, 15,  7, 12, 15, 12,  5,  6,  1, 18, 11,  3, 19, 10, 14],\n",
       "      dtype=int64)"
      ]
     },
     "execution_count": 5,
     "metadata": {},
     "output_type": "execute_result"
    }
   ],
   "source": [
    "train_labels[:100] # Label"
   ]
  },
  {
   "cell_type": "markdown",
   "id": "3de8875e",
   "metadata": {},
   "source": [
    "#### Building loader\n",
    "Images size = 6 * 128"
   ]
  },
  {
   "cell_type": "code",
   "execution_count": 6,
   "id": "dfefa7bd",
   "metadata": {},
   "outputs": [],
   "source": [
    "tensor_train_features = torch.Tensor(train_features) # torch.Size([688, 6, 128])\n",
    "tensor_train_labels = torch.Tensor(train_labels)\n",
    "tensor_test_features = torch.Tensor(test_features) # torch.Size([173, 6, 128])\n",
    "tensor_test_labels = torch.Tensor(test_labels)\n",
    "\n",
    "# Add one dimension of channel\n",
    "tensor_train_features = torch.unsqueeze(tensor_train_features, 1)# (torch.Size([688, 1, 6, 128]),)\n",
    "tensor_test_features = torch.unsqueeze(tensor_test_features, 1)\n",
    "train_dataset = TensorDataset(tensor_train_features, tensor_train_labels)\n",
    "test_dataset = TensorDataset(tensor_test_features, tensor_test_labels)"
   ]
  },
  {
   "cell_type": "code",
   "execution_count": 7,
   "id": "3e083c5f",
   "metadata": {},
   "outputs": [
    {
     "data": {
      "text/plain": [
       "(torch.Size([688, 1, 6, 128]),\n",
       " torch.Size([688]),\n",
       " <torch.utils.data.dataset.TensorDataset at 0x1c401df2ac0>)"
      ]
     },
     "execution_count": 7,
     "metadata": {},
     "output_type": "execute_result"
    }
   ],
   "source": [
    "tensor_train_features.shape, tensor_train_labels.shape, train_dataset"
   ]
  },
  {
   "cell_type": "code",
   "execution_count": 8,
   "id": "7907b010",
   "metadata": {},
   "outputs": [],
   "source": [
    "# Hyper parameter \n",
    "BATCH_SIZE = 16# 32 # \n",
    "EPOCHES = 10"
   ]
  },
  {
   "cell_type": "markdown",
   "id": "22b4a297",
   "metadata": {},
   "source": [
    "#### 创建数据集的可迭代对象 Iratable object with batch"
   ]
  },
  {
   "cell_type": "code",
   "execution_count": 9,
   "id": "8a12d57a",
   "metadata": {},
   "outputs": [],
   "source": [
    "train_loader = torch.utils.data.DataLoader(dataset = train_dataset, batch_size = BATCH_SIZE, shuffle=True)\n",
    "test_loader = torch.utils.data.DataLoader(dataset = test_dataset, batch_size = BATCH_SIZE, shuffle=True)"
   ]
  },
  {
   "cell_type": "code",
   "execution_count": 10,
   "id": "830cadaa",
   "metadata": {},
   "outputs": [
    {
     "data": {
      "text/plain": [
       "(43, 11)"
      ]
     },
     "execution_count": 10,
     "metadata": {},
     "output_type": "execute_result"
    }
   ],
   "source": [
    "len(train_loader), len(test_loader)"
   ]
  },
  {
   "cell_type": "code",
   "execution_count": 11,
   "id": "08e68531",
   "metadata": {},
   "outputs": [
    {
     "data": {
      "text/plain": [
       "(torch.Size([16, 1, 6, 128]), torch.Size([16]))"
      ]
     },
     "execution_count": 11,
     "metadata": {},
     "output_type": "execute_result"
    }
   ],
   "source": [
    "images,labels = next(iter(train_loader))\n",
    "images.shape, labels.shape"
   ]
  },
  {
   "cell_type": "code",
   "execution_count": 12,
   "id": "becd7efb",
   "metadata": {},
   "outputs": [],
   "source": [
    "def imshow(inp):\n",
    "    inp = inp.numpy().transpose((1,2,0))\n",
    "    mean = np.array([0.485, 0.456, 0.406])\n",
    "    std = np.array([0.229, 0.224, 0.225])\n",
    "    inp = std * inp + mean # Recovery the image\n",
    "    inp = np.clip(inp, 0, 1) # clip the pixel between 0 and 1\n",
    "    plt.imshow(inp)\n",
    "    #if titlle is not None:\n",
    "        #plt.title(title)\n",
    "   "
   ]
  },
  {
   "cell_type": "code",
   "execution_count": 13,
   "id": "764b8469",
   "metadata": {},
   "outputs": [
    {
     "data": {
      "image/png": "[encoded data removed]",
      "text/plain": [
       "<Figure size 432x288 with 1 Axes>"
      ]
     },
     "metadata": {
      "needs_background": "light"
     },
     "output_type": "display_data"
    }
   ],
   "source": [
    "out = torchvision.utils.make_grid(images)\n",
    "imshow(out)"
   ]
  },
  {
   "cell_type": "code",
   "execution_count": 14,
   "id": "d997ad5c",
   "metadata": {},
   "outputs": [],
   "source": [
    "# rnn\n",
    "# num_feature = 6\n",
    "# feature_width = 128\n",
    "class RNN_model(nn.Module):\n",
    "    def __init__(self, input_dim, hidden_dim, layer_dim, output_dim):\n",
    "        super(RNN_model, self).__init__()\n",
    "        self.hidden_dim = hidden_dim\n",
    "        self.layer_dim = layer_dim\n",
    "        #循环对象\n",
    "        self.rnn = nn.RNN(input_dim, hidden_dim, layer_dim, batch_first = True, nonlinearity = \"relu\")\n",
    "        \n",
    "        #FC_layer\n",
    "        self.fc = nn.Linear(hidden_dim, output_dim)\n",
    "        \n",
    "    def forward(self, x):\n",
    "        h0 = torch.zeros(self.layer_dim, x.size(0),self.hidden_dim).requires_grad_()#.to(device) \n",
    "        # X.SIZE = batch SIZE\n",
    "        \n",
    "        # 分离隐藏状态，避免梯度爆炸\n",
    "        out, hn = self.rnn(x, h0.detach())# detach 分离\n",
    "        out = self.fc(out[:, -1, :])# -1 the last layer state at time t\n",
    "            \n",
    "        return out\n",
    "        \n",
    "        \n",
    "    "
   ]
  },
  {
   "cell_type": "code",
   "execution_count": 15,
   "id": "a14071e0",
   "metadata": {},
   "outputs": [],
   "source": [
    "input_dim = 128 # input dimension\n",
    "hidden_dim = 100 # hidden layers number\n",
    "layer_dim = 2 \n",
    "output_dim = 27 + 1 # output dimension\n",
    "\n",
    "# initialize the model\n",
    "model_rnn = RNN_model(input_dim, hidden_dim, layer_dim, output_dim)\n",
    "# device = torch.device('cuda:0' if torch.cuda.is_available() else  'cpu')\n",
    "\n",
    "#model = model.to(device)"
   ]
  },
  {
   "cell_type": "code",
   "execution_count": 16,
   "id": "8e6774c1",
   "metadata": {},
   "outputs": [],
   "source": [
    "criterion = nn.CrossEntropyLoss()\n",
    "learning_rate = 0.01\n",
    "optimizer = torch.optim.SGD(model_rnn.parameters(), lr = learning_rate)"
   ]
  },
  {
   "cell_type": "code",
   "execution_count": 17,
   "id": "910f8ed0",
   "metadata": {},
   "outputs": [],
   "source": [
    "length = (len(list(model_rnn.parameters())))"
   ]
  },
  {
   "cell_type": "code",
   "execution_count": 18,
   "id": "1abd351e",
   "metadata": {},
   "outputs": [
    {
     "name": "stdout",
     "output_type": "stream",
     "text": [
      "parameters: 1\n",
      "torch.Size([100, 128])\n",
      "parameters: 2\n",
      "torch.Size([100, 100])\n",
      "parameters: 3\n",
      "torch.Size([100])\n",
      "parameters: 4\n",
      "torch.Size([100])\n",
      "parameters: 5\n",
      "torch.Size([100, 100])\n",
      "parameters: 6\n",
      "torch.Size([100, 100])\n",
      "parameters: 7\n",
      "torch.Size([100])\n",
      "parameters: 8\n",
      "torch.Size([100])\n",
      "parameters: 9\n",
      "torch.Size([28, 100])\n",
      "parameters: 10\n",
      "torch.Size([28])\n"
     ]
    }
   ],
   "source": [
    "for i in range(length):\n",
    "    print(\"parameters: %d\" %(i+1))\n",
    "    print(list(model_rnn.parameters())[i].size())"
   ]
  },
  {
   "cell_type": "code",
   "execution_count": 19,
   "id": "347acaa9",
   "metadata": {},
   "outputs": [
    {
     "name": "stdout",
     "output_type": "stream",
     "text": [
      "Iter:10,loss:107.51919555664062,Accuracy:4.069767475128174\n",
      "Iter:20,loss:4.5404815673828125,Accuracy:3.488372325897217\n",
      "Iter:30,loss:3.307569742202759,Accuracy:6.686046600341797\n",
      "Iter:40,loss:3.171731472015381,Accuracy:8.284883499145508\n",
      "Iter:50,loss:2.972853660583496,Accuracy:8.284883499145508\n",
      "Iter:60,loss:3.297227382659912,Accuracy:8.720930099487305\n",
      "Iter:70,loss:3.335211992263794,Accuracy:8.139534950256348\n",
      "Iter:80,loss:2.9108974933624268,Accuracy:8.575581550598145\n",
      "Iter:90,loss:2.524571418762207,Accuracy:8.866278648376465\n",
      "Iter:100,loss:3.4872360229492188,Accuracy:7.848837375640869\n",
      "Iter:110,loss:3.2838847637176514,Accuracy:6.976744651794434\n",
      "Iter:120,loss:3.028318405151367,Accuracy:9.447674751281738\n",
      "Iter:130,loss:3.161792755126953,Accuracy:7.412790298461914\n",
      "Iter:140,loss:3.2699966430664062,Accuracy:8.575581550598145\n",
      "Iter:150,loss:2.869600534439087,Accuracy:8.720930099487305\n",
      "Iter:160,loss:3.3202123641967773,Accuracy:7.703488349914551\n",
      "Iter:170,loss:2.8796329498291016,Accuracy:7.848837375640869\n",
      "Iter:180,loss:3.1714022159576416,Accuracy:7.994185924530029\n",
      "Iter:190,loss:3.3255040645599365,Accuracy:8.575581550598145\n",
      "Iter:200,loss:3.113353967666626,Accuracy:8.720930099487305\n",
      "Iter:210,loss:3.1142380237579346,Accuracy:8.866278648376465\n",
      "Iter:220,loss:3.1730241775512695,Accuracy:9.593023300170898\n",
      "Iter:230,loss:3.3344922065734863,Accuracy:9.011628150939941\n",
      "Iter:240,loss:2.928755521774292,Accuracy:8.575581550598145\n",
      "Iter:250,loss:3.111766815185547,Accuracy:8.575581550598145\n",
      "Iter:260,loss:3.3557004928588867,Accuracy:9.011628150939941\n",
      "Iter:270,loss:3.2888596057891846,Accuracy:9.011628150939941\n",
      "Iter:280,loss:3.3367414474487305,Accuracy:8.720930099487305\n",
      "Iter:290,loss:3.339754819869995,Accuracy:9.011628150939941\n",
      "Iter:300,loss:3.181574821472168,Accuracy:9.011628150939941\n",
      "Iter:310,loss:2.721256971359253,Accuracy:8.720930099487305\n",
      "Iter:320,loss:3.120972156524658,Accuracy:9.011628150939941\n",
      "Iter:330,loss:3.321345090866089,Accuracy:9.011628150939941\n",
      "Iter:340,loss:3.1067025661468506,Accuracy:9.011628150939941\n",
      "Iter:350,loss:3.15812087059021,Accuracy:8.720930099487305\n",
      "Iter:360,loss:2.912646532058716,Accuracy:8.720930099487305\n",
      "Iter:370,loss:3.313171863555908,Accuracy:8.575581550598145\n",
      "Iter:380,loss:3.315171957015991,Accuracy:7.994185924530029\n",
      "Iter:390,loss:3.13505220413208,Accuracy:8.720930099487305\n",
      "Iter:400,loss:3.110833168029785,Accuracy:9.011628150939941\n",
      "Iter:410,loss:3.336129665374756,Accuracy:9.011628150939941\n",
      "Iter:420,loss:3.3246219158172607,Accuracy:9.011628150939941\n",
      "Iter:430,loss:2.7084336280822754,Accuracy:9.011628150939941\n"
     ]
    }
   ],
   "source": [
    "sequence_dim = 6\n",
    "loss_list = []\n",
    "accuracy_list = []\n",
    "iteration_list = [] \n",
    "# 24576 = 32*1*6*128\n",
    "iter =  0\n",
    "for epoch in range(EPOCHES):\n",
    "    for i, (images, labels) in enumerate(train_loader):\n",
    "        model_rnn.train()\n",
    "        # A batch of data with transfering the RNN input dimention \n",
    "        # 32*1*6*128\n",
    "        images = images.view(-1, sequence_dim, input_dim).requires_grad_()#.to(device)\n",
    "        labels = labels.to(torch.int64)\n",
    "        #labels = labels.to(device)\n",
    "        # gradient.zero\n",
    "        optimizer.zero_grad()\n",
    "        #forward pass\n",
    "        output = model_rnn(images)\n",
    "\n",
    "        \n",
    "        # print(output.size(), labels.size(), \"pass\")\n",
    "        # loss calc\n",
    "        loss_rnn = criterion(output, labels)\n",
    "        # backword\n",
    "        loss_rnn.backward()\n",
    "        # renew the parameter\n",
    "        optimizer.step()\n",
    "        \n",
    "        iter += 1\n",
    "        if iter % 10 == 0:\n",
    "            model_rnn.eval()\n",
    "            # accuracy\n",
    "            correct = 0\n",
    "            total = 0\n",
    "            for i, (images, labels) in enumerate(train_loader):\n",
    "                    images = images.view(-1, sequence_dim, input_dim)#.to(device)\n",
    "                    outputs = model_rnn(images)\n",
    "                    #print(outputs.size())\n",
    "                    \n",
    "                    predict = torch.max(outputs.data, 1)[1]\n",
    "                    total += labels.size(0)\n",
    "                    correct += (predict == labels).sum()\n",
    "            \n",
    "            accuracy = correct / total * 100\n",
    "            loss_list.append(loss_rnn.data)\n",
    "            accuracy_list.append(accuracy)\n",
    "            iteration_list.append(iter)\n",
    "            # print the info\n",
    "            print(\"Iter:{},loss:{},Accuracy:{}\".format(iter, loss_rnn.item(), accuracy))\n",
    "            \n",
    "            \n",
    "          \n",
    "                    \n",
    "        "
   ]
  },
  {
   "cell_type": "code",
   "execution_count": 20,
   "id": "65b7b241",
   "metadata": {},
   "outputs": [
    {
     "data": {
      "image/png": "[encoded data removed]",
      "text/plain": [
       "<Figure size 432x288 with 1 Axes>"
      ]
     },
     "metadata": {
      "needs_background": "light"
     },
     "output_type": "display_data"
    }
   ],
   "source": [
    "plt.plot(iteration_list,loss_list)\n",
    "plt.xlabel(\"Number of Iteration\")\n",
    "plt.ylabel(\"Loss\")\n",
    "plt.title(\"RNN\")\n",
    "plt.show()"
   ]
  },
  {
   "cell_type": "code",
   "execution_count": 21,
   "id": "47e5a84c",
   "metadata": {},
   "outputs": [
    {
     "data": {
      "image/png": "[encoded data removed]",
      "text/plain": [
       "<Figure size 432x288 with 1 Axes>"
      ]
     },
     "metadata": {
      "needs_background": "light"
     },
     "output_type": "display_data"
    }
   ],
   "source": [
    "plt.plot(iteration_list,accuracy_list, color = \"r\")\n",
    "plt.xlabel(\"Number of Iteration\")\n",
    "plt.ylabel(\"Accuracy\")\n",
    "plt.title(\"RNN\")\n",
    "plt.show()"
   ]
  },
  {
   "cell_type": "code",
   "execution_count": 22,
   "id": "b8a26f7e",
   "metadata": {},
   "outputs": [
    {
     "name": "stdout",
     "output_type": "stream",
     "text": [
      "Test Accuracy of the basic RNN model on the UTD test features: 10.982658386230469 %\n"
     ]
    }
   ],
   "source": [
    "labels = []\n",
    "predictions = []\n",
    "with torch.no_grad():\n",
    "    correct = 0\n",
    "    total = 0\n",
    "    for i, (images, labels) in enumerate(test_loader):\n",
    "        images = images.view(-1, sequence_dim, input_dim)#.to(device)\n",
    "        outputs = model_rnn(images)\n",
    "        #print(outputs.size())\n",
    "                    \n",
    "        predict = torch.max(outputs.data, 1)[1]\n",
    "        total += labels.size(0)\n",
    "        correct += (predict == labels).sum()\n",
    "\n",
    "    print('Test Accuracy of the basic RNN model on the UTD test features: {} %'.format((correct / total) * 100))"
   ]
  },
  {
   "cell_type": "markdown",
   "id": "91b53b49",
   "metadata": {},
   "source": [
    "#### LSTM"
   ]
  },
  {
   "cell_type": "code",
   "execution_count": 23,
   "id": "733e0fcf",
   "metadata": {},
   "outputs": [],
   "source": [
    "class LSTM_model(nn.Module):\n",
    "    def __init__(self, input_dim, hidden_dim, layer_dim, output_dim):\n",
    "        super(LSTM_model, self).__init__()\n",
    "        self.hidden_dim = hidden_dim\n",
    "        self.layer_dim = layer_dim\n",
    "        self.lstm = nn.LSTM(input_dim, hidden_dim, layer_dim, batch_first = True)\n",
    "        #FC_layer\n",
    "        self.fc = nn.Linear(hidden_dim, output_dim)\n",
    "        \n",
    "    def forward(self, x):\n",
    "        h0 = torch.zeros(self.layer_dim, x.size(0),self.hidden_dim).requires_grad_()#.to(device) \n",
    "        c0 = torch.zeros(self.layer_dim, x.size(0),self.hidden_dim).requires_grad_()#.to(device) \n",
    "        # X.SIZE = batch SIZE\n",
    "        \n",
    "        # detach the hidden state to prevent exploding gradient\n",
    "        out, (hn,cn) = self.lstm(x,( h0.detach(),c0.detach()))# detach \n",
    "        out = self.fc(out[:, -1, :])# -1 the last layer state at time t     \n",
    "        return out"
   ]
  },
  {
   "cell_type": "code",
   "execution_count": 24,
   "id": "9ef58330",
   "metadata": {},
   "outputs": [],
   "source": [
    "input_dim = 128 # input dimension\n",
    "hidden_dim = 100 # hidden layers number\n",
    "layer_dim = 1 \n",
    "output_dim = 27 + 1 # output dimension\n",
    "\n",
    "# initialize the model\n",
    "model_lstm = LSTM_model(input_dim, hidden_dim, layer_dim, output_dim)\n",
    "# device = torch.device('cuda:0' if torch.cuda.is_available() else  'cpu')\n",
    "\n",
    "#model = model.to(device)"
   ]
  },
  {
   "cell_type": "code",
   "execution_count": 25,
   "id": "6ed70db8",
   "metadata": {},
   "outputs": [
    {
     "name": "stdout",
     "output_type": "stream",
     "text": [
      "parameters: 1\n",
      "torch.Size([400, 128])\n",
      "parameters: 2\n",
      "torch.Size([400, 100])\n",
      "parameters: 3\n",
      "torch.Size([400])\n",
      "parameters: 4\n",
      "torch.Size([400])\n",
      "parameters: 5\n",
      "torch.Size([28, 100])\n",
      "parameters: 6\n",
      "torch.Size([28])\n"
     ]
    }
   ],
   "source": [
    "for i in range(len(list(model_lstm.parameters()))):\n",
    "    print(\"parameters: %d\" %(i+1))\n",
    "    print(list(model_lstm.parameters())[i].size())"
   ]
  },
  {
   "cell_type": "code",
   "execution_count": 26,
   "id": "7ed463bb",
   "metadata": {},
   "outputs": [],
   "source": [
    "criterion = nn.CrossEntropyLoss()\n",
    "learning_rate = 0.1\n",
    "optimizer = torch.optim.SGD(model_lstm.parameters(), lr = learning_rate)"
   ]
  },
  {
   "cell_type": "code",
   "execution_count": 27,
   "id": "7352c5bd",
   "metadata": {},
   "outputs": [
    {
     "name": "stdout",
     "output_type": "stream",
     "text": [
      "Iter:10,loss:3.1942291259765625,Accuracy:14.825580596923828\n",
      "Iter:20,loss:3.0287842750549316,Accuracy:19.04069709777832\n",
      "Iter:30,loss:2.948373794555664,Accuracy:26.453489303588867\n",
      "Iter:40,loss:3.1656384468078613,Accuracy:25.436046600341797\n",
      "Iter:50,loss:2.7939274311065674,Accuracy:30.668603897094727\n",
      "Iter:60,loss:2.9890847206115723,Accuracy:31.686046600341797\n",
      "Iter:70,loss:2.863940954208374,Accuracy:31.104650497436523\n",
      "Iter:80,loss:2.733288288116455,Accuracy:32.41279220581055\n",
      "Iter:90,loss:2.3044352531433105,Accuracy:37.5\n",
      "Iter:100,loss:2.5310027599334717,Accuracy:38.953487396240234\n",
      "Iter:110,loss:2.2080159187316895,Accuracy:37.645347595214844\n",
      "Iter:120,loss:2.4249625205993652,Accuracy:40.406978607177734\n",
      "Iter:130,loss:2.3884735107421875,Accuracy:41.569766998291016\n",
      "Iter:140,loss:2.3875551223754883,Accuracy:41.13372039794922\n",
      "Iter:150,loss:2.022825241088867,Accuracy:41.27906799316406\n",
      "Iter:160,loss:2.5696356296539307,Accuracy:43.75\n",
      "Iter:170,loss:2.6177611351013184,Accuracy:48.11046600341797\n",
      "Iter:180,loss:2.180959701538086,Accuracy:51.01744079589844\n",
      "Iter:190,loss:2.2645440101623535,Accuracy:49.854652404785156\n",
      "Iter:200,loss:1.8269891738891602,Accuracy:55.23255920410156\n",
      "Iter:210,loss:2.0284276008605957,Accuracy:54.36046600341797\n",
      "Iter:220,loss:2.0518810749053955,Accuracy:52.47092819213867\n",
      "Iter:230,loss:1.634770393371582,Accuracy:56.104652404785156\n",
      "Iter:240,loss:2.3041722774505615,Accuracy:56.976741790771484\n",
      "Iter:250,loss:1.842557668685913,Accuracy:53.924415588378906\n",
      "Iter:260,loss:1.5993963479995728,Accuracy:52.03488540649414\n",
      "Iter:270,loss:2.0307865142822266,Accuracy:54.36046600341797\n",
      "Iter:280,loss:1.9258687496185303,Accuracy:54.21511459350586\n",
      "Iter:290,loss:1.7605942487716675,Accuracy:56.68604278564453\n",
      "Iter:300,loss:1.880807638168335,Accuracy:57.84883499145508\n",
      "Iter:310,loss:1.7869722843170166,Accuracy:58.43022918701172\n",
      "Iter:320,loss:1.8161239624023438,Accuracy:58.575584411621094\n",
      "Iter:330,loss:1.796836256980896,Accuracy:58.72092819213867\n",
      "Iter:340,loss:1.6335278749465942,Accuracy:57.84883499145508\n",
      "Iter:350,loss:2.2500133514404297,Accuracy:60.75581359863281\n",
      "Iter:360,loss:1.7326878309249878,Accuracy:58.72092819213867\n",
      "Iter:370,loss:1.6099987030029297,Accuracy:57.99418640136719\n",
      "Iter:380,loss:1.7263481616973877,Accuracy:60.75581359863281\n",
      "Iter:390,loss:1.5532257556915283,Accuracy:61.627906799316406\n",
      "Iter:400,loss:1.2380928993225098,Accuracy:60.90116500854492\n",
      "Iter:410,loss:1.2109240293502808,Accuracy:60.90116500854492\n",
      "Iter:420,loss:1.6168240308761597,Accuracy:63.226741790771484\n",
      "Iter:430,loss:1.7831335067749023,Accuracy:64.68022918701172\n"
     ]
    }
   ],
   "source": [
    "sequence_dim = 6\n",
    "lost_list_LSTM = []\n",
    "accuracy_list = []\n",
    "iteration_list = [] \n",
    "iter = 0\n",
    "\n",
    "for epoch in range(EPOCHES):\n",
    "    for i, (images, labels) in enumerate(train_loader):\n",
    "        model_lstm.train()\n",
    "        # 32*1*6*128\n",
    "        images = images.view(-1, sequence_dim, input_dim).requires_grad_()#.to(device)\n",
    "        labels = labels.to(torch.int64)\n",
    "        #labels = labels.to(device)\n",
    "        # gradient.zero\n",
    "        optimizer.zero_grad()\n",
    "        #forward pass\n",
    "        \n",
    "        outputs = model_lstm(images)\n",
    "        # print(output.size(), labels.size(), \"pass\")\n",
    "        # loss calc\n",
    "        loss_lstm = criterion(outputs, labels)\n",
    "        # backword\n",
    "        loss_lstm.backward()\n",
    "        # renew the parameter\n",
    "        optimizer.step()\n",
    "        \n",
    "        iter += 1\n",
    "        if iter % 10 == 0:\n",
    "            model_lstm.eval()\n",
    "            # accuracy\n",
    "            correct = 0\n",
    "            total = 0\n",
    "            for i, (images, labels) in enumerate(train_loader):\n",
    "                    images = images.view(-1, sequence_dim, input_dim)#.to(device)\n",
    "                    outputs = model_lstm(images)\n",
    "                    #print(outputs.size())\n",
    "                    \n",
    "                    predict = torch.max(outputs.data, 1)[1]\n",
    "                    total += labels.size(0)\n",
    "                    correct += (predict == labels).sum()\n",
    "            \n",
    "            accuracy = correct / total * 100\n",
    "            lost_list_LSTM.append(loss_lstm.data)\n",
    "            accuracy_list.append(accuracy)\n",
    "            iteration_list.append(iter)\n",
    "            # print the info\n",
    "            print(\"Iter:{},loss:{},Accuracy:{}\".format(iter, loss_lstm.item(), accuracy))\n",
    "            \n",
    "            \n"
   ]
  },
  {
   "cell_type": "code",
   "execution_count": 28,
   "id": "551a95e2",
   "metadata": {},
   "outputs": [
    {
     "data": {
      "image/png": "[encoded data removed]",
      "text/plain": [
       "<Figure size 432x288 with 1 Axes>"
      ]
     },
     "metadata": {
      "needs_background": "light"
     },
     "output_type": "display_data"
    }
   ],
   "source": [
    "plt.plot(iteration_list,lost_list_LSTM)\n",
    "plt.xlabel(\"Number of Iteration\")\n",
    "plt.ylabel(\"Loss\")\n",
    "plt.title(\"LSTM\")\n",
    "plt.show()"
   ]
  },
  {
   "cell_type": "code",
   "execution_count": 29,
   "id": "f15958ef",
   "metadata": {},
   "outputs": [
    {
     "data": {
      "image/png": "[encoded data removed]",
      "text/plain": [
       "<Figure size 432x288 with 1 Axes>"
      ]
     },
     "metadata": {
      "needs_background": "light"
     },
     "output_type": "display_data"
    }
   ],
   "source": [
    "plt.plot(iteration_list,accuracy_list, color = \"r\")\n",
    "plt.xlabel(\"Number of Iteration\")\n",
    "plt.ylabel(\"Accuracy\")\n",
    "plt.title(\"LSTM\")\n",
    "plt.show()"
   ]
  },
  {
   "cell_type": "code",
   "execution_count": 30,
   "id": "4f506d34",
   "metadata": {},
   "outputs": [
    {
     "name": "stdout",
     "output_type": "stream",
     "text": [
      "Test Accuracy of the basic LSTM model on the UTD test features: 53.17919158935547 %\n"
     ]
    }
   ],
   "source": [
    "labels = []\n",
    "predictions = []\n",
    "with torch.no_grad():\n",
    "    correct = 0\n",
    "    total = 0\n",
    "    for i, (images, labels) in enumerate(test_loader):\n",
    "        images = images.view(-1, sequence_dim, input_dim)#.to(device)\n",
    "        outputs = model_lstm(images)\n",
    "        #print(outputs.size())\n",
    "                    \n",
    "        predict = torch.max(outputs.data, 1)[1]\n",
    "        total += labels.size(0)\n",
    "        correct += (predict == labels).sum()\n",
    "    \n",
    "    print('Test Accuracy of the basic LSTM model on the UTD test features: {} %'.format((correct / total) * 100))"
   ]
  }
 ],
 "metadata": {
  "kernelspec": {
   "display_name": "Python 3 (ipykernel)",
   "language": "python",
   "name": "python3"
  },
  "language_info": {
   "codemirror_mode": {
    "name": "ipython",
    "version": 3
   },
   "file_extension": ".py",
   "mimetype": "text/x-python",
   "name": "python",
   "nbconvert_exporter": "python",
   "pygments_lexer": "ipython3",
   "version": "3.9.7"
  }
 },
 "nbformat": 4,
 "nbformat_minor": 5
}
