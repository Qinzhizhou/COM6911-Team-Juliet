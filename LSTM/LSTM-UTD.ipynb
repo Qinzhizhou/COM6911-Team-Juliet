{
 "cells": [
  {
   "cell_type": "code",
   "execution_count": 1,
   "id": "ee7c0c27",
   "metadata": {},
   "outputs": [],
   "source": [
    "%matplotlib inline\n",
    "import matplotlib.pyplot as plt\n",
    "import numpy as np\n",
    "import torch\n",
    "import torch.nn as nn\n",
    "import torch.nn.functional as F\n",
    "import torch.optim as optim\n",
    "import torchvision\n",
    "from torchvision import datasets, transforms\n",
    "from torch.utils.data import TensorDataset, DataLoader\n",
    "from sklearn import metrics\n",
    "import seaborn as sns"
   ]
  },
  {
   "cell_type": "code",
   "execution_count": 2,
   "id": "95f96995",
   "metadata": {},
   "outputs": [],
   "source": [
    "if torch.cuda.is_available():\n",
    "    torch.cuda.manual_seed_all(1)"
   ]
  },
  {
   "cell_type": "markdown",
   "id": "5c35fa37",
   "metadata": {},
   "source": [
    "## Load the dataset"
   ]
  },
  {
   "cell_type": "code",
   "execution_count": 3,
   "id": "6e83df40",
   "metadata": {},
   "outputs": [],
   "source": [
    "train_features = np.load('../Data/UTDMHAD_data/UTD_train_features.npy')\n",
    "test_features = np.load('../Data/UTDMHAD_data/UTD_test_features.npy')\n",
    "train_labels = np.load('../Data/UTDMHAD_data/UTD_train_labels.npy')\n",
    "test_labels = np.load('../Data/UTDMHAD_data/UTD_test_labels.npy')"
   ]
  },
  {
   "cell_type": "code",
   "execution_count": 4,
   "id": "c8d5a5cb",
   "metadata": {},
   "outputs": [
    {
     "data": {
      "text/plain": [
       "((688, 6, 128),)"
      ]
     },
     "execution_count": 4,
     "metadata": {},
     "output_type": "execute_result"
    }
   ],
   "source": [
    "train_features.shape,  # 688   6 * 128"
   ]
  },
  {
   "cell_type": "markdown",
   "id": "78c94e6d",
   "metadata": {},
   "source": [
    "#### Check the labels"
   ]
  },
  {
   "cell_type": "code",
   "execution_count": 5,
   "id": "32f986ae",
   "metadata": {},
   "outputs": [
    {
     "data": {
      "text/plain": [
       "array([ 7,  5, 11,  4, 12, 25, 25, 16,  1,  7, 15, 24,  7, 27, 16, 26, 18,\n",
       "       10, 26, 24, 17, 21, 11, 14,  3,  5, 14,  9, 14, 12, 22, 15, 17,  5,\n",
       "       14,  6, 17,  2, 15, 21, 17, 14, 14,  7, 19, 19, 27, 11, 25,  2,  7,\n",
       "       14, 20, 15, 10, 18, 10, 16, 18, 14, 10, 22, 16, 25,  3, 26,  6, 27,\n",
       "       13, 27,  5,  3, 23,  5,  2, 22,  3, 20, 26, 26, 16, 13,  8,  5,  6,\n",
       "        1, 15,  7, 12, 15, 12,  5,  6,  1, 18, 11,  3, 19, 10, 14],\n",
       "      dtype=int64)"
      ]
     },
     "execution_count": 5,
     "metadata": {},
     "output_type": "execute_result"
    }
   ],
   "source": [
    "train_labels[:100] # Label"
   ]
  },
  {
   "cell_type": "markdown",
   "id": "3de8875e",
   "metadata": {},
   "source": [
    "#### Building loader\n",
    "Images size = 6 * 128"
   ]
  },
  {
   "cell_type": "code",
   "execution_count": 6,
   "id": "dfefa7bd",
   "metadata": {},
   "outputs": [],
   "source": [
    "tensor_train_features = torch.Tensor(train_features) # torch.Size([688, 6, 128])\n",
    "tensor_train_labels = torch.Tensor(train_labels)\n",
    "tensor_test_features = torch.Tensor(test_features) # torch.Size([173, 6, 128])\n",
    "tensor_test_labels = torch.Tensor(test_labels)\n",
    "\n",
    "# Add one dimension of channel\n",
    "tensor_train_features = torch.unsqueeze(tensor_train_features, 1)# (torch.Size([688, 1, 6, 128]),)\n",
    "tensor_test_features = torch.unsqueeze(tensor_test_features, 1)\n",
    "train_dataset = TensorDataset(tensor_train_features, tensor_train_labels)\n",
    "test_dataset = TensorDataset(tensor_test_features, tensor_test_labels)"
   ]
  },
  {
   "cell_type": "code",
   "execution_count": 7,
   "id": "3e083c5f",
   "metadata": {},
   "outputs": [
    {
     "data": {
      "text/plain": [
       "(torch.Size([688, 1, 6, 128]),\n",
       " torch.Size([688]),\n",
       " <torch.utils.data.dataset.TensorDataset at 0x236dfe6f190>)"
      ]
     },
     "execution_count": 7,
     "metadata": {},
     "output_type": "execute_result"
    }
   ],
   "source": [
    "tensor_train_features.shape, tensor_train_labels.shape, train_dataset"
   ]
  },
  {
   "cell_type": "code",
   "execution_count": 8,
   "id": "7907b010",
   "metadata": {},
   "outputs": [],
   "source": [
    "# Hyper parameter \n",
    "BATCH_SIZE = 16# 32 # \n",
    "EPOCHES = 10"
   ]
  },
  {
   "cell_type": "markdown",
   "id": "22b4a297",
   "metadata": {},
   "source": [
    "#### 创建数据集的可迭代对象 Iratable object with batch"
   ]
  },
  {
   "cell_type": "code",
   "execution_count": 9,
   "id": "8a12d57a",
   "metadata": {},
   "outputs": [],
   "source": [
    "train_loader = torch.utils.data.DataLoader(dataset = train_dataset, batch_size = BATCH_SIZE, shuffle=True)\n",
    "test_loader = torch.utils.data.DataLoader(dataset = test_dataset, batch_size = BATCH_SIZE, shuffle=True)"
   ]
  },
  {
   "cell_type": "code",
   "execution_count": 10,
   "id": "830cadaa",
   "metadata": {},
   "outputs": [
    {
     "data": {
      "text/plain": [
       "(43, 11)"
      ]
     },
     "execution_count": 10,
     "metadata": {},
     "output_type": "execute_result"
    }
   ],
   "source": [
    "len(train_loader), len(test_loader)"
   ]
  },
  {
   "cell_type": "code",
   "execution_count": 11,
   "id": "08e68531",
   "metadata": {},
   "outputs": [
    {
     "data": {
      "text/plain": [
       "(torch.Size([16, 1, 6, 128]), torch.Size([16]))"
      ]
     },
     "execution_count": 11,
     "metadata": {},
     "output_type": "execute_result"
    }
   ],
   "source": [
    "images,labels = next(iter(train_loader))\n",
    "images.shape, labels.shape"
   ]
  },
  {
   "cell_type": "code",
   "execution_count": 12,
   "id": "becd7efb",
   "metadata": {},
   "outputs": [],
   "source": [
    "def imshow(inp):\n",
    "    inp = inp.numpy().transpose((1,2,0))\n",
    "    mean = np.array([0.485, 0.456, 0.406])\n",
    "    std = np.array([0.229, 0.224, 0.225])\n",
    "    inp = std * inp + mean # Recovery the image\n",
    "    inp = np.clip(inp, 0, 1) # clip the pixel between 0 and 1\n",
    "    plt.imshow(inp)\n",
    "    #if titlle is not None:\n",
    "        #plt.title(title)\n",
    "   "
   ]
  },
  {
   "cell_type": "code",
   "execution_count": 13,
   "id": "764b8469",
   "metadata": {},
   "outputs": [
    {
     "data": {
      "image/png": "[encoded data removed]",
      "text/plain": [
       "<Figure size 432x288 with 1 Axes>"
      ]
     },
     "metadata": {
      "needs_background": "light"
     },
     "output_type": "display_data"
    }
   ],
   "source": [
    "out = torchvision.utils.make_grid(images)\n",
    "imshow(out)"
   ]
  },
  {
   "cell_type": "markdown",
   "id": "91b53b49",
   "metadata": {},
   "source": [
    "#### LSTM"
   ]
  },
  {
   "cell_type": "code",
   "execution_count": 14,
   "id": "733e0fcf",
   "metadata": {},
   "outputs": [],
   "source": [
    "class LSTM_model(nn.Module):\n",
    "    def __init__(self, input_dim, hidden_dim, layer_dim, output_dim):\n",
    "        super(LSTM_model, self).__init__()\n",
    "        self.hidden_dim = hidden_dim\n",
    "        self.layer_dim = layer_dim\n",
    "        self.lstm = nn.LSTM(input_dim, hidden_dim, layer_dim, batch_first = True)\n",
    "        #FC_layer\n",
    "        self.fc = nn.Linear(hidden_dim, output_dim)\n",
    "        \n",
    "    def forward(self, x):\n",
    "        h0 = torch.zeros(self.layer_dim, x.size(0),self.hidden_dim).requires_grad_()#.to(device) \n",
    "        c0 = torch.zeros(self.layer_dim, x.size(0),self.hidden_dim).requires_grad_()#.to(device) \n",
    "        # X.SIZE = batch SIZE\n",
    "        \n",
    "        # detach the hidden state to prevent exploding gradient\n",
    "        out, (hn,cn) = self.lstm(x,( h0.detach(),c0.detach()))# detach \n",
    "        out = self.fc(out[:, -1, :])# -1 the last layer state at time t     \n",
    "        return out"
   ]
  },
  {
   "cell_type": "code",
   "execution_count": 15,
   "id": "9ef58330",
   "metadata": {},
   "outputs": [],
   "source": [
    "input_dim = 128 # input dimension\n",
    "hidden_dim = 1000 # hidden layers number\n",
    "layer_dim = 1 \n",
    "output_dim = 27 + 1 # output dimension\n",
    "\n",
    "# initialize the model\n",
    "model_lstm = LSTM_model(input_dim, hidden_dim, layer_dim, output_dim)\n",
    "# device = torch.device('cuda:0' if torch.cuda.is_available() else  'cpu')\n",
    "\n",
    "#model = model.to(device)"
   ]
  },
  {
   "cell_type": "code",
   "execution_count": 16,
   "id": "7ed463bb",
   "metadata": {},
   "outputs": [],
   "source": [
    "criterion = nn.CrossEntropyLoss()\n",
    "learning_rate = 0.1\n",
    "optimizer = torch.optim.SGD(model_lstm.parameters(), lr = learning_rate)"
   ]
  },
  {
   "cell_type": "markdown",
   "id": "8dc801d7",
   "metadata": {},
   "source": [
    "When hidden_dim larger than 10 , gradient vanish"
   ]
  },
  {
   "cell_type": "code",
   "execution_count": 17,
   "id": "6ed70db8",
   "metadata": {},
   "outputs": [
    {
     "name": "stdout",
     "output_type": "stream",
     "text": [
      "parameters: 1\n",
      "torch.Size([4000, 128])\n",
      "parameters: 2\n",
      "torch.Size([4000, 1000])\n",
      "parameters: 3\n",
      "torch.Size([4000])\n",
      "parameters: 4\n",
      "torch.Size([4000])\n",
      "parameters: 5\n",
      "torch.Size([28, 1000])\n",
      "parameters: 6\n",
      "torch.Size([28])\n"
     ]
    }
   ],
   "source": [
    "for i in range(len(list(model_lstm.parameters()))):\n",
    "    print(\"parameters: %d\" %(i+1))\n",
    "    print(list(model_lstm.parameters())[i].size())"
   ]
  },
  {
   "cell_type": "code",
   "execution_count": 18,
   "id": "7352c5bd",
   "metadata": {
    "scrolled": true
   },
   "outputs": [
    {
     "name": "stdout",
     "output_type": "stream",
     "text": [
      "Iter:20,loss:2.2473058700561523,Accuracy:53.77907180786133\n",
      "Iter:40,loss:1.8723894357681274,Accuracy:64.97093200683594\n",
      "Iter:60,loss:1.4263367652893066,Accuracy:69.76744079589844\n",
      "Iter:80,loss:1.5181937217712402,Accuracy:73.83721160888672\n",
      "Iter:100,loss:1.4299960136413574,Accuracy:78.63372039794922\n",
      "Iter:120,loss:1.7953914403915405,Accuracy:80.23255920410156\n",
      "Iter:140,loss:0.7251518964767456,Accuracy:82.55813598632812\n",
      "Iter:160,loss:0.972358226776123,Accuracy:83.5755844116211\n",
      "Iter:180,loss:0.9932489991188049,Accuracy:87.20930480957031\n",
      "Iter:200,loss:0.7114094495773315,Accuracy:87.35465240478516\n",
      "Iter:220,loss:0.31384485960006714,Accuracy:91.86046600341797\n",
      "Iter:240,loss:0.7228202819824219,Accuracy:91.27906799316406\n",
      "Iter:260,loss:0.5286164283752441,Accuracy:94.04069519042969\n",
      "Iter:280,loss:0.4461316168308258,Accuracy:93.60465240478516\n",
      "Iter:300,loss:0.28846457600593567,Accuracy:94.47673797607422\n",
      "Iter:320,loss:0.5152093172073364,Accuracy:92.00581359863281\n",
      "Iter:340,loss:0.5684726238250732,Accuracy:94.47673797607422\n",
      "Iter:360,loss:0.6594662666320801,Accuracy:94.3313980102539\n",
      "Iter:380,loss:0.5113503932952881,Accuracy:95.93022918701172\n",
      "Iter:400,loss:0.2453153431415558,Accuracy:96.22093200683594\n",
      "Iter:420,loss:0.3049708902835846,Accuracy:95.2034912109375\n"
     ]
    }
   ],
   "source": [
    "sequence_dim = 6\n",
    "lost_list_LSTM = []\n",
    "accuracy_list = []\n",
    "iteration_list = [] \n",
    "iter = 0\n",
    "\n",
    "for epoch in range(EPOCHES):\n",
    "    for i, (images, labels) in enumerate(train_loader):\n",
    "        model_lstm.train()\n",
    "        # 32*1*6*128\n",
    "        images = images.view(-1, sequence_dim, input_dim).requires_grad_()#.to(device)\n",
    "        labels = labels.to(torch.int64)\n",
    "        #labels = labels.to(device)\n",
    "        # gradient.zero\n",
    "        optimizer.zero_grad()\n",
    "        #forward pass\n",
    "        \n",
    "        outputs = model_lstm(images)\n",
    "        # print(output.size(), labels.size(), \"pass\")\n",
    "        # loss calc\n",
    "        loss_lstm = criterion(outputs, labels)\n",
    "        # backword\n",
    "        loss_lstm.backward()\n",
    "        # renew the parameter\n",
    "        optimizer.step()\n",
    "        \n",
    "        iter += 1\n",
    "        if iter % 20 == 0:\n",
    "            model_lstm.eval()\n",
    "            # accuracy\n",
    "            correct = 0\n",
    "            total = 0\n",
    "            for i, (images, labels) in enumerate(train_loader):\n",
    "                    images = images.view(-1, sequence_dim, input_dim)#.to(device)\n",
    "                    outputs = model_lstm(images)\n",
    "                    #print(outputs.size())\n",
    "                    \n",
    "                    predict = torch.max(outputs.data, 1)[1]\n",
    "                    total += labels.size(0)\n",
    "                    correct += (predict == labels).sum()\n",
    "            \n",
    "            accuracy = correct / total * 100\n",
    "            lost_list_LSTM.append(loss_lstm.data)\n",
    "            accuracy_list.append(accuracy)\n",
    "            iteration_list.append(iter)\n",
    "            # print the info\n",
    "            print(\"Iter:{},loss:{},Accuracy:{}\".format(iter, loss_lstm.item(), accuracy))\n",
    "            \n",
    "            \n"
   ]
  },
  {
   "cell_type": "code",
   "execution_count": 19,
   "id": "551a95e2",
   "metadata": {},
   "outputs": [
    {
     "data": {
      "image/png": "[encoded data removed]",
      "text/plain": [
       "<Figure size 432x288 with 1 Axes>"
      ]
     },
     "metadata": {
      "needs_background": "light"
     },
     "output_type": "display_data"
    }
   ],
   "source": [
    "plt.plot(iteration_list,lost_list_LSTM)\n",
    "plt.xlabel(\"Number of Iteration\")\n",
    "plt.ylabel(\"Loss\")\n",
    "plt.title(\"LSTM Loss in UTD\")\n",
    "plt.show()"
   ]
  },
  {
   "cell_type": "code",
   "execution_count": 20,
   "id": "f15958ef",
   "metadata": {},
   "outputs": [
    {
     "data": {
      "image/png": "[encoded data removed]",
      "text/plain": [
       "<Figure size 432x288 with 1 Axes>"
      ]
     },
     "metadata": {
      "needs_background": "light"
     },
     "output_type": "display_data"
    }
   ],
   "source": [
    "plt.plot(iteration_list,accuracy_list, color = \"r\")\n",
    "plt.xlabel(\"Number of Iteration\")\n",
    "plt.ylabel(\"Accuracy\")\n",
    "plt.title(\"LSTM Accuracy on UTD train\")\n",
    "plt.show()"
   ]
  },
  {
   "cell_type": "code",
   "execution_count": 21,
   "id": "4f506d34",
   "metadata": {},
   "outputs": [
    {
     "name": "stdout",
     "output_type": "stream",
     "text": [
      "Test Accuracy of the basic LSTM model on the UTD test features: 76.87861633300781 %\n"
     ]
    }
   ],
   "source": [
    "labels = []\n",
    "predictions = []\n",
    "with torch.no_grad():\n",
    "    correct = 0\n",
    "    total = 0\n",
    "    for i, (images, labels) in enumerate(test_loader):\n",
    "        images = images.view(-1, sequence_dim, input_dim)#.to(device)\n",
    "        outputs = model_lstm(images)\n",
    "        #print(outputs.size())\n",
    "                    \n",
    "        predict = torch.max(outputs.data, 1)[1]\n",
    "        total += labels.size(0)\n",
    "        correct += (predict == labels).sum()\n",
    "    \n",
    "    print('Test Accuracy of the basic LSTM model on the UTD test features: {} %'.format((correct / total) * 100))"
   ]
  },
  {
   "cell_type": "markdown",
   "id": "36df3a4d",
   "metadata": {},
   "source": [
    "### Try RNN"
   ]
  },
  {
   "cell_type": "code",
   "execution_count": 22,
   "id": "d997ad5c",
   "metadata": {},
   "outputs": [],
   "source": [
    "# rnn\n",
    "# num_feature = 6\n",
    "# feature_width = 128\n",
    "class RNN_model(nn.Module):\n",
    "    def __init__(self, input_dim, hidden_dim, layer_dim, output_dim):\n",
    "        super(RNN_model, self).__init__()\n",
    "        self.hidden_dim = hidden_dim\n",
    "        self.layer_dim = layer_dim\n",
    "        #循环对象\n",
    "        self.rnn = nn.RNN(input_dim, hidden_dim, layer_dim, batch_first = True, nonlinearity = \"relu\")\n",
    "        \n",
    "        #FC_layer\n",
    "        self.fc = nn.Linear(hidden_dim, output_dim)\n",
    "        \n",
    "    def forward(self, x):\n",
    "        h0 = torch.zeros(self.layer_dim, x.size(0),self.hidden_dim).requires_grad_()#.to(device) \n",
    "        # X.SIZE = batch SIZE\n",
    "        \n",
    "        # 分离隐藏状态，避免梯度爆炸\n",
    "        out, hn = self.rnn(x, h0.detach())# detach 分离\n",
    "        out = self.fc(out[:, -1, :])# -1 the last layer state at time t\n",
    "            \n",
    "        return out\n",
    "        \n",
    "        \n",
    "    "
   ]
  },
  {
   "cell_type": "markdown",
   "id": "a504461b",
   "metadata": {},
   "source": [
    "Here the hidden_dim has number = 100 will have a better performances"
   ]
  },
  {
   "cell_type": "code",
   "execution_count": 23,
   "id": "a14071e0",
   "metadata": {},
   "outputs": [],
   "source": [
    "input_dim = 128 # input dimension\n",
    "hidden_dim = 100 # hidden layers number \n",
    "layer_dim = 2\n",
    "output_dim = 27 + 1 # output dimension\n",
    "\n",
    "# initialize the model\n",
    "model_rnn = RNN_model(input_dim, hidden_dim, layer_dim, output_dim)\n",
    "# device = torch.device('cuda:0' if torch.cuda.is_available() else  'cpu')\n",
    "\n",
    "#model = model.to(device)"
   ]
  },
  {
   "cell_type": "code",
   "execution_count": 24,
   "id": "8e6774c1",
   "metadata": {},
   "outputs": [],
   "source": [
    "criterion = nn.CrossEntropyLoss()\n",
    "learning_rate = 0.01\n",
    "optimizer = torch.optim.SGD(model_rnn.parameters(), lr = learning_rate)"
   ]
  },
  {
   "cell_type": "code",
   "execution_count": 25,
   "id": "910f8ed0",
   "metadata": {},
   "outputs": [],
   "source": [
    "length = (len(list(model_rnn.parameters())))"
   ]
  },
  {
   "cell_type": "code",
   "execution_count": 26,
   "id": "1abd351e",
   "metadata": {},
   "outputs": [
    {
     "name": "stdout",
     "output_type": "stream",
     "text": [
      "parameters: 1\n",
      "torch.Size([100, 128])\n",
      "parameters: 2\n",
      "torch.Size([100, 100])\n",
      "parameters: 3\n",
      "torch.Size([100])\n",
      "parameters: 4\n",
      "torch.Size([100])\n",
      "parameters: 5\n",
      "torch.Size([100, 100])\n",
      "parameters: 6\n",
      "torch.Size([100, 100])\n",
      "parameters: 7\n",
      "torch.Size([100])\n",
      "parameters: 8\n",
      "torch.Size([100])\n",
      "parameters: 9\n",
      "torch.Size([28, 100])\n",
      "parameters: 10\n",
      "torch.Size([28])\n"
     ]
    }
   ],
   "source": [
    "for i in range(length):\n",
    "    print(\"parameters: %d\" %(i+1))\n",
    "    print(list(model_rnn.parameters())[i].size())"
   ]
  },
  {
   "cell_type": "code",
   "execution_count": 27,
   "id": "347acaa9",
   "metadata": {},
   "outputs": [
    {
     "name": "stdout",
     "output_type": "stream",
     "text": [
      "Iter:10,loss:5.839676380157471,Accuracy:12.063953399658203\n",
      "Iter:20,loss:3.6519417762756348,Accuracy:20.203489303588867\n",
      "Iter:30,loss:2.760120153427124,Accuracy:21.6569766998291\n",
      "Iter:40,loss:2.37896990776062,Accuracy:21.511627197265625\n",
      "Iter:50,loss:3.231297731399536,Accuracy:23.98255729675293\n",
      "Iter:60,loss:3.250673532485962,Accuracy:24.563953399658203\n",
      "Iter:70,loss:2.629685401916504,Accuracy:27.03488540649414\n",
      "Iter:80,loss:2.665022850036621,Accuracy:26.453489303588867\n",
      "Iter:90,loss:2.7132298946380615,Accuracy:25.872093200683594\n",
      "Iter:100,loss:2.4813554286956787,Accuracy:29.360464096069336\n",
      "Iter:110,loss:2.3476316928863525,Accuracy:30.95930290222168\n",
      "Iter:120,loss:2.2845585346221924,Accuracy:29.360464096069336\n",
      "Iter:130,loss:2.618272066116333,Accuracy:33.430233001708984\n",
      "Iter:140,loss:3.065587282180786,Accuracy:34.156978607177734\n",
      "Iter:150,loss:2.5853817462921143,Accuracy:35.61046600341797\n",
      "Iter:160,loss:2.053638219833374,Accuracy:35.319766998291016\n",
      "Iter:170,loss:3.1067872047424316,Accuracy:34.30232620239258\n",
      "Iter:180,loss:2.084484100341797,Accuracy:34.73836898803711\n",
      "Iter:190,loss:2.7739949226379395,Accuracy:38.22674560546875\n",
      "Iter:200,loss:2.2741594314575195,Accuracy:37.645347595214844\n",
      "Iter:210,loss:2.692108392715454,Accuracy:35.901161193847656\n",
      "Iter:220,loss:1.610550045967102,Accuracy:39.53488540649414\n",
      "Iter:230,loss:2.57916259765625,Accuracy:41.569766998291016\n",
      "Iter:240,loss:2.54201602935791,Accuracy:44.91279220581055\n",
      "Iter:250,loss:2.198190927505493,Accuracy:42.44186019897461\n",
      "Iter:260,loss:1.4991716146469116,Accuracy:42.151161193847656\n",
      "Iter:270,loss:1.7276122570037842,Accuracy:46.80232620239258\n",
      "Iter:280,loss:1.5525343418121338,Accuracy:43.895347595214844\n",
      "Iter:290,loss:2.1316535472869873,Accuracy:46.22093200683594\n",
      "Iter:300,loss:2.1683452129364014,Accuracy:45.05813980102539\n",
      "Iter:310,loss:1.9843602180480957,Accuracy:44.47674560546875\n",
      "Iter:320,loss:2.5636322498321533,Accuracy:42.73255920410156\n",
      "Iter:330,loss:2.2773473262786865,Accuracy:45.63953399658203\n",
      "Iter:340,loss:1.61506986618042,Accuracy:46.94767379760742\n",
      "Iter:350,loss:2.095348596572876,Accuracy:43.3139533996582\n",
      "Iter:360,loss:2.168290138244629,Accuracy:44.91279220581055\n",
      "Iter:370,loss:1.7748417854309082,Accuracy:46.075584411621094\n",
      "Iter:380,loss:1.9027643203735352,Accuracy:44.622093200683594\n",
      "Iter:390,loss:2.432812452316284,Accuracy:45.05813980102539\n",
      "Iter:400,loss:1.0637104511260986,Accuracy:46.36627960205078\n",
      "Iter:410,loss:2.083404064178467,Accuracy:49.27325439453125\n",
      "Iter:420,loss:2.3465354442596436,Accuracy:47.38372039794922\n",
      "Iter:430,loss:1.6147912740707397,Accuracy:44.91279220581055\n"
     ]
    }
   ],
   "source": [
    "sequence_dim = 6\n",
    "loss_list = []\n",
    "accuracy_list = []\n",
    "iteration_list = [] \n",
    "# 24576 = 32*1*6*128\n",
    "iter =  0\n",
    "for epoch in range(EPOCHES):\n",
    "    for i, (images, labels) in enumerate(train_loader):\n",
    "        model_rnn.train()\n",
    "        # A batch of data with transfering the RNN input dimention \n",
    "        # 32*1*6*128\n",
    "        images = images.view(-1, sequence_dim, input_dim).requires_grad_()#.to(device)\n",
    "        labels = labels.to(torch.int64)\n",
    "        #labels = labels.to(device)\n",
    "        # gradient.zero\n",
    "        optimizer.zero_grad()\n",
    "        #forward pass\n",
    "        output = model_rnn(images)\n",
    "\n",
    "        \n",
    "        # print(output.size(), labels.size(), \"pass\")\n",
    "        # loss calc\n",
    "        loss_rnn = criterion(output, labels)\n",
    "        # backword\n",
    "        loss_rnn.backward()\n",
    "        # renew the parameter\n",
    "        optimizer.step()\n",
    "        \n",
    "        iter += 1\n",
    "        if iter % 10 == 0:\n",
    "            model_rnn.eval()\n",
    "            # accuracy\n",
    "            correct = 0\n",
    "            total = 0\n",
    "            for i, (images, labels) in enumerate(train_loader):\n",
    "                    images = images.view(-1, sequence_dim, input_dim)#.to(device)\n",
    "                    outputs = model_rnn(images)\n",
    "                    #print(outputs.size())\n",
    "                    \n",
    "                    predict = torch.max(outputs.data, 1)[1]\n",
    "                    total += labels.size(0)\n",
    "                    correct += (predict == labels).sum()\n",
    "            \n",
    "            accuracy = correct / total * 100\n",
    "            loss_list.append(loss_rnn.data)\n",
    "            accuracy_list.append(accuracy)\n",
    "            iteration_list.append(iter)\n",
    "            # print the info\n",
    "            print(\"Iter:{},loss:{},Accuracy:{}\".format(iter, loss_rnn.item(), accuracy))\n",
    "            \n",
    "            \n",
    "          \n",
    "                    \n",
    "        "
   ]
  },
  {
   "cell_type": "code",
   "execution_count": 28,
   "id": "65b7b241",
   "metadata": {},
   "outputs": [
    {
     "data": {
      "image/png": "[encoded data removed]",
      "text/plain": [
       "<Figure size 432x288 with 1 Axes>"
      ]
     },
     "metadata": {
      "needs_background": "light"
     },
     "output_type": "display_data"
    }
   ],
   "source": [
    "plt.plot(iteration_list,loss_list)\n",
    "plt.xlabel(\"Number of Iteration\")\n",
    "plt.ylabel(\"Loss\")\n",
    "plt.title(\"RNN\")\n",
    "plt.show()"
   ]
  },
  {
   "cell_type": "code",
   "execution_count": 29,
   "id": "47e5a84c",
   "metadata": {},
   "outputs": [
    {
     "data": {
      "image/png": "[encoded data removed]",
      "text/plain": [
       "<Figure size 432x288 with 1 Axes>"
      ]
     },
     "metadata": {
      "needs_background": "light"
     },
     "output_type": "display_data"
    }
   ],
   "source": [
    "plt.plot(iteration_list,accuracy_list, color = \"r\")\n",
    "plt.xlabel(\"Number of Iteration\")\n",
    "plt.ylabel(\"Accuracy\")\n",
    "plt.title(\"RNN\")\n",
    "plt.show()"
   ]
  },
  {
   "cell_type": "code",
   "execution_count": 30,
   "id": "b8a26f7e",
   "metadata": {},
   "outputs": [
    {
     "name": "stdout",
     "output_type": "stream",
     "text": [
      "Test Accuracy of the basic RNN model on the UTD test features: 29.479768753051758 %\n"
     ]
    }
   ],
   "source": [
    "labels = []\n",
    "predictions = []\n",
    "with torch.no_grad():\n",
    "    correct = 0\n",
    "    total = 0\n",
    "    for i, (images, labels) in enumerate(test_loader):\n",
    "        images = images.view(-1, sequence_dim, input_dim)#.to(device)\n",
    "        outputs = model_rnn(images)\n",
    "        #print(outputs.size())\n",
    "                    \n",
    "        predict = torch.max(outputs.data, 1)[1]\n",
    "        total += labels.size(0)\n",
    "        correct += (predict == labels).sum()\n",
    "\n",
    "    print('Test Accuracy of the basic RNN model on the UTD test features: {} %'.format((correct / total) * 100))"
   ]
  }
 ],
 "metadata": {
  "kernelspec": {
   "display_name": "Python 3 (ipykernel)",
   "language": "python",
   "name": "python3"
  },
  "language_info": {
   "codemirror_mode": {
    "name": "ipython",
    "version": 3
   },
   "file_extension": ".py",
   "mimetype": "text/x-python",
   "name": "python",
   "nbconvert_exporter": "python",
   "pygments_lexer": "ipython3",
   "version": "3.9.7"
  }
 },
 "nbformat": 4,
 "nbformat_minor": 5
}
