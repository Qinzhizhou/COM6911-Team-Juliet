{
 "cells": [
  {
   "cell_type": "code",
   "execution_count": 1,
   "id": "ee7c0c27",
   "metadata": {},
   "outputs": [],
   "source": [
    "%matplotlib inline\n",
    "import matplotlib.pyplot as plt\n",
    "import numpy as np\n",
    "import torch\n",
    "import torch.nn as nn\n",
    "import torch.nn.functional as F\n",
    "import torch.optim as optim\n",
    "import torchvision\n",
    "from torchvision import datasets, transforms\n",
    "from torch.utils.data import TensorDataset, DataLoader\n",
    "from sklearn import metrics\n",
    "import seaborn as sns"
   ]
  },
  {
   "cell_type": "code",
   "execution_count": 2,
   "id": "95f96995",
   "metadata": {},
   "outputs": [],
   "source": [
    "if torch.cuda.is_available():\n",
    "    torch.cuda.manual_seed_all(1)"
   ]
  },
  {
   "cell_type": "markdown",
   "id": "5c35fa37",
   "metadata": {},
   "source": [
    "## Load the dataset"
   ]
  },
  {
   "cell_type": "code",
   "execution_count": 3,
   "id": "6e83df40",
   "metadata": {},
   "outputs": [],
   "source": [
    "train_features = np.load('../Data/UTDMHAD_data/UTD_train_features.npy')\n",
    "test_features = np.load('../Data/UTDMHAD_data/UTD_test_features.npy')\n",
    "train_labels = np.load('../Data/UTDMHAD_data/UTD_train_labels.npy')\n",
    "test_labels = np.load('../Data/UTDMHAD_data/UTD_test_labels.npy')"
   ]
  },
  {
   "cell_type": "code",
   "execution_count": 4,
   "id": "c8d5a5cb",
   "metadata": {},
   "outputs": [
    {
     "data": {
      "text/plain": [
       "((688, 6, 128),)"
      ]
     },
     "execution_count": 4,
     "metadata": {},
     "output_type": "execute_result"
    }
   ],
   "source": [
    "train_features.shape,  # 688   6 * 128"
   ]
  },
  {
   "cell_type": "markdown",
   "id": "78c94e6d",
   "metadata": {},
   "source": [
    "#### Check the labels"
   ]
  },
  {
   "cell_type": "code",
   "execution_count": 5,
   "id": "32f986ae",
   "metadata": {},
   "outputs": [
    {
     "data": {
      "text/plain": [
       "array([ 7,  5, 11,  4, 12, 25, 25, 16,  1,  7, 15, 24,  7, 27, 16, 26, 18,\n",
       "       10, 26, 24, 17, 21, 11, 14,  3,  5, 14,  9, 14, 12, 22, 15, 17,  5,\n",
       "       14,  6, 17,  2, 15, 21, 17, 14, 14,  7, 19, 19, 27, 11, 25,  2,  7,\n",
       "       14, 20, 15, 10, 18, 10, 16, 18, 14, 10, 22, 16, 25,  3, 26,  6, 27,\n",
       "       13, 27,  5,  3, 23,  5,  2, 22,  3, 20, 26, 26, 16, 13,  8,  5,  6,\n",
       "        1, 15,  7, 12, 15, 12,  5,  6,  1, 18, 11,  3, 19, 10, 14],\n",
       "      dtype=int64)"
      ]
     },
     "execution_count": 5,
     "metadata": {},
     "output_type": "execute_result"
    }
   ],
   "source": [
    "train_labels[:100] # Label"
   ]
  },
  {
   "cell_type": "markdown",
   "id": "3de8875e",
   "metadata": {},
   "source": [
    "#### Building loader\n",
    "Images size = 6 * 128"
   ]
  },
  {
   "cell_type": "code",
   "execution_count": 6,
   "id": "dfefa7bd",
   "metadata": {},
   "outputs": [],
   "source": [
    "tensor_train_features = torch.Tensor(train_features) # torch.Size([688, 6, 128])\n",
    "tensor_train_labels = torch.Tensor(train_labels)\n",
    "tensor_test_features = torch.Tensor(test_features) # torch.Size([173, 6, 128])\n",
    "tensor_test_labels = torch.Tensor(test_labels)\n",
    "\n",
    "# Add one dimension of channel\n",
    "tensor_train_features = torch.unsqueeze(tensor_train_features, 1)# (torch.Size([688, 1, 6, 128]),)\n",
    "tensor_test_features = torch.unsqueeze(tensor_test_features, 1)\n",
    "train_dataset = TensorDataset(tensor_train_features, tensor_train_labels)\n",
    "test_dataset = TensorDataset(tensor_test_features, tensor_test_labels)"
   ]
  },
  {
   "cell_type": "code",
   "execution_count": 7,
   "id": "3e083c5f",
   "metadata": {},
   "outputs": [
    {
     "data": {
      "text/plain": [
       "(torch.Size([688, 1, 6, 128]),\n",
       " torch.Size([688]),\n",
       " <torch.utils.data.dataset.TensorDataset at 0x2772880a610>)"
      ]
     },
     "execution_count": 7,
     "metadata": {},
     "output_type": "execute_result"
    }
   ],
   "source": [
    "tensor_train_features.shape, tensor_train_labels.shape, train_dataset"
   ]
  },
  {
   "cell_type": "code",
   "execution_count": null,
   "id": "f49255b6",
   "metadata": {},
   "outputs": [],
   "source": []
  },
  {
   "cell_type": "code",
   "execution_count": 8,
   "id": "7907b010",
   "metadata": {},
   "outputs": [],
   "source": [
    "# Hyper parameter \n",
    "BATCH_SIZE = 16# 32 # \n",
    "EPOCHES = 10"
   ]
  },
  {
   "cell_type": "markdown",
   "id": "22b4a297",
   "metadata": {},
   "source": [
    "#### 创建数据集的可迭代对象 Iratable object with batch"
   ]
  },
  {
   "cell_type": "code",
   "execution_count": 9,
   "id": "8a12d57a",
   "metadata": {},
   "outputs": [],
   "source": [
    "train_loader = torch.utils.data.DataLoader(dataset = train_dataset, batch_size = BATCH_SIZE, shuffle=True)\n",
    "test_loader = torch.utils.data.DataLoader(dataset = test_dataset, batch_size = BATCH_SIZE, shuffle=True)"
   ]
  },
  {
   "cell_type": "code",
   "execution_count": 10,
   "id": "830cadaa",
   "metadata": {},
   "outputs": [
    {
     "data": {
      "text/plain": [
       "(43, 11)"
      ]
     },
     "execution_count": 10,
     "metadata": {},
     "output_type": "execute_result"
    }
   ],
   "source": [
    "len(train_loader), len(test_loader)"
   ]
  },
  {
   "cell_type": "code",
   "execution_count": 11,
   "id": "08e68531",
   "metadata": {},
   "outputs": [
    {
     "data": {
      "text/plain": [
       "(torch.Size([16, 1, 6, 128]), torch.Size([16]))"
      ]
     },
     "execution_count": 11,
     "metadata": {},
     "output_type": "execute_result"
    }
   ],
   "source": [
    "images,labels = next(iter(train_loader))\n",
    "images.shape, labels.shape"
   ]
  },
  {
   "cell_type": "code",
   "execution_count": 12,
   "id": "becd7efb",
   "metadata": {},
   "outputs": [],
   "source": [
    "def imshow(inp):\n",
    "    inp = inp.numpy().transpose((1,2,0))\n",
    "    mean = np.array([0.485, 0.456, 0.406])\n",
    "    std = np.array([0.229, 0.224, 0.225])\n",
    "    inp = std * inp + mean # Recovery the image\n",
    "    inp = np.clip(inp, 0, 1) # clip the pixel between 0 and 1\n",
    "    plt.imshow(inp)\n",
    "    #if titlle is not None:\n",
    "        #plt.title(title)\n",
    "   "
   ]
  },
  {
   "cell_type": "code",
   "execution_count": 13,
   "id": "764b8469",
   "metadata": {},
   "outputs": [
    {
     "data": {
      "image/png": "[encoded data removed]",
      "text/plain": [
       "<Figure size 432x288 with 1 Axes>"
      ]
     },
     "metadata": {
      "needs_background": "light"
     },
     "output_type": "display_data"
    }
   ],
   "source": [
    "out = torchvision.utils.make_grid(images)\n",
    "imshow(out)"
   ]
  },
  {
   "cell_type": "code",
   "execution_count": 14,
   "id": "d997ad5c",
   "metadata": {},
   "outputs": [],
   "source": [
    "# rnn\n",
    "# num_feature = 6\n",
    "# feature_width = 128\n",
    "class RNN_model(nn.Module):\n",
    "    def __init__(self, input_dim, hidden_dim, layer_dim, output_dim):\n",
    "        super(RNN_model, self).__init__()\n",
    "        self.hidden_dim = hidden_dim\n",
    "        self.layer_dim = layer_dim\n",
    "        #循环对象\n",
    "        self.rnn = nn.RNN(input_dim, hidden_dim, layer_dim, batch_first = True, nonlinearity = \"relu\")\n",
    "        \n",
    "        #FC_layer\n",
    "        self.fc = nn.Linear(hidden_dim, output_dim)\n",
    "        \n",
    "    def forward(self, x):\n",
    "        h0 = torch.zeros(self.layer_dim, x.size(0),self.hidden_dim).requires_grad_()#.to(device) \n",
    "        # X.SIZE = batch SIZE\n",
    "        \n",
    "        # 分离隐藏状态，避免梯度爆炸\n",
    "        out, hn = self.rnn(x, h0.detach())# detach 分离\n",
    "        out = self.fc(out[:, -1, :])# -1 the last layer state at time t\n",
    "            \n",
    "        return out\n",
    "        \n",
    "        \n",
    "    "
   ]
  },
  {
   "cell_type": "code",
   "execution_count": 15,
   "id": "a14071e0",
   "metadata": {},
   "outputs": [],
   "source": [
    "input_dim = 128 # input dimension\n",
    "hidden_dim = 10 # hidden layers number\n",
    "layer_dim = 2 \n",
    "output_dim = 27 + 1 # output dimension\n",
    "\n",
    "# initialize the model\n",
    "model = RNN_model(input_dim, hidden_dim, layer_dim, output_dim)\n",
    "# device = torch.device('cuda:0' if torch.cuda.is_available() else  'cpu')\n",
    "\n",
    "#model = model.to(device)"
   ]
  },
  {
   "cell_type": "code",
   "execution_count": 16,
   "id": "8e6774c1",
   "metadata": {},
   "outputs": [],
   "source": [
    "criterion = nn.CrossEntropyLoss()\n",
    "learning_rate = 0.001\n",
    "optimizer = torch.optim.SGD(model.parameters(), lr = learning_rate)"
   ]
  },
  {
   "cell_type": "code",
   "execution_count": 17,
   "id": "910f8ed0",
   "metadata": {},
   "outputs": [],
   "source": [
    "length = (len(list(model.parameters())))"
   ]
  },
  {
   "cell_type": "code",
   "execution_count": 18,
   "id": "1abd351e",
   "metadata": {},
   "outputs": [
    {
     "name": "stdout",
     "output_type": "stream",
     "text": [
      "parameters: 1\n",
      "torch.Size([10, 128])\n",
      "parameters: 2\n",
      "torch.Size([10, 10])\n",
      "parameters: 3\n",
      "torch.Size([10])\n",
      "parameters: 4\n",
      "torch.Size([10])\n",
      "parameters: 5\n",
      "torch.Size([10, 10])\n",
      "parameters: 6\n",
      "torch.Size([10, 10])\n",
      "parameters: 7\n",
      "torch.Size([10])\n",
      "parameters: 8\n",
      "torch.Size([10])\n",
      "parameters: 9\n",
      "torch.Size([28, 10])\n",
      "parameters: 10\n",
      "torch.Size([28])\n"
     ]
    }
   ],
   "source": [
    "for i in range(length):\n",
    "    print(\"parameters: %d\" %(i+1))\n",
    "    print(list(model.parameters())[i].size())"
   ]
  },
  {
   "cell_type": "code",
   "execution_count": 19,
   "id": "347acaa9",
   "metadata": {},
   "outputs": [
    {
     "name": "stdout",
     "output_type": "stream",
     "text": [
      "Iter:10,loss:46.14361572265625,Accuracy:3.468208074569702\n",
      "Iter:20,loss:3.78715181350708,Accuracy:4.624277114868164\n",
      "Iter:30,loss:6.101498603820801,Accuracy:3.468208074569702\n",
      "Iter:40,loss:3.3891761302948,Accuracy:6.358381271362305\n",
      "Iter:50,loss:3.3364927768707275,Accuracy:7.514450550079346\n",
      "Iter:60,loss:3.704113483428955,Accuracy:8.092485427856445\n",
      "Iter:70,loss:3.1655685901641846,Accuracy:7.514450550079346\n",
      "Iter:80,loss:3.4315762519836426,Accuracy:8.092485427856445\n",
      "Iter:90,loss:3.4108409881591797,Accuracy:7.514450550079346\n",
      "Iter:100,loss:3.218799114227295,Accuracy:8.092485427856445\n",
      "Iter:110,loss:3.3767549991607666,Accuracy:8.092485427856445\n",
      "Iter:120,loss:4.0996222496032715,Accuracy:8.092485427856445\n",
      "Iter:130,loss:2.9585061073303223,Accuracy:8.092485427856445\n",
      "Iter:140,loss:3.386049270629883,Accuracy:8.092485427856445\n",
      "Iter:150,loss:2.777103900909424,Accuracy:8.092485427856445\n",
      "Iter:160,loss:4.011355400085449,Accuracy:10.404623985290527\n",
      "Iter:170,loss:3.328993558883667,Accuracy:10.404623985290527\n",
      "Iter:180,loss:3.510075092315674,Accuracy:8.670519828796387\n",
      "Iter:190,loss:3.8388187885284424,Accuracy:8.092485427856445\n",
      "Iter:200,loss:3.1343166828155518,Accuracy:9.248554229736328\n",
      "Iter:210,loss:2.8881454467773438,Accuracy:9.826589584350586\n",
      "Iter:220,loss:3.1215925216674805,Accuracy:8.670519828796387\n",
      "Iter:230,loss:3.232694149017334,Accuracy:10.404623985290527\n",
      "Iter:240,loss:3.136059522628784,Accuracy:9.826589584350586\n",
      "Iter:250,loss:3.01957631111145,Accuracy:9.248554229736328\n",
      "Iter:260,loss:3.099168539047241,Accuracy:9.248554229736328\n",
      "Iter:270,loss:3.4306530952453613,Accuracy:9.248554229736328\n",
      "Iter:280,loss:3.178312301635742,Accuracy:8.670519828796387\n",
      "Iter:290,loss:2.6568031311035156,Accuracy:9.248554229736328\n",
      "Iter:300,loss:3.2354929447174072,Accuracy:9.826589584350586\n",
      "Iter:310,loss:3.1991779804229736,Accuracy:9.248554229736328\n",
      "Iter:320,loss:3.3544180393218994,Accuracy:9.248554229736328\n",
      "Iter:330,loss:3.2804453372955322,Accuracy:8.670519828796387\n",
      "Iter:340,loss:2.9598500728607178,Accuracy:9.826589584350586\n",
      "Iter:350,loss:3.0389323234558105,Accuracy:8.670519828796387\n",
      "Iter:360,loss:3.1109459400177,Accuracy:9.248554229736328\n",
      "Iter:370,loss:2.8246965408325195,Accuracy:9.826589584350586\n",
      "Iter:380,loss:3.2255992889404297,Accuracy:8.670519828796387\n",
      "Iter:390,loss:3.1740145683288574,Accuracy:8.670519828796387\n",
      "Iter:400,loss:3.0109996795654297,Accuracy:9.248554229736328\n",
      "Iter:410,loss:2.964545965194702,Accuracy:9.248554229736328\n",
      "Iter:420,loss:3.157011032104492,Accuracy:9.248554229736328\n",
      "Iter:430,loss:3.151930332183838,Accuracy:9.248554229736328\n"
     ]
    }
   ],
   "source": [
    "sequence_dim = 6\n",
    "loss_list = []\n",
    "accuracy_list = []\n",
    "iteration_list = [] \n",
    "# 24576 = 32*1*6*128\n",
    "iter =  0\n",
    "for epoch in range(EPOCHES):\n",
    "    for i, (images, labels) in enumerate(train_loader):\n",
    "        model.train()\n",
    "        # A batch of data with transfering the RNN input dimention \n",
    "        # 32*1*6*128\n",
    "        images = images.view(-1, sequence_dim, input_dim).requires_grad_()#.to(device)\n",
    "        labels = labels.to(torch.int64)\n",
    "        #labels = labels.to(device)\n",
    "        # gradient.zero\n",
    "        optimizer.zero_grad()\n",
    "        #forward pass\n",
    "        output = model(images)\n",
    "\n",
    "        \n",
    "        # print(output.size(), labels.size(), \"pass\")\n",
    "        # loss calc\n",
    "        loss = criterion(output, labels)\n",
    "        # backword\n",
    "        loss.backward()\n",
    "        # renew the parameter\n",
    "        optimizer.step()\n",
    "        \n",
    "        iter += 1\n",
    "        if iter % 10 == 0:\n",
    "            model.eval()\n",
    "            # accuracy\n",
    "            correct = 0\n",
    "            total = 0\n",
    "            for i, (images, labels) in enumerate(test_loader):\n",
    "                    images = images.view(-1, sequence_dim, input_dim)#.to(device)\n",
    "                    outputs = model(images)\n",
    "                    #print(outputs.size())\n",
    "                    \n",
    "                    predict = torch.max(outputs.data, 1)[1]\n",
    "                    total += labels.size(0)\n",
    "                    correct += (predict == labels).sum()\n",
    "            \n",
    "            accuracy = correct / total * 100\n",
    "            loss_list.append(loss.data)\n",
    "            accuracy_list.append(accuracy)\n",
    "            iteration_list.append(iter)\n",
    "            # print the info\n",
    "            print(\"Iter:{},loss:{},Accuracy:{}\".format(iter, loss.item(), accuracy))\n",
    "            \n",
    "            \n",
    "          \n",
    "                    \n",
    "        "
   ]
  },
  {
   "cell_type": "code",
   "execution_count": 20,
   "id": "65b7b241",
   "metadata": {},
   "outputs": [
    {
     "data": {
      "image/png": "[encoded data removed]",
      "text/plain": [
       "<Figure size 432x288 with 1 Axes>"
      ]
     },
     "metadata": {
      "needs_background": "light"
     },
     "output_type": "display_data"
    }
   ],
   "source": [
    "plt.plot(iteration_list,loss_list)\n",
    "plt.xlabel(\"Number of Iteration\")\n",
    "plt.ylabel(\"Loss\")\n",
    "plt.title(\"RNN\")\n",
    "plt.show()"
   ]
  },
  {
   "cell_type": "code",
   "execution_count": 21,
   "id": "47e5a84c",
   "metadata": {},
   "outputs": [
    {
     "data": {
      "image/png": "[encoded data removed]",
      "text/plain": [
       "<Figure size 432x288 with 1 Axes>"
      ]
     },
     "metadata": {
      "needs_background": "light"
     },
     "output_type": "display_data"
    }
   ],
   "source": [
    "plt.plot(iteration_list,accuracy_list, color = \"r\")\n",
    "plt.xlabel(\"Number of Iteration\")\n",
    "plt.ylabel(\"Accuracy\")\n",
    "plt.title(\"RNN\")\n",
    "plt.show()"
   ]
  },
  {
   "cell_type": "markdown",
   "id": "91b53b49",
   "metadata": {},
   "source": [
    "#### LSTM"
   ]
  },
  {
   "cell_type": "code",
   "execution_count": 22,
   "id": "733e0fcf",
   "metadata": {},
   "outputs": [],
   "source": [
    "class LSTM_model(nn.Module):\n",
    "    def __init__(self, input_dim, hidden_dim, layer_dim, output_dim):\n",
    "        super(LSTM_model, self).__init__()\n",
    "        self.hidden_dim = hidden_dim\n",
    "        self.layer_dim = layer_dim\n",
    "        self.lstm = nn.LSTM(input_dim, hidden_dim, layer_dim, batch_first = True)\n",
    "        #FC_layer\n",
    "        self.fc = nn.Linear(hidden_dim, output_dim)\n",
    "        \n",
    "    def forward(self, x):\n",
    "        h0 = torch.zeros(self.layer_dim, x.size(0),self.hidden_dim).requires_grad_()#.to(device) \n",
    "        c0 = torch.zeros(self.layer_dim, x.size(0),self.hidden_dim).requires_grad_()#.to(device) \n",
    "        # X.SIZE = batch SIZE\n",
    "        \n",
    "        # 分离隐藏状态，避免梯度爆炸\n",
    "        out, (hn,cn) = self.lstm(x,( h0.detach(),c0.detach()))# detach 分离\n",
    "        out = self.fc(out[:, -1, :])# -1 the last layer state at time t\n",
    "            \n",
    "        return out\n",
    "        \n",
    "        \n",
    "        "
   ]
  },
  {
   "cell_type": "code",
   "execution_count": 23,
   "id": "9ef58330",
   "metadata": {},
   "outputs": [],
   "source": [
    "input_dim = 128 # input dimension\n",
    "hidden_dim = 100 # hidden layers number\n",
    "layer_dim = 1 \n",
    "output_dim = 27 + 1 # output dimension\n",
    "\n",
    "# initialize the model\n",
    "model_lstm = LSTM_model(input_dim, hidden_dim, layer_dim, output_dim)\n",
    "# device = torch.device('cuda:0' if torch.cuda.is_available() else  'cpu')\n",
    "\n",
    "#model = model.to(device)"
   ]
  },
  {
   "cell_type": "code",
   "execution_count": 24,
   "id": "6ed70db8",
   "metadata": {},
   "outputs": [
    {
     "name": "stdout",
     "output_type": "stream",
     "text": [
      "parameters: 1\n",
      "torch.Size([400, 128])\n",
      "parameters: 2\n",
      "torch.Size([400, 100])\n",
      "parameters: 3\n",
      "torch.Size([400])\n",
      "parameters: 4\n",
      "torch.Size([400])\n",
      "parameters: 5\n",
      "torch.Size([28, 100])\n",
      "parameters: 6\n",
      "torch.Size([28])\n"
     ]
    }
   ],
   "source": [
    "for i in range(len(list(model_lstm.parameters()))):\n",
    "    print(\"parameters: %d\" %(i+1))\n",
    "    print(list(model_lstm.parameters())[i].size())"
   ]
  },
  {
   "cell_type": "code",
   "execution_count": 25,
   "id": "7ed463bb",
   "metadata": {},
   "outputs": [],
   "source": [
    "criterion = nn.CrossEntropyLoss()\n",
    "learning_rate = 0.1\n",
    "optimizer = torch.optim.SGD(model_lstm.parameters(), lr = learning_rate)"
   ]
  },
  {
   "cell_type": "code",
   "execution_count": 26,
   "id": "7352c5bd",
   "metadata": {},
   "outputs": [
    {
     "name": "stdout",
     "output_type": "stream",
     "text": [
      "Iter:10,loss:3.3037338256835938,Accuracy:11.560693740844727\n",
      "Iter:20,loss:3.062655210494995,Accuracy:13.872832298278809\n",
      "Iter:30,loss:3.108994483947754,Accuracy:17.91907501220703\n",
      "Iter:40,loss:3.191795587539673,Accuracy:22.543352127075195\n",
      "Iter:50,loss:2.840291738510132,Accuracy:24.277456283569336\n",
      "Iter:60,loss:3.1322944164276123,Accuracy:25.43352508544922\n",
      "Iter:70,loss:3.0121443271636963,Accuracy:27.16762924194336\n",
      "Iter:80,loss:2.6800312995910645,Accuracy:34.10404586791992\n",
      "Iter:90,loss:2.4140923023223877,Accuracy:30.057802200317383\n",
      "Iter:100,loss:2.5191824436187744,Accuracy:31.2138729095459\n",
      "Iter:110,loss:2.4537417888641357,Accuracy:28.901735305786133\n",
      "Iter:120,loss:2.759941816329956,Accuracy:32.947975158691406\n",
      "Iter:130,loss:2.2858564853668213,Accuracy:29.479768753051758\n",
      "Iter:140,loss:1.9366397857666016,Accuracy:32.947975158691406\n",
      "Iter:150,loss:2.412245750427246,Accuracy:36.41618347167969\n",
      "Iter:160,loss:2.248812675476074,Accuracy:37.5722541809082\n",
      "Iter:170,loss:2.187612295150757,Accuracy:38.72832489013672\n",
      "Iter:180,loss:2.226372480392456,Accuracy:45.66474151611328\n",
      "Iter:190,loss:2.1061646938323975,Accuracy:41.61849594116211\n",
      "Iter:200,loss:1.832507610321045,Accuracy:45.08670425415039\n",
      "Iter:210,loss:2.2569782733917236,Accuracy:38.150291442871094\n",
      "Iter:220,loss:2.0764548778533936,Accuracy:40.46242904663086\n",
      "Iter:230,loss:1.939950704574585,Accuracy:47.39884567260742\n",
      "Iter:240,loss:2.270136833190918,Accuracy:42.774566650390625\n",
      "Iter:250,loss:1.9252790212631226,Accuracy:36.99421691894531\n",
      "Iter:260,loss:2.336913585662842,Accuracy:38.72832489013672\n",
      "Iter:270,loss:2.122840404510498,Accuracy:45.08670425415039\n",
      "Iter:280,loss:1.8814918994903564,Accuracy:45.08670425415039\n",
      "Iter:290,loss:1.813396692276001,Accuracy:45.66474151611328\n",
      "Iter:300,loss:2.253502607345581,Accuracy:40.46242904663086\n",
      "Iter:310,loss:1.7166988849639893,Accuracy:44.508670806884766\n",
      "Iter:320,loss:2.2604470252990723,Accuracy:43.35260009765625\n",
      "Iter:330,loss:1.7644062042236328,Accuracy:42.774566650390625\n",
      "Iter:340,loss:1.8090088367462158,Accuracy:43.930633544921875\n",
      "Iter:350,loss:1.8126256465911865,Accuracy:40.46242904663086\n",
      "Iter:360,loss:1.833262324333191,Accuracy:42.196533203125\n",
      "Iter:370,loss:2.0405871868133545,Accuracy:44.508670806884766\n",
      "Iter:380,loss:1.7200689315795898,Accuracy:49.13294982910156\n",
      "Iter:390,loss:1.63988196849823,Accuracy:49.13294982910156\n",
      "Iter:400,loss:1.7043861150741577,Accuracy:47.97687911987305\n",
      "Iter:410,loss:1.6955292224884033,Accuracy:47.39884567260742\n",
      "Iter:420,loss:1.8592519760131836,Accuracy:44.508670806884766\n",
      "Iter:430,loss:1.5410650968551636,Accuracy:43.35260009765625\n"
     ]
    }
   ],
   "source": [
    "sequence_dim = 6\n",
    "lost_list_LSTM = []\n",
    "accuracy_list = []\n",
    "iteration_list = [] \n",
    "iter = 0\n",
    "\n",
    "for epoch in range(EPOCHES):\n",
    "    for i, (images, labels) in enumerate(train_loader):\n",
    "        model.train()\n",
    "        # 32*1*6*128\n",
    "        images = images.view(-1, sequence_dim, input_dim).requires_grad_()#.to(device)\n",
    "        labels = labels.to(torch.int64)\n",
    "        #labels = labels.to(device)\n",
    "        # gradient.zero\n",
    "        optimizer.zero_grad()\n",
    "        #forward pass\n",
    "        \n",
    "        outputs = model_lstm(images)\n",
    "        # print(output.size(), labels.size(), \"pass\")\n",
    "        # loss calc\n",
    "        loss_lstm = criterion(outputs, labels)\n",
    "        # backword\n",
    "        loss_lstm.backward()\n",
    "        # renew the parameter\n",
    "        optimizer.step()\n",
    "        \n",
    "        iter += 1\n",
    "        if iter % 10 == 0:\n",
    "            model.eval()\n",
    "            # accuracy\n",
    "            correct = 0\n",
    "            total = 0\n",
    "            for i, (images, labels) in enumerate(test_loader):\n",
    "                    images = images.view(-1, sequence_dim, input_dim)#.to(device)\n",
    "                    outputs = model_lstm(images)\n",
    "                    #print(outputs.size())\n",
    "                    \n",
    "                    predict = torch.max(outputs.data, 1)[1]\n",
    "                    total += labels.size(0)\n",
    "                    correct += (predict == labels).sum()\n",
    "            \n",
    "            accuracy = correct / total * 100\n",
    "            lost_list_LSTM.append(loss_lstm.data)\n",
    "            accuracy_list.append(accuracy)\n",
    "            iteration_list.append(iter)\n",
    "            # print the info\n",
    "            print(\"Iter:{},loss:{},Accuracy:{}\".format(iter, loss_lstm.item(), accuracy))\n",
    "            \n",
    "            \n"
   ]
  },
  {
   "cell_type": "code",
   "execution_count": 27,
   "id": "551a95e2",
   "metadata": {},
   "outputs": [
    {
     "data": {
      "image/png": "[encoded data removed]",
      "text/plain": [
       "<Figure size 432x288 with 1 Axes>"
      ]
     },
     "metadata": {
      "needs_background": "light"
     },
     "output_type": "display_data"
    }
   ],
   "source": [
    "plt.plot(iteration_list,lost_list_LSTM)\n",
    "plt.xlabel(\"Number of Iteration\")\n",
    "plt.ylabel(\"Loss\")\n",
    "plt.title(\"LSTM\")\n",
    "plt.show()"
   ]
  },
  {
   "cell_type": "code",
   "execution_count": 28,
   "id": "f15958ef",
   "metadata": {},
   "outputs": [
    {
     "data": {
      "image/png": "[encoded data removed]",
      "text/plain": [
       "<Figure size 432x288 with 1 Axes>"
      ]
     },
     "metadata": {
      "needs_background": "light"
     },
     "output_type": "display_data"
    }
   ],
   "source": [
    "plt.plot(iteration_list,accuracy_list, color = \"r\")\n",
    "plt.xlabel(\"Number of Iteration\")\n",
    "plt.ylabel(\"Accuracy\")\n",
    "plt.title(\"LSTM\")\n",
    "plt.show()"
   ]
  }
 ],
 "metadata": {
  "kernelspec": {
   "display_name": "Python 3 (ipykernel)",
   "language": "python",
   "name": "python3"
  },
  "language_info": {
   "codemirror_mode": {
    "name": "ipython",
    "version": 3
   },
   "file_extension": ".py",
   "mimetype": "text/x-python",
   "name": "python",
   "nbconvert_exporter": "python",
   "pygments_lexer": "ipython3",
   "version": "3.9.7"
  }
 },
 "nbformat": 4,
 "nbformat_minor": 5
}
