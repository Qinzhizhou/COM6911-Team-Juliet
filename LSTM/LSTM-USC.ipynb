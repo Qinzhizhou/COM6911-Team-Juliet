{
 "cells": [
  {
   "cell_type": "code",
   "execution_count": 1,
   "metadata": {
    "id": "RLc5jd6wOgXo"
   },
   "outputs": [],
   "source": [
    "import numpy as np\n",
    "import pandas as pd\n",
    "import re\n",
    "import matplotlib.pyplot as plt\n",
    "from collections import Counter\n",
    "from sklearn.model_selection import train_test_split\n",
    "\n",
    "from tqdm import tqdm\n",
    "import numpy as np\n",
    "import torch\n",
    "import torchvision\n",
    "import torch.nn as nn\n",
    "import torch.nn.functional as F\n",
    "from torch.autograd import Variable\n",
    "from torch.utils.data import TensorDataset\n",
    "import torch.optim as optim\n",
    "import torch.utils.data as data\n",
    "from torchvision import datasets\n",
    "import torchvision.transforms as transforms\n",
    "\n",
    "device = torch.device(\"cuda\" if torch.cuda.is_available() else \"cpu\") # use gpu"
   ]
  },
  {
   "cell_type": "code",
   "execution_count": 2,
   "metadata": {
    "id": "lWJtcBhZPI-d"
   },
   "outputs": [],
   "source": [
    "# loading data\n",
    "usc_raw_data = pd.read_csv('../Data/USC_HAD_raw.csv')"
   ]
  },
  {
   "cell_type": "code",
   "execution_count": 3,
   "metadata": {
    "id": "JgLIOSDNeDvP"
   },
   "outputs": [],
   "source": [
    "# only features and label.\n",
    "usc_unprocessed = usc_raw_data[['acc_x','acc_y','acc_z','gyro_x','gyro_y','gyro_z','label']]"
   ]
  },
  {
   "cell_type": "code",
   "execution_count": 4,
   "metadata": {
    "colab": {
     "base_uri": "https://localhost:8080/",
     "height": 206
    },
    "id": "SjrOukIQtDdt",
    "outputId": "aa6674d8-0f21-4f46-8597-25b46a758e3e"
   },
   "outputs": [
    {
     "data": {
      "text/html": [
       "<div>\n",
       "<style scoped>\n",
       "    .dataframe tbody tr th:only-of-type {\n",
       "        vertical-align: middle;\n",
       "    }\n",
       "\n",
       "    .dataframe tbody tr th {\n",
       "        vertical-align: top;\n",
       "    }\n",
       "\n",
       "    .dataframe thead th {\n",
       "        text-align: right;\n",
       "    }\n",
       "</style>\n",
       "<table border=\"1\" class=\"dataframe\">\n",
       "  <thead>\n",
       "    <tr style=\"text-align: right;\">\n",
       "      <th></th>\n",
       "      <th>acc_x</th>\n",
       "      <th>acc_y</th>\n",
       "      <th>acc_z</th>\n",
       "      <th>gyro_x</th>\n",
       "      <th>gyro_y</th>\n",
       "      <th>gyro_z</th>\n",
       "      <th>label</th>\n",
       "    </tr>\n",
       "  </thead>\n",
       "  <tbody>\n",
       "    <tr>\n",
       "      <th>0</th>\n",
       "      <td>0.925848</td>\n",
       "      <td>0.331869</td>\n",
       "      <td>-0.27382</td>\n",
       "      <td>-4.849138</td>\n",
       "      <td>1.836862</td>\n",
       "      <td>-0.599354</td>\n",
       "      <td>7</td>\n",
       "    </tr>\n",
       "    <tr>\n",
       "      <th>1</th>\n",
       "      <td>0.922414</td>\n",
       "      <td>0.331869</td>\n",
       "      <td>-0.27382</td>\n",
       "      <td>-3.237809</td>\n",
       "      <td>1.829803</td>\n",
       "      <td>-1.399718</td>\n",
       "      <td>7</td>\n",
       "    </tr>\n",
       "    <tr>\n",
       "      <th>2</th>\n",
       "      <td>0.922414</td>\n",
       "      <td>0.331869</td>\n",
       "      <td>-0.27382</td>\n",
       "      <td>-1.626481</td>\n",
       "      <td>1.020218</td>\n",
       "      <td>-2.197093</td>\n",
       "      <td>7</td>\n",
       "    </tr>\n",
       "    <tr>\n",
       "      <th>3</th>\n",
       "      <td>0.918980</td>\n",
       "      <td>0.328250</td>\n",
       "      <td>-0.27382</td>\n",
       "      <td>0.387679</td>\n",
       "      <td>1.016325</td>\n",
       "      <td>-2.590186</td>\n",
       "      <td>7</td>\n",
       "    </tr>\n",
       "    <tr>\n",
       "      <th>4</th>\n",
       "      <td>0.915547</td>\n",
       "      <td>0.339107</td>\n",
       "      <td>-0.27382</td>\n",
       "      <td>2.401839</td>\n",
       "      <td>1.413761</td>\n",
       "      <td>-2.981848</td>\n",
       "      <td>7</td>\n",
       "    </tr>\n",
       "  </tbody>\n",
       "</table>\n",
       "</div>"
      ],
      "text/plain": [
       "      acc_x     acc_y    acc_z    gyro_x    gyro_y    gyro_z  label\n",
       "0  0.925848  0.331869 -0.27382 -4.849138  1.836862 -0.599354      7\n",
       "1  0.922414  0.331869 -0.27382 -3.237809  1.829803 -1.399718      7\n",
       "2  0.922414  0.331869 -0.27382 -1.626481  1.020218 -2.197093      7\n",
       "3  0.918980  0.328250 -0.27382  0.387679  1.016325 -2.590186      7\n",
       "4  0.915547  0.339107 -0.27382  2.401839  1.413761 -2.981848      7"
      ]
     },
     "execution_count": 4,
     "metadata": {},
     "output_type": "execute_result"
    }
   ],
   "source": [
    "usc_unprocessed.head(5)"
   ]
  },
  {
   "cell_type": "code",
   "execution_count": 5,
   "metadata": {
    "id": "9XLG4Gn-tKpf"
   },
   "outputs": [],
   "source": [
    "# window_size: size of time window\n",
    "# step: overlapping\n",
    "# data: dataset\n",
    "def time_windows(window_size,overlapping,data):\n",
    "  sigmentation_data_temp = []\n",
    "  sigmentation_data = []\n",
    "  sigmentation_label = []\n",
    "  for i in range(0,len(data),overlapping):\n",
    "    acc_x = data['acc_x'].values[i:i+window_size]\n",
    "    acc_y = data['acc_y'].values[i:i+window_size]\n",
    "    acc_z = data['acc_z'].values[i:i+window_size]\n",
    "    gyro_x = data['gyro_x'].values[i:i+window_size]\n",
    "    gyro_y = data['gyro_y'].values[i:i+window_size]\n",
    "    gyro_z = data['gyro_z'].values[i:i+window_size]\n",
    "    total_label = data['label'].values[i:i+window_size]\n",
    "    label = Counter(total_label).most_common()[0][0]\n",
    "    sigmentation_data_temp.append([acc_x,acc_y,acc_z,gyro_x,gyro_y,gyro_z])\n",
    "    sigmentation_arr = np.asarray(sigmentation_data_temp)\n",
    "    sig_size = sigmentation_arr.shape\n",
    "    if sig_size[2] == window_size:\n",
    "      sigmentation_arr.reshape(window_size,6)\n",
    "      sigmentation_data.append(sigmentation_arr)\n",
    "      sigmentation_label.append(label)\n",
    "      sigmentation_data_temp = []\n",
    "    else:\n",
    "      sigmentation_data_temp = []\n",
    "\n",
    "  sigmentation_data_arr = np.asarray(sigmentation_data)\n",
    "  sigmentation_label_arr = np.asarray(sigmentation_label)\n",
    "\n",
    "  return sigmentation_data_arr,sigmentation_label_arr\n"
   ]
  },
  {
   "cell_type": "code",
   "execution_count": 6,
   "metadata": {
    "id": "zN-E84m783wt"
   },
   "outputs": [],
   "source": [
    "# here use semi-non-overlapping\n",
    "# signal segmentation and relevant labels\n",
    "uci_readings,uci_labels = time_windows(128,64,usc_unprocessed)"
   ]
  },
  {
   "cell_type": "code",
   "execution_count": 7,
   "metadata": {
    "id": "Q3bxbiAELH1G"
   },
   "outputs": [],
   "source": [
    "# in the model, requires 0-n label so make labels from 1-12 into 0-11\n",
    "uci_labels = uci_labels-1"
   ]
  },
  {
   "cell_type": "code",
   "execution_count": 8,
   "metadata": {
    "colab": {
     "base_uri": "https://localhost:8080/"
    },
    "id": "82KEQT9kJr56",
    "outputId": "76ee0896-deea-4999-d0b4-efd6eb5fdf8e"
   },
   "outputs": [
    {
     "name": "stdout",
     "output_type": "stream",
     "text": [
      "Shape of data:\n",
      "(43894, 1, 6, 128)\n",
      "#######################\n",
      "Shape of labels: \n",
      "(43894,)\n"
     ]
    }
   ],
   "source": [
    "print('Shape of data:')\n",
    "print(uci_readings.shape)\n",
    "print('#######################')\n",
    "print('Shape of labels: ')\n",
    "print(uci_labels.shape)"
   ]
  },
  {
   "cell_type": "code",
   "execution_count": 9,
   "metadata": {
    "id": "bZE8XWM6KXPf"
   },
   "outputs": [],
   "source": [
    "# use train_test_split to generate train,val and test data\n",
    "x_train,x_val_test,y_train,y_val_test = train_test_split(uci_readings,uci_labels,test_size = 0.3)\n",
    "x_val,x_test,y_val,y_test = train_test_split(x_val_test,y_val_test,test_size = 0.3 )"
   ]
  },
  {
   "cell_type": "code",
   "execution_count": 10,
   "metadata": {
    "id": "QT92qKzqRf6u"
   },
   "outputs": [],
   "source": [
    "# use torch.TensorDataset to make dataset\n",
    "train_dataset = TensorDataset(torch.from_numpy(x_train).to(torch.float32),torch.from_numpy(y_train).to(torch.float32))\n",
    "val_dataset = TensorDataset(torch.from_numpy(x_val).to(torch.float32),torch.from_numpy(y_val).to(torch.float32))\n",
    "test_dataset = TensorDataset(torch.from_numpy(x_test).to(torch.float32),torch.from_numpy(y_test).to(torch.float32))"
   ]
  },
  {
   "cell_type": "code",
   "execution_count": 11,
   "metadata": {
    "id": "pX7NAsa2UJtJ"
   },
   "outputs": [],
   "source": [
    "# DataLoader generation\n",
    "train_loader = data.DataLoader(dataset = train_dataset,batch_size = 64,shuffle = True)\n",
    "val_loader = data.DataLoader(dataset = val_dataset,batch_size = 64,shuffle = True)\n",
    "test_loader = data.DataLoader(dataset = test_dataset,batch_size = 64,shuffle = False)"
   ]
  },
  {
   "cell_type": "code",
   "execution_count": 12,
   "metadata": {},
   "outputs": [
    {
     "data": {
      "text/plain": [
       "(torch.Size([64, 1, 6, 128]), torch.Size([64]))"
      ]
     },
     "execution_count": 12,
     "metadata": {},
     "output_type": "execute_result"
    }
   ],
   "source": [
    "images,labels = next(iter(train_loader))\n",
    "images.shape, labels.shape"
   ]
  },
  {
   "cell_type": "code",
   "execution_count": 13,
   "metadata": {},
   "outputs": [],
   "source": [
    "# Hyper parameter \n",
    "BATCH_SIZE = 64# 32 # \n",
    "EPOCHES = 10"
   ]
  },
  {
   "cell_type": "code",
   "execution_count": 14,
   "metadata": {},
   "outputs": [],
   "source": [
    "def imshow(inp):\n",
    "    inp = inp.numpy().transpose((1,2,0))\n",
    "    mean = np.array([0.485, 0.456, 0.406])\n",
    "    std = np.array([0.229, 0.224, 0.225])\n",
    "    inp = std * inp + mean # Recovery the image\n",
    "    inp = np.clip(inp, 0, 1) # clip the pixel between 0 and 1\n",
    "    plt.imshow(inp)\n",
    "    #if titlle is not None:\n",
    "        #plt.title(title)\n",
    "   "
   ]
  },
  {
   "cell_type": "code",
   "execution_count": 15,
   "metadata": {},
   "outputs": [
    {
     "data": {
      "image/png": "[encoded data removed]",
      "text/plain": [
       "<Figure size 432x288 with 1 Axes>"
      ]
     },
     "metadata": {
      "needs_background": "light"
     },
     "output_type": "display_data"
    }
   ],
   "source": [
    "out = torchvision.utils.make_grid(images)\n",
    "imshow(out)"
   ]
  },
  {
   "cell_type": "markdown",
   "metadata": {},
   "source": [
    "### LSTM Model"
   ]
  },
  {
   "cell_type": "code",
   "execution_count": 16,
   "metadata": {},
   "outputs": [],
   "source": [
    "class LSTM_model(nn.Module):\n",
    "    def __init__(self, input_dim, hidden_dim, layer_dim, output_dim):\n",
    "        super(LSTM_model, self).__init__()\n",
    "        self.hidden_dim = hidden_dim\n",
    "        self.layer_dim = layer_dim\n",
    "        self.lstm = nn.LSTM(input_dim, hidden_dim, layer_dim, batch_first = True)\n",
    "        #FC_layer\n",
    "        self.fc = nn.Linear(hidden_dim, output_dim)\n",
    "        \n",
    "    def forward(self, x):\n",
    "        h0 = torch.zeros(self.layer_dim, x.size(0),self.hidden_dim).requires_grad_()#.to(device) \n",
    "        c0 = torch.zeros(self.layer_dim, x.size(0),self.hidden_dim).requires_grad_()#.to(device) \n",
    "        # X.SIZE = batch SIZE\n",
    "        \n",
    "        # detach the hidden state to prevent exploding gradient\n",
    "        out, (hn,cn) = self.lstm(x,( h0.detach(),c0.detach()))# detach \n",
    "        out = self.fc(out[:, -1, :])# -1 the last layer state at time t     \n",
    "        return out"
   ]
  },
  {
   "cell_type": "code",
   "execution_count": 17,
   "metadata": {},
   "outputs": [],
   "source": [
    "input_dim = 128 # input dimension\n",
    "hidden_dim = 500 # hidden layers number\n",
    "layer_dim = 1 \n",
    "output_dim = 27 + 1 # output dimension\n",
    "\n",
    "# initialize the model\n",
    "model_lstm = LSTM_model(input_dim, hidden_dim, layer_dim, output_dim)\n",
    "# device = torch.device('cuda:0' if torch.cuda.is_available() else  'cpu')\n",
    "\n",
    "#model = model.to(device)"
   ]
  },
  {
   "cell_type": "code",
   "execution_count": 18,
   "metadata": {},
   "outputs": [
    {
     "name": "stdout",
     "output_type": "stream",
     "text": [
      "parameters: 1\n",
      "torch.Size([2000, 128])\n",
      "parameters: 2\n",
      "torch.Size([2000, 500])\n",
      "parameters: 3\n",
      "torch.Size([2000])\n",
      "parameters: 4\n",
      "torch.Size([2000])\n",
      "parameters: 5\n",
      "torch.Size([28, 500])\n",
      "parameters: 6\n",
      "torch.Size([28])\n"
     ]
    }
   ],
   "source": [
    "for i in range(len(list(model_lstm.parameters()))):\n",
    "    print(\"parameters: %d\" %(i+1))\n",
    "    print(list(model_lstm.parameters())[i].size())"
   ]
  },
  {
   "cell_type": "code",
   "execution_count": 19,
   "metadata": {},
   "outputs": [],
   "source": [
    "criterion = nn.CrossEntropyLoss()\n",
    "learning_rate = 0.1\n",
    "optimizer = torch.optim.SGD(model_lstm.parameters(), lr = learning_rate)"
   ]
  },
  {
   "cell_type": "code",
   "execution_count": 20,
   "metadata": {},
   "outputs": [
    {
     "name": "stdout",
     "output_type": "stream",
     "text": [
      "Iter:200,loss:1.4717350006103516,Accuracy:54.46053695678711\n",
      "Iter:400,loss:1.1814340353012085,Accuracy:63.228641510009766\n",
      "Iter:600,loss:1.0276466608047485,Accuracy:68.6183853149414\n",
      "Iter:800,loss:0.8800680637359619,Accuracy:74.56143188476562\n",
      "Iter:1000,loss:0.7315034866333008,Accuracy:77.82261657714844\n",
      "Iter:1200,loss:0.6605092287063599,Accuracy:79.64198303222656\n",
      "Iter:1400,loss:0.8293811678886414,Accuracy:80.22782897949219\n",
      "Iter:1600,loss:0.670789361000061,Accuracy:81.95932006835938\n",
      "Iter:1800,loss:0.6324517130851746,Accuracy:82.85760498046875\n",
      "Iter:2000,loss:0.48507288098335266,Accuracy:82.71115112304688\n",
      "Iter:2200,loss:0.5327037572860718,Accuracy:82.94548034667969\n",
      "Iter:2400,loss:0.45215877890586853,Accuracy:84.491455078125\n",
      "Iter:2600,loss:0.45593157410621643,Accuracy:84.64442443847656\n",
      "Iter:2800,loss:0.5312902331352234,Accuracy:85.44181823730469\n",
      "Iter:3000,loss:0.4053416848182678,Accuracy:86.25223541259766\n",
      "Iter:3200,loss:0.5556986331939697,Accuracy:86.26850891113281\n",
      "Iter:3400,loss:0.3906155824661255,Accuracy:86.47355651855469\n",
      "Iter:3600,loss:0.3367781937122345,Accuracy:87.03336334228516\n",
      "Iter:3800,loss:0.5056429505348206,Accuracy:87.95442962646484\n",
      "Iter:4000,loss:0.3146512508392334,Accuracy:88.25386810302734\n",
      "Iter:4200,loss:0.5185608267784119,Accuracy:88.90480041503906\n",
      "Iter:4400,loss:0.3369077742099762,Accuracy:88.88201904296875\n",
      "Iter:4600,loss:0.292745441198349,Accuracy:88.66395568847656\n",
      "Iter:4800,loss:0.3800096809864044,Accuracy:89.58502960205078\n"
     ]
    }
   ],
   "source": [
    "sequence_dim = 6\n",
    "lost_list_LSTM = []\n",
    "accuracy_list = []\n",
    "iteration_list = [] \n",
    "iter = 0\n",
    "\n",
    "for epoch in range(EPOCHES):\n",
    "    for i, (images, labels) in enumerate(train_loader):\n",
    "        model_lstm.train()\n",
    "        # 32*1*6*128\n",
    "        images = images.view(-1, sequence_dim, input_dim).requires_grad_()#.to(device)\n",
    "        labels = labels.to(torch.int64)\n",
    "        #labels = labels.to(device)\n",
    "        # gradient.zero\n",
    "        optimizer.zero_grad()\n",
    "        #forward pass\n",
    "        \n",
    "        outputs = model_lstm(images)\n",
    "        # print(output.size(), labels.size(), \"pass\")\n",
    "        # loss calc\n",
    "        loss_lstm = criterion(outputs, labels)\n",
    "        # backword\n",
    "        loss_lstm.backward()\n",
    "        # renew the parameter\n",
    "        optimizer.step()\n",
    "        \n",
    "        iter += 1\n",
    "        if iter % 200 == 0:\n",
    "            model_lstm.eval()\n",
    "            # accuracy\n",
    "            correct = 0\n",
    "            total = 0\n",
    "            for i, (images, labels) in enumerate(train_loader):\n",
    "                    images = images.view(-1, sequence_dim, input_dim)#.to(device)\n",
    "                    outputs = model_lstm(images)\n",
    "                    #print(outputs.size())\n",
    "                    \n",
    "                    predict = torch.max(outputs.data, 1)[1]\n",
    "                    total += labels.size(0)\n",
    "                    correct += (predict == labels).sum()\n",
    "            \n",
    "            accuracy = correct / total * 100\n",
    "            lost_list_LSTM.append(loss_lstm.data)\n",
    "            accuracy_list.append(accuracy)\n",
    "            iteration_list.append(iter)\n",
    "            # print the info\n",
    "            print(\"Iter:{},loss:{},Accuracy:{}\".format(iter, loss_lstm.item(), accuracy))\n",
    "            "
   ]
  },
  {
   "cell_type": "code",
   "execution_count": 21,
   "metadata": {},
   "outputs": [
    {
     "data": {
      "image/png": "[encoded data removed]",
      "text/plain": [
       "<Figure size 432x288 with 1 Axes>"
      ]
     },
     "metadata": {
      "needs_background": "light"
     },
     "output_type": "display_data"
    }
   ],
   "source": [
    "plt.plot(iteration_list,lost_list_LSTM)\n",
    "plt.xlabel(\"Number of Iteration\")\n",
    "plt.ylabel(\"Loss\")\n",
    "plt.title(\"LSTM loss on USC\")\n",
    "plt.show()"
   ]
  },
  {
   "cell_type": "code",
   "execution_count": 22,
   "metadata": {},
   "outputs": [
    {
     "data": {
      "image/png": "[encoded data removed]",
      "text/plain": [
       "<Figure size 432x288 with 1 Axes>"
      ]
     },
     "metadata": {
      "needs_background": "light"
     },
     "output_type": "display_data"
    }
   ],
   "source": [
    "plt.plot(iteration_list,accuracy_list, color = \"r\")\n",
    "plt.xlabel(\"Number of Iteration\")\n",
    "plt.ylabel(\"Accuracy\")\n",
    "plt.title(\"LSTM accuracy on USC\")\n",
    "plt.show()"
   ]
  },
  {
   "cell_type": "code",
   "execution_count": 23,
   "metadata": {},
   "outputs": [
    {
     "name": "stdout",
     "output_type": "stream",
     "text": [
      "Test Accuracy of the basic LSTM model on the USC test features: 76.1579360961914 %\n"
     ]
    }
   ],
   "source": [
    "labels = []\n",
    "predictions = []\n",
    "with torch.no_grad():\n",
    "    correct = 0\n",
    "    total = 0\n",
    "    for i, (images, labels) in enumerate(test_loader):\n",
    "        images = images.view(-1, sequence_dim, input_dim)#.to(device)\n",
    "        outputs = model_lstm(images)\n",
    "        #print(outputs.size())\n",
    "                    \n",
    "        predict = torch.max(outputs.data, 1)[1]\n",
    "        total += labels.size(0)\n",
    "        correct += (predict == labels).sum()\n",
    "    \n",
    "    print('Test Accuracy of the basic LSTM model on the USC test features: {} %'.format((correct / total) * 100))"
   ]
  },
  {
   "cell_type": "markdown",
   "metadata": {},
   "source": [
    "### RNN try"
   ]
  },
  {
   "cell_type": "code",
   "execution_count": 24,
   "metadata": {},
   "outputs": [],
   "source": [
    "# rnn\n",
    "# num_feature = 6\n",
    "# feature_width = 128\n",
    "class RNN_model(nn.Module):\n",
    "    def __init__(self, input_dim, hidden_dim, layer_dim, output_dim):\n",
    "        super(RNN_model, self).__init__()\n",
    "        self.hidden_dim = hidden_dim\n",
    "        self.layer_dim = layer_dim\n",
    "        #循环对象\n",
    "        self.rnn = nn.RNN(input_dim, hidden_dim, layer_dim, batch_first = True, nonlinearity = \"relu\")\n",
    "        \n",
    "        #FC_layer\n",
    "        self.fc = nn.Linear(hidden_dim, output_dim)\n",
    "        \n",
    "    def forward(self, x):\n",
    "        h0 = torch.zeros(self.layer_dim, x.size(0),self.hidden_dim).requires_grad_()#.to(device) \n",
    "        # X.SIZE = batch SIZE\n",
    "        \n",
    "        # 分离隐藏状态，避免梯度爆炸\n",
    "        out, hn = self.rnn(x, h0.detach())# detach 分离\n",
    "        out = self.fc(out[:, -1, :])# -1 the last layer state at time t\n",
    "            \n",
    "        return out\n",
    "        "
   ]
  },
  {
   "cell_type": "code",
   "execution_count": 31,
   "metadata": {},
   "outputs": [],
   "source": [
    "input_dim = 128 # input dimension\n",
    "hidden_dim = 100 # hidden layers number\n",
    "layer_dim = 2 \n",
    "output_dim = 27 + 1 # output dimension\n",
    "\n",
    "# initialize the model\n",
    "model_rnn = RNN_model(input_dim, hidden_dim, layer_dim, output_dim)\n",
    "# device = torch.device('cuda:0' if torch.cuda.is_available() else  'cpu')\n",
    "\n",
    "#model = model.to(device)"
   ]
  },
  {
   "cell_type": "code",
   "execution_count": 32,
   "metadata": {},
   "outputs": [
    {
     "name": "stdout",
     "output_type": "stream",
     "text": [
      "parameters: 1\n",
      "torch.Size([100, 128])\n",
      "parameters: 2\n",
      "torch.Size([100, 100])\n",
      "parameters: 3\n",
      "torch.Size([100])\n",
      "parameters: 4\n",
      "torch.Size([100])\n",
      "parameters: 5\n",
      "torch.Size([100, 100])\n",
      "parameters: 6\n",
      "torch.Size([100, 100])\n",
      "parameters: 7\n",
      "torch.Size([100])\n",
      "parameters: 8\n",
      "torch.Size([100])\n",
      "parameters: 9\n",
      "torch.Size([28, 100])\n",
      "parameters: 10\n",
      "torch.Size([28])\n"
     ]
    }
   ],
   "source": [
    "criterion = nn.CrossEntropyLoss()\n",
    "learning_rate = 0.01\n",
    "optimizer = torch.optim.SGD(model_rnn.parameters(), lr = learning_rate)\n",
    "length = (len(list(model_rnn.parameters())))\n",
    "for i in range(length):\n",
    "    print(\"parameters: %d\" %(i+1))\n",
    "    print(list(model_rnn.parameters())[i].size())"
   ]
  },
  {
   "cell_type": "code",
   "execution_count": 33,
   "metadata": {},
   "outputs": [
    {
     "name": "stdout",
     "output_type": "stream",
     "text": [
      "Iter:200,loss:2.009869337081909,Accuracy:50.0048828125\n",
      "Iter:400,loss:1.758733868598938,Accuracy:58.271766662597656\n",
      "Iter:600,loss:1.540611743927002,Accuracy:58.1578483581543\n",
      "Iter:800,loss:0.9994901418685913,Accuracy:62.499595642089844\n",
      "Iter:1000,loss:1.1659319400787354,Accuracy:62.45077133178711\n",
      "Iter:1200,loss:0.7919313311576843,Accuracy:67.44670104980469\n",
      "Iter:1400,loss:0.9045881032943726,Accuracy:70.80227661132812\n",
      "Iter:1600,loss:0.6796911954879761,Accuracy:71.70056915283203\n",
      "Iter:1800,loss:0.5741061568260193,Accuracy:77.23027038574219\n",
      "Iter:2000,loss:0.5944790244102478,Accuracy:79.2579345703125\n",
      "Iter:2200,loss:0.5244713425636292,Accuracy:80.81366729736328\n",
      "Iter:2400,loss:1.3319652080535889,Accuracy:77.23027038574219\n",
      "Iter:2600,loss:0.6179932355880737,Accuracy:81.41903686523438\n",
      "Iter:2800,loss:0.5560581088066101,Accuracy:81.85516357421875\n",
      "Iter:3000,loss:0.5048743486404419,Accuracy:83.03335571289062\n",
      "Iter:3200,loss:0.32631316781044006,Accuracy:83.2481689453125\n",
      "Iter:3400,loss:0.391986608505249,Accuracy:84.26688385009766\n",
      "Iter:3600,loss:0.44330987334251404,Accuracy:84.28315734863281\n",
      "Iter:3800,loss:0.6554936170578003,Accuracy:84.22457885742188\n",
      "Iter:4000,loss:0.28998804092407227,Accuracy:84.56956481933594\n",
      "Iter:4200,loss:0.4611539840698242,Accuracy:85.15541076660156\n",
      "Iter:4400,loss:0.25932225584983826,Accuracy:85.4092788696289\n",
      "Iter:4600,loss:0.25499585270881653,Accuracy:85.66313934326172\n",
      "Iter:4800,loss:0.4179702401161194,Accuracy:85.44507598876953\n"
     ]
    }
   ],
   "source": [
    "sequence_dim = 6\n",
    "loss_list = []\n",
    "accuracy_list = []\n",
    "iteration_list = [] \n",
    "# 24576 = 32*1*6*128\n",
    "iter =  0\n",
    "for epoch in range(EPOCHES):\n",
    "    for i, (images, labels) in enumerate(train_loader):\n",
    "        model_rnn.train()\n",
    "        # A batch of data with transfering the RNN input dimention \n",
    "        # 32*1*6*128\n",
    "        images = images.view(-1, sequence_dim, input_dim).requires_grad_()#.to(device)\n",
    "        labels = labels.to(torch.int64)\n",
    "        #labels = labels.to(device)\n",
    "        # gradient.zero\n",
    "        optimizer.zero_grad()\n",
    "        #forward pass\n",
    "        output = model_rnn(images)\n",
    "\n",
    "        \n",
    "        # print(output.size(), labels.size(), \"pass\")\n",
    "        # loss calc\n",
    "        loss_rnn = criterion(output, labels)\n",
    "        # backword\n",
    "        loss_rnn.backward()\n",
    "        # renew the parameter\n",
    "        optimizer.step()\n",
    "        \n",
    "        iter += 1\n",
    "        if iter % 200 == 0:\n",
    "            model_rnn.eval()\n",
    "            # accuracy\n",
    "            correct = 0\n",
    "            total = 0\n",
    "            for i, (images, labels) in enumerate(train_loader):\n",
    "                    images = images.view(-1, sequence_dim, input_dim)#.to(device)\n",
    "                    outputs = model_rnn(images)\n",
    "                    #print(outputs.size())\n",
    "                    \n",
    "                    predict = torch.max(outputs.data, 1)[1]\n",
    "                    total += labels.size(0)\n",
    "                    correct += (predict == labels).sum()\n",
    "            \n",
    "            accuracy = correct / total * 100\n",
    "            loss_list.append(loss_rnn.data)\n",
    "            accuracy_list.append(accuracy)\n",
    "            iteration_list.append(iter)\n",
    "            # print the info\n",
    "            print(\"Iter:{},loss:{},Accuracy:{}\".format(iter, loss_rnn.item(), accuracy))"
   ]
  },
  {
   "cell_type": "code",
   "execution_count": 34,
   "metadata": {},
   "outputs": [
    {
     "data": {
      "image/png": "[encoded data removed]",
      "text/plain": [
       "<Figure size 432x288 with 1 Axes>"
      ]
     },
     "metadata": {
      "needs_background": "light"
     },
     "output_type": "display_data"
    }
   ],
   "source": [
    "plt.plot(iteration_list,loss_list)\n",
    "plt.xlabel(\"Number of Iteration\")\n",
    "plt.ylabel(\"Loss\")\n",
    "plt.title(\"RNN\")\n",
    "plt.show()"
   ]
  },
  {
   "cell_type": "code",
   "execution_count": 35,
   "metadata": {},
   "outputs": [
    {
     "data": {
      "image/png": "[encoded data removed]",
      "text/plain": [
       "<Figure size 432x288 with 1 Axes>"
      ]
     },
     "metadata": {
      "needs_background": "light"
     },
     "output_type": "display_data"
    }
   ],
   "source": [
    "plt.plot(iteration_list,accuracy_list, color = \"r\")\n",
    "plt.xlabel(\"Number of Iteration\")\n",
    "plt.ylabel(\"Accuracy\")\n",
    "plt.title(\"RNN\")\n",
    "plt.show()"
   ]
  },
  {
   "cell_type": "code",
   "execution_count": 30,
   "metadata": {},
   "outputs": [
    {
     "name": "stdout",
     "output_type": "stream",
     "text": [
      "Test Accuracy of the basic RNN model on the UTD test features: 74.15843963623047 %\n"
     ]
    }
   ],
   "source": [
    "labels = []\n",
    "predictions = []\n",
    "with torch.no_grad():\n",
    "    correct = 0\n",
    "    total = 0\n",
    "    for i, (images, labels) in enumerate(test_loader):\n",
    "        images = images.view(-1, sequence_dim, input_dim)#.to(device)\n",
    "        outputs = model_rnn(images)\n",
    "        #print(outputs.size())\n",
    "                    \n",
    "        predict = torch.max(outputs.data, 1)[1]\n",
    "        total += labels.size(0)\n",
    "        correct += (predict == labels).sum()\n",
    "\n",
    "    print('Test Accuracy of the basic RNN model on the UTD test features: {} %'.format((correct / total) * 100))"
   ]
  }
 ],
 "metadata": {
  "accelerator": "GPU",
  "colab": {
   "collapsed_sections": [],
   "name": "CNN-USCHAD.ipynb",
   "provenance": []
  },
  "kernelspec": {
   "display_name": "Python 3 (ipykernel)",
   "language": "python",
   "name": "python3"
  },
  "language_info": {
   "codemirror_mode": {
    "name": "ipython",
    "version": 3
   },
   "file_extension": ".py",
   "mimetype": "text/x-python",
   "name": "python",
   "nbconvert_exporter": "python",
   "pygments_lexer": "ipython3",
   "version": "3.9.7"
  }
 },
 "nbformat": 4,
 "nbformat_minor": 1
}
