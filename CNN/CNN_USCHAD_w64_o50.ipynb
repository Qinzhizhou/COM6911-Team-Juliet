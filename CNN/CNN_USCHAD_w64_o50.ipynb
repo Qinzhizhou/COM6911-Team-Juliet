{
  "nbformat": 4,
  "nbformat_minor": 0,
  "metadata": {
    "colab": {
      "name": "CNN-USCHAD_w64_o50.ipynb",
      "provenance": [],
      "collapsed_sections": [],
      "mount_file_id": "11uY9_F0k5FxmWQ_Z3BAv82H_W_IetatK",
      "authorship_tag": "ABX9TyOSmY/dfwxpB5ciOCulbNtb",
      "include_colab_link": true
    },
    "kernelspec": {
      "name": "python3",
      "display_name": "Python 3"
    },
    "language_info": {
      "name": "python"
    },
    "accelerator": "GPU"
  },
  "cells": [
    {
      "cell_type": "markdown",
      "metadata": {
        "id": "view-in-github",
        "colab_type": "text"
      },
      "source": [
        "<a href=\"https://colab.research.google.com/github/TtttttH/COM6911-Team-Juliet/blob/main/CNN/CNN_USCHAD_w64_o50.ipynb\" target=\"_parent\"><img src=\"https://colab.research.google.com/assets/colab-badge.svg\" alt=\"Open In Colab\"/></a>"
      ]
    },
    {
      "cell_type": "code",
      "execution_count": null,
      "metadata": {
        "id": "spMtaJ2E_KNe"
      },
      "outputs": [],
      "source": [
        "import numpy as np\n",
        "import pandas as pd\n",
        "import re\n",
        "import matplotlib.pyplot as plt\n",
        "from collections import Counter\n",
        "from sklearn.model_selection import train_test_split\n",
        "\n",
        "from tqdm import tqdm\n",
        "import numpy as np\n",
        "import torch\n",
        "import torchvision\n",
        "import torch.nn as nn\n",
        "import torch.nn.functional as F\n",
        "from torch.autograd import Variable\n",
        "from torch.utils.data import TensorDataset\n",
        "import torch.optim as optim\n",
        "import torch.utils.data as data\n",
        "from torchvision import datasets\n",
        "import torchvision.transforms as transforms\n",
        "\n",
        "device = torch.device(\"cuda\" if torch.cuda.is_available() else \"cpu\") # use gpu"
      ]
    },
    {
      "cell_type": "code",
      "source": [
        "# loading data\n",
        "usc_raw_data = pd.read_csv('/content/drive/MyDrive/Industrial Team Project/USCHAD_rawdata.csv')"
      ],
      "metadata": {
        "id": "P_dLy9FI_mBX"
      },
      "execution_count": null,
      "outputs": []
    },
    {
      "cell_type": "code",
      "source": [
        "# only features and label.\n",
        "usc_unprocessed = usc_raw_data[['acc_x','acc_y','acc_z','gyro_x','gyro_y','gyro_z','label']]"
      ],
      "metadata": {
        "id": "qFdknph3_nqQ"
      },
      "execution_count": null,
      "outputs": []
    },
    {
      "cell_type": "code",
      "source": [
        "# window_size: size of time window\n",
        "# step: overlapping\n",
        "# data: dataset\n",
        "def time_windows(window_size,overlapping,data):\n",
        "  sigmentation_data_temp = []\n",
        "  sigmentation_data = []\n",
        "  sigmentation_label = []\n",
        "  for i in range(0,len(data),overlapping):\n",
        "    acc_x = data['acc_x'].values[i:i+window_size]\n",
        "    acc_y = data['acc_y'].values[i:i+window_size]\n",
        "    acc_z = data['acc_z'].values[i:i+window_size]\n",
        "    gyro_x = data['gyro_x'].values[i:i+window_size]\n",
        "    gyro_y = data['gyro_y'].values[i:i+window_size]\n",
        "    gyro_z = data['gyro_z'].values[i:i+window_size]\n",
        "    total_label = data['label'].values[i:i+window_size]\n",
        "    label = Counter(total_label).most_common()[0][0]\n",
        "    sigmentation_data_temp.append([acc_x,acc_y,acc_z,gyro_x,gyro_y,gyro_z])\n",
        "    sigmentation_arr = np.asarray(sigmentation_data_temp)\n",
        "    sig_size = sigmentation_arr.shape\n",
        "    if sig_size[2] == window_size:\n",
        "      sigmentation_arr.reshape(window_size,6)\n",
        "      sigmentation_data.append(sigmentation_arr)\n",
        "      sigmentation_label.append(label)\n",
        "      sigmentation_data_temp = []\n",
        "    else:\n",
        "      sigmentation_data_temp = []\n",
        "\n",
        "  sigmentation_data_arr = np.asarray(sigmentation_data)\n",
        "  sigmentation_label_arr = np.asarray(sigmentation_label)\n",
        "\n",
        "  return sigmentation_data_arr,sigmentation_label_arr"
      ],
      "metadata": {
        "id": "D10h523V_pZL"
      },
      "execution_count": null,
      "outputs": []
    },
    {
      "cell_type": "code",
      "source": [
        "# here use semi-non-overlapping\n",
        "# signal segmentation and relevant labels\n",
        "uci_readings,uci_labels = time_windows(64,32,usc_unprocessed)"
      ],
      "metadata": {
        "id": "iBzCsLPi_rLQ"
      },
      "execution_count": null,
      "outputs": []
    },
    {
      "cell_type": "code",
      "source": [
        "# in the model, requires 0-n label so make labels from 1-12 into 0-11\n",
        "uci_labels = uci_labels-1"
      ],
      "metadata": {
        "id": "hUkA9KzE_w59"
      },
      "execution_count": null,
      "outputs": []
    },
    {
      "cell_type": "code",
      "source": [
        "# use train_test_split to generate train,val and test data\n",
        "x_train_50_overlapping,x_val_test_50_overlapping,y_train_50_overlapping,y_val_test_50_overlapping = train_test_split(uci_readings,uci_labels,test_size = 0.3)\n",
        "x_val_50_overlapping,x_test_50_overlapping,y_val_50_overlapping,y_test_50_overlapping = train_test_split(x_val_test_50_overlapping,y_val_test_50_overlapping,test_size = 0.3 )"
      ],
      "metadata": {
        "id": "dW2QI8ix_ydc"
      },
      "execution_count": null,
      "outputs": []
    },
    {
      "cell_type": "code",
      "source": [
        "train_dataset_50_overlapping = TensorDataset(torch.from_numpy(x_train_50_overlapping).to(torch.float32),torch.from_numpy(y_train_50_overlapping).to(torch.float32))\n",
        "val_dataset_50_overlapping = TensorDataset(torch.from_numpy(x_val_50_overlapping).to(torch.float32),torch.from_numpy(y_val_50_overlapping).to(torch.float32))\n",
        "test_dataset_50_overlapping = TensorDataset(torch.from_numpy(x_test_50_overlapping).to(torch.float32),torch.from_numpy(y_test_50_overlapping).to(torch.float32))"
      ],
      "metadata": {
        "id": "JVVVIdxi_8uz"
      },
      "execution_count": null,
      "outputs": []
    },
    {
      "cell_type": "code",
      "source": [
        "# DataLoader generation\n",
        "train_loader_50_overlapping = data.DataLoader(dataset = train_dataset_50_overlapping,batch_size = 64,shuffle = True)\n",
        "val_loader_50_overlapping = data.DataLoader(dataset = val_dataset_50_overlapping,batch_size = 64,shuffle = True)\n",
        "test_loader_50_overlapping = data.DataLoader(dataset = test_dataset_50_overlapping,batch_size = 64,shuffle = False)"
      ],
      "metadata": {
        "id": "QprC23b8Aeta"
      },
      "execution_count": null,
      "outputs": []
    },
    {
      "cell_type": "code",
      "source": [
        " # now define a class of CNN model\n",
        "class CNN_w64_o50(nn.Module):\n",
        "  def __init__(self):\n",
        "    super(CNN_w64_o50, self).__init__()\n",
        "    self.layer1 = nn.Sequential(\n",
        "            nn.Conv2d(1, 16, kernel_size=5, stride=1, padding=2),\n",
        "            nn.ReLU(),\n",
        "            nn.BatchNorm2d(16),\n",
        "            nn.MaxPool2d(kernel_size=2, stride=2))\n",
        "    self.layer2 = nn.Sequential(\n",
        "             nn.Conv2d(16, 32, kernel_size=5, stride=1, padding=2),\n",
        "             nn.ReLU(),\n",
        "             nn.BatchNorm2d(32),\n",
        "             nn.MaxPool2d(2,2))\n",
        "    self.layer3 = nn.Sequential(\n",
        "            nn.Conv2d(32, 64, kernel_size=5, stride=1, padding=2),\n",
        "            nn.ReLU()\n",
        "    )\n",
        "    self.drop_out = nn.Dropout()\n",
        "    self.fc1 = nn.Linear(1536, 512)\n",
        "    self.fc3 = nn.Linear(512,12)\n",
        "  def forward(self, x):\n",
        "        out = self.layer1(x)\n",
        "        out = self.layer2(out)\n",
        "        out = self.layer3(out)\n",
        "        out = out.reshape(out.size(0), -1)\n",
        "        out = self.drop_out(out)\n",
        "        out = self.fc1(out)\n",
        "        out = self.fc3(out)\n",
        "        return out\n",
        "        \n",
        "model_w64_o50 = CNN_w64_o50().to(device)"
      ],
      "metadata": {
        "id": "8v9VYmxqAlbJ"
      },
      "execution_count": null,
      "outputs": []
    },
    {
      "cell_type": "code",
      "source": [
        "epoches = 50\n",
        "lr = 0.001\n",
        "criterion = nn.CrossEntropyLoss()\n",
        "optimizer = optim.SGD(model_w64_o50.parameters(),lr=lr, weight_decay=0.0001,momentum = 0.8)"
      ],
      "metadata": {
        "id": "fiTqElv0Aq5V"
      },
      "execution_count": null,
      "outputs": []
    },
    {
      "cell_type": "code",
      "source": [
        "# training\n",
        "loss_list = []\n",
        "for epoch in range(epoches):\n",
        "    acc = 0\n",
        "    correct = 0\n",
        "    total = 0\n",
        "    loss_num = 0\n",
        "    runtime_loss = 0\n",
        "    for (imgs,labels) in train_loader_50_overlapping:\n",
        "        imgs = imgs.reshape(len(imgs),1,24,16)     \n",
        "        imgs = imgs.to(device)\n",
        "        labels = labels.type(torch.LongTensor)\n",
        "        labels = labels.to(device)\n",
        "        optimizer.zero_grad()\n",
        "        outputs = model_w64_o50(imgs)\n",
        "        loss = criterion(outputs, labels)\n",
        "        runtime_loss += loss.item()\n",
        "        loss.backward()\n",
        "        optimizer.step()\n",
        "        total += labels.size(0)\n",
        "        _,predicted = torch.max(outputs.data,1)\n",
        "        correct += (predicted == labels).sum().item()\n",
        "        loss_num+=1\n",
        "    acc = 100 * correct / total\n",
        "    epoch_loss = runtime_loss / loss_num\n",
        "    loss_list.append(epoch_loss)\n",
        "    loss_num = 0\n",
        "    print(\"Epoch: \",epoch+1, \"accuracy: \", acc,' %',\"Loss: \",epoch_loss)"
      ],
      "metadata": {
        "colab": {
          "base_uri": "https://localhost:8080/"
        },
        "id": "DkzKXscWAxAI",
        "outputId": "49518441-8042-4d9b-841d-f446875bb460"
      },
      "execution_count": null,
      "outputs": [
        {
          "output_type": "stream",
          "name": "stdout",
          "text": [
            "Epoch:  1 accuracy:  42.15485256785784  % Loss:  1.544032250557184\n",
            "Epoch:  2 accuracy:  59.07212133046931  % Loss:  1.1093941490310288\n",
            "Epoch:  3 accuracy:  70.5493718674738  % Loss:  0.8027109306200982\n",
            "Epoch:  4 accuracy:  74.13265638221702  % Loss:  0.6990860744023795\n",
            "Epoch:  5 accuracy:  76.09353641866822  % Loss:  0.6449541123923104\n",
            "Epoch:  6 accuracy:  77.26843715420165  % Loss:  0.6112791563109975\n",
            "Epoch:  7 accuracy:  78.29850940571502  % Loss:  0.5799053953601964\n",
            "Epoch:  8 accuracy:  79.12842543774002  % Loss:  0.5597077841627238\n",
            "Epoch:  9 accuracy:  79.78747640434811  % Loss:  0.541703175679702\n",
            "Epoch:  10 accuracy:  80.27566230553929  % Loss:  0.5240541135235209\n",
            "Epoch:  11 accuracy:  80.74269348434551  % Loss:  0.5128324876745831\n",
            "Epoch:  12 accuracy:  80.90867669075051  % Loss:  0.4991646362517056\n",
            "Epoch:  13 accuracy:  81.47822690880687  % Loss:  0.4863610681646448\n",
            "Epoch:  14 accuracy:  81.88830306580746  % Loss:  0.47837376918616575\n",
            "Epoch:  15 accuracy:  82.1128685803554  % Loss:  0.47065331043363484\n",
            "Epoch:  16 accuracy:  82.2788517867604  % Loss:  0.46336813923843695\n",
            "Epoch:  17 accuracy:  82.41066198008201  % Loss:  0.45477489584380454\n",
            "Epoch:  18 accuracy:  83.00299420686063  % Loss:  0.4446023043310977\n",
            "Epoch:  19 accuracy:  83.11853153680921  % Loss:  0.4396230543379233\n",
            "Epoch:  20 accuracy:  83.37564277810324  % Loss:  0.4304577078239975\n",
            "Epoch:  21 accuracy:  83.6115992970123  % Loss:  0.4251489207753282\n",
            "Epoch:  22 accuracy:  83.55301698886936  % Loss:  0.421325562601283\n",
            "Epoch:  23 accuracy:  83.85569224760789  % Loss:  0.416226658408029\n",
            "Epoch:  24 accuracy:  83.55301698886936  % Loss:  0.42577859151499825\n",
            "Epoch:  25 accuracy:  84.12419449326303  % Loss:  0.40608606584424406\n",
            "Epoch:  26 accuracy:  84.17626765605677  % Loss:  0.40584793368995997\n",
            "Epoch:  27 accuracy:  84.22834081885048  % Loss:  0.39922765858711734\n",
            "Epoch:  28 accuracy:  84.6498079802122  % Loss:  0.3926977501420399\n",
            "Epoch:  29 accuracy:  84.7295450107401  % Loss:  0.39129323534799293\n",
            "Epoch:  30 accuracy:  84.82718219097832  % Loss:  0.385717852965664\n",
            "Epoch:  31 accuracy:  84.97201067499837  % Loss:  0.38188876563626944\n",
            "Epoch:  32 accuracy:  84.76534531016078  % Loss:  0.3787040164641858\n",
            "Epoch:  33 accuracy:  85.1933216168717  % Loss:  0.3741315831813058\n",
            "Epoch:  34 accuracy:  85.28770422443533  % Loss:  0.37426408767141983\n",
            "Epoch:  35 accuracy:  85.41463255874504  % Loss:  0.36708152871753374\n",
            "Epoch:  36 accuracy:  85.53505174770552  % Loss:  0.3635838860636199\n",
            "Epoch:  37 accuracy:  85.6099069192215  % Loss:  0.3614506454252552\n",
            "Epoch:  38 accuracy:  85.59037948317386  % Loss:  0.3588467603326464\n",
            "Epoch:  39 accuracy:  85.62617978259455  % Loss:  0.35680531399493165\n",
            "Epoch:  40 accuracy:  85.72707153550739  % Loss:  0.35494635439440064\n",
            "Epoch:  41 accuracy:  85.8572544424917  % Loss:  0.3526094380017994\n",
            "Epoch:  42 accuracy:  86.03137408058322  % Loss:  0.34800110397614253\n",
            "Epoch:  43 accuracy:  85.9809282041268  % Loss:  0.3467578019919678\n",
            "Epoch:  44 accuracy:  86.10134739308728  % Loss:  0.34381613225271995\n",
            "Epoch:  45 accuracy:  86.20223914600012  % Loss:  0.34161904611616056\n",
            "Epoch:  46 accuracy:  86.3145219032741  % Loss:  0.34169102246164657\n",
            "Epoch:  47 accuracy:  86.22502115472238  % Loss:  0.33806741208179186\n",
            "Epoch:  48 accuracy:  86.5211872681117  % Loss:  0.3319821851899795\n",
            "Epoch:  49 accuracy:  86.7294799192866  % Loss:  0.32908434339418124\n",
            "Epoch:  50 accuracy:  86.71646162858816  % Loss:  0.3290850722640908\n"
          ]
        }
      ]
    },
    {
      "cell_type": "code",
      "source": [
        "# test\n",
        "correct_test = 0\n",
        "\n",
        "total_test = 0\n",
        "\n",
        "with torch.no_grad():\n",
        "\n",
        "  for (imgs_test,labels_test) in test_loader_50_overlapping:\n",
        "\n",
        "    imgs_test = imgs_test.reshape(len(imgs_test),1,24,16)\n",
        "\n",
        "    imgs_test = imgs_test.to(device)\n",
        "\n",
        "    labels_test = labels_test.type(torch.LongTensor)\n",
        "\n",
        "    labels_test = labels_test.to(device)\n",
        "\n",
        "    outputs_test = model_w64_o50(imgs_test)\n",
        "\n",
        "    labels_test = labels_test.reshape(labels_test.shape[0],)\n",
        "\n",
        "    predicted_test = torch.max(outputs_test.data,1)[1]\n",
        "      \n",
        "    total_test += labels_test.size(0)\n",
        "      \n",
        "    correct_test += (predicted_test == labels_test).sum().item()\n",
        "\n",
        "    test_accuracy = 100*correct_test/total_test\n",
        "\n",
        "print('Test accuracy is: ',test_accuracy)"
      ],
      "metadata": {
        "colab": {
          "base_uri": "https://localhost:8080/"
        },
        "id": "FvNQIu5hA09y",
        "outputId": "d1d852e1-b993-4e75-fe1e-b7875511f6d3"
      },
      "execution_count": null,
      "outputs": [
        {
          "output_type": "stream",
          "name": "stdout",
          "text": [
            "Test accuracy is:  83.4345735256897\n"
          ]
        }
      ]
    }
  ]
}