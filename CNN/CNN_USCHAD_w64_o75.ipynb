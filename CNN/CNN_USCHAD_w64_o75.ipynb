{
  "nbformat": 4,
  "nbformat_minor": 0,
  "metadata": {
    "colab": {
      "name": "CNN-USCHAD_w64_o75.ipynb",
      "provenance": [],
      "authorship_tag": "ABX9TyNho2F0i2WT6ZoG3Jq9q067",
      "include_colab_link": true
    },
    "kernelspec": {
      "name": "python3",
      "display_name": "Python 3"
    },
    "language_info": {
      "name": "python"
    },
    "accelerator": "GPU"
  },
  "cells": [
    {
      "cell_type": "markdown",
      "metadata": {
        "id": "view-in-github",
        "colab_type": "text"
      },
      "source": [
        "<a href=\"https://colab.research.google.com/github/TtttttH/COM6911-Team-Juliet/blob/main/CNN/CNN_USCHAD_w64_o75.ipynb\" target=\"_parent\"><img src=\"https://colab.research.google.com/assets/colab-badge.svg\" alt=\"Open In Colab\"/></a>"
      ]
    },
    {
      "cell_type": "code",
      "source": [
        "from google.colab import drive\n",
        "drive.mount('/content/drive')"
      ],
      "metadata": {
        "colab": {
          "base_uri": "https://localhost:8080/"
        },
        "id": "V8z6fOzvDLVW",
        "outputId": "87ea99fb-c942-40d3-bedd-b925bbb8c85d"
      },
      "execution_count": null,
      "outputs": [
        {
          "output_type": "stream",
          "name": "stdout",
          "text": [
            "Mounted at /content/drive\n"
          ]
        }
      ]
    },
    {
      "cell_type": "code",
      "execution_count": null,
      "metadata": {
        "id": "iFCM7s_kCLyt"
      },
      "outputs": [],
      "source": [
        "import numpy as np\n",
        "import pandas as pd\n",
        "import re\n",
        "import matplotlib.pyplot as plt\n",
        "from collections import Counter\n",
        "from sklearn.model_selection import train_test_split\n",
        "\n",
        "from tqdm import tqdm\n",
        "import numpy as np\n",
        "import torch\n",
        "import torchvision\n",
        "import torch.nn as nn\n",
        "import torch.nn.functional as F\n",
        "from torch.autograd import Variable\n",
        "from torch.utils.data import TensorDataset\n",
        "import torch.optim as optim\n",
        "import torch.utils.data as data\n",
        "from torchvision import datasets\n",
        "import torchvision.transforms as transforms\n",
        "\n",
        "device = torch.device(\"cuda\" if torch.cuda.is_available() else \"cpu\") # use gpu"
      ]
    },
    {
      "cell_type": "code",
      "source": [
        "# loading data\n",
        "usc_raw_data = pd.read_csv('/content/drive/MyDrive/Industrial Team Project/USCHAD_rawdata.csv')"
      ],
      "metadata": {
        "id": "pZcesqLpCXFP"
      },
      "execution_count": null,
      "outputs": []
    },
    {
      "cell_type": "code",
      "source": [
        "# only features and label.\n",
        "usc_unprocessed = usc_raw_data[['acc_x','acc_y','acc_z','gyro_x','gyro_y','gyro_z','label']]"
      ],
      "metadata": {
        "id": "5OG7P9fvCXqd"
      },
      "execution_count": null,
      "outputs": []
    },
    {
      "cell_type": "code",
      "source": [
        "# window_size: size of time window\n",
        "# step: overlapping\n",
        "# data: dataset\n",
        "def time_windows(window_size,overlapping,data):\n",
        "  sigmentation_data_temp = []\n",
        "  sigmentation_data = []\n",
        "  sigmentation_label = []\n",
        "  for i in range(0,len(data),overlapping):\n",
        "    acc_x = data['acc_x'].values[i:i+window_size]\n",
        "    acc_y = data['acc_y'].values[i:i+window_size]\n",
        "    acc_z = data['acc_z'].values[i:i+window_size]\n",
        "    gyro_x = data['gyro_x'].values[i:i+window_size]\n",
        "    gyro_y = data['gyro_y'].values[i:i+window_size]\n",
        "    gyro_z = data['gyro_z'].values[i:i+window_size]\n",
        "    total_label = data['label'].values[i:i+window_size]\n",
        "    label = Counter(total_label).most_common()[0][0]\n",
        "    sigmentation_data_temp.append([acc_x,acc_y,acc_z,gyro_x,gyro_y,gyro_z])\n",
        "    sigmentation_arr = np.asarray(sigmentation_data_temp)\n",
        "    sig_size = sigmentation_arr.shape\n",
        "    if sig_size[2] == window_size:\n",
        "      sigmentation_arr.reshape(window_size,6)\n",
        "      sigmentation_data.append(sigmentation_arr)\n",
        "      sigmentation_label.append(label)\n",
        "      sigmentation_data_temp = []\n",
        "    else:\n",
        "      sigmentation_data_temp = []\n",
        "\n",
        "  sigmentation_data_arr = np.asarray(sigmentation_data)\n",
        "  sigmentation_label_arr = np.asarray(sigmentation_label)\n",
        "\n",
        "  return sigmentation_data_arr,sigmentation_label_arr"
      ],
      "metadata": {
        "id": "EqP5b43oCaDq"
      },
      "execution_count": null,
      "outputs": []
    },
    {
      "cell_type": "code",
      "source": [
        "# here use semi-non-overlapping\n",
        "# signal segmentation and relevant labels\n",
        "uci_readings,uci_labels = time_windows(64,16,usc_unprocessed)"
      ],
      "metadata": {
        "id": "4jokatLFCb9k"
      },
      "execution_count": null,
      "outputs": []
    },
    {
      "cell_type": "code",
      "source": [
        "# in the model, requires 0-n label so make labels from 1-12 into 0-11\n",
        "uci_labels = uci_labels-1"
      ],
      "metadata": {
        "id": "kDolp8FlCdJW"
      },
      "execution_count": null,
      "outputs": []
    },
    {
      "cell_type": "code",
      "source": [
        "# use train_test_split to generate train,val and test data\n",
        "x_train_75_overlapping,x_val_test_75_overlapping,y_train_75_overlapping,y_val_test_75_overlapping = train_test_split(uci_readings,uci_labels,test_size = 0.3)\n",
        "x_val_75_overlapping,x_test_75_overlapping,y_val_75_overlapping,y_test_75_overlapping = train_test_split(x_val_test_75_overlapping,y_val_test_75_overlapping,test_size = 0.3 )"
      ],
      "metadata": {
        "id": "58hJDl4oCevN"
      },
      "execution_count": null,
      "outputs": []
    },
    {
      "cell_type": "code",
      "source": [
        "train_dataset_75_overlapping = TensorDataset(torch.from_numpy(x_train_75_overlapping).to(torch.float32),torch.from_numpy(y_train_75_overlapping).to(torch.float32))\n",
        "val_dataset_75_overlapping = TensorDataset(torch.from_numpy(x_val_75_overlapping).to(torch.float32),torch.from_numpy(y_val_75_overlapping).to(torch.float32))\n",
        "test_dataset_75_overlapping = TensorDataset(torch.from_numpy(x_test_75_overlapping).to(torch.float32),torch.from_numpy(y_test_75_overlapping).to(torch.float32))"
      ],
      "metadata": {
        "id": "ft6u9N45Cpkt"
      },
      "execution_count": null,
      "outputs": []
    },
    {
      "cell_type": "code",
      "source": [
        "# DataLoader generation\n",
        "train_loader_75_overlapping = data.DataLoader(dataset = train_dataset_75_overlapping,batch_size = 64,shuffle = True)\n",
        "val_loader_75_overlapping = data.DataLoader(dataset = val_dataset_75_overlapping,batch_size = 64,shuffle = True)\n",
        "test_loader_75_overlapping = data.DataLoader(dataset = test_dataset_75_overlapping,batch_size = 64,shuffle = False)"
      ],
      "metadata": {
        "id": "_T8c5aVJCx5s"
      },
      "execution_count": null,
      "outputs": []
    },
    {
      "cell_type": "code",
      "source": [
        " # now define a class of CNN model\n",
        "class CNN_w64_o75(nn.Module):\n",
        "  def __init__(self):\n",
        "    super(CNN_w64_o75, self).__init__()\n",
        "    self.layer1 = nn.Sequential(\n",
        "            nn.Conv2d(1, 16, kernel_size=5, stride=1, padding=2),\n",
        "            nn.ReLU(),\n",
        "            nn.BatchNorm2d(16),\n",
        "            nn.MaxPool2d(kernel_size=2, stride=2))\n",
        "    self.layer2 = nn.Sequential(\n",
        "             nn.Conv2d(16, 32, kernel_size=5, stride=1, padding=2),\n",
        "             nn.ReLU(),\n",
        "             nn.BatchNorm2d(32),\n",
        "             nn.MaxPool2d(2,2))\n",
        "    self.layer3 = nn.Sequential(\n",
        "            nn.Conv2d(32, 64, kernel_size=5, stride=1, padding=2),\n",
        "            nn.ReLU()\n",
        "    )\n",
        "    self.drop_out = nn.Dropout()\n",
        "    self.fc1 = nn.Linear(1536, 512)\n",
        "    self.fc3 = nn.Linear(512,12)\n",
        "  def forward(self, x):\n",
        "        out = self.layer1(x)\n",
        "        out = self.layer2(out)\n",
        "        out = self.layer3(out)\n",
        "        out = out.reshape(out.size(0), -1)\n",
        "        out = self.drop_out(out)\n",
        "        out = self.fc1(out)\n",
        "        out = self.fc3(out)\n",
        "        return out\n",
        "        \n",
        "model_w64_o75 = CNN_w64_o75().to(device)"
      ],
      "metadata": {
        "id": "62RdnA-wC3QF"
      },
      "execution_count": null,
      "outputs": []
    },
    {
      "cell_type": "code",
      "source": [
        "epoches = 50\n",
        "lr = 0.001\n",
        "criterion = nn.CrossEntropyLoss()\n",
        "optimizer = optim.SGD(model_w64_o75.parameters(),lr=lr, weight_decay=0.0001,momentum = 0.8)"
      ],
      "metadata": {
        "id": "Ps8s3HtxC9KA"
      },
      "execution_count": null,
      "outputs": []
    },
    {
      "cell_type": "code",
      "source": [
        "# training\n",
        "loss_list = []\n",
        "for epoch in range(epoches):\n",
        "    acc = 0\n",
        "    correct = 0\n",
        "    total = 0\n",
        "    loss_num = 0\n",
        "    runtime_loss = 0\n",
        "    for (imgs,labels) in train_loader_75_overlapping:\n",
        "        imgs = imgs.reshape(len(imgs),1,24,16)     \n",
        "        imgs = imgs.to(device)\n",
        "        labels = labels.type(torch.LongTensor)\n",
        "        labels = labels.to(device)\n",
        "        optimizer.zero_grad()\n",
        "        outputs = model_w64_o75(imgs)\n",
        "        loss = criterion(outputs, labels)\n",
        "        runtime_loss += loss.item()\n",
        "        loss.backward()\n",
        "        optimizer.step()\n",
        "        total += labels.size(0)\n",
        "        _,predicted = torch.max(outputs.data,1)\n",
        "        correct += (predicted == labels).sum().item()\n",
        "        loss_num+=1\n",
        "    acc = 100 * correct / total\n",
        "    epoch_loss = runtime_loss / loss_num\n",
        "    loss_list.append(epoch_loss)\n",
        "    loss_num = 0\n",
        "    print(\"Epoch: \",epoch+1, \"accuracy: \", acc,' %',\"Loss: \",epoch_loss)"
      ],
      "metadata": {
        "colab": {
          "base_uri": "https://localhost:8080/"
        },
        "id": "NG9NOuHGC_un",
        "outputId": "58ee9a91-a0b9-48c7-9ce0-515cfade8813"
      },
      "execution_count": null,
      "outputs": [
        {
          "output_type": "stream",
          "name": "stdout",
          "text": [
            "Epoch:  1 accuracy:  50.78883347029772  % Loss:  1.3186786260411245\n",
            "Epoch:  2 accuracy:  72.27081519572346  % Loss:  0.7552888797540829\n",
            "Epoch:  3 accuracy:  76.81830386565015  % Loss:  0.6298582161360269\n",
            "Epoch:  4 accuracy:  78.64901589058037  % Loss:  0.5728977511538497\n",
            "Epoch:  5 accuracy:  79.813348738436  % Loss:  0.539153265780859\n",
            "Epoch:  6 accuracy:  80.7832192867546  % Loss:  0.5098338627461528\n",
            "Epoch:  7 accuracy:  81.67253850597626  % Loss:  0.4887268434723239\n",
            "Epoch:  8 accuracy:  82.17862867464586  % Loss:  0.4712320129692027\n",
            "Epoch:  9 accuracy:  82.68146424416003  % Loss:  0.4550772648516079\n",
            "Epoch:  10 accuracy:  82.96949626941571  % Loss:  0.4486745974550267\n",
            "Epoch:  11 accuracy:  83.31448377989146  % Loss:  0.4346500667726416\n",
            "Epoch:  12 accuracy:  83.52033717647251  % Loss:  0.42711275067415044\n",
            "Epoch:  13 accuracy:  83.86939293589253  % Loss:  0.41958328958975033\n",
            "Epoch:  14 accuracy:  84.21356679657941  % Loss:  0.40782922644406666\n",
            "Epoch:  15 accuracy:  84.36816025646242  % Loss:  0.40274888417455196\n",
            "Epoch:  16 accuracy:  84.62852818889694  % Loss:  0.3975523123667924\n",
            "Epoch:  17 accuracy:  84.65456498214039  % Loss:  0.3929664173329764\n",
            "Epoch:  18 accuracy:  84.99711154324956  % Loss:  0.3863614023290284\n",
            "Epoch:  19 accuracy:  85.13624565714426  % Loss:  0.38030327759578414\n",
            "Epoch:  20 accuracy:  85.25992042505065  % Loss:  0.37631412899196304\n",
            "Epoch:  21 accuracy:  85.4096319862005  % Loss:  0.3715353236959851\n",
            "Epoch:  22 accuracy:  85.52110200727402  % Loss:  0.36655797944721735\n",
            "Epoch:  23 accuracy:  85.49994711276372  % Loss:  0.36889737170385484\n",
            "Epoch:  24 accuracy:  85.85144382155033  % Loss:  0.3586657274628852\n",
            "Epoch:  25 accuracy:  85.80832038274086  % Loss:  0.3540121719419553\n",
            "Epoch:  26 accuracy:  86.13459394807288  % Loss:  0.3487797207637791\n",
            "Epoch:  27 accuracy:  86.05729721813137  % Loss:  0.34993780842986594\n",
            "Epoch:  28 accuracy:  86.17527643751576  % Loss:  0.3478742119066421\n",
            "Epoch:  29 accuracy:  85.90433105782608  % Loss:  0.35366963068065016\n",
            "Epoch:  30 accuracy:  86.51700934883607  % Loss:  0.33734658121566236\n",
            "Epoch:  31 accuracy:  86.56176008722326  % Loss:  0.3348268336969884\n",
            "Epoch:  32 accuracy:  86.57396483405613  % Loss:  0.3353689649355157\n",
            "Epoch:  33 accuracy:  86.74157669056085  % Loss:  0.3309962514483451\n",
            "Epoch:  34 accuracy:  86.68380755555194  % Loss:  0.32939351757698415\n",
            "Epoch:  35 accuracy:  86.8758289057224  % Loss:  0.3222700175574706\n",
            "Epoch:  36 accuracy:  86.94010723904218  % Loss:  0.32341074729837643\n",
            "Epoch:  37 accuracy:  86.96533038249676  % Loss:  0.31833313680498754\n",
            "Epoch:  38 accuracy:  87.04099981286055  % Loss:  0.31726752522167345\n",
            "Epoch:  39 accuracy:  87.19884787189898  % Loss:  0.3151520222216022\n",
            "Epoch:  40 accuracy:  87.25417605754132  % Loss:  0.3140694303772587\n",
            "Epoch:  41 accuracy:  87.39900571995801  % Loss:  0.3096511535683937\n",
            "Epoch:  42 accuracy:  87.34042293516025  % Loss:  0.30853381514828504\n",
            "Epoch:  43 accuracy:  87.42748346256805  % Loss:  0.30873980558148156\n",
            "Epoch:  44 accuracy:  87.36727337819256  % Loss:  0.30827669830743626\n",
            "Epoch:  45 accuracy:  87.38354637396972  % Loss:  0.3073298860494511\n",
            "Epoch:  46 accuracy:  87.63659145830452  % Loss:  0.30347229078807664\n",
            "Epoch:  47 accuracy:  87.71795643719031  % Loss:  0.2990192789070498\n",
            "Epoch:  48 accuracy:  87.70331074099086  % Loss:  0.29803568439704564\n",
            "Epoch:  49 accuracy:  87.74317958064489  % Loss:  0.2953724148472357\n",
            "Epoch:  50 accuracy:  87.82373090974183  % Loss:  0.2959376106553559\n"
          ]
        }
      ]
    },
    {
      "cell_type": "code",
      "source": [
        "# test\n",
        "correct_test = 0\n",
        "\n",
        "total_test = 0\n",
        "\n",
        "with torch.no_grad():\n",
        "\n",
        "  for (imgs_test,labels_test) in test_loader_75_overlapping:\n",
        "\n",
        "    imgs_test = imgs_test.reshape(len(imgs_test),1,24,16)\n",
        "\n",
        "    imgs_test = imgs_test.to(device)\n",
        "\n",
        "    labels_test = labels_test.type(torch.LongTensor)\n",
        "\n",
        "    labels_test = labels_test.to(device)\n",
        "\n",
        "    outputs_test = model_w64_o75(imgs_test)\n",
        "\n",
        "    labels_test = labels_test.reshape(labels_test.shape[0],)\n",
        "\n",
        "    predicted_test = torch.max(outputs_test.data,1)[1]\n",
        "      \n",
        "    total_test += labels_test.size(0)\n",
        "      \n",
        "    correct_test += (predicted_test == labels_test).sum().item()\n",
        "\n",
        "    test_accuracy = 100*correct_test/total_test\n",
        "\n",
        "print('Test accuracy is: ',test_accuracy)"
      ],
      "metadata": {
        "colab": {
          "base_uri": "https://localhost:8080/"
        },
        "id": "lF6TSRFxDCIX",
        "outputId": "9ff7460c-adb1-4c8f-c18e-1d8cfa9b2e7d"
      },
      "execution_count": null,
      "outputs": [
        {
          "output_type": "stream",
          "name": "stdout",
          "text": [
            "Test accuracy is:  85.33822691893944\n"
          ]
        }
      ]
    }
  ]
}