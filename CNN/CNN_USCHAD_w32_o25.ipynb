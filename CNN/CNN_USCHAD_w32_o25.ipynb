{
  "nbformat": 4,
  "nbformat_minor": 0,
  "metadata": {
    "colab": {
      "name": "CNN-USCHAD_w32_o25.ipynb",
      "provenance": [],
      "collapsed_sections": [],
      "authorship_tag": "ABX9TyNkheFzWas/uhN4VAhar+oW",
      "include_colab_link": true
    },
    "kernelspec": {
      "name": "python3",
      "display_name": "Python 3"
    },
    "language_info": {
      "name": "python"
    },
    "accelerator": "GPU"
  },
  "cells": [
    {
      "cell_type": "markdown",
      "metadata": {
        "id": "view-in-github",
        "colab_type": "text"
      },
      "source": [
        "<a href=\"https://colab.research.google.com/github/TtttttH/COM6911-Team-Juliet/blob/main/CNN/CNN_USCHAD_w32_o25.ipynb\" target=\"_parent\"><img src=\"https://colab.research.google.com/assets/colab-badge.svg\" alt=\"Open In Colab\"/></a>"
      ]
    },
    {
      "cell_type": "code",
      "execution_count": null,
      "metadata": {
        "colab": {
          "base_uri": "https://localhost:8080/"
        },
        "id": "V-1KPUa-GSkb",
        "outputId": "2033b935-59bc-4823-bfb5-926ebf79babc"
      },
      "outputs": [
        {
          "output_type": "stream",
          "name": "stdout",
          "text": [
            "Mounted at /content/drive\n"
          ]
        }
      ],
      "source": [
        "from google.colab import drive\n",
        "drive.mount('/content/drive')"
      ]
    },
    {
      "cell_type": "code",
      "source": [
        "import numpy as np\n",
        "import pandas as pd\n",
        "import re\n",
        "import matplotlib.pyplot as plt\n",
        "from collections import Counter\n",
        "from sklearn.model_selection import train_test_split\n",
        "\n",
        "from tqdm import tqdm\n",
        "import numpy as np\n",
        "import torch\n",
        "import torchvision\n",
        "import torch.nn as nn\n",
        "import torch.nn.functional as F\n",
        "from torch.autograd import Variable\n",
        "from torch.utils.data import TensorDataset\n",
        "import torch.optim as optim\n",
        "import torch.utils.data as data\n",
        "from torchvision import datasets\n",
        "import torchvision.transforms as transforms\n",
        "\n",
        "device = torch.device(\"cuda\" if torch.cuda.is_available() else \"cpu\") # use gpu"
      ],
      "metadata": {
        "id": "6fNgnsy8GaOn"
      },
      "execution_count": null,
      "outputs": []
    },
    {
      "cell_type": "code",
      "source": [
        "# loading data\n",
        "usc_raw_data = pd.read_csv('/content/drive/MyDrive/Industrial Team Project/USCHAD_rawdata.csv')"
      ],
      "metadata": {
        "id": "XA8870rZGb95"
      },
      "execution_count": null,
      "outputs": []
    },
    {
      "cell_type": "code",
      "source": [
        "# only features and label.\n",
        "usc_unprocessed = usc_raw_data[['acc_x','acc_y','acc_z','gyro_x','gyro_y','gyro_z','label']]"
      ],
      "metadata": {
        "id": "jPtb6Al_GdiW"
      },
      "execution_count": null,
      "outputs": []
    },
    {
      "cell_type": "code",
      "source": [
        "# window_size: size of time window\n",
        "# step: overlapping\n",
        "# data: dataset\n",
        "def time_windows(window_size,overlapping,data):\n",
        "  sigmentation_data_temp = []\n",
        "  sigmentation_data = []\n",
        "  sigmentation_label = []\n",
        "  for i in range(0,len(data),overlapping):\n",
        "    acc_x = data['acc_x'].values[i:i+window_size]\n",
        "    acc_y = data['acc_y'].values[i:i+window_size]\n",
        "    acc_z = data['acc_z'].values[i:i+window_size]\n",
        "    gyro_x = data['gyro_x'].values[i:i+window_size]\n",
        "    gyro_y = data['gyro_y'].values[i:i+window_size]\n",
        "    gyro_z = data['gyro_z'].values[i:i+window_size]\n",
        "    total_label = data['label'].values[i:i+window_size]\n",
        "    label = Counter(total_label).most_common()[0][0]\n",
        "    sigmentation_data_temp.append([acc_x,acc_y,acc_z,gyro_x,gyro_y,gyro_z])\n",
        "    sigmentation_arr = np.asarray(sigmentation_data_temp)\n",
        "    sig_size = sigmentation_arr.shape\n",
        "    if sig_size[2] == window_size:\n",
        "      sigmentation_arr.reshape(window_size,6)\n",
        "      sigmentation_data.append(sigmentation_arr)\n",
        "      sigmentation_label.append(label)\n",
        "      sigmentation_data_temp = []\n",
        "    else:\n",
        "      sigmentation_data_temp = []\n",
        "\n",
        "  sigmentation_data_arr = np.asarray(sigmentation_data)\n",
        "  sigmentation_label_arr = np.asarray(sigmentation_label)\n",
        "\n",
        "  return sigmentation_data_arr,sigmentation_label_arr"
      ],
      "metadata": {
        "id": "Jbj9FlF9Gf-K"
      },
      "execution_count": null,
      "outputs": []
    },
    {
      "cell_type": "code",
      "source": [
        "# here use semi-non-overlapping\n",
        "# signal segmentation and relevant labels\n",
        "uci_readings,uci_labels = time_windows(32,24,usc_unprocessed)"
      ],
      "metadata": {
        "id": "8X6aoqjMGgfd"
      },
      "execution_count": null,
      "outputs": []
    },
    {
      "cell_type": "code",
      "source": [
        "# in the model, requires 0-n label so make labels from 1-12 into 0-11\n",
        "uci_labels = uci_labels-1"
      ],
      "metadata": {
        "id": "zd9oPFaUGpLh"
      },
      "execution_count": null,
      "outputs": []
    },
    {
      "cell_type": "code",
      "source": [
        "# use train_test_split to generate train,val and test data\n",
        "x_train_0_overlapping,x_val_test_0_overlapping,y_train_0_overlapping,y_val_test_0_overlapping = train_test_split(uci_readings,uci_labels,test_size = 0.3)\n",
        "x_val_0_overlapping,x_test_0_overlapping,y_val_0_overlapping,y_test_0_overlapping = train_test_split(x_val_test_0_overlapping,y_val_test_0_overlapping,test_size = 0.3 )"
      ],
      "metadata": {
        "id": "ZspAYFX9GrC3"
      },
      "execution_count": null,
      "outputs": []
    },
    {
      "cell_type": "code",
      "source": [
        "train_dataset_0_overlapping = TensorDataset(torch.from_numpy(x_train_0_overlapping).to(torch.float32),torch.from_numpy(y_train_0_overlapping).to(torch.float32))\n",
        "val_dataset_0_overlapping = TensorDataset(torch.from_numpy(x_val_0_overlapping).to(torch.float32),torch.from_numpy(y_val_0_overlapping).to(torch.float32))\n",
        "test_dataset_0_overlapping = TensorDataset(torch.from_numpy(x_test_0_overlapping).to(torch.float32),torch.from_numpy(y_test_0_overlapping).to(torch.float32))"
      ],
      "metadata": {
        "id": "l9xnPiywGrEv"
      },
      "execution_count": null,
      "outputs": []
    },
    {
      "cell_type": "code",
      "source": [
        "# DataLoader generation\n",
        "train_loader_0_overlapping = data.DataLoader(dataset = train_dataset_0_overlapping,batch_size = 64,shuffle = True)\n",
        "val_loader_0_overlapping = data.DataLoader(dataset = val_dataset_0_overlapping,batch_size = 64,shuffle = True)\n",
        "test_loader_0_overlapping = data.DataLoader(dataset = test_dataset_0_overlapping,batch_size = 64,shuffle = False)"
      ],
      "metadata": {
        "id": "kHoDfOIoGuU0"
      },
      "execution_count": null,
      "outputs": []
    },
    {
      "cell_type": "code",
      "source": [
        " # now define a class of CNN model\n",
        "class CNN_w64_o25(nn.Module):\n",
        "  def __init__(self):\n",
        "    super(CNN_w64_o25, self).__init__()\n",
        "    self.layer1 = nn.Sequential(\n",
        "            nn.Conv2d(1, 16, kernel_size=5, stride=1, padding=2),\n",
        "            nn.ReLU(),\n",
        "            nn.BatchNorm2d(16),\n",
        "            nn.MaxPool2d(kernel_size=2, stride=2))\n",
        "    self.layer2 = nn.Sequential(\n",
        "             nn.Conv2d(16, 32, kernel_size=5, stride=1, padding=2),\n",
        "             nn.ReLU(),\n",
        "             nn.BatchNorm2d(32),\n",
        "             nn.MaxPool2d(2,2))\n",
        "    self.layer3 = nn.Sequential(\n",
        "            nn.Conv2d(32, 64, kernel_size=5, stride=1, padding=2),\n",
        "            nn.ReLU()\n",
        "    )\n",
        "    self.drop_out = nn.Dropout()\n",
        "    self.fc1 = nn.Linear(768, 512)\n",
        "    self.fc3 = nn.Linear(512,12)\n",
        "  def forward(self, x):\n",
        "        out = self.layer1(x)\n",
        "        out = self.layer2(out)\n",
        "        out = self.layer3(out)\n",
        "        out = out.reshape(out.size(0), -1)\n",
        "        out = self.drop_out(out)\n",
        "        out = self.fc1(out)\n",
        "        out = self.fc3(out)\n",
        "        return out\n",
        "        \n",
        "model_w64_o25 = CNN_w64_o25().to(device)"
      ],
      "metadata": {
        "id": "D9r9pZ7yGxKC"
      },
      "execution_count": null,
      "outputs": []
    },
    {
      "cell_type": "code",
      "source": [
        "epoches = 50\n",
        "lr = 0.001\n",
        "criterion = nn.CrossEntropyLoss()\n",
        "optimizer = optim.SGD(model_w64_o25.parameters(),lr=lr, weight_decay=0.0001,momentum = 0.8)"
      ],
      "metadata": {
        "id": "Vur7pr3HGy1k"
      },
      "execution_count": null,
      "outputs": []
    },
    {
      "cell_type": "code",
      "source": [
        "# training\n",
        "loss_list = []\n",
        "for epoch in range(epoches):\n",
        "    acc = 0\n",
        "    correct = 0\n",
        "    total = 0\n",
        "    loss_num = 0\n",
        "    runtime_loss = 0\n",
        "    for (imgs,labels) in train_loader_0_overlapping:\n",
        "        imgs = imgs.reshape(len(imgs),1,12,16)     \n",
        "        imgs = imgs.to(device)\n",
        "        labels = labels.type(torch.LongTensor)\n",
        "        labels = labels.to(device)\n",
        "        optimizer.zero_grad()\n",
        "        outputs = model_w64_o25(imgs)\n",
        "        loss = criterion(outputs, labels)\n",
        "        runtime_loss += loss.item()\n",
        "        loss.backward()\n",
        "        optimizer.step()\n",
        "        total += labels.size(0)\n",
        "        _,predicted = torch.max(outputs.data,1)\n",
        "        correct += (predicted == labels).sum().item()\n",
        "        loss_num+=1\n",
        "    acc = 100 * correct / total\n",
        "    epoch_loss = runtime_loss / loss_num\n",
        "    loss_list.append(epoch_loss)\n",
        "    loss_num = 0\n",
        "    print(\"Epoch: \",epoch+1, \"accuracy: \", acc,' %',\"Loss: \",epoch_loss)"
      ],
      "metadata": {
        "colab": {
          "base_uri": "https://localhost:8080/"
        },
        "id": "CkbDzDDdG4Bo",
        "outputId": "60fee031-1420-4579-df23-c0b3acaff165"
      },
      "execution_count": null,
      "outputs": [
        {
          "output_type": "stream",
          "name": "stdout",
          "text": [
            "Epoch:  1 accuracy:  36.3327922672297  % Loss:  1.6524157196539255\n",
            "Epoch:  2 accuracy:  49.318378754408876  % Loss:  1.336450382566936\n",
            "Epoch:  3 accuracy:  60.70761682756264  % Loss:  1.029630425942307\n",
            "Epoch:  4 accuracy:  64.67774021504326  % Loss:  0.9257830115708404\n",
            "Epoch:  5 accuracy:  66.81596836593968  % Loss:  0.8721647125775697\n",
            "Epoch:  6 accuracy:  68.23779245029718  % Loss:  0.8329550568988601\n",
            "Epoch:  7 accuracy:  69.47044680669295  % Loss:  0.8068205141211561\n",
            "Epoch:  8 accuracy:  70.3479502544638  % Loss:  0.7826960577013714\n",
            "Epoch:  9 accuracy:  71.21691055322992  % Loss:  0.7606658184090971\n",
            "Epoch:  10 accuracy:  71.95284181749393  % Loss:  0.740564959971445\n",
            "Epoch:  11 accuracy:  72.40440826488644  % Loss:  0.7273287161498401\n",
            "Epoch:  12 accuracy:  73.31486385881836  % Loss:  0.7111620372343026\n",
            "Epoch:  13 accuracy:  73.64194442071347  % Loss:  0.7019339724037444\n",
            "Epoch:  14 accuracy:  74.0251656760682  % Loss:  0.6887544886987718\n",
            "Epoch:  15 accuracy:  74.45354357616218  % Loss:  0.6768421715446787\n",
            "Epoch:  16 accuracy:  74.9758961153081  % Loss:  0.6670529311006652\n",
            "Epoch:  17 accuracy:  75.34691287208464  % Loss:  0.6568807371187545\n",
            "Epoch:  18 accuracy:  75.51777585217911  % Loss:  0.6521349450883039\n",
            "Epoch:  19 accuracy:  75.8216678667757  % Loss:  0.6373742638762159\n",
            "Epoch:  20 accuracy:  76.2524866665853  % Loss:  0.6295392129637132\n",
            "Epoch:  21 accuracy:  76.45752224269866  % Loss:  0.6230355139405908\n",
            "Epoch:  22 accuracy:  76.67476231739019  % Loss:  0.6163858192261079\n",
            "Epoch:  23 accuracy:  76.90298644080208  % Loss:  0.6103725436374045\n",
            "Epoch:  24 accuracy:  77.08361301975908  % Loss:  0.6067308083955987\n",
            "Epoch:  25 accuracy:  77.37163918620404  % Loss:  0.5974409919898087\n",
            "Epoch:  26 accuracy:  77.69871974809915  % Loss:  0.5905648829134807\n",
            "Epoch:  27 accuracy:  77.69139704895224  % Loss:  0.584132925106342\n",
            "Epoch:  28 accuracy:  77.94280971966266  % Loss:  0.5803421778105647\n",
            "Epoch:  29 accuracy:  78.10024775132113  % Loss:  0.5769003212544994\n",
            "Epoch:  30 accuracy:  78.28087433027814  % Loss:  0.5711380320540822\n",
            "Epoch:  31 accuracy:  78.50543710411658  % Loss:  0.5651799427122924\n",
            "Epoch:  32 accuracy:  78.62626164004052  % Loss:  0.5625072724995066\n",
            "Epoch:  33 accuracy:  78.71169313008775  % Loss:  0.5551022393665306\n",
            "Epoch:  34 accuracy:  78.90452420762293  % Loss:  0.5528599840532886\n",
            "Epoch:  35 accuracy:  79.08148943700648  % Loss:  0.5502593360265469\n",
            "Epoch:  36 accuracy:  79.13030743131918  % Loss:  0.5447815653404903\n",
            "Epoch:  37 accuracy:  79.3182567094231  % Loss:  0.5428429786741129\n",
            "Epoch:  38 accuracy:  79.39148370089215  % Loss:  0.5378345547943354\n",
            "Epoch:  39 accuracy:  79.6099442254415  % Loss:  0.534474437982193\n",
            "Epoch:  40 accuracy:  79.3048317609871  % Loss:  0.537568405282209\n",
            "Epoch:  41 accuracy:  79.82474340041739  % Loss:  0.525503563331869\n",
            "Epoch:  42 accuracy:  79.85769554657847  % Loss:  0.5223229227356386\n",
            "Epoch:  43 accuracy:  79.9223793890428  % Loss:  0.5264362664798756\n",
            "Epoch:  44 accuracy:  80.27508939795209  % Loss:  0.5177646648781454\n",
            "Epoch:  45 accuracy:  80.29461659567717  % Loss:  0.5128767312177915\n",
            "Epoch:  46 accuracy:  80.29583704553498  % Loss:  0.5127243254912449\n",
            "Epoch:  47 accuracy:  80.57654051283303  % Loss:  0.5063227260838628\n",
            "Epoch:  48 accuracy:  80.58630411169557  % Loss:  0.5053210500787703\n",
            "Epoch:  49 accuracy:  80.5399270170985  % Loss:  0.5048381332235351\n",
            "Epoch:  50 accuracy:  80.92314827245323  % Loss:  0.4998591920414723\n"
          ]
        }
      ]
    },
    {
      "cell_type": "code",
      "source": [
        "# test\n",
        "correct_test = 0\n",
        "\n",
        "total_test = 0\n",
        "\n",
        "with torch.no_grad():\n",
        "\n",
        "  for (imgs_test,labels_test) in test_loader_0_overlapping:\n",
        "\n",
        "    imgs_test = imgs_test.reshape(len(imgs_test),1,12,16)\n",
        "\n",
        "    imgs_test = imgs_test.to(device)\n",
        "\n",
        "    labels_test = labels_test.type(torch.LongTensor)\n",
        "\n",
        "    labels_test = labels_test.to(device)\n",
        "\n",
        "    outputs_test = model_w64_o25(imgs_test)\n",
        "\n",
        "    labels_test = labels_test.reshape(labels_test.shape[0],)\n",
        "\n",
        "    predicted_test = torch.max(outputs_test.data,1)[1]\n",
        "      \n",
        "    total_test += labels_test.size(0)\n",
        "      \n",
        "    correct_test += (predicted_test == labels_test).sum().item()\n",
        "\n",
        "    test_accuracy = 100*correct_test/total_test\n",
        "\n",
        "print('Test accuracy is: ',test_accuracy)"
      ],
      "metadata": {
        "colab": {
          "base_uri": "https://localhost:8080/"
        },
        "id": "nOoeykpHG5Pr",
        "outputId": "64e11d32-0235-4b08-b84f-3f65ce483e5c"
      },
      "execution_count": null,
      "outputs": [
        {
          "output_type": "stream",
          "name": "stdout",
          "text": [
            "Test accuracy is:  77.48457522543902\n"
          ]
        }
      ]
    },
    {
      "cell_type": "code",
      "source": [
        ""
      ],
      "metadata": {
        "id": "YF1JcGgPt5Sy"
      },
      "execution_count": null,
      "outputs": []
    }
  ]
}