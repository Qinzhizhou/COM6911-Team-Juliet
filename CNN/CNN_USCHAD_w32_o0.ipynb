{
  "nbformat": 4,
  "nbformat_minor": 0,
  "metadata": {
    "colab": {
      "name": "CNN-USCHAD_w32_o0.ipynb",
      "provenance": [],
      "collapsed_sections": []
    },
    "kernelspec": {
      "name": "python3",
      "display_name": "Python 3"
    },
    "language_info": {
      "name": "python"
    },
    "accelerator": "GPU"
  },
  "cells": [
    {
      "cell_type": "code",
      "execution_count": null,
      "metadata": {
        "colab": {
          "base_uri": "https://localhost:8080/"
        },
        "id": "RvibMot9Dc7_",
        "outputId": "ad74ec77-793b-4078-c97c-3f09d33a5597"
      },
      "outputs": [
        {
          "output_type": "stream",
          "name": "stdout",
          "text": [
            "Mounted at /content/drive\n"
          ]
        }
      ],
      "source": [
        "from google.colab import drive\n",
        "drive.mount('/content/drive')"
      ]
    },
    {
      "cell_type": "code",
      "source": [
        "import numpy as np\n",
        "import pandas as pd\n",
        "import re\n",
        "import matplotlib.pyplot as plt\n",
        "from collections import Counter\n",
        "from sklearn.model_selection import train_test_split\n",
        "\n",
        "from tqdm import tqdm\n",
        "import numpy as np\n",
        "import torch\n",
        "import torchvision\n",
        "import torch.nn as nn\n",
        "import torch.nn.functional as F\n",
        "from torch.autograd import Variable\n",
        "from torch.utils.data import TensorDataset\n",
        "import torch.optim as optim\n",
        "import torch.utils.data as data\n",
        "from torchvision import datasets\n",
        "import torchvision.transforms as transforms\n",
        "\n",
        "device = torch.device(\"cuda\" if torch.cuda.is_available() else \"cpu\") # use gpu"
      ],
      "metadata": {
        "id": "0f8yl0wpDjcz"
      },
      "execution_count": null,
      "outputs": []
    },
    {
      "cell_type": "code",
      "source": [
        "# loading data\n",
        "usc_raw_data = pd.read_csv('/content/drive/MyDrive/Industrial Team Project/USCHAD_rawdata.csv')"
      ],
      "metadata": {
        "id": "15eS-1-SDlHT"
      },
      "execution_count": null,
      "outputs": []
    },
    {
      "cell_type": "code",
      "source": [
        "# only features and label.\n",
        "usc_unprocessed = usc_raw_data[['acc_x','acc_y','acc_z','gyro_x','gyro_y','gyro_z','label']]"
      ],
      "metadata": {
        "id": "Kfc7GyT9Dm4E"
      },
      "execution_count": null,
      "outputs": []
    },
    {
      "cell_type": "code",
      "source": [
        "# window_size: size of time window\n",
        "# step: overlapping\n",
        "# data: dataset\n",
        "def time_windows(window_size,overlapping,data):\n",
        "  sigmentation_data_temp = []\n",
        "  sigmentation_data = []\n",
        "  sigmentation_label = []\n",
        "  for i in range(0,len(data),overlapping):\n",
        "    acc_x = data['acc_x'].values[i:i+window_size]\n",
        "    acc_y = data['acc_y'].values[i:i+window_size]\n",
        "    acc_z = data['acc_z'].values[i:i+window_size]\n",
        "    gyro_x = data['gyro_x'].values[i:i+window_size]\n",
        "    gyro_y = data['gyro_y'].values[i:i+window_size]\n",
        "    gyro_z = data['gyro_z'].values[i:i+window_size]\n",
        "    total_label = data['label'].values[i:i+window_size]\n",
        "    label = Counter(total_label).most_common()[0][0]\n",
        "    sigmentation_data_temp.append([acc_x,acc_y,acc_z,gyro_x,gyro_y,gyro_z])\n",
        "    sigmentation_arr = np.asarray(sigmentation_data_temp)\n",
        "    sig_size = sigmentation_arr.shape\n",
        "    if sig_size[2] == window_size:\n",
        "      sigmentation_arr.reshape(window_size,6)\n",
        "      sigmentation_data.append(sigmentation_arr)\n",
        "      sigmentation_label.append(label)\n",
        "      sigmentation_data_temp = []\n",
        "    else:\n",
        "      sigmentation_data_temp = []\n",
        "\n",
        "  sigmentation_data_arr = np.asarray(sigmentation_data)\n",
        "  sigmentation_label_arr = np.asarray(sigmentation_label)\n",
        "\n",
        "  return sigmentation_data_arr,sigmentation_label_arr"
      ],
      "metadata": {
        "id": "ZKc1xo5XDoP1"
      },
      "execution_count": null,
      "outputs": []
    },
    {
      "cell_type": "code",
      "source": [
        "# here use semi-non-overlapping\n",
        "# signal segmentation and relevant labels\n",
        "uci_readings,uci_labels = time_windows(32,32,usc_unprocessed)"
      ],
      "metadata": {
        "id": "TI-zE7iNDpoY"
      },
      "execution_count": null,
      "outputs": []
    },
    {
      "cell_type": "code",
      "source": [
        "# in the model, requires 0-n label so make labels from 1-12 into 0-11\n",
        "uci_labels = uci_labels-1"
      ],
      "metadata": {
        "id": "30O-3c8GDteF"
      },
      "execution_count": null,
      "outputs": []
    },
    {
      "cell_type": "code",
      "source": [
        "# use train_test_split to generate train,val and test data\n",
        "x_train_0_overlapping,x_val_test_0_overlapping,y_train_0_overlapping,y_val_test_0_overlapping = train_test_split(uci_readings,uci_labels,test_size = 0.3)\n",
        "x_val_0_overlapping,x_test_0_overlapping,y_val_0_overlapping,y_test_0_overlapping = train_test_split(x_val_test_0_overlapping,y_val_test_0_overlapping,test_size = 0.3 )"
      ],
      "metadata": {
        "id": "X4aD_358Du2U"
      },
      "execution_count": null,
      "outputs": []
    },
    {
      "cell_type": "code",
      "source": [
        "train_dataset_0_overlapping = TensorDataset(torch.from_numpy(x_train_0_overlapping).to(torch.float32),torch.from_numpy(y_train_0_overlapping).to(torch.float32))\n",
        "val_dataset_0_overlapping = TensorDataset(torch.from_numpy(x_val_0_overlapping).to(torch.float32),torch.from_numpy(y_val_0_overlapping).to(torch.float32))\n",
        "test_dataset_0_overlapping = TensorDataset(torch.from_numpy(x_test_0_overlapping).to(torch.float32),torch.from_numpy(y_test_0_overlapping).to(torch.float32))"
      ],
      "metadata": {
        "id": "aupG4vD_D7Jo"
      },
      "execution_count": null,
      "outputs": []
    },
    {
      "cell_type": "code",
      "source": [
        "# DataLoader generation\n",
        "train_loader_0_overlapping = data.DataLoader(dataset = train_dataset_0_overlapping,batch_size = 64,shuffle = True)\n",
        "val_loader_0_overlapping = data.DataLoader(dataset = val_dataset_0_overlapping,batch_size = 64,shuffle = True)\n",
        "test_loader_0_overlapping = data.DataLoader(dataset = test_dataset_0_overlapping,batch_size = 64,shuffle = False)"
      ],
      "metadata": {
        "id": "Iky3kN0qETo7"
      },
      "execution_count": null,
      "outputs": []
    },
    {
      "cell_type": "code",
      "source": [
        " # now define a class of CNN model\n",
        "class CNN_w64_o0(nn.Module):\n",
        "  def __init__(self):\n",
        "    super(CNN_w64_o0, self).__init__()\n",
        "    self.layer1 = nn.Sequential(\n",
        "            nn.Conv2d(1, 16, kernel_size=5, stride=1, padding=2),\n",
        "            nn.ReLU(),\n",
        "            nn.BatchNorm2d(16),\n",
        "            nn.MaxPool2d(kernel_size=2, stride=2))\n",
        "    self.layer2 = nn.Sequential(\n",
        "             nn.Conv2d(16, 32, kernel_size=5, stride=1, padding=2),\n",
        "             nn.ReLU(),\n",
        "             nn.BatchNorm2d(32),\n",
        "             nn.MaxPool2d(2,2))\n",
        "    self.layer3 = nn.Sequential(\n",
        "            nn.Conv2d(32, 64, kernel_size=5, stride=1, padding=2),\n",
        "            nn.ReLU()\n",
        "    )\n",
        "    self.drop_out = nn.Dropout()\n",
        "    self.fc1 = nn.Linear(768, 512)\n",
        "    self.fc3 = nn.Linear(512,12)\n",
        "  def forward(self, x):\n",
        "        out = self.layer1(x)\n",
        "        out = self.layer2(out)\n",
        "        out = self.layer3(out)\n",
        "        out = out.reshape(out.size(0), -1)\n",
        "        out = self.drop_out(out)\n",
        "        out = self.fc1(out)\n",
        "        out = self.fc3(out)\n",
        "        return out\n",
        "        \n",
        "model_w64_o0 = CNN_w64_o0().to(device)"
      ],
      "metadata": {
        "id": "Jwhefq2ME_yL"
      },
      "execution_count": null,
      "outputs": []
    },
    {
      "cell_type": "code",
      "source": [
        "epoches = 50\n",
        "lr = 0.001\n",
        "criterion = nn.CrossEntropyLoss()\n",
        "optimizer = optim.SGD(model_w64_o0.parameters(),lr=lr, weight_decay=0.0001,momentum = 0.8)"
      ],
      "metadata": {
        "id": "bS63vQYvFOS9"
      },
      "execution_count": null,
      "outputs": []
    },
    {
      "cell_type": "code",
      "source": [
        "# training\n",
        "loss_list = []\n",
        "for epoch in range(epoches):\n",
        "    acc = 0\n",
        "    correct = 0\n",
        "    total = 0\n",
        "    loss_num = 0\n",
        "    runtime_loss = 0\n",
        "    for (imgs,labels) in train_loader_0_overlapping:\n",
        "        imgs = imgs.reshape(len(imgs),1,12,16)     \n",
        "        imgs = imgs.to(device)\n",
        "        labels = labels.type(torch.LongTensor)\n",
        "        labels = labels.to(device)\n",
        "        optimizer.zero_grad()\n",
        "        outputs = model_w64_o0(imgs)\n",
        "        loss = criterion(outputs, labels)\n",
        "        runtime_loss += loss.item()\n",
        "        loss.backward()\n",
        "        optimizer.step()\n",
        "        total += labels.size(0)\n",
        "        _,predicted = torch.max(outputs.data,1)\n",
        "        correct += (predicted == labels).sum().item()\n",
        "        loss_num+=1\n",
        "    acc = 100 * correct / total\n",
        "    epoch_loss = runtime_loss / loss_num\n",
        "    loss_list.append(epoch_loss)\n",
        "    loss_num = 0\n",
        "    print(\"Epoch: \",epoch+1, \"accuracy: \", acc,' %',\"Loss: \",epoch_loss)"
      ],
      "metadata": {
        "colab": {
          "base_uri": "https://localhost:8080/"
        },
        "id": "21sLvyUFFRez",
        "outputId": "df3cd298-fa65-4b59-99ca-d1e3c9063016"
      },
      "execution_count": null,
      "outputs": [
        {
          "output_type": "stream",
          "name": "stdout",
          "text": [
            "Epoch:  1 accuracy:  34.50767253022635  % Loss:  1.7071170659268684\n",
            "Epoch:  2 accuracy:  45.706474866971504  % Loss:  1.4272465405677532\n",
            "Epoch:  3 accuracy:  56.26739133972304  % Loss:  1.1588154594558335\n",
            "Epoch:  4 accuracy:  62.48352399394659  % Loss:  0.9821788378982464\n",
            "Epoch:  5 accuracy:  64.93905911835061  % Loss:  0.9138429785122112\n",
            "Epoch:  6 accuracy:  66.66070004719053  % Loss:  0.8712594615805286\n",
            "Epoch:  7 accuracy:  67.95762615332042  % Loss:  0.8420192882744256\n",
            "Epoch:  8 accuracy:  68.87702797259695  % Loss:  0.8154238872423877\n",
            "Epoch:  9 accuracy:  69.7557482954453  % Loss:  0.7933347121609857\n",
            "Epoch:  10 accuracy:  70.81183994272045  % Loss:  0.7709307353032615\n",
            "Epoch:  11 accuracy:  71.33907213642946  % Loss:  0.7573742227983524\n",
            "Epoch:  12 accuracy:  71.83538639285308  % Loss:  0.7427447052453484\n",
            "Epoch:  13 accuracy:  72.5220900525605  % Loss:  0.7267969030805482\n",
            "Epoch:  14 accuracy:  73.09488552226905  % Loss:  0.708845135665709\n",
            "Epoch:  15 accuracy:  73.56841814069288  % Loss:  0.6999040351449886\n",
            "Epoch:  16 accuracy:  73.89549737197532  % Loss:  0.6901858987036654\n",
            "Epoch:  17 accuracy:  74.2176948236864  % Loss:  0.6798937836435162\n",
            "Epoch:  18 accuracy:  74.45527476282687  % Loss:  0.6711068839361963\n",
            "Epoch:  19 accuracy:  75.00366133467854  % Loss:  0.6609409941780952\n",
            "Epoch:  20 accuracy:  75.50485737067352  % Loss:  0.6511381083050826\n",
            "Epoch:  21 accuracy:  75.600865702244  % Loss:  0.6420715109025527\n",
            "Epoch:  22 accuracy:  75.85309098009861  % Loss:  0.6366311838922094\n",
            "Epoch:  23 accuracy:  75.93282671309781  % Loss:  0.6332520420481834\n",
            "Epoch:  24 accuracy:  76.33638715766521  % Loss:  0.6222521097367314\n",
            "Epoch:  25 accuracy:  76.68950254666167  % Loss:  0.6152254833639226\n",
            "Epoch:  26 accuracy:  76.8685011309456  % Loss:  0.6124432836809466\n",
            "Epoch:  27 accuracy:  76.95474590337331  % Loss:  0.6038754782120965\n",
            "Epoch:  28 accuracy:  77.24439815794184  % Loss:  0.5988586340002662\n",
            "Epoch:  29 accuracy:  77.47058727808243  % Loss:  0.5930415598150347\n",
            "Epoch:  30 accuracy:  77.56659560965291  % Loss:  0.5895091371531292\n",
            "Epoch:  31 accuracy:  77.63656778350935  % Loss:  0.5834864845323017\n",
            "Epoch:  32 accuracy:  77.77000309179373  % Loss:  0.5817214648755854\n",
            "Epoch:  33 accuracy:  78.21912681236067  % Loss:  0.5727262939021193\n",
            "Epoch:  34 accuracy:  78.51040632678632  % Loss:  0.5696563750164317\n",
            "Epoch:  35 accuracy:  78.18007257578962  % Loss:  0.5682591827863461\n",
            "Epoch:  36 accuracy:  78.55271508307162  % Loss:  0.5640167710250176\n",
            "Epoch:  37 accuracy:  78.67964135192749  % Loss:  0.5596961316717527\n",
            "Epoch:  38 accuracy:  78.82446747921176  % Loss:  0.5553297571659584\n",
            "Epoch:  39 accuracy:  78.91559403121084  % Loss:  0.551023569458109\n",
            "Epoch:  40 accuracy:  79.26545490049305  % Loss:  0.5478729585206967\n",
            "Epoch:  41 accuracy:  79.14666493092282  % Loss:  0.543039686597969\n",
            "Epoch:  42 accuracy:  79.42329910663433  % Loss:  0.5403775324062303\n",
            "Epoch:  43 accuracy:  79.30125461734984  % Loss:  0.5370325680577916\n",
            "Epoch:  44 accuracy:  79.67877890420321  % Loss:  0.532830454618452\n",
            "Epoch:  45 accuracy:  79.70806958163149  % Loss:  0.5300963539300675\n",
            "Epoch:  46 accuracy:  79.88218638634403  % Loss:  0.5250662918455519\n",
            "Epoch:  47 accuracy:  79.7633964167738  % Loss:  0.5233687780153987\n",
            "Epoch:  48 accuracy:  80.06932126991359  % Loss:  0.5164830829176769\n",
            "Epoch:  49 accuracy:  80.13441166419865  % Loss:  0.5163590496834309\n",
            "Epoch:  50 accuracy:  80.04816689177095  % Loss:  0.5170936740616978\n"
          ]
        }
      ]
    },
    {
      "cell_type": "code",
      "source": [
        "# test\n",
        "correct_test = 0\n",
        "\n",
        "total_test = 0\n",
        "\n",
        "with torch.no_grad():\n",
        "\n",
        "  for (imgs_test,labels_test) in test_loader_0_overlapping:\n",
        "\n",
        "    imgs_test = imgs_test.reshape(len(imgs_test),1,12,16)\n",
        "\n",
        "    imgs_test = imgs_test.to(device)\n",
        "\n",
        "    labels_test = labels_test.type(torch.LongTensor)\n",
        "\n",
        "    labels_test = labels_test.to(device)\n",
        "\n",
        "    outputs_test = model_w64_o0(imgs_test)\n",
        "\n",
        "    labels_test = labels_test.reshape(labels_test.shape[0],)\n",
        "\n",
        "    predicted_test = torch.max(outputs_test.data,1)[1]\n",
        "      \n",
        "    total_test += labels_test.size(0)\n",
        "      \n",
        "    correct_test += (predicted_test == labels_test).sum().item()\n",
        "\n",
        "    test_accuracy = 100*correct_test/total_test\n",
        "\n",
        "print('Test accuracy is: ',test_accuracy)"
      ],
      "metadata": {
        "colab": {
          "base_uri": "https://localhost:8080/"
        },
        "id": "Hy7JeNjFFUMi",
        "outputId": "e3ce2443-67f4-4d6f-eff9-6cd910cbaba5"
      },
      "execution_count": null,
      "outputs": [
        {
          "output_type": "stream",
          "name": "stdout",
          "text": [
            "Test accuracy is:  76.2591748924323\n"
          ]
        }
      ]
    },
    {
      "cell_type": "code",
      "source": [
        ""
      ],
      "metadata": {
        "id": "Uo8NcjPWsyGl"
      },
      "execution_count": null,
      "outputs": []
    }
  ]
}