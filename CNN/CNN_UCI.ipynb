{
 "cells": [
  {
   "cell_type": "code",
   "execution_count": 2,
   "id": "b63c2e40",
   "metadata": {},
   "outputs": [],
   "source": [
    "%matplotlib inline\n",
    "import matplotlib.pyplot as plt\n",
    "import numpy as np\n",
    "import torch\n",
    "import torch.nn as nn\n",
    "import torch.nn.functional as F\n",
    "import torch.optim as optim\n",
    "import torchvision\n",
    "from torchvision import datasets, transforms\n",
    "from torch.utils.data import TensorDataset, DataLoader\n",
    "from sklearn import metrics\n",
    "import seaborn as sns"
   ]
  },
  {
   "cell_type": "code",
   "execution_count": 3,
   "id": "9491acbf",
   "metadata": {},
   "outputs": [],
   "source": [
    "if torch.cuda.is_available():\n",
    "    torch.cuda.manual_seed_all(11)"
   ]
  },
  {
   "cell_type": "code",
   "execution_count": 4,
   "id": "eb89e572",
   "metadata": {},
   "outputs": [],
   "source": [
    "train_features = np.load('../Data/UCI_train_features.npy')\n",
    "test_features = np.load('../Data/UCI_test_features.npy')\n",
    "train_labels = np.load('../Data/UCI_train_labels.npy')\n",
    "test_labels = np.load('../Data/UCI_test_labels.npy')"
   ]
  },
  {
   "cell_type": "code",
   "execution_count": 5,
   "id": "19740feb",
   "metadata": {},
   "outputs": [],
   "source": [
    "train_labels = train_labels - 1\n",
    "test_labels = test_labels - 1"
   ]
  },
  {
   "cell_type": "code",
   "execution_count": 6,
   "id": "eff03d8f",
   "metadata": {},
   "outputs": [],
   "source": [
    "tensor_train_features = torch.Tensor(train_features)\n",
    "tensor_train_labels = torch.Tensor(train_labels)\n",
    "tensor_test_features = torch.Tensor(test_features)\n",
    "tensor_test_labels = torch.Tensor(test_labels)\n",
    "\n",
    "# Add one dimension of channel\n",
    "tensor_train_features = torch.unsqueeze(tensor_train_features, 1)\n",
    "tensor_test_features = torch.unsqueeze(tensor_test_features, 1)\n",
    "train_dataset = TensorDataset(tensor_train_features, tensor_train_labels)\n",
    "test_dataset = TensorDataset(tensor_test_features, tensor_test_labels)"
   ]
  },
  {
   "cell_type": "code",
   "execution_count": 6,
   "id": "6ca4cb9a",
   "metadata": {},
   "outputs": [],
   "source": []
  },
  {
   "cell_type": "code",
   "execution_count": 9,
   "id": "ae070d86",
   "metadata": {},
   "outputs": [],
   "source": [
    "train_loader = torch.utils.data.DataLoader(dataset=train_dataset,batch_size=32,shuffle=True)\n",
    "test_loader = torch.utils.data.DataLoader(dataset=test_dataset,batch_size=32,shuffle=True)"
   ]
  },
  {
   "cell_type": "markdown",
   "id": "75b03a89",
   "metadata": {},
   "source": [
    "## 2 layers with kernerl_size = 3"
   ]
  },
  {
   "cell_type": "code",
   "execution_count": 35,
   "id": "6d1ed23b",
   "metadata": {},
   "outputs": [],
   "source": [
    "# num_feature = 9\n",
    "# feature_width = 128\n",
    "# kernel_size = 2\n",
    "\n",
    "#\n",
    "class CNN_1(nn.Module):\n",
    "    def __init__(self):\n",
    "        super(CNN_1, self).__init__()\n",
    "        self.layer1 = nn.Sequential(\n",
    "            nn.Conv2d(1, 16, kernel_size=3, stride=1, padding=2),\n",
    "            nn.ReLU(),\n",
    "            nn.MaxPool2d(kernel_size=2, stride=2))\n",
    "        self.layer2 = nn.Sequential(\n",
    "            nn.Conv2d(16, 32, kernel_size=3, stride=1, padding=2),\n",
    "            nn.ReLU())\n",
    "        self.drop_out = nn.Dropout()\n",
    "        self.fc1 = nn.Linear(12768, 500)\n",
    "        self.fc2 = nn.Linear(500, 6)\n",
    "        \n",
    "    \n",
    "    def forward(self, x):\n",
    "        out = self.layer1(x)\n",
    "        out = self.layer2(out)\n",
    "        out = out.reshape(out.size(0), -1)\n",
    "        out = self.drop_out(out)\n",
    "        out = self.fc1(out)\n",
    "        out = self.fc2(out)\n",
    "        return out"
   ]
  },
  {
   "cell_type": "code",
   "execution_count": 36,
   "id": "35ba514c",
   "metadata": {},
   "outputs": [],
   "source": [
    "device = torch.device(\"cuda:0\" if torch.cuda.is_available() else \"cpu\")\n",
    "model_1 = CNN_1().to(device)\n",
    "\n",
    "epoches = 15\n",
    "lr = 0.001\n",
    "weight_decay = 0.0001\n",
    "criterion = nn.CrossEntropyLoss()\n",
    "optimizer = optim.Adam(model_1.parameters(), lr=lr, weight_decay=weight_decay)"
   ]
  },
  {
   "cell_type": "code",
   "execution_count": 37,
   "id": "4d3a389e",
   "metadata": {},
   "outputs": [
    {
     "name": "stdout",
     "output_type": "stream",
     "text": [
      "Epoch:  1 accuracy:  71.87159956474429  % Loss:  1.6626110982311808\n",
      "Epoch:  2 accuracy:  82.44015233949946  % Loss:  0.47157552303827327\n",
      "Epoch:  3 accuracy:  83.7867247007617  % Loss:  0.4431917309113171\n",
      "Epoch:  4 accuracy:  85.24211099020674  % Loss:  0.4065775168006835\n",
      "Epoch:  5 accuracy:  85.02448313384113  % Loss:  0.4002727435982746\n",
      "Epoch:  6 accuracy:  85.18770402611534  % Loss:  0.3964846362562283\n",
      "Epoch:  7 accuracy:  86.33025027203482  % Loss:  0.3758435803263084\n",
      "Epoch:  8 accuracy:  85.78618063112079  % Loss:  0.38960091678992564\n",
      "Epoch:  9 accuracy:  86.33025027203482  % Loss:  0.38171899824038796\n",
      "Epoch:  10 accuracy:  86.05821545157781  % Loss:  0.3818367587483448\n",
      "Epoch:  11 accuracy:  86.34385201305767  % Loss:  0.37846272853405577\n",
      "Epoch:  12 accuracy:  86.6158868335147  % Loss:  0.3765899907635606\n",
      "Epoch:  13 accuracy:  86.41186071817192  % Loss:  0.3722501964348814\n",
      "Epoch:  14 accuracy:  85.84058759521218  % Loss:  0.3812672497137733\n",
      "Epoch:  15 accuracy:  86.86071817192601  % Loss:  0.37511233230647834\n"
     ]
    }
   ],
   "source": [
    "# training\n",
    "loss_list = []\n",
    "for epoch in range(epoches):\n",
    "    acc = 0\n",
    "    correct = 0\n",
    "    total = 0\n",
    "    loss_num = 0\n",
    "    runtime_loss = 0\n",
    "    for (imgs,labels) in train_loader:\n",
    "        imgs = imgs.reshape(len(imgs),1,32,36)     \n",
    "        imgs = imgs.to(device)\n",
    "        labels = labels.type(torch.LongTensor)\n",
    "        labels = labels.to(device)\n",
    "        optimizer.zero_grad()\n",
    "        outputs = model_1(imgs)\n",
    "        loss = criterion(outputs, labels)\n",
    "        runtime_loss += loss.item()\n",
    "        loss.backward()\n",
    "        optimizer.step()\n",
    "        total += labels.size(0)\n",
    "        _,predicted = torch.max(outputs.data,1)\n",
    "        correct += (predicted == labels).sum().item()\n",
    "        loss_num+=1\n",
    "    acc = 100 * correct / total\n",
    "    epoch_loss = runtime_loss / loss_num\n",
    "    loss_list.append(epoch_loss)\n",
    "    loss_num = 0\n",
    "    print(\"Epoch: \",epoch+1, \"accuracy: \", acc,' %',\"Loss: \",epoch_loss)"
   ]
  },
  {
   "cell_type": "code",
   "execution_count": 38,
   "id": "7e3ae542",
   "metadata": {},
   "outputs": [
    {
     "name": "stdout",
     "output_type": "stream",
     "text": [
      "test accuracy is:  79.33491686460808\n"
     ]
    }
   ],
   "source": [
    "# test\n",
    "correct_test = 0\n",
    "\n",
    "total_test = 0\n",
    "\n",
    "with torch.no_grad():\n",
    "      for (imgs_test,labels_test) in test_loader:\n",
    "        imgs_test = imgs_test.reshape(len(imgs_test),1,32,36)\n",
    "        imgs_test = imgs_test.to(device)\n",
    "        \n",
    "        labels_test = labels_test.type(torch.LongTensor)\n",
    "        labels_test = labels_test.to(device)\n",
    "\n",
    "        outputs_test = model_1(imgs_test)\n",
    "        labels_test = labels_test.reshape(labels_test.shape[0],)\n",
    "        predicted_test = torch.max(outputs_test.data,1)[1]\n",
    "      \n",
    "        total_test += labels_test.size(0)\n",
    "        correct_test += (predicted_test == labels_test).sum().item()\n",
    "        test_accuracy = 100*correct_test/total_test\n",
    "\n",
    "print('test accuracy is: ',test_accuracy)"
   ]
  },
  {
   "cell_type": "code",
   "execution_count": 39,
   "id": "cb4d1398",
   "metadata": {},
   "outputs": [
    {
     "data": {
      "image/png": "[encoded data removed]",
      "text/plain": [
       "<Figure size 432x288 with 1 Axes>"
      ]
     },
     "metadata": {
      "needs_background": "light"
     },
     "output_type": "display_data"
    }
   ],
   "source": [
    "import matplotlib.pyplot as plt\n",
    "x = []\n",
    "for i in range(1,16):\n",
    "  x.append(i)\n",
    "y = loss_list\n",
    "fig = plt.figure()\n",
    "plt.plot(x,y,color = 'blue')\n",
    "plt.title('training loss history')\n",
    "plt.show()"
   ]
  },
  {
   "cell_type": "markdown",
   "id": "033cc20f",
   "metadata": {},
   "source": [
    "## 2 layers with kernerl_size = 5"
   ]
  },
  {
   "cell_type": "code",
   "execution_count": 41,
   "id": "9a55976d",
   "metadata": {},
   "outputs": [],
   "source": [
    "# num_feature = 9\n",
    "# feature_width = 128\n",
    "# kernel_size = 2\n",
    "\n",
    "#\n",
    "class CNN_2(nn.Module):\n",
    "    def __init__(self):\n",
    "        super(CNN_2, self).__init__()\n",
    "        self.layer1 = nn.Sequential(\n",
    "            nn.Conv2d(1, 16, kernel_size=5, stride=1, padding=2),\n",
    "            nn.ReLU(),\n",
    "            nn.MaxPool2d(kernel_size=2, stride=2))\n",
    "        self.layer2 = nn.Sequential(\n",
    "            nn.Conv2d(16, 32, kernel_size=5, stride=1, padding=2),\n",
    "            nn.ReLU())\n",
    "        self.drop_out = nn.Dropout()\n",
    "        self.fc1 = nn.Linear(9216, 500)\n",
    "        self.fc2 = nn.Linear(500, 6)\n",
    "        \n",
    "    \n",
    "    def forward(self, x):\n",
    "        out = self.layer1(x)\n",
    "        out = self.layer2(out)\n",
    "        out = out.reshape(out.size(0), -1)\n",
    "        out = self.drop_out(out)\n",
    "        out = self.fc1(out)\n",
    "        out = self.fc2(out)\n",
    "        return out"
   ]
  },
  {
   "cell_type": "code",
   "execution_count": 42,
   "id": "0df8eb69",
   "metadata": {},
   "outputs": [],
   "source": [
    "device = torch.device(\"cuda:0\" if torch.cuda.is_available() else \"cpu\")\n",
    "model_2 = CNN_2().to(device)\n",
    "\n",
    "epoches = 15\n",
    "lr = 0.001\n",
    "weight_decay = 0.0001\n",
    "criterion = nn.CrossEntropyLoss()\n",
    "optimizer = optim.Adam(model_2.parameters(), lr=lr, weight_decay=weight_decay)"
   ]
  },
  {
   "cell_type": "code",
   "execution_count": 43,
   "id": "07c4873f",
   "metadata": {},
   "outputs": [
    {
     "name": "stdout",
     "output_type": "stream",
     "text": [
      "Epoch:  1 accuracy:  70.18498367791078  % Loss:  1.2964049818723098\n",
      "Epoch:  2 accuracy:  80.83514689880305  % Loss:  0.5009440429184748\n",
      "Epoch:  3 accuracy:  84.24918389553864  % Loss:  0.4271845673089442\n",
      "Epoch:  4 accuracy:  83.97714907508161  % Loss:  0.4156005214089933\n",
      "Epoch:  5 accuracy:  85.09249183895538  % Loss:  0.3813711926017119\n",
      "Epoch:  6 accuracy:  85.60935799782372  % Loss:  0.3716955223809118\n",
      "Epoch:  7 accuracy:  86.49347116430903  % Loss:  0.3409122241579968\n",
      "Epoch:  8 accuracy:  87.07834602829162  % Loss:  0.34417416910114496\n",
      "Epoch:  9 accuracy:  86.79270946681176  % Loss:  0.34629307567425394\n",
      "Epoch:  10 accuracy:  87.54080522306856  % Loss:  0.33649568434642707\n",
      "Epoch:  11 accuracy:  86.90152339499456  % Loss:  0.33298148956635726\n",
      "Epoch:  12 accuracy:  86.99673558215451  % Loss:  0.3349914050620535\n",
      "Epoch:  13 accuracy:  87.5544069640914  % Loss:  0.32814345780922016\n",
      "Epoch:  14 accuracy:  87.40478781284004  % Loss:  0.3204535435723222\n",
      "Epoch:  15 accuracy:  87.18715995647443  % Loss:  0.32705960506978243\n"
     ]
    }
   ],
   "source": [
    "# training\n",
    "loss_list = []\n",
    "for epoch in range(epoches):\n",
    "    acc = 0\n",
    "    correct = 0\n",
    "    total = 0\n",
    "    loss_num = 0\n",
    "    runtime_loss = 0\n",
    "    for (imgs,labels) in train_loader:\n",
    "        imgs = imgs.reshape(len(imgs),1,32,36)     \n",
    "        imgs = imgs.to(device)\n",
    "        labels = labels.type(torch.LongTensor)\n",
    "        labels = labels.to(device)\n",
    "        optimizer.zero_grad()\n",
    "        outputs = model_2(imgs)\n",
    "        loss = criterion(outputs, labels)\n",
    "        runtime_loss += loss.item()\n",
    "        loss.backward()\n",
    "        optimizer.step()\n",
    "        total += labels.size(0)\n",
    "        _,predicted = torch.max(outputs.data,1)\n",
    "        correct += (predicted == labels).sum().item()\n",
    "        loss_num+=1\n",
    "    acc = 100 * correct / total\n",
    "    epoch_loss = runtime_loss / loss_num\n",
    "    loss_list.append(epoch_loss)\n",
    "    loss_num = 0\n",
    "    print(\"Epoch: \",epoch+1, \"accuracy: \", acc,' %',\"Loss: \",epoch_loss)"
   ]
  },
  {
   "cell_type": "code",
   "execution_count": 44,
   "id": "2f0061de",
   "metadata": {},
   "outputs": [
    {
     "data": {
      "image/png": "[encoded data removed]",
      "text/plain": [
       "<Figure size 432x288 with 1 Axes>"
      ]
     },
     "metadata": {
      "needs_background": "light"
     },
     "output_type": "display_data"
    }
   ],
   "source": [
    "import matplotlib.pyplot as plt\n",
    "x = []\n",
    "for i in range(1,16):\n",
    "  x.append(i)\n",
    "y = loss_list\n",
    "fig = plt.figure()\n",
    "plt.plot(x,y,color = 'blue')\n",
    "plt.title('training loss history')\n",
    "plt.show()"
   ]
  },
  {
   "cell_type": "code",
   "execution_count": 45,
   "id": "8b913bc9",
   "metadata": {},
   "outputs": [
    {
     "name": "stdout",
     "output_type": "stream",
     "text": [
      "test accuracy is:  81.54054971157109\n"
     ]
    }
   ],
   "source": [
    "# test\n",
    "correct_test = 0\n",
    "\n",
    "total_test = 0\n",
    "\n",
    "with torch.no_grad():\n",
    "      for (imgs_test,labels_test) in test_loader:\n",
    "        imgs_test = imgs_test.reshape(len(imgs_test),1,32,36)\n",
    "        imgs_test = imgs_test.to(device)\n",
    "        \n",
    "        labels_test = labels_test.type(torch.LongTensor)\n",
    "        labels_test = labels_test.to(device)\n",
    "\n",
    "        outputs_test = model_2(imgs_test)\n",
    "        labels_test = labels_test.reshape(labels_test.shape[0],)\n",
    "        predicted_test = torch.max(outputs_test.data,1)[1]\n",
    "      \n",
    "        total_test += labels_test.size(0)\n",
    "        correct_test += (predicted_test == labels_test).sum().item()\n",
    "        test_accuracy = 100*correct_test/total_test\n",
    "\n",
    "print('test accuracy is: ',test_accuracy)"
   ]
  },
  {
   "cell_type": "markdown",
   "id": "da1803ff",
   "metadata": {},
   "source": [
    "## 3 layers with kernerl_size = 3"
   ]
  },
  {
   "cell_type": "code",
   "execution_count": 57,
   "id": "b5ea716e",
   "metadata": {},
   "outputs": [],
   "source": [
    "# num_feature = 9\n",
    "# feature_width = 128\n",
    "# kernel_size = 2\n",
    "\n",
    "#\n",
    "class CNN_3(nn.Module):\n",
    "    def __init__(self):\n",
    "        super(CNN_3, self).__init__()\n",
    "        self.layer1 = nn.Sequential(\n",
    "            nn.Conv2d(1, 16, kernel_size=3, stride=1, padding=2),\n",
    "            nn.ReLU(),\n",
    "            nn.MaxPool2d(kernel_size=2, stride=2))\n",
    "        self.layer2 = nn.Sequential(\n",
    "            nn.Conv2d(16, 32, kernel_size=3, stride=1, padding=2),\n",
    "            nn.ReLU())\n",
    "        self.layer3 = nn.Sequential(\n",
    "            nn.Conv2d(32, 64, kernel_size=3, stride=1, padding=2),\n",
    "            nn.ReLU()\n",
    "        )\n",
    "        self.drop_out = nn.Dropout()\n",
    "        self.fc1 = nn.Linear(30912, 512)\n",
    "        self.fc3 = nn.Linear(512, 6)\n",
    "    \n",
    "    def forward(self, x):\n",
    "        out = self.layer1(x)\n",
    "        out = self.layer2(out)\n",
    "        out = self.layer3(out)\n",
    "        out = out.reshape(out.size(0), -1)\n",
    "        out = self.drop_out(out)\n",
    "        out = self.fc1(out)           \n",
    "        out = self.fc3(out)\n",
    "        return out\n",
    "        "
   ]
  },
  {
   "cell_type": "code",
   "execution_count": 58,
   "id": "cd572863",
   "metadata": {},
   "outputs": [],
   "source": [
    "device = torch.device(\"cuda:0\" if torch.cuda.is_available() else \"cpu\")\n",
    "model_3 = CNN_3().to(device)\n",
    "\n",
    "epoches = 15\n",
    "lr = 0.001\n",
    "weight_decay = 0.0001\n",
    "criterion = nn.CrossEntropyLoss()\n",
    "optimizer = optim.Adam(model_3.parameters(), lr=lr, weight_decay=weight_decay)"
   ]
  },
  {
   "cell_type": "code",
   "execution_count": 59,
   "id": "ae3a3558",
   "metadata": {},
   "outputs": [
    {
     "name": "stdout",
     "output_type": "stream",
     "text": [
      "Epoch:  1 accuracy:  77.2442872687704  % Loss:  0.8633785092312357\n",
      "Epoch:  2 accuracy:  85.21490750816105  % Loss:  0.40805489845249965\n",
      "Epoch:  3 accuracy:  85.71817192600653  % Loss:  0.3813986483475436\n",
      "Epoch:  4 accuracy:  86.46626768226334  % Loss:  0.36015337948565895\n",
      "Epoch:  5 accuracy:  86.54787812840044  % Loss:  0.35744648844651555\n",
      "Epoch:  6 accuracy:  86.6974972796518  % Loss:  0.3433948241012252\n",
      "Epoch:  7 accuracy:  87.22796517954298  % Loss:  0.3345272103729455\n",
      "Epoch:  8 accuracy:  87.69042437431992  % Loss:  0.3237963777197444\n",
      "Epoch:  9 accuracy:  88.39771490750816  % Loss:  0.3099410955996617\n",
      "Epoch:  10 accuracy:  88.03046789989119  % Loss:  0.30388745659071464\n",
      "Epoch:  11 accuracy:  87.81284004352557  % Loss:  0.31600110534092657\n",
      "Epoch:  12 accuracy:  88.32970620239391  % Loss:  0.3024260829810215\n",
      "Epoch:  13 accuracy:  88.84657236126225  % Loss:  0.28911827527310535\n",
      "Epoch:  14 accuracy:  88.65614798694233  % Loss:  0.2942570005584022\n",
      "Epoch:  15 accuracy:  89.32263329706203  % Loss:  0.27235578131740507\n"
     ]
    }
   ],
   "source": [
    "# training\n",
    "loss_list = []\n",
    "for epoch in range(epoches):\n",
    "    acc = 0\n",
    "    correct = 0\n",
    "    total = 0\n",
    "    loss_num = 0\n",
    "    runtime_loss = 0\n",
    "    for (imgs,labels) in train_loader:\n",
    "        imgs = imgs.reshape(len(imgs),1,32,36)     \n",
    "        imgs = imgs.to(device)\n",
    "        labels = labels.type(torch.LongTensor)\n",
    "        labels = labels.to(device)\n",
    "        optimizer.zero_grad()\n",
    "        outputs = model_3(imgs)\n",
    "        loss = criterion(outputs, labels)\n",
    "        runtime_loss += loss.item()\n",
    "        loss.backward()\n",
    "        optimizer.step()\n",
    "        total += labels.size(0)\n",
    "        _,predicted = torch.max(outputs.data,1)\n",
    "        correct += (predicted == labels).sum().item()\n",
    "        loss_num+=1\n",
    "    acc = 100 * correct / total\n",
    "    epoch_loss = runtime_loss / loss_num\n",
    "    loss_list.append(epoch_loss)\n",
    "    loss_num = 0\n",
    "    print(\"Epoch: \",epoch+1, \"accuracy: \", acc,' %',\"Loss: \",epoch_loss)"
   ]
  },
  {
   "cell_type": "code",
   "execution_count": 60,
   "id": "8910cd0e",
   "metadata": {},
   "outputs": [
    {
     "data": {
      "image/png": "[encoded data removed]",
      "text/plain": [
       "<Figure size 432x288 with 1 Axes>"
      ]
     },
     "metadata": {
      "needs_background": "light"
     },
     "output_type": "display_data"
    }
   ],
   "source": [
    "import matplotlib.pyplot as plt\n",
    "x = []\n",
    "for i in range(1,16):\n",
    "  x.append(i)\n",
    "y = loss_list\n",
    "fig = plt.figure()\n",
    "plt.plot(x,y,color = 'blue')\n",
    "plt.title('training loss history')\n",
    "plt.show()"
   ]
  },
  {
   "cell_type": "code",
   "execution_count": 61,
   "id": "ca89e974",
   "metadata": {},
   "outputs": [
    {
     "name": "stdout",
     "output_type": "stream",
     "text": [
      "test accuracy is:  83.20325755005089\n"
     ]
    }
   ],
   "source": [
    "# test\n",
    "correct_test = 0\n",
    "\n",
    "total_test = 0\n",
    "\n",
    "with torch.no_grad():\n",
    "      for (imgs_test,labels_test) in test_loader:\n",
    "        imgs_test = imgs_test.reshape(len(imgs_test),1,32,36)\n",
    "        imgs_test = imgs_test.to(device)\n",
    "        \n",
    "        labels_test = labels_test.type(torch.LongTensor)\n",
    "        labels_test = labels_test.to(device)\n",
    "\n",
    "        outputs_test = model_3(imgs_test)\n",
    "        labels_test = labels_test.reshape(labels_test.shape[0],)\n",
    "        predicted_test = torch.max(outputs_test.data,1)[1]\n",
    "      \n",
    "        total_test += labels_test.size(0)\n",
    "        correct_test += (predicted_test == labels_test).sum().item()\n",
    "        test_accuracy = 100*correct_test/total_test\n",
    "\n",
    "print('test accuracy is: ',test_accuracy)"
   ]
  },
  {
   "cell_type": "markdown",
   "id": "f8f39121",
   "metadata": {},
   "source": [
    "## 3 layers with kernerl_size = 5"
   ]
  },
  {
   "cell_type": "code",
   "execution_count": 69,
   "id": "e08dd332",
   "metadata": {},
   "outputs": [],
   "source": [
    "# num_feature = 9\n",
    "# feature_width = 128\n",
    "# kernel_size = 2\n",
    "\n",
    "#\n",
    "class CNN_4(nn.Module):\n",
    "    def __init__(self):\n",
    "        super(CNN_4, self).__init__()\n",
    "        self.layer1 = nn.Sequential(\n",
    "            nn.Conv2d(1, 16, kernel_size=5, stride=1, padding=2),\n",
    "            nn.ReLU(),\n",
    "            nn.MaxPool2d(kernel_size=2, stride=2))\n",
    "        self.layer2 = nn.Sequential(\n",
    "            nn.Conv2d(16, 32, kernel_size=5, stride=1, padding=2),\n",
    "            nn.ReLU())\n",
    "        self.layer3 = nn.Sequential(\n",
    "            nn.Conv2d(32, 64, kernel_size=5, stride=1, padding=2),\n",
    "            nn.ReLU()\n",
    "        )\n",
    "        self.drop_out = nn.Dropout()\n",
    "        self.fc1 = nn.Linear(18432, 512)\n",
    "        self.fc3 = nn.Linear(512, 6)\n",
    "    \n",
    "    def forward(self, x):\n",
    "        out = self.layer1(x)\n",
    "        out = self.layer2(out)\n",
    "        out = self.layer3(out)\n",
    "        out = out.reshape(out.size(0), -1)\n",
    "        out = self.drop_out(out)\n",
    "        out = self.fc1(out)           \n",
    "        out = self.fc3(out)\n",
    "        return out\n",
    "        "
   ]
  },
  {
   "cell_type": "code",
   "execution_count": 70,
   "id": "f2940fd3",
   "metadata": {},
   "outputs": [],
   "source": [
    "device = torch.device(\"cuda:0\" if torch.cuda.is_available() else \"cpu\")\n",
    "model_4 = CNN_4().to(device)\n",
    "\n",
    "epoches = 15\n",
    "lr = 0.001\n",
    "weight_decay = 0.0001\n",
    "criterion = nn.CrossEntropyLoss()\n",
    "optimizer = optim.Adam(model_4.parameters(), lr=lr, weight_decay=weight_decay)"
   ]
  },
  {
   "cell_type": "code",
   "execution_count": 71,
   "id": "c639c550",
   "metadata": {},
   "outputs": [
    {
     "name": "stdout",
     "output_type": "stream",
     "text": [
      "Epoch:  1 accuracy:  79.82861806311207  % Loss:  0.7690656593312388\n",
      "Epoch:  2 accuracy:  86.84711643090316  % Loss:  0.3518418017288913\n",
      "Epoch:  3 accuracy:  88.27529923830251  % Loss:  0.31279562782982123\n",
      "Epoch:  4 accuracy:  88.26169749727966  % Loss:  0.3106164123377074\n",
      "Epoch:  5 accuracy:  88.54733405875952  % Loss:  0.2847427765312402\n",
      "Epoch:  6 accuracy:  89.45865070729053  % Loss:  0.285028607122924\n",
      "Epoch:  7 accuracy:  88.80576713819369  % Loss:  0.2844672589522341\n",
      "Epoch:  8 accuracy:  89.56746463547334  % Loss:  0.27122323704154594\n",
      "Epoch:  9 accuracy:  89.52665941240478  % Loss:  0.2720216773612344\n",
      "Epoch:  10 accuracy:  89.54026115342764  % Loss:  0.26365167527743005\n",
      "Epoch:  11 accuracy:  90.26115342763873  % Loss:  0.25231804115616757\n",
      "Epoch:  12 accuracy:  89.89390642002176  % Loss:  0.2611407492795716\n",
      "Epoch:  13 accuracy:  90.75081610446136  % Loss:  0.2481404550211585\n",
      "Epoch:  14 accuracy:  90.13873775843308  % Loss:  0.25700056931084914\n",
      "Epoch:  15 accuracy:  90.09793253536452  % Loss:  0.26080856115921686\n"
     ]
    }
   ],
   "source": [
    "# training\n",
    "loss_list = []\n",
    "for epoch in range(epoches):\n",
    "    acc = 0\n",
    "    correct = 0\n",
    "    total = 0\n",
    "    loss_num = 0\n",
    "    runtime_loss = 0\n",
    "    for (imgs,labels) in train_loader:\n",
    "        imgs = imgs.reshape(len(imgs),1,32,36)     \n",
    "        imgs = imgs.to(device)\n",
    "        labels = labels.type(torch.LongTensor)\n",
    "        labels = labels.to(device)\n",
    "        optimizer.zero_grad()\n",
    "        outputs = model_4(imgs)\n",
    "        loss = criterion(outputs, labels)\n",
    "        runtime_loss += loss.item()\n",
    "        loss.backward()\n",
    "        optimizer.step()\n",
    "        total += labels.size(0)\n",
    "        _,predicted = torch.max(outputs.data,1)\n",
    "        correct += (predicted == labels).sum().item()\n",
    "        loss_num+=1\n",
    "    acc = 100 * correct / total\n",
    "    epoch_loss = runtime_loss / loss_num\n",
    "    loss_list.append(epoch_loss)\n",
    "    loss_num = 0\n",
    "    print(\"Epoch: \",epoch+1, \"accuracy: \", acc,' %',\"Loss: \",epoch_loss)"
   ]
  },
  {
   "cell_type": "code",
   "execution_count": 73,
   "id": "f6f5be1d",
   "metadata": {},
   "outputs": [
    {
     "name": "stdout",
     "output_type": "stream",
     "text": [
      "test accuracy is:  81.9816762809637\n"
     ]
    }
   ],
   "source": [
    "# test\n",
    "correct_test = 0\n",
    "\n",
    "total_test = 0\n",
    "\n",
    "with torch.no_grad():\n",
    "      for (imgs_test,labels_test) in test_loader:\n",
    "        imgs_test = imgs_test.reshape(len(imgs_test),1,32,36)\n",
    "        imgs_test = imgs_test.to(device)\n",
    "        \n",
    "        labels_test = labels_test.type(torch.LongTensor)\n",
    "        labels_test = labels_test.to(device)\n",
    "\n",
    "        outputs_test = model_4(imgs_test)\n",
    "        labels_test = labels_test.reshape(labels_test.shape[0],)\n",
    "        predicted_test = torch.max(outputs_test.data,1)[1]\n",
    "      \n",
    "        total_test += labels_test.size(0)\n",
    "        correct_test += (predicted_test == labels_test).sum().item()\n",
    "        test_accuracy = 100*correct_test/total_test\n",
    "\n",
    "print('test accuracy is: ',test_accuracy)"
   ]
  },
  {
   "cell_type": "code",
   "execution_count": 74,
   "id": "a1b48b10",
   "metadata": {},
   "outputs": [
    {
     "data": {
      "image/png": "[encoded data removed]",
      "text/plain": [
       "<Figure size 432x288 with 1 Axes>"
      ]
     },
     "metadata": {
      "needs_background": "light"
     },
     "output_type": "display_data"
    }
   ],
   "source": [
    "import matplotlib.pyplot as plt\n",
    "x = []\n",
    "for i in range(1,16):\n",
    "  x.append(i)\n",
    "y = loss_list\n",
    "fig = plt.figure()\n",
    "plt.plot(x,y,color = 'blue')\n",
    "plt.title('training loss history')\n",
    "plt.show()"
   ]
  }
 ],
 "metadata": {
  "kernelspec": {
   "display_name": "Python 3 (ipykernel)",
   "language": "python",
   "name": "python3"
  },
  "language_info": {
   "codemirror_mode": {
    "name": "ipython",
    "version": 3
   },
   "file_extension": ".py",
   "mimetype": "text/x-python",
   "name": "python",
   "nbconvert_exporter": "python",
   "pygments_lexer": "ipython3",
   "version": "3.9.7"
  }
 },
 "nbformat": 4,
 "nbformat_minor": 5
}
