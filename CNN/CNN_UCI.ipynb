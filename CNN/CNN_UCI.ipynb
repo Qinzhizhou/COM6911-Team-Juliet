{
 "cells": [
  {
   "cell_type": "code",
   "execution_count": 1,
   "id": "b63c2e40",
   "metadata": {},
   "outputs": [],
   "source": [
    "%matplotlib inline\n",
    "import matplotlib.pyplot as plt\n",
    "import numpy as np\n",
    "import torch\n",
    "import torch.nn as nn\n",
    "import torch.nn.functional as F\n",
    "import torch.optim as optim\n",
    "import torchvision\n",
    "from torchvision import datasets, transforms\n",
    "from torch.utils.data import TensorDataset, DataLoader\n",
    "from sklearn import metrics\n",
    "import seaborn as sns"
   ]
  },
  {
   "cell_type": "code",
   "execution_count": 2,
   "id": "9491acbf",
   "metadata": {},
   "outputs": [],
   "source": [
    "if torch.cuda.is_available():\n",
    "    torch.cuda.manual_seed_all(11)"
   ]
  },
  {
   "cell_type": "code",
   "execution_count": 43,
   "id": "eb89e572",
   "metadata": {},
   "outputs": [],
   "source": [
    "train_features = np.load('../Data/UCI_train_features.npy')\n",
    "test_features = np.load('../Data/UCI_test_features.npy')\n",
    "train_labels = np.load('../Data/UCI_train_labels.npy')\n",
    "test_labels = np.load('../Data/UCI_test_labels.npy')"
   ]
  },
  {
   "cell_type": "code",
   "execution_count": 44,
   "id": "19740feb",
   "metadata": {},
   "outputs": [],
   "source": [
    "train_labels = train_labels - 1\n",
    "test_labels = test_labels - 1"
   ]
  },
  {
   "cell_type": "code",
   "execution_count": 68,
   "id": "eff03d8f",
   "metadata": {},
   "outputs": [
    {
     "data": {
      "text/plain": [
       "array([4, 4, 4, 4, 4, 4, 4, 4, 4, 4, 4, 4, 4, 4, 4, 4, 4, 4, 4, 4, 4, 4,\n",
       "       4, 4, 4, 4, 4, 3, 3, 3, 3, 3, 3, 3, 3, 3, 3, 3, 3, 3, 3, 3, 3, 3,\n",
       "       3, 3, 3, 3, 3, 3, 3, 5, 5, 5, 5, 5, 5, 5, 5, 5, 5, 5, 5, 5, 5, 5,\n",
       "       5, 5, 5, 5, 5, 5, 5, 5, 5, 5, 5, 5, 0, 0, 0, 0, 0, 0, 0, 0, 0, 0,\n",
       "       0, 0, 0, 0, 0, 0, 0, 0, 0, 0, 0, 0])"
      ]
     },
     "execution_count": 68,
     "metadata": {},
     "output_type": "execute_result"
    }
   ],
   "source": [
    "train_labels[:100]\n"
   ]
  },
  {
   "cell_type": "code",
   "execution_count": 47,
   "id": "6ca4cb9a",
   "metadata": {},
   "outputs": [],
   "source": [
    "tensor_train_features = torch.Tensor(train_features)\n",
    "tensor_train_labels = torch.Tensor(train_labels)\n",
    "tensor_test_features = torch.Tensor(test_features)\n",
    "tensor_test_labels = torch.Tensor(test_labels)\n",
    "\n",
    "# Add one dimension of channel\n",
    "tensor_train_features = torch.unsqueeze(tensor_train_features, 1)\n",
    "tensor_test_features = torch.unsqueeze(tensor_test_features, 1)\n",
    "train_dataset = TensorDataset(tensor_train_features, tensor_train_labels)\n",
    "test_dataset = TensorDataset(tensor_test_features, tensor_test_labels)"
   ]
  },
  {
   "cell_type": "code",
   "execution_count": 124,
   "id": "ae070d86",
   "metadata": {},
   "outputs": [],
   "source": [
    "train_loader = torch.utils.data.DataLoader(dataset=train_dataset,batch_size=32,shuffle=True)\n",
    "test_loader = torch.utils.data.DataLoader(dataset=test_dataset,batch_size=32,shuffle=True)"
   ]
  },
  {
   "cell_type": "code",
   "execution_count": 126,
   "id": "ac8ce4c9",
   "metadata": {},
   "outputs": [
    {
     "name": "stdout",
     "output_type": "stream",
     "text": [
      "230\n"
     ]
    }
   ],
   "source": [
    "print(len(train_loader))"
   ]
  },
  {
   "cell_type": "code",
   "execution_count": 125,
   "id": "6d1ed23b",
   "metadata": {},
   "outputs": [],
   "source": [
    "# num_feature = 9\n",
    "# feature_width = 128\n",
    "# kernel_size = 2\n",
    "\n",
    "\n",
    "class CNN(nn.Module):\n",
    "    def __init__(self):\n",
    "        super(CNN, self).__init__()\n",
    "        self.layer1 = nn.Sequential(\n",
    "            nn.Conv2d(1, 4, kernel_size=5, stride=1, padding=2),\n",
    "            nn.ReLU(),\n",
    "            nn.MaxPool2d(kernel_size=2, stride=2))\n",
    "        self.layer2 = nn.Sequential(\n",
    "            nn.Conv2d(4, 32, kernel_size=5, stride=1, padding=2),\n",
    "            nn.ReLU())\n",
    "        self.drop_out = nn.Dropout()\n",
    "        self.fc1 = nn.Linear(4 * 64 * 32, 500)\n",
    "        self.fc2 = nn.Linear(500, 6)\n",
    "        \n",
    "    \n",
    "    def forward(self, x):\n",
    "        out = self.layer1(x)\n",
    "        out = self.layer2(out)\n",
    "        out = out.reshape(out.size(0), -1)\n",
    "        out = self.drop_out(out)\n",
    "        out = self.fc1(out)\n",
    "        out = self.fc2(out)\n",
    "        return out"
   ]
  },
  {
   "cell_type": "code",
   "execution_count": 127,
   "id": "35ba514c",
   "metadata": {},
   "outputs": [],
   "source": [
    "device = torch.device(\"cuda:0\" if torch.cuda.is_available() else \"cpu\")\n",
    "model = CNN().to(device)\n",
    "\n",
    "epoches = 10\n",
    "lr = 0.000005\n",
    "weight_decay = 0.0001\n",
    "criterion = nn.CrossEntropyLoss()\n",
    "optimizer = optim.Adam(model.parameters(), lr=lr, weight_decay=weight_decay)"
   ]
  },
  {
   "cell_type": "code",
   "execution_count": 128,
   "id": "4d3a389e",
   "metadata": {},
   "outputs": [
    {
     "name": "stdout",
     "output_type": "stream",
     "text": [
      "Epoch: 1 accuracy: 58.333333333333336 %\n",
      "Epoch: 2 accuracy: 75.0 %\n",
      "Epoch: 3 accuracy: 87.5 %\n",
      "Epoch: 4 accuracy: 87.5 %\n",
      "Epoch: 5 accuracy: 87.5 %\n",
      "Epoch: 6 accuracy: 95.83333333333334 %\n",
      "Epoch: 7 accuracy: 83.33333333333334 %\n",
      "Epoch: 8 accuracy: 87.5 %\n",
      "Epoch: 9 accuracy: 87.5 %\n",
      "Epoch: 10 accuracy: 91.66666666666666 %\n"
     ]
    }
   ],
   "source": [
    "loss_list = []\n",
    "for epoch in range(epoches):\n",
    "    acc = 0\n",
    "    for i, data in enumerate(train_loader):\n",
    "        features, labels = data\n",
    "        outputs = model(features.to(device))\n",
    "        loss = criterion(outputs, labels.to(device).long())\n",
    "        loss_list.append(loss.item())\n",
    "        \n",
    "        optimizer.zero_grad()\n",
    "        loss.backward()\n",
    "        optimizer.step()\n",
    "        \n",
    "        total = labels.size(0)\n",
    "        _, predicted = torch.max(outputs.data, 1)\n",
    "        correct = (predicted == labels.to(device).long()).sum().item()\n",
    "        acc = correct / total\n",
    "    print(\"Epoch:\",epoch+1, \"accuracy:\", acc * 100, \"%\")"
   ]
  },
  {
   "cell_type": "code",
   "execution_count": 130,
   "id": "7e3ae542",
   "metadata": {},
   "outputs": [
    {
     "name": "stdout",
     "output_type": "stream",
     "text": [
      "Test Accuracy of the model on the UCIHAR test features: 81.16728876823889 %\n"
     ]
    }
   ],
   "source": [
    "labels = []\n",
    "predictions = []\n",
    "with torch.no_grad():\n",
    "    correct = 0\n",
    "    total = 0\n",
    "    for features, label in test_loader:\n",
    "        output = model(features.to(device))\n",
    "        _, predicted = torch.max(output.data, 1)\n",
    "        predictions.append(predicted)\n",
    "        labels.append(label)\n",
    "        total += label.size(0)\n",
    "        correct += (predicted == label.to(device)).sum().item()\n",
    "\n",
    "    print('Test Accuracy of the model on the UCIHAR test features: {} %'.format((correct / total) * 100))"
   ]
  }
 ],
 "metadata": {
  "kernelspec": {
   "display_name": "Python 3 (ipykernel)",
   "language": "python",
   "name": "python3"
  },
  "language_info": {
   "codemirror_mode": {
    "name": "ipython",
    "version": 3
   },
   "file_extension": ".py",
   "mimetype": "text/x-python",
   "name": "python",
   "nbconvert_exporter": "python",
   "pygments_lexer": "ipython3",
   "version": "3.9.7"
  }
 },
 "nbformat": 4,
 "nbformat_minor": 5
}
