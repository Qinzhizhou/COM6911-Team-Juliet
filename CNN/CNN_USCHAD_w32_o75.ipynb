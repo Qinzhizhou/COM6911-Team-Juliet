{
  "nbformat": 4,
  "nbformat_minor": 0,
  "metadata": {
    "colab": {
      "name": "CNN-USCHAD_w32_o75.ipynb",
      "provenance": [],
      "authorship_tag": "ABX9TyPWDjsAz1Qj65tqwq85t564",
      "include_colab_link": true
    },
    "kernelspec": {
      "name": "python3",
      "display_name": "Python 3"
    },
    "language_info": {
      "name": "python"
    },
    "accelerator": "GPU"
  },
  "cells": [
    {
      "cell_type": "markdown",
      "metadata": {
        "id": "view-in-github",
        "colab_type": "text"
      },
      "source": [
        "<a href=\"https://colab.research.google.com/github/TtttttH/COM6911-Team-Juliet/blob/main/CNN/CNN_USCHAD_w32_o75.ipynb\" target=\"_parent\"><img src=\"https://colab.research.google.com/assets/colab-badge.svg\" alt=\"Open In Colab\"/></a>"
      ]
    },
    {
      "cell_type": "code",
      "execution_count": 1,
      "metadata": {
        "colab": {
          "base_uri": "https://localhost:8080/"
        },
        "id": "XKdEkDdVIomt",
        "outputId": "a5fc64ce-d0c7-4f0b-96e6-6d6544bc7d6e"
      },
      "outputs": [
        {
          "output_type": "stream",
          "name": "stdout",
          "text": [
            "Mounted at /content/drive\n"
          ]
        }
      ],
      "source": [
        "from google.colab import drive\n",
        "drive.mount('/content/drive')"
      ]
    },
    {
      "cell_type": "code",
      "source": [
        "import numpy as np\n",
        "import pandas as pd\n",
        "import re\n",
        "import matplotlib.pyplot as plt\n",
        "from collections import Counter\n",
        "from sklearn.model_selection import train_test_split\n",
        "\n",
        "from tqdm import tqdm\n",
        "import numpy as np\n",
        "import torch\n",
        "import torchvision\n",
        "import torch.nn as nn\n",
        "import torch.nn.functional as F\n",
        "from torch.autograd import Variable\n",
        "from torch.utils.data import TensorDataset\n",
        "import torch.optim as optim\n",
        "import torch.utils.data as data\n",
        "from torchvision import datasets\n",
        "import torchvision.transforms as transforms\n",
        "\n",
        "device = torch.device(\"cuda\" if torch.cuda.is_available() else \"cpu\") # use gpu"
      ],
      "metadata": {
        "id": "lk3CfYmnIrPX"
      },
      "execution_count": 2,
      "outputs": []
    },
    {
      "cell_type": "code",
      "source": [
        "# loading data\n",
        "usc_raw_data = pd.read_csv('/content/drive/MyDrive/Industrial Team Project/USCHAD_rawdata.csv')"
      ],
      "metadata": {
        "id": "8im0aFqWIscK"
      },
      "execution_count": 3,
      "outputs": []
    },
    {
      "cell_type": "code",
      "source": [
        "# only features and label.\n",
        "usc_unprocessed = usc_raw_data[['acc_x','acc_y','acc_z','gyro_x','gyro_y','gyro_z','label']]"
      ],
      "metadata": {
        "id": "zTop7AfFIuFM"
      },
      "execution_count": 4,
      "outputs": []
    },
    {
      "cell_type": "code",
      "source": [
        "# window_size: size of time window\n",
        "# step: overlapping\n",
        "# data: dataset\n",
        "def time_windows(window_size,overlapping,data):\n",
        "  sigmentation_data_temp = []\n",
        "  sigmentation_data = []\n",
        "  sigmentation_label = []\n",
        "  for i in range(0,len(data),overlapping):\n",
        "    acc_x = data['acc_x'].values[i:i+window_size]\n",
        "    acc_y = data['acc_y'].values[i:i+window_size]\n",
        "    acc_z = data['acc_z'].values[i:i+window_size]\n",
        "    gyro_x = data['gyro_x'].values[i:i+window_size]\n",
        "    gyro_y = data['gyro_y'].values[i:i+window_size]\n",
        "    gyro_z = data['gyro_z'].values[i:i+window_size]\n",
        "    total_label = data['label'].values[i:i+window_size]\n",
        "    label = Counter(total_label).most_common()[0][0]\n",
        "    sigmentation_data_temp.append([acc_x,acc_y,acc_z,gyro_x,gyro_y,gyro_z])\n",
        "    sigmentation_arr = np.asarray(sigmentation_data_temp)\n",
        "    sig_size = sigmentation_arr.shape\n",
        "    if sig_size[2] == window_size:\n",
        "      sigmentation_arr.reshape(window_size,6)\n",
        "      sigmentation_data.append(sigmentation_arr)\n",
        "      sigmentation_label.append(label)\n",
        "      sigmentation_data_temp = []\n",
        "    else:\n",
        "      sigmentation_data_temp = []\n",
        "\n",
        "  sigmentation_data_arr = np.asarray(sigmentation_data)\n",
        "  sigmentation_label_arr = np.asarray(sigmentation_label)\n",
        "\n",
        "  return sigmentation_data_arr,sigmentation_label_arr"
      ],
      "metadata": {
        "id": "ppqzlwEfIvd6"
      },
      "execution_count": 5,
      "outputs": []
    },
    {
      "cell_type": "code",
      "source": [
        "# here use semi-non-overlapping\n",
        "# signal segmentation and relevant labels\n",
        "uci_readings,uci_labels = time_windows(32,8,usc_unprocessed)"
      ],
      "metadata": {
        "id": "8i_zlGmcIwq9"
      },
      "execution_count": 6,
      "outputs": []
    },
    {
      "cell_type": "code",
      "source": [
        "# in the model, requires 0-n label so make labels from 1-12 into 0-11\n",
        "uci_labels = uci_labels-1"
      ],
      "metadata": {
        "id": "cGd5EoK4IzCW"
      },
      "execution_count": 7,
      "outputs": []
    },
    {
      "cell_type": "code",
      "source": [
        "# use train_test_split to generate train,val and test data\n",
        "x_train_0_overlapping,x_val_test_0_overlapping,y_train_0_overlapping,y_val_test_0_overlapping = train_test_split(uci_readings,uci_labels,test_size = 0.3)\n",
        "x_val_0_overlapping,x_test_0_overlapping,y_val_0_overlapping,y_test_0_overlapping = train_test_split(x_val_test_0_overlapping,y_val_test_0_overlapping,test_size = 0.3 )"
      ],
      "metadata": {
        "id": "g0t1-syJI0rH"
      },
      "execution_count": 8,
      "outputs": []
    },
    {
      "cell_type": "code",
      "source": [
        "train_dataset_0_overlapping = TensorDataset(torch.from_numpy(x_train_0_overlapping).to(torch.float32),torch.from_numpy(y_train_0_overlapping).to(torch.float32))\n",
        "val_dataset_0_overlapping = TensorDataset(torch.from_numpy(x_val_0_overlapping).to(torch.float32),torch.from_numpy(y_val_0_overlapping).to(torch.float32))\n",
        "test_dataset_0_overlapping = TensorDataset(torch.from_numpy(x_test_0_overlapping).to(torch.float32),torch.from_numpy(y_test_0_overlapping).to(torch.float32))"
      ],
      "metadata": {
        "id": "Jgcf7FrQI2CG"
      },
      "execution_count": 9,
      "outputs": []
    },
    {
      "cell_type": "code",
      "source": [
        "# DataLoader generation\n",
        "train_loader_0_overlapping = data.DataLoader(dataset = train_dataset_0_overlapping,batch_size = 64,shuffle = True)\n",
        "val_loader_0_overlapping = data.DataLoader(dataset = val_dataset_0_overlapping,batch_size = 64,shuffle = True)\n",
        "test_loader_0_overlapping = data.DataLoader(dataset = test_dataset_0_overlapping,batch_size = 64,shuffle = False)"
      ],
      "metadata": {
        "id": "PqlG17C9I3SW"
      },
      "execution_count": 10,
      "outputs": []
    },
    {
      "cell_type": "code",
      "source": [
        " # now define a class of CNN model\n",
        "class CNN_w256_o75(nn.Module):\n",
        "  def __init__(self):\n",
        "    super(CNN_w256_o75, self).__init__()\n",
        "    self.layer1 = nn.Sequential(\n",
        "            nn.Conv2d(1, 16, kernel_size=5, stride=1, padding=2),\n",
        "            nn.ReLU(),\n",
        "            nn.BatchNorm2d(16),\n",
        "            nn.MaxPool2d(kernel_size=2, stride=2))\n",
        "    self.layer2 = nn.Sequential(\n",
        "             nn.Conv2d(16, 32, kernel_size=5, stride=1, padding=2),\n",
        "             nn.ReLU(),\n",
        "             nn.BatchNorm2d(32),\n",
        "             nn.MaxPool2d(2,2))\n",
        "    self.layer3 = nn.Sequential(\n",
        "            nn.Conv2d(32, 64, kernel_size=5, stride=1, padding=2),\n",
        "            nn.ReLU()\n",
        "    )\n",
        "    self.drop_out = nn.Dropout()\n",
        "    self.fc1 = nn.Linear(768, 512)\n",
        "    self.fc3 = nn.Linear(512,12)\n",
        "  def forward(self, x):\n",
        "        out = self.layer1(x)\n",
        "        out = self.layer2(out)\n",
        "        out = self.layer3(out)\n",
        "        out = out.reshape(out.size(0), -1)\n",
        "        out = self.drop_out(out)\n",
        "        out = self.fc1(out)\n",
        "        out = self.fc3(out)\n",
        "        return out\n",
        "        \n",
        "model_w256_o75 = CNN_w256_o75().to(device)"
      ],
      "metadata": {
        "id": "BuU1rC9YI4bJ"
      },
      "execution_count": 11,
      "outputs": []
    },
    {
      "cell_type": "code",
      "source": [
        "epoches = 50\n",
        "lr = 0.001\n",
        "criterion = nn.CrossEntropyLoss()\n",
        "optimizer = optim.SGD(model_w256_o75.parameters(),lr=lr, weight_decay=0.0001,momentum = 0.8)"
      ],
      "metadata": {
        "id": "f08ekTTGI_60"
      },
      "execution_count": 12,
      "outputs": []
    },
    {
      "cell_type": "code",
      "source": [
        "# training\n",
        "loss_list = []\n",
        "for epoch in range(epoches):\n",
        "    acc = 0\n",
        "    correct = 0\n",
        "    total = 0\n",
        "    loss_num = 0\n",
        "    runtime_loss = 0\n",
        "    for (imgs,labels) in train_loader_0_overlapping:\n",
        "        imgs = imgs.reshape(len(imgs),1,12,16)     \n",
        "        imgs = imgs.to(device)\n",
        "        labels = labels.type(torch.LongTensor)\n",
        "        labels = labels.to(device)\n",
        "        optimizer.zero_grad()\n",
        "        outputs = model_w256_o75(imgs)\n",
        "        loss = criterion(outputs, labels)\n",
        "        runtime_loss += loss.item()\n",
        "        loss.backward()\n",
        "        optimizer.step()\n",
        "        total += labels.size(0)\n",
        "        _,predicted = torch.max(outputs.data,1)\n",
        "        correct += (predicted == labels).sum().item()\n",
        "        loss_num+=1\n",
        "    acc = 100 * correct / total\n",
        "    epoch_loss = runtime_loss / loss_num\n",
        "    loss_list.append(epoch_loss)\n",
        "    loss_num = 0\n",
        "    print(\"Epoch: \",epoch+1, \"accuracy: \", acc,' %',\"Loss: \",epoch_loss)"
      ],
      "metadata": {
        "colab": {
          "base_uri": "https://localhost:8080/"
        },
        "id": "k1UoZEq8JCUR",
        "outputId": "e9782c30-27e5-47b0-9652-89747a7d8ac8"
      },
      "execution_count": 13,
      "outputs": [
        {
          "output_type": "stream",
          "name": "stdout",
          "text": [
            "Epoch:  1 accuracy:  48.07553832447144  % Loss:  1.349295868519165\n",
            "Epoch:  2 accuracy:  65.83200777839704  % Loss:  0.8983557879288536\n",
            "Epoch:  3 accuracy:  69.66465833228239  % Loss:  0.8011797069882515\n",
            "Epoch:  4 accuracy:  71.6043757551595  % Loss:  0.749432737629912\n",
            "Epoch:  5 accuracy:  73.02010910910504  % Loss:  0.7124391152147389\n",
            "Epoch:  6 accuracy:  74.08394322421067  % Loss:  0.6848348478605523\n",
            "Epoch:  7 accuracy:  74.82923733467855  % Loss:  0.665114666258907\n",
            "Epoch:  8 accuracy:  75.77794140979378  % Loss:  0.6447928068352937\n",
            "Epoch:  9 accuracy:  76.21242509428052  % Loss:  0.6304427272669507\n",
            "Epoch:  10 accuracy:  76.7046772087271  % Loss:  0.6158630434919291\n",
            "Epoch:  11 accuracy:  77.04559230947606  % Loss:  0.6093782058019124\n",
            "Epoch:  12 accuracy:  77.45729407792228  % Loss:  0.5949436821871765\n",
            "Epoch:  13 accuracy:  77.82302519435822  % Loss:  0.5865207781039995\n",
            "Epoch:  14 accuracy:  78.14807431786468  % Loss:  0.5775870205570217\n",
            "Epoch:  15 accuracy:  78.43569600787603  % Loss:  0.5697995613629047\n",
            "Epoch:  16 accuracy:  78.68629708432157  % Loss:  0.5617865470199962\n",
            "Epoch:  17 accuracy:  78.82827723964542  % Loss:  0.5581070134778471\n",
            "Epoch:  18 accuracy:  79.07196237729293  % Loss:  0.5519641488130997\n",
            "Epoch:  19 accuracy:  79.2822882807383  % Loss:  0.5447293563075005\n",
            "Epoch:  20 accuracy:  79.49424146390083  % Loss:  0.540226738931952\n",
            "Epoch:  21 accuracy:  79.66347855448743  % Loss:  0.5361390257178108\n",
            "Epoch:  22 accuracy:  79.70334690755831  % Loss:  0.5324601981981879\n",
            "Epoch:  23 accuracy:  80.00927549438792  % Loss:  0.5267587577658871\n",
            "Epoch:  24 accuracy:  80.03205741042842  % Loss:  0.5228625789684295\n",
            "Epoch:  25 accuracy:  80.17200346610579  % Loss:  0.5189398298526424\n",
            "Epoch:  26 accuracy:  80.2488924327425  % Loss:  0.516442054919016\n",
            "Epoch:  27 accuracy:  80.49095029067284  % Loss:  0.5119655247243299\n",
            "Epoch:  28 accuracy:  80.5776029356126  % Loss:  0.509907735019449\n",
            "Epoch:  29 accuracy:  80.61787810861279  % Loss:  0.506269880351037\n",
            "Epoch:  30 accuracy:  80.69029205602725  % Loss:  0.5038204155445285\n",
            "Epoch:  31 accuracy:  80.8237289928359  % Loss:  0.5020324615599183\n",
            "Epoch:  32 accuracy:  80.93479083353336  % Loss:  0.49883361956440697\n",
            "Epoch:  33 accuracy:  80.97587964639212  % Loss:  0.4974595030880756\n",
            "Epoch:  34 accuracy:  81.07066868991778  % Loss:  0.4928302596522259\n",
            "Epoch:  35 accuracy:  81.13291213909987  % Loss:  0.48918009911530713\n",
            "Epoch:  36 accuracy:  81.25495811788828  % Loss:  0.4886939007574554\n",
            "Epoch:  37 accuracy:  81.28343551293891  % Loss:  0.4861692627118423\n",
            "Epoch:  38 accuracy:  81.39815873300002  % Loss:  0.48298646634955233\n",
            "Epoch:  39 accuracy:  81.46731812098011  % Loss:  0.4816154962217892\n",
            "Epoch:  40 accuracy:  81.47179314020235  % Loss:  0.4806937070345699\n",
            "Epoch:  41 accuracy:  81.61743467488985  % Loss:  0.47824833321946886\n",
            "Epoch:  42 accuracy:  81.56129352464718  % Loss:  0.4774927926525974\n",
            "Epoch:  43 accuracy:  81.67113490555676  % Loss:  0.47460840941173776\n",
            "Epoch:  44 accuracy:  81.76226256971877  % Loss:  0.4736155090706636\n",
            "Epoch:  45 accuracy:  81.844033375507  % Loss:  0.4704896109554489\n",
            "Epoch:  46 accuracy:  81.7594148302137  % Loss:  0.47075910649008507\n",
            "Epoch:  47 accuracy:  81.84484701536559  % Loss:  0.4679132850995383\n",
            "Epoch:  48 accuracy:  82.01449092588147  % Loss:  0.464995977260023\n",
            "Epoch:  49 accuracy:  82.07917529463933  % Loss:  0.4634224090747491\n",
            "Epoch:  50 accuracy:  81.9591634154974  % Loss:  0.468007712116995\n"
          ]
        }
      ]
    },
    {
      "cell_type": "code",
      "source": [
        "# test\n",
        "correct_test = 0\n",
        "\n",
        "total_test = 0\n",
        "\n",
        "with torch.no_grad():\n",
        "\n",
        "  for (imgs_test,labels_test) in test_loader_0_overlapping:\n",
        "\n",
        "    imgs_test = imgs_test.reshape(len(imgs_test),1,12,16)\n",
        "\n",
        "    imgs_test = imgs_test.to(device)\n",
        "\n",
        "    labels_test = labels_test.type(torch.LongTensor)\n",
        "\n",
        "    labels_test = labels_test.to(device)\n",
        "\n",
        "    outputs_test = model_w256_o75(imgs_test)\n",
        "\n",
        "    labels_test = labels_test.reshape(labels_test.shape[0],)\n",
        "\n",
        "    predicted_test = torch.max(outputs_test.data,1)[1]\n",
        "      \n",
        "    total_test += labels_test.size(0)\n",
        "      \n",
        "    correct_test += (predicted_test == labels_test).sum().item()\n",
        "\n",
        "    test_accuracy = 100*correct_test/total_test\n",
        "\n",
        "print('Test accuracy is: ',test_accuracy)"
      ],
      "metadata": {
        "colab": {
          "base_uri": "https://localhost:8080/"
        },
        "id": "ilbXFl9bJEqB",
        "outputId": "62e2a684-63bc-4eff-e032-1802e4285a31"
      },
      "execution_count": 15,
      "outputs": [
        {
          "output_type": "stream",
          "name": "stdout",
          "text": [
            "Test accuracy is:  80.91441227653853\n"
          ]
        }
      ]
    },
    {
      "cell_type": "code",
      "source": [
        ""
      ],
      "metadata": {
        "id": "3tMJRGe5z5Xb"
      },
      "execution_count": null,
      "outputs": []
    }
  ]
}