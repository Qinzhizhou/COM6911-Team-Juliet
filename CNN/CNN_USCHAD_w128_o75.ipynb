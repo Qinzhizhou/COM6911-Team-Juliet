{
  "nbformat": 4,
  "nbformat_minor": 0,
  "metadata": {
    "colab": {
      "name": "CNN-USCHAD_w128_o75.ipynb",
      "provenance": []
    },
    "kernelspec": {
      "name": "python3",
      "display_name": "Python 3"
    },
    "language_info": {
      "name": "python"
    },
    "accelerator": "GPU"
  },
  "cells": [
    {
      "cell_type": "code",
      "execution_count": null,
      "metadata": {
        "id": "1x5xVzkAtjcR"
      },
      "outputs": [],
      "source": [
        "import numpy as np\n",
        "import pandas as pd\n",
        "import re\n",
        "import matplotlib.pyplot as plt\n",
        "from collections import Counter\n",
        "from sklearn.model_selection import train_test_split\n",
        "\n",
        "from tqdm import tqdm\n",
        "import numpy as np\n",
        "import torch\n",
        "import torchvision\n",
        "import torch.nn as nn\n",
        "import torch.nn.functional as F\n",
        "from torch.autograd import Variable\n",
        "from torch.utils.data import TensorDataset\n",
        "import torch.optim as optim\n",
        "import torch.utils.data as data\n",
        "from torchvision import datasets\n",
        "import torchvision.transforms as transforms\n",
        "\n",
        "device = torch.device(\"cuda\" if torch.cuda.is_available() else \"cpu\") # use gpu"
      ]
    },
    {
      "cell_type": "code",
      "source": [
        "# loading data\n",
        "usc_raw_data = pd.read_csv('/content/drive/MyDrive/Industrial Team Project/USCHAD_rawdata.csv')"
      ],
      "metadata": {
        "id": "HtyY-KE_ty9L"
      },
      "execution_count": null,
      "outputs": []
    },
    {
      "cell_type": "code",
      "source": [
        "# only features and label.\n",
        "usc_unprocessed = usc_raw_data[['acc_x','acc_y','acc_z','gyro_x','gyro_y','gyro_z','label']]"
      ],
      "metadata": {
        "id": "ZsOkPasLuBRc"
      },
      "execution_count": null,
      "outputs": []
    },
    {
      "cell_type": "code",
      "source": [
        "# window_size: size of time window\n",
        "# step: overlapping\n",
        "# data: dataset\n",
        "def time_windows(window_size,overlapping,data):\n",
        "  sigmentation_data_temp = []\n",
        "  sigmentation_data = []\n",
        "  sigmentation_label = []\n",
        "  for i in range(0,len(data),overlapping):\n",
        "    acc_x = data['acc_x'].values[i:i+window_size]\n",
        "    acc_y = data['acc_y'].values[i:i+window_size]\n",
        "    acc_z = data['acc_z'].values[i:i+window_size]\n",
        "    gyro_x = data['gyro_x'].values[i:i+window_size]\n",
        "    gyro_y = data['gyro_y'].values[i:i+window_size]\n",
        "    gyro_z = data['gyro_z'].values[i:i+window_size]\n",
        "    total_label = data['label'].values[i:i+window_size]\n",
        "    label = Counter(total_label).most_common()[0][0]\n",
        "    sigmentation_data_temp.append([acc_x,acc_y,acc_z,gyro_x,gyro_y,gyro_z])\n",
        "    sigmentation_arr = np.asarray(sigmentation_data_temp)\n",
        "    sig_size = sigmentation_arr.shape\n",
        "    if sig_size[2] == window_size:\n",
        "      sigmentation_arr.reshape(window_size,6)\n",
        "      sigmentation_data.append(sigmentation_arr)\n",
        "      sigmentation_label.append(label)\n",
        "      sigmentation_data_temp = []\n",
        "    else:\n",
        "      sigmentation_data_temp = []\n",
        "\n",
        "  sigmentation_data_arr = np.asarray(sigmentation_data)\n",
        "  sigmentation_label_arr = np.asarray(sigmentation_label)\n",
        "\n",
        "  return sigmentation_data_arr,sigmentation_label_arr"
      ],
      "metadata": {
        "id": "0VT-LlWAuDsD"
      },
      "execution_count": null,
      "outputs": []
    },
    {
      "cell_type": "code",
      "source": [
        "uci_readings_75_overlapping,uci_labels_75_overlapping = time_windows(128,32,usc_unprocessed)"
      ],
      "metadata": {
        "id": "NTm-Ysy4uH0F"
      },
      "execution_count": null,
      "outputs": []
    },
    {
      "cell_type": "code",
      "source": [
        "uci_labels_75_overlapping = uci_labels_75_overlapping - 1"
      ],
      "metadata": {
        "id": "hxHrYrn0uPvB"
      },
      "execution_count": null,
      "outputs": []
    },
    {
      "cell_type": "code",
      "source": [
        "x_train_75_overlapping,x_val_test_75_overlapping,y_train_75_overlapping,y_val_test_75_overlapping = train_test_split(uci_readings_75_overlapping,uci_labels_75_overlapping,test_size = 0.3)\n",
        "x_val_75_overlapping,x_test_75_overlapping,y_val_75_overlapping,y_test_75_overlapping = train_test_split(x_val_test_75_overlapping,y_val_test_75_overlapping,test_size = 0.3 )"
      ],
      "metadata": {
        "id": "rwNZSHqtuSEh"
      },
      "execution_count": null,
      "outputs": []
    },
    {
      "cell_type": "code",
      "source": [
        "train_dataset_75_overlapping = TensorDataset(torch.from_numpy(x_train_75_overlapping).to(torch.float32),torch.from_numpy(y_train_75_overlapping).to(torch.float32))\n",
        "val_dataset_75_overlapping = TensorDataset(torch.from_numpy(x_val_75_overlapping).to(torch.float32),torch.from_numpy(y_val_75_overlapping).to(torch.float32))\n",
        "test_dataset_75_overlapping = TensorDataset(torch.from_numpy(x_test_75_overlapping).to(torch.float32),torch.from_numpy(y_test_75_overlapping).to(torch.float32))"
      ],
      "metadata": {
        "id": "lHrept6PuUnA"
      },
      "execution_count": null,
      "outputs": []
    },
    {
      "cell_type": "code",
      "source": [
        "train_loader_75_overlapping = data.DataLoader(dataset = train_dataset_75_overlapping,batch_size = 64,shuffle = True)\n",
        "val_loader_75_overlapping = data.DataLoader(dataset = val_dataset_75_overlapping,batch_size = 64,shuffle = True)\n",
        "test_loader_75_overlapping = data.DataLoader(dataset = test_dataset_75_overlapping,batch_size = 64,shuffle = False)"
      ],
      "metadata": {
        "id": "SSEexJfbuW5F"
      },
      "execution_count": null,
      "outputs": []
    },
    {
      "cell_type": "code",
      "source": [
        " # now define a class of CNN model\n",
        "class CNN_75_overlapping(nn.Module):\n",
        "  def __init__(self):\n",
        "    super(CNN_75_overlapping, self).__init__()\n",
        "    self.layer1 = nn.Sequential(\n",
        "            nn.Conv2d(1, 16, kernel_size=5, stride=1, padding=2),\n",
        "            nn.ReLU(),\n",
        "            nn.BatchNorm2d(16),\n",
        "            nn.MaxPool2d(kernel_size=2, stride=2))\n",
        "    self.layer2 = nn.Sequential(\n",
        "            nn.Conv2d(16, 32, kernel_size=5, stride=1, padding=2),\n",
        "            nn.ReLU(),\n",
        "            nn.BatchNorm2d(32),\n",
        "            nn.MaxPool2d(2,2))\n",
        "    self.layer3 = nn.Sequential(\n",
        "            nn.Conv2d(32, 64, kernel_size=5, stride=1, padding=2),\n",
        "            nn.ReLU()\n",
        "    )\n",
        "    # self.drop_out = nn.Dropout()\n",
        "    self.fc1 = nn.Linear(3072, 512)\n",
        "    self.fc3 = nn.Linear(512,12)\n",
        "  def forward(self, x):\n",
        "        out = self.layer1(x)\n",
        "        out = self.layer2(out)\n",
        "        out = self.layer3(out)\n",
        "        out = out.reshape(out.size(0), -1)\n",
        "        # out = self.drop_out(out)\n",
        "        out = self.fc1(out)\n",
        "        out = self.fc3(out)\n",
        "        return out\n",
        "        \n",
        "model_75_overlapping = CNN_75_overlapping().to(device)"
      ],
      "metadata": {
        "id": "XppWsfsGuckL"
      },
      "execution_count": null,
      "outputs": []
    },
    {
      "cell_type": "code",
      "source": [
        "epoches = 50\n",
        "lr = 0.001\n",
        "criterion = nn.CrossEntropyLoss()\n",
        "optimizer = optim.SGD(model_75_overlapping.parameters(),lr=lr, weight_decay=0.0001,momentum = 0.8)"
      ],
      "metadata": {
        "id": "YD8-1yjDuhnp"
      },
      "execution_count": null,
      "outputs": []
    },
    {
      "cell_type": "code",
      "source": [
        "# training\n",
        "loss_list = []\n",
        "for epoch in range(epoches):\n",
        "    acc = 0\n",
        "    correct = 0\n",
        "    total = 0\n",
        "    loss_num = 0\n",
        "    runtime_loss = 0\n",
        "    for (imgs,labels) in train_loader_75_overlapping:\n",
        "        imgs = imgs.reshape(len(imgs),1,32,24)     \n",
        "        imgs = imgs.to(device)\n",
        "        labels = labels.type(torch.LongTensor)\n",
        "        labels = labels.to(device)\n",
        "        optimizer.zero_grad()\n",
        "        outputs = model_75_overlapping(imgs)\n",
        "        loss = criterion(outputs, labels)\n",
        "        runtime_loss += loss.item()\n",
        "        loss.backward()\n",
        "        optimizer.step()\n",
        "        total += labels.size(0)\n",
        "        _,predicted = torch.max(outputs.data,1)\n",
        "        correct += (predicted == labels).sum().item()\n",
        "        loss_num+=1\n",
        "    acc = 100 * correct / total\n",
        "    epoch_loss = runtime_loss / loss_num\n",
        "    loss_list.append(epoch_loss)\n",
        "    loss_num = 0\n",
        "    print(\"Epoch: \",epoch+1, \"accuracy: \", acc,' %',\"Loss: \",epoch_loss)"
      ],
      "metadata": {
        "colab": {
          "base_uri": "https://localhost:8080/"
        },
        "id": "5n4yB0sFuk0d",
        "outputId": "2465a9ea-e1e8-4861-862e-cca3fd4e525d"
      },
      "execution_count": null,
      "outputs": [
        {
          "output_type": "stream",
          "name": "stdout",
          "text": [
            "Epoch:  1 accuracy:  55.79658258746949  % Loss:  1.2431095207767109\n",
            "Epoch:  2 accuracy:  74.17900732302685  % Loss:  0.7280475162318544\n",
            "Epoch:  3 accuracy:  80.69812855980472  % Loss:  0.5288743708092762\n",
            "Epoch:  4 accuracy:  82.41334418226201  % Loss:  0.467324533382514\n",
            "Epoch:  5 accuracy:  83.6013018714402  % Loss:  0.43328468993104585\n",
            "Epoch:  6 accuracy:  84.3840520748576  % Loss:  0.40938001567193544\n",
            "Epoch:  7 accuracy:  84.84621643612694  % Loss:  0.39162165780903524\n",
            "Epoch:  8 accuracy:  85.28722538649308  % Loss:  0.3754146368427902\n",
            "Epoch:  9 accuracy:  85.74613506916192  % Loss:  0.3631568354914017\n",
            "Epoch:  10 accuracy:  86.15785191212368  % Loss:  0.34920329129968797\n",
            "Epoch:  11 accuracy:  86.44426362896664  % Loss:  0.33759725092290965\n",
            "Epoch:  12 accuracy:  87.08218063466232  % Loss:  0.32711482725642105\n",
            "Epoch:  13 accuracy:  86.97965825874695  % Loss:  0.31984746131297825\n",
            "Epoch:  14 accuracy:  87.35394629780309  % Loss:  0.309342167364447\n",
            "Epoch:  15 accuracy:  87.46786004882019  % Loss:  0.3036547319403424\n",
            "Epoch:  16 accuracy:  87.85516680227828  % Loss:  0.29598007201528204\n",
            "Epoch:  17 accuracy:  87.99349064279902  % Loss:  0.29031039847295564\n",
            "Epoch:  18 accuracy:  88.206672091131  % Loss:  0.2833735271590557\n",
            "Epoch:  19 accuracy:  88.40032546786004  % Loss:  0.2767808857246939\n",
            "Epoch:  20 accuracy:  88.58421480878764  % Loss:  0.27206696414860676\n",
            "Epoch:  21 accuracy:  88.87713588283157  % Loss:  0.2668823958078979\n",
            "Epoch:  22 accuracy:  88.80553295362083  % Loss:  0.26226690225496996\n",
            "Epoch:  23 accuracy:  89.1847030105777  % Loss:  0.2558707699226167\n",
            "Epoch:  24 accuracy:  89.43856794141578  % Loss:  0.24946857146089207\n",
            "Epoch:  25 accuracy:  89.21074043938161  % Loss:  0.2529219709856205\n",
            "Epoch:  26 accuracy:  89.43856794141578  % Loss:  0.24379069810882442\n",
            "Epoch:  27 accuracy:  89.6680227827502  % Loss:  0.24072016632178572\n",
            "Epoch:  28 accuracy:  89.82099267697315  % Loss:  0.23328036391229584\n",
            "Epoch:  29 accuracy:  89.90073230268511  % Loss:  0.2299563099671849\n",
            "Epoch:  30 accuracy:  90.07973962571197  % Loss:  0.22381773956205298\n",
            "Epoch:  31 accuracy:  90.19039869812856  % Loss:  0.22395846833020416\n",
            "Epoch:  32 accuracy:  90.25061025223759  % Loss:  0.22271496814197853\n",
            "Epoch:  33 accuracy:  90.36289666395443  % Loss:  0.21891611811397724\n",
            "Epoch:  34 accuracy:  90.50935720097641  % Loss:  0.21447427052147802\n",
            "Epoch:  35 accuracy:  90.62652563059397  % Loss:  0.21044097489965197\n",
            "Epoch:  36 accuracy:  90.82180634662328  % Loss:  0.2067984369749147\n",
            "Epoch:  37 accuracy:  90.79902359641986  % Loss:  0.20562281294432191\n",
            "Epoch:  38 accuracy:  90.92921074043939  % Loss:  0.2034891752155961\n",
            "Epoch:  39 accuracy:  91.20585842148088  % Loss:  0.1963651921410156\n",
            "Epoch:  40 accuracy:  91.0366151342555  % Loss:  0.1989273069490379\n",
            "Epoch:  41 accuracy:  91.09845402766477  % Loss:  0.19555007449266937\n",
            "Epoch:  42 accuracy:  91.22050447518308  % Loss:  0.19409277527733598\n",
            "Epoch:  43 accuracy:  91.44344995931652  % Loss:  0.1884708594023003\n",
            "Epoch:  44 accuracy:  91.62896663954434  % Loss:  0.18633718175365824\n",
            "Epoch:  45 accuracy:  91.50040683482506  % Loss:  0.18568767264531877\n",
            "Epoch:  46 accuracy:  90.84947111472742  % Loss:  0.20477556930341284\n",
            "Epoch:  47 accuracy:  91.43368592351506  % Loss:  0.18749175397882725\n",
            "Epoch:  48 accuracy:  91.7233523189585  % Loss:  0.1788170459088128\n",
            "Epoch:  49 accuracy:  91.98047192839707  % Loss:  0.17638897715557006\n",
            "Epoch:  50 accuracy:  92.00488201790073  % Loss:  0.17365153909939013\n"
          ]
        }
      ]
    },
    {
      "cell_type": "code",
      "source": [
        "# test\n",
        "correct_test = 0\n",
        "\n",
        "total_test = 0\n",
        "\n",
        "with torch.no_grad():\n",
        "\n",
        "  for (imgs_test,labels_test) in test_loader_75_overlapping:\n",
        "\n",
        "    imgs_test = imgs_test.reshape(len(imgs_test),1,32,24)\n",
        "\n",
        "    imgs_test = imgs_test.to(device)\n",
        "\n",
        "    labels_test = labels_test.type(torch.LongTensor)\n",
        "\n",
        "    labels_test = labels_test.to(device)\n",
        "\n",
        "    outputs_test = model_75_overlapping(imgs_test)\n",
        "\n",
        "    labels_test = labels_test.reshape(labels_test.shape[0],)\n",
        "\n",
        "    predicted_test = torch.max(outputs_test.data,1)[1]\n",
        "      \n",
        "    total_test += labels_test.size(0)\n",
        "      \n",
        "    correct_test += (predicted_test == labels_test).sum().item()\n",
        "\n",
        "    test_accuracy = 100*correct_test/total_test\n",
        "\n",
        "print('Test accuracy is: ',test_accuracy)"
      ],
      "metadata": {
        "colab": {
          "base_uri": "https://localhost:8080/"
        },
        "id": "SgQJpt7suoJf",
        "outputId": "eb06c24c-d3d5-4c76-b4b9-efe67c1ab7b3"
      },
      "execution_count": null,
      "outputs": [
        {
          "output_type": "stream",
          "name": "stdout",
          "text": [
            "Test accuracy is:  87.14249557074159\n"
          ]
        }
      ]
    }
  ]
}