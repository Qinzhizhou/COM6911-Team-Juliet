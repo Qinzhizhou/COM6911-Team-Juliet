{
  "nbformat": 4,
  "nbformat_minor": 0,
  "metadata": {
    "colab": {
      "name": "CNN-USCHAD_w128_o25.ipynb",
      "provenance": [],
      "collapsed_sections": []
    },
    "kernelspec": {
      "name": "python3",
      "display_name": "Python 3"
    },
    "language_info": {
      "name": "python"
    },
    "accelerator": "GPU"
  },
  "cells": [
    {
      "cell_type": "code",
      "execution_count": null,
      "metadata": {
        "id": "4rb0XHA2wqqB"
      },
      "outputs": [],
      "source": [
        "import numpy as np\n",
        "import pandas as pd\n",
        "import re\n",
        "import matplotlib.pyplot as plt\n",
        "from collections import Counter\n",
        "from sklearn.model_selection import train_test_split\n",
        "\n",
        "from tqdm import tqdm\n",
        "import numpy as np\n",
        "import torch\n",
        "import torchvision\n",
        "import torch.nn as nn\n",
        "import torch.nn.functional as F\n",
        "from torch.autograd import Variable\n",
        "from torch.utils.data import TensorDataset\n",
        "import torch.optim as optim\n",
        "import torch.utils.data as data\n",
        "from torchvision import datasets\n",
        "import torchvision.transforms as transforms\n",
        "\n",
        "device = torch.device(\"cuda\" if torch.cuda.is_available() else \"cpu\") # use gpu"
      ]
    },
    {
      "cell_type": "code",
      "source": [
        "# loading data\n",
        "usc_raw_data = pd.read_csv('/content/drive/MyDrive/Industrial Team Project/USCHAD_rawdata.csv')"
      ],
      "metadata": {
        "id": "66WNtuV3w1E4"
      },
      "execution_count": null,
      "outputs": []
    },
    {
      "cell_type": "code",
      "source": [
        "# only features and label.\n",
        "usc_unprocessed = usc_raw_data[['acc_x','acc_y','acc_z','gyro_x','gyro_y','gyro_z','label']]"
      ],
      "metadata": {
        "id": "ZyQcRSbzxoJv"
      },
      "execution_count": null,
      "outputs": []
    },
    {
      "cell_type": "code",
      "source": [
        "# window_size: size of time window\n",
        "# step: overlapping\n",
        "# data: dataset\n",
        "def time_windows(window_size,overlapping,data):\n",
        "  sigmentation_data_temp = []\n",
        "  sigmentation_data = []\n",
        "  sigmentation_label = []\n",
        "  for i in range(0,len(data),overlapping):\n",
        "    acc_x = data['acc_x'].values[i:i+window_size]\n",
        "    acc_y = data['acc_y'].values[i:i+window_size]\n",
        "    acc_z = data['acc_z'].values[i:i+window_size]\n",
        "    gyro_x = data['gyro_x'].values[i:i+window_size]\n",
        "    gyro_y = data['gyro_y'].values[i:i+window_size]\n",
        "    gyro_z = data['gyro_z'].values[i:i+window_size]\n",
        "    total_label = data['label'].values[i:i+window_size]\n",
        "    label = Counter(total_label).most_common()[0][0]\n",
        "    sigmentation_data_temp.append([acc_x,acc_y,acc_z,gyro_x,gyro_y,gyro_z])\n",
        "    sigmentation_arr = np.asarray(sigmentation_data_temp)\n",
        "    sig_size = sigmentation_arr.shape\n",
        "    if sig_size[2] == window_size:\n",
        "      sigmentation_arr.reshape(window_size,6)\n",
        "      sigmentation_data.append(sigmentation_arr)\n",
        "      sigmentation_label.append(label)\n",
        "      sigmentation_data_temp = []\n",
        "    else:\n",
        "      sigmentation_data_temp = []\n",
        "\n",
        "  sigmentation_data_arr = np.asarray(sigmentation_data)\n",
        "  sigmentation_label_arr = np.asarray(sigmentation_label)\n",
        "\n",
        "  return sigmentation_data_arr,sigmentation_label_arr"
      ],
      "metadata": {
        "id": "Fq2UAIRIxtue"
      },
      "execution_count": null,
      "outputs": []
    },
    {
      "cell_type": "code",
      "source": [
        "# here use semi-non-overlapping\n",
        "# signal segmentation and relevant labels\n",
        "uci_readings_25_overlapping,uci_labels_25_overlapping = time_windows(128,96,usc_unprocessed)"
      ],
      "metadata": {
        "id": "UhTD-eQZx4dj"
      },
      "execution_count": null,
      "outputs": []
    },
    {
      "cell_type": "code",
      "source": [
        "uci_labels_25_overlapping = uci_labels_25_overlapping - 1"
      ],
      "metadata": {
        "id": "vL4-8ZoayAt3"
      },
      "execution_count": null,
      "outputs": []
    },
    {
      "cell_type": "code",
      "source": [
        "x_train_25_overlapping,x_val_test_25_overlapping,y_train_25_overlapping,y_val_test_25_overlapping = train_test_split(uci_readings_25_overlapping,uci_labels_25_overlapping,test_size = 0.3)\n",
        "x_val_25_overlapping,x_test_25_overlapping,y_val_25_overlapping,y_test_25_overlapping = train_test_split(x_val_test_25_overlapping,y_val_test_25_overlapping,test_size = 0.3 )"
      ],
      "metadata": {
        "id": "83HY5bgJ3SZS"
      },
      "execution_count": null,
      "outputs": []
    },
    {
      "cell_type": "code",
      "source": [
        "train_dataset_25_overlapping = TensorDataset(torch.from_numpy(x_train_25_overlapping).to(torch.float32),torch.from_numpy(y_train_25_overlapping).to(torch.float32))\n",
        "val_dataset_25_overlapping = TensorDataset(torch.from_numpy(x_val_25_overlapping).to(torch.float32),torch.from_numpy(y_val_25_overlapping).to(torch.float32))\n",
        "test_dataset_25_overlapping = TensorDataset(torch.from_numpy(x_test_25_overlapping).to(torch.float32),torch.from_numpy(y_test_25_overlapping).to(torch.float32))"
      ],
      "metadata": {
        "id": "tNNlXFmk35rH"
      },
      "execution_count": null,
      "outputs": []
    },
    {
      "cell_type": "code",
      "source": [
        "train_loader_25_overlapping = data.DataLoader(dataset = train_dataset_25_overlapping,batch_size = 64,shuffle = True)\n",
        "val_loader_25_overlapping = data.DataLoader(dataset = val_dataset_25_overlapping,batch_size = 64,shuffle = True)\n",
        "test_loader_25_overlapping = data.DataLoader(dataset = test_dataset_25_overlapping,batch_size = 64,shuffle = False)"
      ],
      "metadata": {
        "id": "L7KKLthz4D84"
      },
      "execution_count": null,
      "outputs": []
    },
    {
      "cell_type": "code",
      "source": [
        " # now define a class of CNN model\n",
        "class CNN_25_overlapping(nn.Module):\n",
        "  def __init__(self):\n",
        "    super(CNN_25_overlapping, self).__init__()\n",
        "    self.layer1 = nn.Sequential(\n",
        "            nn.Conv2d(1, 16, kernel_size=5, stride=1, padding=2),\n",
        "            nn.ReLU(),\n",
        "            nn.BatchNorm2d(16),\n",
        "            nn.MaxPool2d(kernel_size=2, stride=2))\n",
        "    self.layer2 = nn.Sequential(\n",
        "            nn.Conv2d(16, 32, kernel_size=5, stride=1, padding=2),\n",
        "            nn.ReLU(),\n",
        "            nn.BatchNorm2d(32),\n",
        "            nn.MaxPool2d(2,2))\n",
        "    self.layer3 = nn.Sequential(\n",
        "            nn.Conv2d(32, 64, kernel_size=5, stride=1, padding=2),\n",
        "            nn.ReLU()\n",
        "    )\n",
        "    # self.drop_out = nn.Dropout()\n",
        "    self.fc1 = nn.Linear(3072, 512)\n",
        "    self.fc3 = nn.Linear(512,12)\n",
        "  def forward(self, x):\n",
        "        out = self.layer1(x)\n",
        "        out = self.layer2(out)\n",
        "        out = self.layer3(out)\n",
        "        out = out.reshape(out.size(0), -1)\n",
        "        # out = self.drop_out(out)\n",
        "        out = self.fc1(out)\n",
        "        out = self.fc3(out)\n",
        "        return out\n",
        "        \n",
        "model_25_overlapping = CNN_25_overlapping().to(device)"
      ],
      "metadata": {
        "id": "n6YQU0Cr4MKU"
      },
      "execution_count": null,
      "outputs": []
    },
    {
      "cell_type": "code",
      "source": [
        "epoches = 50\n",
        "lr = 0.001\n",
        "criterion = nn.CrossEntropyLoss()\n",
        "optimizer = optim.SGD(model_25_overlapping.parameters(),lr=lr, weight_decay=0.0001,momentum = 0.8)"
      ],
      "metadata": {
        "id": "T4J7f_jk4XP1"
      },
      "execution_count": null,
      "outputs": []
    },
    {
      "cell_type": "code",
      "source": [
        "# training\n",
        "loss_list = []\n",
        "for epoch in range(epoches):\n",
        "    acc = 0\n",
        "    correct = 0\n",
        "    total = 0\n",
        "    loss_num = 0\n",
        "    runtime_loss = 0\n",
        "    for (imgs,labels) in train_loader_25_overlapping:\n",
        "        imgs = imgs.reshape(len(imgs),1,32,24)     \n",
        "        imgs = imgs.to(device)\n",
        "        labels = labels.type(torch.LongTensor)\n",
        "        labels = labels.to(device)\n",
        "        optimizer.zero_grad()\n",
        "        outputs = model_25_overlapping(imgs)\n",
        "        loss = criterion(outputs, labels)\n",
        "        runtime_loss += loss.item()\n",
        "        loss.backward()\n",
        "        optimizer.step()\n",
        "        total += labels.size(0)\n",
        "        _,predicted = torch.max(outputs.data,1)\n",
        "        correct += (predicted == labels).sum().item()\n",
        "        loss_num+=1\n",
        "    acc = 100 * correct / total\n",
        "    epoch_loss = runtime_loss / loss_num\n",
        "    loss_list.append(epoch_loss)\n",
        "    loss_num = 0\n",
        "    print(\"Epoch: \",epoch+1, \"accuracy: \", acc,' %',\"Loss: \",epoch_loss)"
      ],
      "metadata": {
        "colab": {
          "base_uri": "https://localhost:8080/"
        },
        "id": "1zyniGTW4cTh",
        "outputId": "5e698266-7613-477a-ddf7-b0859be573ca"
      },
      "execution_count": null,
      "outputs": [
        {
          "output_type": "stream",
          "name": "stdout",
          "text": [
            "Epoch:  1 accuracy:  44.932630345635616  % Loss:  1.5711552212914202\n",
            "Epoch:  2 accuracy:  57.76215582893966  % Loss:  1.1740517202196092\n",
            "Epoch:  3 accuracy:  63.844952157781684  % Loss:  1.028545431444578\n",
            "Epoch:  4 accuracy:  68.91232181214606  % Loss:  0.8904612987212303\n",
            "Epoch:  5 accuracy:  71.96836555360281  % Loss:  0.797342262721136\n",
            "Epoch:  6 accuracy:  76.11794571372779  % Loss:  0.6810145218424336\n",
            "Epoch:  7 accuracy:  79.59871118922085  % Loss:  0.5827432595123755\n",
            "Epoch:  8 accuracy:  81.21460652216363  % Loss:  0.5268454293595668\n",
            "Epoch:  9 accuracy:  81.80531146260496  % Loss:  0.5045365660547096\n",
            "Epoch:  10 accuracy:  82.50829916032025  % Loss:  0.47400297266300595\n",
            "Epoch:  11 accuracy:  83.34309705135716  % Loss:  0.4536209424893804\n",
            "Epoch:  12 accuracy:  83.48955282171451  % Loss:  0.44630953084642644\n",
            "Epoch:  13 accuracy:  84.06073032610819  % Loss:  0.4223110478986461\n",
            "Epoch:  14 accuracy:  84.85647334504979  % Loss:  0.3979253316315535\n",
            "Epoch:  15 accuracy:  85.14450302675259  % Loss:  0.3922421675511981\n",
            "Epoch:  16 accuracy:  85.40812341339583  % Loss:  0.377491773521046\n",
            "Epoch:  17 accuracy:  85.76449912126537  % Loss:  0.3725374574044783\n",
            "Epoch:  18 accuracy:  86.04276508494435  % Loss:  0.3564722576523867\n",
            "Epoch:  19 accuracy:  86.02811950790861  % Loss:  0.35848546756947897\n",
            "Epoch:  20 accuracy:  86.50654169107597  % Loss:  0.3403117948928355\n",
            "Epoch:  21 accuracy:  86.74087092364772  % Loss:  0.33396043500796285\n",
            "Epoch:  22 accuracy:  87.02890060535051  % Loss:  0.3273552192659393\n",
            "Epoch:  23 accuracy:  86.85803553993361  % Loss:  0.3266332583078343\n",
            "Epoch:  24 accuracy:  87.09724663151728  % Loss:  0.32065093582292953\n",
            "Epoch:  25 accuracy:  87.22417496582699  % Loss:  0.31800620645470334\n",
            "Epoch:  26 accuracy:  88.09802772895918  % Loss:  0.29950153683761943\n",
            "Epoch:  27 accuracy:  87.08260105448154  % Loss:  0.3227388191028176\n",
            "Epoch:  28 accuracy:  87.52685022456552  % Loss:  0.3039191140912218\n",
            "Epoch:  29 accuracy:  88.41534856473345  % Loss:  0.28483218562751544\n",
            "Epoch:  30 accuracy:  88.55204061706698  % Loss:  0.2783275123401269\n",
            "Epoch:  31 accuracy:  88.69361452841243  % Loss:  0.27408218497520664\n",
            "Epoch:  32 accuracy:  89.0988088264011  % Loss:  0.26533787900645783\n",
            "Epoch:  33 accuracy:  89.19644600663933  % Loss:  0.2621810177857538\n",
            "Epoch:  34 accuracy:  89.17691857059168  % Loss:  0.25685692692285755\n",
            "Epoch:  35 accuracy:  89.31361062292521  % Loss:  0.25969973536109625\n",
            "Epoch:  36 accuracy:  89.3526654950205  % Loss:  0.25406552644626373\n",
            "Epoch:  37 accuracy:  88.99140792813904  % Loss:  0.26104621171394243\n",
            "Epoch:  38 accuracy:  89.7285686389377  % Loss:  0.24715204803835938\n",
            "Epoch:  39 accuracy:  88.86447959382933  % Loss:  0.2641829094048764\n",
            "Epoch:  40 accuracy:  89.59187658660417  % Loss:  0.25721651120720623\n",
            "Epoch:  41 accuracy:  88.37141183362624  % Loss:  0.28300020898289024\n",
            "Epoch:  42 accuracy:  89.84573325522359  % Loss:  0.2401237327872407\n",
            "Epoch:  43 accuracy:  89.95313415348565  % Loss:  0.23176494018229832\n",
            "Epoch:  44 accuracy:  90.0605350517477  % Loss:  0.23291706709289847\n",
            "Epoch:  45 accuracy:  90.16793595000976  % Loss:  0.2320903662637143\n",
            "Epoch:  46 accuracy:  90.58289396602225  % Loss:  0.22010439200286183\n",
            "Epoch:  47 accuracy:  90.59753954305799  % Loss:  0.2192213309470367\n",
            "Epoch:  48 accuracy:  90.52431165787932  % Loss:  0.21914434716151882\n",
            "Epoch:  49 accuracy:  90.44620191368874  % Loss:  0.22564397346100704\n",
            "Epoch:  50 accuracy:  90.82210505760594  % Loss:  0.21353316511320547\n"
          ]
        }
      ]
    },
    {
      "cell_type": "code",
      "source": [
        "# test\n",
        "correct_test = 0\n",
        "\n",
        "total_test = 0\n",
        "\n",
        "with torch.no_grad():\n",
        "\n",
        "  for (imgs_test,labels_test) in test_loader_25_overlapping:\n",
        "\n",
        "    imgs_test = imgs_test.reshape(len(imgs_test),1,32,24)\n",
        "\n",
        "    imgs_test = imgs_test.to(device)\n",
        "\n",
        "    labels_test = labels_test.type(torch.LongTensor)\n",
        "\n",
        "    labels_test = labels_test.to(device)\n",
        "\n",
        "    outputs_test = model_25_overlapping(imgs_test)\n",
        "\n",
        "    labels_test = labels_test.reshape(labels_test.shape[0],)\n",
        "\n",
        "    predicted_test = torch.max(outputs_test.data,1)[1]\n",
        "      \n",
        "    total_test += labels_test.size(0)\n",
        "      \n",
        "    correct_test += (predicted_test == labels_test).sum().item()\n",
        "\n",
        "    test_accuracy = 100*correct_test/total_test\n",
        "\n",
        "print('Test accuracy is: ',test_accuracy)"
      ],
      "metadata": {
        "colab": {
          "base_uri": "https://localhost:8080/"
        },
        "id": "d67gHXab4iZv",
        "outputId": "b1f53f0a-513c-4ff2-d344-828aca0ee110"
      },
      "execution_count": null,
      "outputs": [
        {
          "output_type": "stream",
          "name": "stdout",
          "text": [
            "Test accuracy is:  84.54821564160972\n"
          ]
        }
      ]
    }
  ]
}