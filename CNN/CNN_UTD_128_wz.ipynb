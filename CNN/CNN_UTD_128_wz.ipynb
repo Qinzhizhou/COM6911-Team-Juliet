{
 "cells": [
  {
   "cell_type": "code",
   "execution_count": 1,
   "id": "eadf10af",
   "metadata": {},
   "outputs": [],
   "source": [
    "%matplotlib inline\n",
    "import scipy.io\n",
    "import numpy as np\n",
    "import pandas as pd\n",
    "from pathlib import Path\n",
    "import re\n",
    "from collections import Counter\n",
    "from matplotlib import pyplot as plt\n",
    "import torch\n",
    "import torch.nn as nn\n",
    "import torch.nn.functional as F\n",
    "import torch.optim as optim\n",
    "import torchvision\n",
    "from torchvision import datasets, transforms\n",
    "from torch.autograd import Variable\n",
    "from torch.utils.data import TensorDataset\n",
    "import torch.utils.data as data\n",
    "from torchvision import datasets\n",
    "device = torch.device(\"cuda\" if torch.cuda.is_available() else \"cpu\") # use gpu"
   ]
  },
  {
   "cell_type": "code",
   "execution_count": 28,
   "id": "4ef362a7",
   "metadata": {},
   "outputs": [],
   "source": [
    "train_feature_75ol = np.load('../Data/UTDMHAD_data/UTD_train_feature_128wz_75ol.npy')\n",
    "train_label_75ol = np.load('../Data/UTDMHAD_data/UTD_train_label_128wz_75ol.npy')\n",
    "test_feature_75ol = np.load('../Data/UTDMHAD_data/UTD_test_feature_128wz_75ol.npy')\n",
    "test_label_75ol = np.load('../Data/UTDMHAD_data/UTD_test_label_128wz_75ol.npy')\n",
    "\n",
    "train_feature_50ol = np.load('../Data/UTDMHAD_data/UTD_train_feature_128wz_50ol.npy')\n",
    "train_label_50ol = np.load('../Data/UTDMHAD_data/UTD_train_label_128wz_50ol.npy')\n",
    "test_feature_50ol = np.load('../Data/UTDMHAD_data/UTD_test_feature_128wz_50ol.npy')\n",
    "test_label_50ol = np.load('../Data/UTDMHAD_data/UTD_test_label_128wz_50ol.npy')\n",
    "\n",
    "train_feature_25ol = np.load('../Data/UTDMHAD_data/UTD_train_feature_128wz_25ol.npy')\n",
    "train_label_25ol = np.load('../Data/UTDMHAD_data/UTD_train_label_128wz_25ol.npy')\n",
    "test_feature_25ol = np.load('../Data/UTDMHAD_data/UTD_test_feature_128wz_25ol.npy')\n",
    "test_label_25ol = np.load('../Data/UTDMHAD_data/UTD_test_label_128wz_25ol.npy')\n",
    "\n",
    "train_feature_0ol = np.load('../Data/UTDMHAD_data/UTD_train_feature_128wz_0ol.npy')\n",
    "train_label_0ol = np.load('../Data/UTDMHAD_data/UTD_train_label_128wz_0ol.npy')\n",
    "test_feature_0ol = np.load('../Data/UTDMHAD_data/UTD_test_feature_128wz_0ol.npy')\n",
    "test_label_0ol = np.load('../Data/UTDMHAD_data/UTD_test_label_128wz_0ol.npy')"
   ]
  },
  {
   "cell_type": "markdown",
   "id": "f73e8afe",
   "metadata": {},
   "source": [
    "# 128 window_size %75 overlapping"
   ]
  },
  {
   "cell_type": "code",
   "execution_count": 78,
   "id": "00c772c6",
   "metadata": {},
   "outputs": [],
   "source": [
    "train_dataset_75ol = TensorDataset(torch.from_numpy(train_feature_75ol).to(torch.float32),torch.from_numpy(train_label_75ol).to(torch.float32))\n",
    "\n",
    "test_dataset_75ol = TensorDataset(torch.from_numpy(test_feature_75ol).to(torch.float32),torch.from_numpy(test_label_75ol).to(torch.float32))\n"
   ]
  },
  {
   "cell_type": "code",
   "execution_count": 79,
   "id": "aa882470",
   "metadata": {},
   "outputs": [],
   "source": [
    "train_loader_75ol = data.DataLoader(dataset = train_dataset_75ol, batch_size = 32, shuffle = True)\n",
    "\n",
    "test_loader_75ol = data.DataLoader(dataset = test_dataset_75ol, batch_size = 32, shuffle = False)"
   ]
  },
  {
   "cell_type": "code",
   "execution_count": 80,
   "id": "36d6b544",
   "metadata": {},
   "outputs": [],
   "source": [
    "class CNN_UTD(nn.Module):\n",
    "    def __init__(self):\n",
    "        super(CNN_UTD, self).__init__()\n",
    "        self.layer1 = nn.Sequential(\n",
    "                nn.Conv2d(1, 16, kernel_size=3, stride=1, padding=2),\n",
    "                nn.ReLU(),\n",
    "                nn.BatchNorm2d(16),\n",
    "                nn.MaxPool2d(kernel_size=2, stride=2))\n",
    "        self.layer2 = nn.Sequential(\n",
    "                nn.Conv2d(16, 32, kernel_size=3, stride=1, padding=2),\n",
    "                nn.ReLU(),\n",
    "                nn.BatchNorm2d(32),\n",
    "                nn.MaxPool2d(2,2))\n",
    "        self.layer3 = nn.Sequential(\n",
    "                nn.Conv2d(32, 64, kernel_size=3, stride=1, padding=2),\n",
    "                nn.ReLU()\n",
    "        )\n",
    "        self.fc1 = nn.Linear(6336, 512)\n",
    "        self.fc3 = nn.Linear(512,27)\n",
    "    def forward(self, x):\n",
    "        out = self.layer1(x)\n",
    "        out = self.layer2(out)\n",
    "        out = self.layer3(out)\n",
    "        out = out.reshape(out.size(0), -1)\n",
    "        # out = self.drop_out(out)\n",
    "        out = self.fc1(out)           \n",
    "        out = self.fc3(out)\n",
    "        return out\n",
    "        \n",
    "model_75 = CNN_UTD().to(device)"
   ]
  },
  {
   "cell_type": "code",
   "execution_count": 81,
   "id": "a800f865",
   "metadata": {},
   "outputs": [],
   "source": [
    "epoches = 10\n",
    "lr = 0.01\n",
    "criterion = nn.CrossEntropyLoss()\n",
    "optimizer = optim.SGD(model_75.parameters(),lr=lr, weight_decay=0.0001,momentum = 0.8)"
   ]
  },
  {
   "cell_type": "code",
   "execution_count": 82,
   "id": "89b20983",
   "metadata": {},
   "outputs": [
    {
     "name": "stdout",
     "output_type": "stream",
     "text": [
      "Epoch:  1 accuracy:  29.923574368018812  % Loss:  2.3841925647771247\n",
      "Epoch:  2 accuracy:  57.58377425044092  % Loss:  1.351989516588015\n",
      "Epoch:  3 accuracy:  66.10817166372722  % Loss:  1.0166686060272645\n",
      "Epoch:  4 accuracy:  74.54438565549677  % Loss:  0.7697497350033199\n",
      "Epoch:  5 accuracy:  79.07113462669018  % Loss:  0.6166195409877278\n",
      "Epoch:  6 accuracy:  85.33215755437978  % Loss:  0.4419640682846586\n",
      "Epoch:  7 accuracy:  87.88947677836566  % Loss:  0.3486134247662865\n",
      "Epoch:  8 accuracy:  91.21105232216344  % Loss:  0.2765000829490546\n",
      "Epoch:  9 accuracy:  92.26925338036449  % Loss:  0.23898712785862317\n",
      "Epoch:  10 accuracy:  94.88536155202821  % Loss:  0.167542581246278\n"
     ]
    }
   ],
   "source": [
    "# training\n",
    "loss_list = []\n",
    "for epoch in range(epoches):\n",
    "    acc = 0\n",
    "    correct = 0\n",
    "    total = 0\n",
    "    loss_num = 0\n",
    "    runtime_loss = 0\n",
    "    for (imgs,labels) in train_loader_75ol:\n",
    "        imgs = imgs.reshape(len(imgs),1,32,24)\n",
    "#         imgs = imgs.reshape(len(imgs),1,16,24)     \n",
    "        imgs = imgs.to(device)\n",
    "        labels = labels.type(torch.LongTensor)\n",
    "        labels = labels.to(device)\n",
    "        optimizer.zero_grad()\n",
    "        outputs = model_75(imgs)\n",
    "        loss = criterion(outputs, labels)\n",
    "        runtime_loss += loss.item()\n",
    "        loss.backward()\n",
    "        optimizer.step()\n",
    "        total += labels.size(0)\n",
    "        _,predicted = torch.max(outputs.data,1)\n",
    "        correct += (predicted == labels).sum().item()\n",
    "        loss_num+=1\n",
    "    acc = 100 * correct / total\n",
    "    epoch_loss = runtime_loss / loss_num\n",
    "    loss_list.append(epoch_loss)\n",
    "    loss_num = 0\n",
    "    print(\"Epoch: \",epoch+1, \"accuracy: \", acc,' %',\"Loss: \",epoch_loss)"
   ]
  },
  {
   "cell_type": "code",
   "execution_count": 84,
   "id": "fb160ed2",
   "metadata": {},
   "outputs": [
    {
     "data": {
      "image/png": "[encoded data removed]",
      "text/plain": [
       "<Figure size 432x288 with 1 Axes>"
      ]
     },
     "metadata": {
      "needs_background": "light"
     },
     "output_type": "display_data"
    }
   ],
   "source": [
    "import matplotlib.pyplot as plt\n",
    "x = []\n",
    "for i in range(1,11):\n",
    "  x.append(i)\n",
    "y = loss_list\n",
    "fig = plt.figure()\n",
    "plt.plot(x,y,color = 'blue')\n",
    "plt.title('training loss history')\n",
    "plt.show()"
   ]
  },
  {
   "cell_type": "code",
   "execution_count": 85,
   "id": "f8961597",
   "metadata": {},
   "outputs": [
    {
     "name": "stdout",
     "output_type": "stream",
     "text": [
      "validation accuracy is:  72.15363511659808\n"
     ]
    }
   ],
   "source": [
    "# test\n",
    "correct_test = 0\n",
    "\n",
    "total_test = 0\n",
    "\n",
    "with torch.no_grad():\n",
    "\n",
    "  for (imgs_test,labels_test) in test_loader_75ol:\n",
    "\n",
    "    imgs_test = imgs_test.reshape(len(imgs_test),1,32,24)\n",
    "\n",
    "    imgs_test = imgs_test.to(device)\n",
    "\n",
    "    labels_test = labels_test.type(torch.LongTensor)\n",
    "\n",
    "    labels_test = labels_test.to(device)\n",
    "\n",
    "    outputs_test = model_75(imgs_test)\n",
    "\n",
    "    labels_test = labels_test.reshape(labels_test.shape[0],)\n",
    "\n",
    "    predicted_test = torch.max(outputs_test.data,1)[1]\n",
    "      \n",
    "    total_test += labels_test.size(0)\n",
    "      \n",
    "    correct_test += (predicted_test == labels_test).sum().item()\n",
    "\n",
    "    test_accuracy = 100*correct_test/total_test\n",
    "\n",
    "print('validation accuracy is: ',test_accuracy)"
   ]
  },
  {
   "cell_type": "markdown",
   "id": "ff78b978",
   "metadata": {},
   "source": [
    "# 128 window_size %50 overlapping"
   ]
  },
  {
   "cell_type": "code",
   "execution_count": 31,
   "id": "587552d6",
   "metadata": {},
   "outputs": [],
   "source": [
    "train_dataset_50ol = TensorDataset(torch.from_numpy(train_feature_50ol).to(torch.float32),torch.from_numpy(train_label_50ol).to(torch.float32))\n",
    "\n",
    "test_dataset_50ol = TensorDataset(torch.from_numpy(test_feature_50ol).to(torch.float32),torch.from_numpy(test_label_50ol).to(torch.float32))\n",
    "\n",
    "train_loader_50ol = data.DataLoader(dataset = train_dataset_50ol, batch_size = 32, shuffle = True)\n",
    "\n",
    "test_loader_50ol = data.DataLoader(dataset = test_dataset_50ol, batch_size = 32, shuffle = False)\n"
   ]
  },
  {
   "cell_type": "code",
   "execution_count": 36,
   "id": "0efa82d8",
   "metadata": {},
   "outputs": [],
   "source": [
    "class CNN_UTD_50(nn.Module):\n",
    "    def __init__(self):\n",
    "        super(CNN_UTD_50, self).__init__()\n",
    "        self.layer1 = nn.Sequential(\n",
    "                nn.Conv2d(1, 16, kernel_size=3, stride=1, padding=2),\n",
    "                nn.ReLU(),\n",
    "                nn.BatchNorm2d(16),\n",
    "                nn.MaxPool2d(kernel_size=2, stride=2))\n",
    "        self.layer2 = nn.Sequential(\n",
    "                nn.Conv2d(16, 32, kernel_size=3, stride=1, padding=2),\n",
    "                nn.ReLU(),\n",
    "                nn.BatchNorm2d(32),\n",
    "                nn.MaxPool2d(2,2))\n",
    "        self.layer3 = nn.Sequential(\n",
    "                nn.Conv2d(32, 64, kernel_size=3, stride=1, padding=2),\n",
    "                nn.ReLU()\n",
    "        )\n",
    "        self.fc1 = nn.Linear(6336, 512)\n",
    "        self.fc3 = nn.Linear(512,27)\n",
    "    def forward(self, x):\n",
    "        out = self.layer1(x)\n",
    "        out = self.layer2(out)\n",
    "        out = self.layer3(out)\n",
    "        out = out.reshape(out.size(0), -1)\n",
    "        # out = self.drop_out(out)\n",
    "        out = self.fc1(out)           \n",
    "        out = self.fc3(out)\n",
    "        return out\n",
    "        \n",
    "model_50 = CNN_UTD_50().to(device)\n",
    "epoches = 10\n",
    "lr = 0.01\n",
    "criterion = nn.CrossEntropyLoss()\n",
    "optimizer = optim.SGD(model_50.parameters(),lr=lr, weight_decay=0.0001,momentum = 0.8)"
   ]
  },
  {
   "cell_type": "code",
   "execution_count": 37,
   "id": "0ecec5ce",
   "metadata": {},
   "outputs": [
    {
     "name": "stdout",
     "output_type": "stream",
     "text": [
      "Epoch:  1 accuracy:  17.225161669606113  % Loss:  2.832912113931444\n",
      "Epoch:  2 accuracy:  45.03233392122281  % Loss:  1.825664378978588\n",
      "Epoch:  3 accuracy:  57.084068195179306  % Loss:  1.402979205052058\n",
      "Epoch:  4 accuracy:  67.90123456790124  % Loss:  1.0121866464614868\n",
      "Epoch:  5 accuracy:  72.78071722516167  % Loss:  0.8471889716607554\n",
      "Epoch:  6 accuracy:  79.24750146972369  % Loss:  0.6439593853773894\n",
      "Epoch:  7 accuracy:  84.891240446796  % Loss:  0.45410343673494125\n",
      "Epoch:  8 accuracy:  90.47619047619048  % Loss:  0.3139811412051872\n",
      "Epoch:  9 accuracy:  93.06290417401529  % Loss:  0.2263175276004606\n",
      "Epoch:  10 accuracy:  96.00235155790712  % Loss:  0.17255828840037188\n"
     ]
    }
   ],
   "source": [
    "# training\n",
    "loss_list = []\n",
    "for epoch in range(epoches):\n",
    "    acc = 0\n",
    "    correct = 0\n",
    "    total = 0\n",
    "    loss_num = 0\n",
    "    runtime_loss = 0\n",
    "    for (imgs,labels) in train_loader_50ol:\n",
    "        imgs = imgs.reshape(len(imgs),1,32,24)\n",
    "#         imgs = imgs.reshape(len(imgs),1,16,24)     \n",
    "        imgs = imgs.to(device)\n",
    "        labels = labels.type(torch.LongTensor)\n",
    "        labels = labels.to(device)\n",
    "        optimizer.zero_grad()\n",
    "        outputs = model_50(imgs)\n",
    "        loss = criterion(outputs, labels)\n",
    "        runtime_loss += loss.item()\n",
    "        loss.backward()\n",
    "        optimizer.step()\n",
    "        total += labels.size(0)\n",
    "        _,predicted = torch.max(outputs.data,1)\n",
    "        correct += (predicted == labels).sum().item()\n",
    "        loss_num+=1\n",
    "    acc = 100 * correct / total\n",
    "    epoch_loss = runtime_loss / loss_num\n",
    "    loss_list.append(epoch_loss)\n",
    "    loss_num = 0\n",
    "    print(\"Epoch: \",epoch+1, \"accuracy: \", acc,' %',\"Loss: \",epoch_loss)"
   ]
  },
  {
   "cell_type": "code",
   "execution_count": 30,
   "id": "172d2837",
   "metadata": {},
   "outputs": [
    {
     "data": {
      "text/plain": [
       "array([25.,  6.,  7., ..., 12., 15., 13.])"
      ]
     },
     "execution_count": 30,
     "metadata": {},
     "output_type": "execute_result"
    }
   ],
   "source": [
    "train_label_50ol"
   ]
  },
  {
   "cell_type": "code",
   "execution_count": 38,
   "id": "725478cc",
   "metadata": {},
   "outputs": [
    {
     "name": "stdout",
     "output_type": "stream",
     "text": [
      "validation accuracy is:  60.768175582990395\n"
     ]
    }
   ],
   "source": [
    "# test\n",
    "correct_test = 0\n",
    "\n",
    "total_test = 0\n",
    "\n",
    "with torch.no_grad():\n",
    "\n",
    "  for (imgs_test,labels_test) in test_loader_50ol:\n",
    "\n",
    "    imgs_test = imgs_test.reshape(len(imgs_test),1,32,24)\n",
    "\n",
    "    imgs_test = imgs_test.to(device)\n",
    "\n",
    "    labels_test = labels_test.type(torch.LongTensor)\n",
    "\n",
    "    labels_test = labels_test.to(device)\n",
    "\n",
    "    outputs_test = model_50(imgs_test)\n",
    "\n",
    "    labels_test = labels_test.reshape(labels_test.shape[0],)\n",
    "\n",
    "    predicted_test = torch.max(outputs_test.data,1)[1]\n",
    "      \n",
    "    total_test += labels_test.size(0)\n",
    "      \n",
    "    correct_test += (predicted_test == labels_test).sum().item()\n",
    "\n",
    "    test_accuracy = 100*correct_test/total_test\n",
    "\n",
    "print('validation accuracy is: ',test_accuracy)"
   ]
  },
  {
   "cell_type": "markdown",
   "id": "89de8fa9",
   "metadata": {},
   "source": [
    "# 128 window_size %25 overlapping"
   ]
  },
  {
   "cell_type": "code",
   "execution_count": 39,
   "id": "1c2bc3ea",
   "metadata": {},
   "outputs": [],
   "source": [
    "train_dataset_25ol = TensorDataset(torch.from_numpy(train_feature_25ol).to(torch.float32),torch.from_numpy(train_label_25ol).to(torch.float32))\n",
    "\n",
    "test_dataset_25ol = TensorDataset(torch.from_numpy(test_feature_25ol).to(torch.float32),torch.from_numpy(test_label_25ol).to(torch.float32))\n",
    "\n",
    "train_loader_25ol = data.DataLoader(dataset = train_dataset_25ol, batch_size = 32, shuffle = True)\n",
    "\n",
    "test_loader_25ol = data.DataLoader(dataset = test_dataset_25ol, batch_size = 32, shuffle = False)\n"
   ]
  },
  {
   "cell_type": "code",
   "execution_count": 40,
   "id": "655d6868",
   "metadata": {},
   "outputs": [],
   "source": [
    "class CNN_UTD_25(nn.Module):\n",
    "    def __init__(self):\n",
    "        super(CNN_UTD_25, self).__init__()\n",
    "        self.layer1 = nn.Sequential(\n",
    "                nn.Conv2d(1, 16, kernel_size=3, stride=1, padding=2),\n",
    "                nn.ReLU(),\n",
    "                nn.BatchNorm2d(16),\n",
    "                nn.MaxPool2d(kernel_size=2, stride=2))\n",
    "        self.layer2 = nn.Sequential(\n",
    "                nn.Conv2d(16, 32, kernel_size=3, stride=1, padding=2),\n",
    "                nn.ReLU(),\n",
    "                nn.BatchNorm2d(32),\n",
    "                nn.MaxPool2d(2,2))\n",
    "        self.layer3 = nn.Sequential(\n",
    "                nn.Conv2d(32, 64, kernel_size=3, stride=1, padding=2),\n",
    "                nn.ReLU()\n",
    "        )\n",
    "        self.fc1 = nn.Linear(6336, 512)\n",
    "        self.fc3 = nn.Linear(512,27)\n",
    "    def forward(self, x):\n",
    "        out = self.layer1(x)\n",
    "        out = self.layer2(out)\n",
    "        out = self.layer3(out)\n",
    "        out = out.reshape(out.size(0), -1)\n",
    "        # out = self.drop_out(out)\n",
    "        out = self.fc1(out)           \n",
    "        out = self.fc3(out)\n",
    "        return out\n",
    "        \n",
    "model_25 = CNN_UTD_25().to(device)\n",
    "epoches = 10\n",
    "lr = 0.01\n",
    "criterion = nn.CrossEntropyLoss()\n",
    "optimizer = optim.SGD(model_25.parameters(),lr=lr, weight_decay=0.0001,momentum = 0.8)"
   ]
  },
  {
   "cell_type": "code",
   "execution_count": 41,
   "id": "7ef97bcd",
   "metadata": {},
   "outputs": [
    {
     "name": "stdout",
     "output_type": "stream",
     "text": [
      "Epoch:  1 accuracy:  12.610229276895943  % Loss:  2.9839517143037586\n",
      "Epoch:  2 accuracy:  38.80070546737213  % Loss:  2.0872070822450848\n",
      "Epoch:  3 accuracy:  52.29276895943563  % Loss:  1.5669708417521582\n",
      "Epoch:  4 accuracy:  63.492063492063494  % Loss:  1.138781453172366\n",
      "Epoch:  5 accuracy:  71.42857142857143  % Loss:  0.9095828466945224\n",
      "Epoch:  6 accuracy:  78.65961199294533  % Loss:  0.6887894695003828\n",
      "Epoch:  7 accuracy:  82.45149911816578  % Loss:  0.5513019495540195\n",
      "Epoch:  8 accuracy:  86.86067019400353  % Loss:  0.4286456128789319\n",
      "Epoch:  9 accuracy:  91.71075837742504  % Loss:  0.30844709194368786\n",
      "Epoch:  10 accuracy:  94.79717813051147  % Loss:  0.19016841550668082\n"
     ]
    }
   ],
   "source": [
    "# training\n",
    "loss_list = []\n",
    "for epoch in range(epoches):\n",
    "    acc = 0\n",
    "    correct = 0\n",
    "    total = 0\n",
    "    loss_num = 0\n",
    "    runtime_loss = 0\n",
    "    for (imgs,labels) in train_loader_25ol:\n",
    "        imgs = imgs.reshape(len(imgs),1,32,24)\n",
    "#         imgs = imgs.reshape(len(imgs),1,16,24)     \n",
    "        imgs = imgs.to(device)\n",
    "        labels = labels.type(torch.LongTensor)\n",
    "        labels = labels.to(device)\n",
    "        optimizer.zero_grad()\n",
    "        outputs = model_25(imgs)\n",
    "        loss = criterion(outputs, labels)\n",
    "        runtime_loss += loss.item()\n",
    "        loss.backward()\n",
    "        optimizer.step()\n",
    "        total += labels.size(0)\n",
    "        _,predicted = torch.max(outputs.data,1)\n",
    "        correct += (predicted == labels).sum().item()\n",
    "        loss_num+=1\n",
    "    acc = 100 * correct / total\n",
    "    epoch_loss = runtime_loss / loss_num\n",
    "    loss_list.append(epoch_loss)\n",
    "    loss_num = 0\n",
    "    print(\"Epoch: \",epoch+1, \"accuracy: \", acc,' %',\"Loss: \",epoch_loss)"
   ]
  },
  {
   "cell_type": "code",
   "execution_count": 43,
   "id": "140fa912",
   "metadata": {},
   "outputs": [
    {
     "data": {
      "image/png": "[encoded data removed]",
      "text/plain": [
       "<Figure size 432x288 with 1 Axes>"
      ]
     },
     "metadata": {
      "needs_background": "light"
     },
     "output_type": "display_data"
    }
   ],
   "source": [
    "import matplotlib.pyplot as plt\n",
    "x = []\n",
    "for i in range(1,11):\n",
    "  x.append(i)\n",
    "y = loss_list\n",
    "fig = plt.figure()\n",
    "plt.plot(x,y,color = 'blue')\n",
    "plt.title('training loss history')\n",
    "plt.show()"
   ]
  },
  {
   "cell_type": "code",
   "execution_count": 42,
   "id": "3a457f3f",
   "metadata": {},
   "outputs": [
    {
     "name": "stdout",
     "output_type": "stream",
     "text": [
      "validation accuracy is:  61.31687242798354\n"
     ]
    }
   ],
   "source": [
    "# test\n",
    "correct_test = 0\n",
    "\n",
    "total_test = 0\n",
    "\n",
    "with torch.no_grad():\n",
    "\n",
    "  for (imgs_test,labels_test) in test_loader_25ol:\n",
    "\n",
    "    imgs_test = imgs_test.reshape(len(imgs_test),1,32,24)\n",
    "\n",
    "    imgs_test = imgs_test.to(device)\n",
    "\n",
    "    labels_test = labels_test.type(torch.LongTensor)\n",
    "\n",
    "    labels_test = labels_test.to(device)\n",
    "\n",
    "    outputs_test = model_25(imgs_test)\n",
    "\n",
    "    labels_test = labels_test.reshape(labels_test.shape[0],)\n",
    "\n",
    "    predicted_test = torch.max(outputs_test.data,1)[1]\n",
    "      \n",
    "    total_test += labels_test.size(0)\n",
    "      \n",
    "    correct_test += (predicted_test == labels_test).sum().item()\n",
    "\n",
    "    test_accuracy = 100*correct_test/total_test\n",
    "\n",
    "print('validation accuracy is: ',test_accuracy)"
   ]
  },
  {
   "cell_type": "markdown",
   "id": "9e32eca0",
   "metadata": {},
   "source": [
    "# 128 window_size %0 overlapping"
   ]
  },
  {
   "cell_type": "code",
   "execution_count": 44,
   "id": "5ed75bc7",
   "metadata": {},
   "outputs": [],
   "source": [
    "train_dataset_0ol = TensorDataset(torch.from_numpy(train_feature_0ol).to(torch.float32),torch.from_numpy(train_label_0ol).to(torch.float32))\n",
    "\n",
    "test_dataset_0ol = TensorDataset(torch.from_numpy(test_feature_0ol).to(torch.float32),torch.from_numpy(test_label_0ol).to(torch.float32))\n",
    "\n",
    "train_loader_0ol = data.DataLoader(dataset = train_dataset_0ol, batch_size = 32, shuffle = True)\n",
    "\n",
    "test_loader_0ol = data.DataLoader(dataset = test_dataset_0ol, batch_size = 32, shuffle = False)\n"
   ]
  },
  {
   "cell_type": "code",
   "execution_count": 46,
   "id": "51d8ba8d",
   "metadata": {},
   "outputs": [],
   "source": [
    "class CNN_UTD_0(nn.Module):\n",
    "    def __init__(self):\n",
    "        super(CNN_UTD_0, self).__init__()\n",
    "        self.layer1 = nn.Sequential(\n",
    "                nn.Conv2d(1, 16, kernel_size=3, stride=1, padding=2),\n",
    "                nn.ReLU(),\n",
    "                nn.BatchNorm2d(16),\n",
    "                nn.MaxPool2d(kernel_size=2, stride=2))\n",
    "        self.layer2 = nn.Sequential(\n",
    "                nn.Conv2d(16, 32, kernel_size=3, stride=1, padding=2),\n",
    "                nn.ReLU(),\n",
    "                nn.BatchNorm2d(32),\n",
    "                nn.MaxPool2d(2,2))\n",
    "        self.layer3 = nn.Sequential(\n",
    "                nn.Conv2d(32, 64, kernel_size=3, stride=1, padding=2),\n",
    "                nn.ReLU()\n",
    "        )\n",
    "        self.fc1 = nn.Linear(6336, 512)\n",
    "        self.fc3 = nn.Linear(512,27)\n",
    "    def forward(self, x):\n",
    "        out = self.layer1(x)\n",
    "        out = self.layer2(out)\n",
    "        out = self.layer3(out)\n",
    "        out = out.reshape(out.size(0), -1)\n",
    "        # out = self.drop_out(out)\n",
    "        out = self.fc1(out)           \n",
    "        out = self.fc3(out)\n",
    "        return out\n",
    "        \n",
    "model_0 = CNN_UTD_0().to(device)\n",
    "epoches = 10\n",
    "lr = 0.01\n",
    "criterion = nn.CrossEntropyLoss()\n",
    "optimizer = optim.SGD(model_0.parameters(),lr=lr, weight_decay=0.0001,momentum = 0.8)"
   ]
  },
  {
   "cell_type": "code",
   "execution_count": 47,
   "id": "c1efdabb",
   "metadata": {},
   "outputs": [
    {
     "name": "stdout",
     "output_type": "stream",
     "text": [
      "Epoch:  1 accuracy:  9.647058823529411  % Loss:  3.0826052824656167\n",
      "Epoch:  2 accuracy:  32.705882352941174  % Loss:  2.2842001385158963\n",
      "Epoch:  3 accuracy:  46.705882352941174  % Loss:  1.8179191969059132\n",
      "Epoch:  4 accuracy:  59.529411764705884  % Loss:  1.3313521610365973\n",
      "Epoch:  5 accuracy:  70.11764705882354  % Loss:  0.989971986523381\n",
      "Epoch:  6 accuracy:  76.94117647058823  % Loss:  0.8030354822123492\n",
      "Epoch:  7 accuracy:  77.17647058823529  % Loss:  0.7278746885282023\n",
      "Epoch:  8 accuracy:  84.94117647058823  % Loss:  0.524780132152416\n",
      "Epoch:  9 accuracy:  89.88235294117646  % Loss:  0.3535311271746953\n",
      "Epoch:  10 accuracy:  93.6470588235294  % Loss:  0.24984593606657451\n"
     ]
    }
   ],
   "source": [
    "# training\n",
    "loss_list = []\n",
    "for epoch in range(epoches):\n",
    "    acc = 0\n",
    "    correct = 0\n",
    "    total = 0\n",
    "    loss_num = 0\n",
    "    runtime_loss = 0\n",
    "    for (imgs,labels) in train_loader_0ol:\n",
    "        imgs = imgs.reshape(len(imgs),1,32,24)\n",
    "#         imgs = imgs.reshape(len(imgs),1,16,24)     \n",
    "        imgs = imgs.to(device)\n",
    "        labels = labels.type(torch.LongTensor)\n",
    "        labels = labels.to(device)\n",
    "        optimizer.zero_grad()\n",
    "        outputs = model_0(imgs)\n",
    "        loss = criterion(outputs, labels)\n",
    "        runtime_loss += loss.item()\n",
    "        loss.backward()\n",
    "        optimizer.step()\n",
    "        total += labels.size(0)\n",
    "        _,predicted = torch.max(outputs.data,1)\n",
    "        correct += (predicted == labels).sum().item()\n",
    "        loss_num+=1\n",
    "    acc = 100 * correct / total\n",
    "    epoch_loss = runtime_loss / loss_num\n",
    "    loss_list.append(epoch_loss)\n",
    "    loss_num = 0\n",
    "    print(\"Epoch: \",epoch+1, \"accuracy: \", acc,' %',\"Loss: \",epoch_loss)"
   ]
  },
  {
   "cell_type": "code",
   "execution_count": 48,
   "id": "42adcc67",
   "metadata": {},
   "outputs": [
    {
     "data": {
      "image/png": "[encoded data removed]",
      "text/plain": [
       "<Figure size 432x288 with 1 Axes>"
      ]
     },
     "metadata": {
      "needs_background": "light"
     },
     "output_type": "display_data"
    }
   ],
   "source": [
    "import matplotlib.pyplot as plt\n",
    "x = []\n",
    "for i in range(1,11):\n",
    "  x.append(i)\n",
    "y = loss_list\n",
    "fig = plt.figure()\n",
    "plt.plot(x,y,color = 'blue')\n",
    "plt.title('training loss history')\n",
    "plt.show()"
   ]
  },
  {
   "cell_type": "code",
   "execution_count": 49,
   "id": "e43da715",
   "metadata": {},
   "outputs": [
    {
     "name": "stdout",
     "output_type": "stream",
     "text": [
      "validation accuracy is:  53.6986301369863\n"
     ]
    }
   ],
   "source": [
    "# test\n",
    "correct_test = 0\n",
    "\n",
    "total_test = 0\n",
    "\n",
    "with torch.no_grad():\n",
    "\n",
    "  for (imgs_test,labels_test) in test_loader_0ol:\n",
    "\n",
    "    imgs_test = imgs_test.reshape(len(imgs_test),1,32,24)\n",
    "\n",
    "    imgs_test = imgs_test.to(device)\n",
    "\n",
    "    labels_test = labels_test.type(torch.LongTensor)\n",
    "\n",
    "    labels_test = labels_test.to(device)\n",
    "\n",
    "    outputs_test = model_0(imgs_test)\n",
    "\n",
    "    labels_test = labels_test.reshape(labels_test.shape[0],)\n",
    "\n",
    "    predicted_test = torch.max(outputs_test.data,1)[1]\n",
    "      \n",
    "    total_test += labels_test.size(0)\n",
    "      \n",
    "    correct_test += (predicted_test == labels_test).sum().item()\n",
    "\n",
    "    test_accuracy = 100*correct_test/total_test\n",
    "\n",
    "print('validation accuracy is: ',test_accuracy)"
   ]
  },
  {
   "cell_type": "code",
   "execution_count": null,
   "id": "2ec51024",
   "metadata": {},
   "outputs": [],
   "source": []
  },
  {
   "cell_type": "code",
   "execution_count": null,
   "id": "f9db9fa4",
   "metadata": {},
   "outputs": [],
   "source": []
  },
  {
   "cell_type": "code",
   "execution_count": null,
   "id": "31bb9bc1",
   "metadata": {},
   "outputs": [],
   "source": []
  },
  {
   "cell_type": "code",
   "execution_count": null,
   "id": "5a7d592f",
   "metadata": {},
   "outputs": [],
   "source": []
  }
 ],
 "metadata": {
  "kernelspec": {
   "display_name": "Python 3 (ipykernel)",
   "language": "python",
   "name": "python3"
  },
  "language_info": {
   "codemirror_mode": {
    "name": "ipython",
    "version": 3
   },
   "file_extension": ".py",
   "mimetype": "text/x-python",
   "name": "python",
   "nbconvert_exporter": "python",
   "pygments_lexer": "ipython3",
   "version": "3.9.7"
  }
 },
 "nbformat": 4,
 "nbformat_minor": 5
}
