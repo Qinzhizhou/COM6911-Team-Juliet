{
  "nbformat": 4,
  "nbformat_minor": 0,
  "metadata": {
    "colab": {
      "name": "CNN-UTD.ipynb",
      "provenance": []
    },
    "kernelspec": {
      "name": "python3",
      "display_name": "Python 3"
    },
    "language_info": {
      "name": "python"
    },
    "accelerator": "GPU"
  },
  "cells": [
    {
      "cell_type": "code",
      "execution_count": 17,
      "metadata": {
        "id": "Inn0WeO6pww0"
      },
      "outputs": [],
      "source": [
        "import numpy as np\n",
        "import pandas as pd\n",
        "import re\n",
        "import matplotlib.pyplot as plt\n",
        "from collections import Counter\n",
        "from sklearn.model_selection import train_test_split\n",
        "from tqdm import tqdm\n",
        "import numpy as np\n",
        "import torch\n",
        "import torchvision\n",
        "import torch.nn as nn\n",
        "import torch.nn.functional as F\n",
        "from torch.autograd import Variable\n",
        "from torch.utils.data import TensorDataset\n",
        "import torch.optim as optim\n",
        "import torch.utils.data as data\n",
        "from torchvision import datasets\n",
        "import torchvision.transforms as transforms\n",
        "\n",
        "device = torch.device(\"cuda\" if torch.cuda.is_available() else \"cpu\") # use gpu"
      ]
    },
    {
      "cell_type": "code",
      "source": [
        "# loading dataset \n",
        "train_features = np.load('/content/drive/MyDrive/Industrial Team Project/Dataset/UTD_npy/Data/UCI_train_features.npy')\n",
        "test_features = np.load('/content/drive/MyDrive/Industrial Team Project/Dataset/UTD_npy/Data/UCI_test_features.npy')\n",
        "train_labels = np.load('/content/drive/MyDrive/Industrial Team Project/Dataset/UTD_npy/Data/UCI_train_labels.npy')\n",
        "test_labels = np.load('/content/drive/MyDrive/Industrial Team Project/Dataset/UTD_npy/Data/UCI_test_labels.npy')"
      ],
      "metadata": {
        "id": "tV-Y4rV2pz5R"
      },
      "execution_count": 18,
      "outputs": []
    },
    {
      "cell_type": "code",
      "source": [
        "train_dataset = TensorDataset(torch.from_numpy(train_features).to(torch.float32),torch.from_numpy(train_labels).to(torch.float32))\n",
        "\n",
        "test_dataset = TensorDataset(torch.from_numpy(test_features).to(torch.float32),torch.from_numpy(test_labels).to(torch.float32))\n"
      ],
      "metadata": {
        "id": "qucKJH5vsCNd"
      },
      "execution_count": 19,
      "outputs": []
    },
    {
      "cell_type": "code",
      "source": [
        "train_loader = data.DataLoader(dataset = train_dataset,batch_size = 64,shuffle = True)\n",
        "\n",
        "test_loader = data.DataLoader(dataset = test_dataset,batch_size = 64,shuffle = False)"
      ],
      "metadata": {
        "id": "_VWoF1M0sQ9A"
      },
      "execution_count": 20,
      "outputs": []
    },
    {
      "cell_type": "code",
      "source": [
        "class CNN_UTD(nn.Module):\n",
        "  def __init__(self):\n",
        "    super(CNN_UTD, self).__init__()\n",
        "    self.layer1 = nn.Sequential(\n",
        "            nn.Conv2d(1, 16, kernel_size=3, stride=1, padding=2),\n",
        "            nn.ReLU(),\n",
        "            nn.BatchNorm2d(16),\n",
        "            nn.MaxPool2d(kernel_size=2, stride=2))\n",
        "    self.layer2 = nn.Sequential(\n",
        "            nn.Conv2d(16, 32, kernel_size=3, stride=1, padding=2),\n",
        "            nn.ReLU(),\n",
        "            nn.BatchNorm2d(32),\n",
        "            nn.MaxPool2d(2,2))\n",
        "    self.layer3 = nn.Sequential(\n",
        "            nn.Conv2d(32, 64, kernel_size=3, stride=1, padding=2),\n",
        "            nn.ReLU()\n",
        "    )\n",
        "    # self.drop_out = nn.Dropout()\n",
        "    self.fc1 = nn.Linear(8448, 512)\n",
        "    self.fc3 = nn.Linear(512,12)\n",
        "  def forward(self, x):\n",
        "        out = self.layer1(x)\n",
        "        out = self.layer2(out)\n",
        "        out = self.layer3(out)\n",
        "        out = out.reshape(out.size(0), -1)\n",
        "        # out = self.drop_out(out)\n",
        "        out = self.fc1(out)\n",
        "        out = self.fc3(out)\n",
        "        return out\n",
        "        \n",
        "model = CNN_UTD().to(device)"
      ],
      "metadata": {
        "id": "JKW5dMQEsZH3"
      },
      "execution_count": 21,
      "outputs": []
    },
    {
      "cell_type": "code",
      "source": [
        "epoches = 100\n",
        "lr = 0.01\n",
        "criterion = nn.CrossEntropyLoss()\n",
        "optimizer = optim.SGD(model.parameters(),lr=lr, weight_decay=0.0001,momentum = 0.8)"
      ],
      "metadata": {
        "id": "hCXhfbuusfhU"
      },
      "execution_count": 22,
      "outputs": []
    },
    {
      "cell_type": "code",
      "source": [
        "# training\n",
        "loss_list = []\n",
        "for epoch in range(epoches):\n",
        "    acc = 0\n",
        "    correct = 0\n",
        "    total = 0\n",
        "    loss_num = 0\n",
        "    runtime_loss = 0\n",
        "    for (imgs,labels) in train_loader:\n",
        "        imgs = imgs.reshape(len(imgs),1,32,36)     \n",
        "        imgs = imgs.to(device)\n",
        "        labels = labels.type(torch.LongTensor)\n",
        "        labels = labels.to(device)\n",
        "        optimizer.zero_grad()\n",
        "        outputs = model(imgs)\n",
        "        loss = criterion(outputs, labels)\n",
        "        runtime_loss += loss.item()\n",
        "        loss.backward()\n",
        "        optimizer.step()\n",
        "        total += labels.size(0)\n",
        "        _,predicted = torch.max(outputs.data,1)\n",
        "        correct += (predicted == labels).sum().item()\n",
        "        loss_num+=1\n",
        "    acc = 100 * correct / total\n",
        "    epoch_loss = runtime_loss / loss_num\n",
        "    loss_list.append(epoch_loss)\n",
        "    loss_num = 0\n",
        "    print(\"Epoch: \",epoch+1, \"accuracy: \", acc,' %',\"Loss: \",epoch_loss)"
      ],
      "metadata": {
        "colab": {
          "base_uri": "https://localhost:8080/"
        },
        "id": "o0Cgl36wsiLE",
        "outputId": "ef57f0d5-f549-4c03-8b77-553624e2b30f"
      },
      "execution_count": 23,
      "outputs": [
        {
          "output_type": "stream",
          "name": "stdout",
          "text": [
            "Epoch:  1 accuracy:  79.3525571273123  % Loss:  0.5381907052319983\n",
            "Epoch:  2 accuracy:  88.57453754080522  % Loss:  0.32947501747504526\n",
            "Epoch:  3 accuracy:  89.25462459194777  % Loss:  0.3011733480769655\n",
            "Epoch:  4 accuracy:  89.56746463547334  % Loss:  0.2819562227829643\n",
            "Epoch:  5 accuracy:  90.26115342763873  % Loss:  0.2617013375396314\n",
            "Epoch:  6 accuracy:  90.23394994559304  % Loss:  0.2538442908421807\n",
            "Epoch:  7 accuracy:  90.65560391730142  % Loss:  0.24702722618113393\n",
            "Epoch:  8 accuracy:  90.73721436343853  % Loss:  0.2347573621765427\n",
            "Epoch:  9 accuracy:  90.96844396082699  % Loss:  0.23000760583773902\n",
            "Epoch:  10 accuracy:  91.19967355821545  % Loss:  0.22671033882576486\n",
            "Epoch:  11 accuracy:  91.36289445048966  % Loss:  0.2200830808152323\n",
            "Epoch:  12 accuracy:  91.63492927094669  % Loss:  0.2173224708956221\n",
            "Epoch:  13 accuracy:  91.47170837867247  % Loss:  0.21478168886640797\n",
            "Epoch:  14 accuracy:  91.60772578890098  % Loss:  0.21477322973634885\n",
            "Epoch:  15 accuracy:  92.05658324265507  % Loss:  0.21081602275371553\n",
            "Epoch:  16 accuracy:  91.81175190424375  % Loss:  0.20617568428101746\n",
            "Epoch:  17 accuracy:  91.68933623503808  % Loss:  0.20862201886332554\n",
            "Epoch:  18 accuracy:  92.21980413492928  % Loss:  0.20349307413334433\n",
            "Epoch:  19 accuracy:  92.09738846572361  % Loss:  0.19969350967718208\n",
            "Epoch:  20 accuracy:  92.00217627856365  % Loss:  0.20270065924395686\n",
            "Epoch:  21 accuracy:  92.15179542981501  % Loss:  0.1979615560044413\n",
            "Epoch:  22 accuracy:  92.46463547334059  % Loss:  0.1942021836405215\n",
            "Epoch:  23 accuracy:  92.0701849836779  % Loss:  0.19580378176077554\n",
            "Epoch:  24 accuracy:  92.57344940152339  % Loss:  0.18929430968735528\n",
            "Epoch:  25 accuracy:  92.51904243743199  % Loss:  0.18616374318042528\n",
            "Epoch:  26 accuracy:  92.58705114254624  % Loss:  0.18614659124742383\n",
            "Epoch:  27 accuracy:  93.06311207834602  % Loss:  0.17914524454137554\n",
            "Epoch:  28 accuracy:  92.92709466811752  % Loss:  0.17621015648802985\n",
            "Epoch:  29 accuracy:  92.96789989118608  % Loss:  0.17560187519892403\n",
            "Epoch:  30 accuracy:  93.25353645266594  % Loss:  0.17262940419756848\n",
            "Epoch:  31 accuracy:  92.92709466811752  % Loss:  0.17534968639197557\n",
            "Epoch:  32 accuracy:  93.25353645266594  % Loss:  0.16931966637139734\n",
            "Epoch:  33 accuracy:  92.79107725788901  % Loss:  0.17570440892292105\n",
            "Epoch:  34 accuracy:  93.44396082698586  % Loss:  0.165052276979322\n",
            "Epoch:  35 accuracy:  93.62078346028292  % Loss:  0.16406743370968363\n",
            "Epoch:  36 accuracy:  93.51196953210011  % Loss:  0.16329338375640953\n",
            "Epoch:  37 accuracy:  93.77040261153428  % Loss:  0.1629090716333493\n",
            "Epoch:  38 accuracy:  93.71599564744287  % Loss:  0.15910288584621057\n",
            "Epoch:  39 accuracy:  93.90642002176278  % Loss:  0.15656568524630174\n",
            "Epoch:  40 accuracy:  93.85201305767139  % Loss:  0.151571607524934\n",
            "Epoch:  41 accuracy:  94.04243743199129  % Loss:  0.15347194522619248\n",
            "Epoch:  42 accuracy:  93.75680087051143  % Loss:  0.1541210782268773\n",
            "Epoch:  43 accuracy:  94.05603917301414  % Loss:  0.15444013330599535\n",
            "Epoch:  44 accuracy:  93.57997823721436  % Loss:  0.16065647945455883\n",
            "Epoch:  45 accuracy:  93.97442872687704  % Loss:  0.1506205723337505\n",
            "Epoch:  46 accuracy:  94.54570184983677  % Loss:  0.14494482158966687\n",
            "Epoch:  47 accuracy:  93.97442872687704  % Loss:  0.15094955469603125\n",
            "Epoch:  48 accuracy:  93.85201305767139  % Loss:  0.1562698941839778\n",
            "Epoch:  49 accuracy:  93.85201305767139  % Loss:  0.15690658912062644\n",
            "Epoch:  50 accuracy:  93.75680087051143  % Loss:  0.15364695531518563\n",
            "Epoch:  51 accuracy:  94.43688792165398  % Loss:  0.14582179541821066\n",
            "Epoch:  52 accuracy:  94.0152339499456  % Loss:  0.14907657147749612\n",
            "Epoch:  53 accuracy:  93.96082698585418  % Loss:  0.14893243050445681\n",
            "Epoch:  54 accuracy:  94.05603917301414  % Loss:  0.14487521045881768\n",
            "Epoch:  55 accuracy:  94.47769314472252  % Loss:  0.13287969934551613\n",
            "Epoch:  56 accuracy:  95.15778019586507  % Loss:  0.12734306291879519\n",
            "Epoch:  57 accuracy:  94.77693144722525  % Loss:  0.12795125505198604\n",
            "Epoch:  58 accuracy:  94.73612622415669  % Loss:  0.13573316147793893\n",
            "Epoch:  59 accuracy:  94.39608269858542  % Loss:  0.13892787474652996\n",
            "Epoch:  60 accuracy:  94.96735582154515  % Loss:  0.12687305267090382\n",
            "Epoch:  61 accuracy:  95.08977149075082  % Loss:  0.1275047563178384\n",
            "Epoch:  62 accuracy:  95.44341675734493  % Loss:  0.11574402287926362\n",
            "Epoch:  63 accuracy:  95.21218715995647  % Loss:  0.11779482942074537\n",
            "Epoch:  64 accuracy:  95.7018498367791  % Loss:  0.11053790352914644\n",
            "Epoch:  65 accuracy:  95.71545157780196  % Loss:  0.11247299313545227\n",
            "Epoch:  66 accuracy:  94.85854189336236  % Loss:  0.12326105283978192\n",
            "Epoch:  67 accuracy:  95.04896626768226  % Loss:  0.12921682142693064\n",
            "Epoch:  68 accuracy:  95.63384113166485  % Loss:  0.10917183194795381\n",
            "Epoch:  69 accuracy:  95.14417845484222  % Loss:  0.11926639313283174\n",
            "Epoch:  70 accuracy:  94.98095756256801  % Loss:  0.12491002353313177\n",
            "Epoch:  71 accuracy:  95.36180631120783  % Loss:  0.11630854919228865\n",
            "Epoch:  72 accuracy:  95.78346028291621  % Loss:  0.1054704869085032\n",
            "Epoch:  73 accuracy:  95.5658324265506  % Loss:  0.1136669179343659\n",
            "Epoch:  74 accuracy:  95.57943416757345  % Loss:  0.11130118658361228\n",
            "Epoch:  75 accuracy:  95.7018498367791  % Loss:  0.10857960911386687\n",
            "Epoch:  76 accuracy:  95.90587595212187  % Loss:  0.1049139018939889\n",
            "Epoch:  77 accuracy:  96.08269858541894  % Loss:  0.09508437958100567\n",
            "Epoch:  78 accuracy:  96.27312295973884  % Loss:  0.09607103475086066\n",
            "Epoch:  79 accuracy:  96.40914036996736  % Loss:  0.09261695807394774\n",
            "Epoch:  80 accuracy:  95.67464635473341  % Loss:  0.11111515658381192\n",
            "Epoch:  81 accuracy:  96.13710554951034  % Loss:  0.10078832346784032\n",
            "Epoch:  82 accuracy:  96.4227421109902  % Loss:  0.09157022045844275\n",
            "Epoch:  83 accuracy:  96.49075081610447  % Loss:  0.08976642046447682\n",
            "Epoch:  84 accuracy:  96.13710554951034  % Loss:  0.09653374730082957\n",
            "Epoch:  85 accuracy:  96.40914036996736  % Loss:  0.09548356431009977\n",
            "Epoch:  86 accuracy:  96.13710554951034  % Loss:  0.10855608137891344\n",
            "Epoch:  87 accuracy:  97.1164309031556  % Loss:  0.0793530596015246\n",
            "Epoch:  88 accuracy:  96.2867247007617  % Loss:  0.09378154898953178\n",
            "Epoch:  89 accuracy:  96.50435255712732  % Loss:  0.09065922519758991\n",
            "Epoch:  90 accuracy:  95.85146898803046  % Loss:  0.10062144316085007\n",
            "Epoch:  91 accuracy:  96.68117519042437  % Loss:  0.08350129159086424\n",
            "Epoch:  92 accuracy:  96.95321001088139  % Loss:  0.07814343601627194\n",
            "Epoch:  93 accuracy:  96.81719260065289  % Loss:  0.08340175464425398\n",
            "Epoch:  94 accuracy:  96.2867247007617  % Loss:  0.09842889887159285\n",
            "Epoch:  95 accuracy:  96.4499455930359  % Loss:  0.08949010427231374\n",
            "Epoch:  96 accuracy:  96.54515778019586  % Loss:  0.09164862291806418\n",
            "Epoch:  97 accuracy:  96.49075081610447  % Loss:  0.09252748951801787\n",
            "Epoch:  98 accuracy:  96.92600652883569  % Loss:  0.08077917952576409\n",
            "Epoch:  99 accuracy:  96.80359085963003  % Loss:  0.08286824013187509\n",
            "Epoch:  100 accuracy:  97.14363438520131  % Loss:  0.0750482199308665\n"
          ]
        }
      ]
    },
    {
      "cell_type": "code",
      "source": [
        "import matplotlib.pyplot as plt\n",
        "x = []\n",
        "for i in range(1,101):\n",
        "  x.append(i)\n",
        "y = loss_list\n",
        "fig = plt.figure()\n",
        "plt.plot(x,y,color = 'blue')\n",
        "plt.title('training loss history')\n",
        "plt.show()"
      ],
      "metadata": {
        "colab": {
          "base_uri": "https://localhost:8080/",
          "height": 281
        },
        "id": "DzS8cox0slJ9",
        "outputId": "7cd484da-437d-4dd5-b21e-522982f96e51"
      },
      "execution_count": 25,
      "outputs": [
        {
          "output_type": "display_data",
          "data": {
            "text/plain": [
              "<Figure size 432x288 with 1 Axes>"
            ],
            "image/png": "[encoded data removed]"
          },
          "metadata": {
            "needs_background": "light"
          }
        }
      ]
    },
    {
      "cell_type": "code",
      "source": [
        "# test\n",
        "correct_test = 0\n",
        "\n",
        "total_test = 0\n",
        "\n",
        "with torch.no_grad():\n",
        "\n",
        "  for (imgs_test,labels_test) in test_loader:\n",
        "\n",
        "    imgs_test = imgs_test.reshape(len(imgs_test),1,32,36)\n",
        "\n",
        "    imgs_test = imgs_test.to(device)\n",
        "\n",
        "    labels_test = labels_test.type(torch.LongTensor)\n",
        "\n",
        "    labels_test = labels_test.to(device)\n",
        "\n",
        "    outputs_test = model(imgs_test)\n",
        "\n",
        "    labels_test = labels_test.reshape(labels_test.shape[0],)\n",
        "\n",
        "    predicted_test = torch.max(outputs_test.data,1)[1]\n",
        "      \n",
        "    total_test += labels_test.size(0)\n",
        "      \n",
        "    correct_test += (predicted_test == labels_test).sum().item()\n",
        "\n",
        "    test_accuracy = 100*correct_test/total_test\n",
        "\n",
        "print('validation accuracy is: ',test_accuracy)"
      ],
      "metadata": {
        "colab": {
          "base_uri": "https://localhost:8080/"
        },
        "id": "ysUB_If8tBfB",
        "outputId": "73562016-7214-4dea-c246-fefe7e760edc"
      },
      "execution_count": 26,
      "outputs": [
        {
          "output_type": "stream",
          "name": "stdout",
          "text": [
            "validation accuracy is:  83.5086528673227\n"
          ]
        }
      ]
    }
  ]
}