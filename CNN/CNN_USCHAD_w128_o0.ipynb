{
  "nbformat": 4,
  "nbformat_minor": 0,
  "metadata": {
    "colab": {
      "name": "CNN-USCHAD_w128_o0.ipynb",
      "provenance": []
    },
    "kernelspec": {
      "name": "python3",
      "display_name": "Python 3"
    },
    "language_info": {
      "name": "python"
    },
    "accelerator": "GPU"
  },
  "cells": [
    {
      "cell_type": "code",
      "execution_count": null,
      "metadata": {
        "id": "7a35mTVarPvV"
      },
      "outputs": [],
      "source": [
        "import numpy as np\n",
        "import pandas as pd\n",
        "import re\n",
        "import matplotlib.pyplot as plt\n",
        "from collections import Counter\n",
        "from sklearn.model_selection import train_test_split\n",
        "\n",
        "from tqdm import tqdm\n",
        "import numpy as np\n",
        "import torch\n",
        "import torchvision\n",
        "import torch.nn as nn\n",
        "import torch.nn.functional as F\n",
        "from torch.autograd import Variable\n",
        "from torch.utils.data import TensorDataset\n",
        "import torch.optim as optim\n",
        "import torch.utils.data as data\n",
        "from torchvision import datasets\n",
        "import torchvision.transforms as transforms\n",
        "\n",
        "device = torch.device(\"cuda\" if torch.cuda.is_available() else \"cpu\") # use gpu"
      ]
    },
    {
      "cell_type": "code",
      "source": [
        "# loading data\n",
        "usc_raw_data = pd.read_csv('/content/drive/MyDrive/Industrial Team Project/USCHAD_rawdata.csv')"
      ],
      "metadata": {
        "id": "obZrBHPCrdZ1"
      },
      "execution_count": null,
      "outputs": []
    },
    {
      "cell_type": "code",
      "source": [
        "# only features and label.\n",
        "usc_unprocessed = usc_raw_data[['acc_x','acc_y','acc_z','gyro_x','gyro_y','gyro_z','label']]"
      ],
      "metadata": {
        "id": "4HvBNC1xrgoS"
      },
      "execution_count": null,
      "outputs": []
    },
    {
      "cell_type": "code",
      "source": [
        "# window_size: size of time window\n",
        "# step: overlapping\n",
        "# data: dataset\n",
        "def time_windows(window_size,overlapping,data):\n",
        "  sigmentation_data_temp = []\n",
        "  sigmentation_data = []\n",
        "  sigmentation_label = []\n",
        "  for i in range(0,len(data),overlapping):\n",
        "    acc_x = data['acc_x'].values[i:i+window_size]\n",
        "    acc_y = data['acc_y'].values[i:i+window_size]\n",
        "    acc_z = data['acc_z'].values[i:i+window_size]\n",
        "    gyro_x = data['gyro_x'].values[i:i+window_size]\n",
        "    gyro_y = data['gyro_y'].values[i:i+window_size]\n",
        "    gyro_z = data['gyro_z'].values[i:i+window_size]\n",
        "    total_label = data['label'].values[i:i+window_size]\n",
        "    label = Counter(total_label).most_common()[0][0]\n",
        "    sigmentation_data_temp.append([acc_x,acc_y,acc_z,gyro_x,gyro_y,gyro_z])\n",
        "    sigmentation_arr = np.asarray(sigmentation_data_temp)\n",
        "    sig_size = sigmentation_arr.shape\n",
        "    if sig_size[2] == window_size:\n",
        "      sigmentation_arr.reshape(window_size,6)\n",
        "      sigmentation_data.append(sigmentation_arr)\n",
        "      sigmentation_label.append(label)\n",
        "      sigmentation_data_temp = []\n",
        "    else:\n",
        "      sigmentation_data_temp = []\n",
        "\n",
        "  sigmentation_data_arr = np.asarray(sigmentation_data)\n",
        "  sigmentation_label_arr = np.asarray(sigmentation_label)\n",
        "\n",
        "  return sigmentation_data_arr,sigmentation_label_arr\n"
      ],
      "metadata": {
        "id": "aMC3LRDBs-Wl"
      },
      "execution_count": null,
      "outputs": []
    },
    {
      "cell_type": "code",
      "source": [
        "uci_readings_non_overlapping,uci_labels_non_overlapping = time_windows(128,128,usc_unprocessed)"
      ],
      "metadata": {
        "id": "ERfyyv6SsehG"
      },
      "execution_count": null,
      "outputs": []
    },
    {
      "cell_type": "code",
      "source": [
        "uci_labels_non_overlapping = uci_labels_non_overlapping - 1"
      ],
      "metadata": {
        "id": "0_V9vTxNsos8"
      },
      "execution_count": null,
      "outputs": []
    },
    {
      "cell_type": "code",
      "source": [
        "x_train_non_overlapping,x_val_test_non_overlapping,y_train_non_overlapping,y_val_test_non_overlapping = train_test_split(uci_readings_non_overlapping,uci_labels_non_overlapping,test_size = 0.3)\n",
        "x_val_non_overlapping,x_test_non_overlapping,y_val_non_overlapping,y_test_non_overlapping = train_test_split(x_val_test_non_overlapping,y_val_test_non_overlapping,test_size = 0.3 )"
      ],
      "metadata": {
        "id": "26UzTQ1CsqhE"
      },
      "execution_count": null,
      "outputs": []
    },
    {
      "cell_type": "code",
      "source": [
        "train_dataset_non_overlapping = TensorDataset(torch.from_numpy(x_train_non_overlapping).to(torch.float32),torch.from_numpy(y_train_non_overlapping).to(torch.float32))\n",
        "val_dataset_non_overlapping = TensorDataset(torch.from_numpy(x_val_non_overlapping).to(torch.float32),torch.from_numpy(y_val_non_overlapping).to(torch.float32))\n",
        "test_dataset_non_overlapping = TensorDataset(torch.from_numpy(x_test_non_overlapping).to(torch.float32),torch.from_numpy(y_test_non_overlapping).to(torch.float32))"
      ],
      "metadata": {
        "id": "gW8Zr32Mss8i"
      },
      "execution_count": null,
      "outputs": []
    },
    {
      "cell_type": "code",
      "source": [
        "# DataLoader generation\n",
        "train_loader_non_overlapping = data.DataLoader(dataset = train_dataset_non_overlapping,batch_size = 64,shuffle = True)\n",
        "val_loader_non_overlapping = data.DataLoader(dataset = val_dataset_non_overlapping,batch_size = 64,shuffle = True)\n",
        "test_loader_non_overlapping = data.DataLoader(dataset = test_dataset_non_overlapping,batch_size = 64,shuffle = False)"
      ],
      "metadata": {
        "id": "sLtz3kXfsvSR"
      },
      "execution_count": null,
      "outputs": []
    },
    {
      "cell_type": "code",
      "source": [
        " # now define a class of CNN model\n",
        "class CNN_non_overlapping_3layers(nn.Module):\n",
        "  def __init__(self):\n",
        "    super(CNN_non_overlapping_3layers, self).__init__()\n",
        "    self.layer1 = nn.Sequential(\n",
        "            nn.Conv2d(1, 16, kernel_size=5, stride=1, padding=2),\n",
        "            nn.ReLU(),\n",
        "            nn.BatchNorm2d(16),\n",
        "            nn.MaxPool2d(kernel_size=2, stride=2))\n",
        "    self.layer2 = nn.Sequential(\n",
        "             nn.Conv2d(16, 32, kernel_size=5, stride=1, padding=2),\n",
        "             nn.ReLU(),\n",
        "             nn.BatchNorm2d(32),\n",
        "             nn.MaxPool2d(2,2))\n",
        "    self.layer3 = nn.Sequential(\n",
        "            nn.Conv2d(32, 64, kernel_size=5, stride=1, padding=2),\n",
        "            nn.ReLU()\n",
        "    )\n",
        "    self.drop_out = nn.Dropout()\n",
        "    self.fc1 = nn.Linear(3072, 512)\n",
        "    self.fc3 = nn.Linear(512,12)\n",
        "  def forward(self, x):\n",
        "        out = self.layer1(x)\n",
        "        out = self.layer2(out)\n",
        "        out = self.layer3(out)\n",
        "        out = out.reshape(out.size(0), -1)\n",
        "        out = self.drop_out(out)\n",
        "        out = self.fc1(out)\n",
        "        out = self.fc3(out)\n",
        "        return out\n",
        "        \n",
        "model_non_overlapping_3layers = CNN_non_overlapping_3layers().to(device)"
      ],
      "metadata": {
        "id": "dITfJpArrq-y"
      },
      "execution_count": null,
      "outputs": []
    },
    {
      "cell_type": "code",
      "source": [
        "epoches = 50\n",
        "lr = 0.001\n",
        "criterion = nn.CrossEntropyLoss()\n",
        "optimizer = optim.SGD(model_non_overlapping_3layers.parameters(),lr=lr, weight_decay=0.0001,momentum = 0.8)"
      ],
      "metadata": {
        "id": "Hb-NwEhCr1kb"
      },
      "execution_count": null,
      "outputs": []
    },
    {
      "cell_type": "code",
      "source": [
        "# training\n",
        "loss_list = []\n",
        "for epoch in range(epoches):\n",
        "    acc = 0\n",
        "    correct = 0\n",
        "    total = 0\n",
        "    loss_num = 0\n",
        "    runtime_loss = 0\n",
        "    for (imgs,labels) in train_loader_non_overlapping:\n",
        "        imgs = imgs.reshape(len(imgs),1,32,24)     \n",
        "        imgs = imgs.to(device)\n",
        "        labels = labels.type(torch.LongTensor)\n",
        "        labels = labels.to(device)\n",
        "        optimizer.zero_grad()\n",
        "        outputs = model_non_overlapping_3layers(imgs)\n",
        "        loss = criterion(outputs, labels)\n",
        "        runtime_loss += loss.item()\n",
        "        loss.backward()\n",
        "        optimizer.step()\n",
        "        total += labels.size(0)\n",
        "        _,predicted = torch.max(outputs.data,1)\n",
        "        correct += (predicted == labels).sum().item()\n",
        "        loss_num+=1\n",
        "    acc = 100 * correct / total\n",
        "    epoch_loss = runtime_loss / loss_num\n",
        "    loss_list.append(epoch_loss)\n",
        "    loss_num = 0\n",
        "    print(\"Epoch: \",epoch+1, \"accuracy: \", acc,' %',\"Loss: \",epoch_loss)"
      ],
      "metadata": {
        "colab": {
          "base_uri": "https://localhost:8080/"
        },
        "id": "7bJ1ZleMr36J",
        "outputId": "936afbe1-9c1d-4a4e-8f63-2bcf2c113fbc"
      },
      "execution_count": null,
      "outputs": [
        {
          "output_type": "stream",
          "name": "stdout",
          "text": [
            "Epoch:  1 accuracy:  40.81499804712928  % Loss:  1.6538263148786616\n",
            "Epoch:  2 accuracy:  52.77307642234084  % Loss:  1.2762712865944226\n",
            "Epoch:  3 accuracy:  58.74886082541336  % Loss:  1.1507050439529893\n",
            "Epoch:  4 accuracy:  62.8108319229267  % Loss:  1.0473633114233056\n",
            "Epoch:  5 accuracy:  65.51881265460227  % Loss:  0.9684605516833389\n",
            "Epoch:  6 accuracy:  68.66944408280172  % Loss:  0.8807428043907609\n",
            "Epoch:  7 accuracy:  72.71188647311548  % Loss:  0.7870323717346824\n",
            "Epoch:  8 accuracy:  75.01627392266631  % Loss:  0.7135203906114665\n",
            "Epoch:  9 accuracy:  77.02122119515688  % Loss:  0.6393558463367683\n",
            "Epoch:  10 accuracy:  79.12381200364536  % Loss:  0.5814702728477257\n",
            "Epoch:  11 accuracy:  79.24098424684286  % Loss:  0.5770321440307183\n",
            "Epoch:  12 accuracy:  80.84884780627523  % Loss:  0.5324808377695281\n",
            "Epoch:  13 accuracy:  81.4021611769301  % Loss:  0.5095060619823171\n",
            "Epoch:  14 accuracy:  81.70160135399037  % Loss:  0.4917209519390249\n",
            "Epoch:  15 accuracy:  82.59341231610468  % Loss:  0.49454504028890145\n",
            "Epoch:  16 accuracy:  81.734149199323  % Loss:  0.5054897787783651\n",
            "Epoch:  17 accuracy:  81.62999609425856  % Loss:  0.4984227903651004\n",
            "Epoch:  18 accuracy:  82.85379507876578  % Loss:  0.4686713767744199\n",
            "Epoch:  19 accuracy:  83.1857831011587  % Loss:  0.4472239425568165\n",
            "Epoch:  20 accuracy:  83.99947923447468  % Loss:  0.4307089653716295\n",
            "Epoch:  21 accuracy:  84.3575055331337  % Loss:  0.4202752432387894\n",
            "Epoch:  22 accuracy:  83.08162999609426  % Loss:  0.4551738355602466\n",
            "Epoch:  23 accuracy:  84.29240984246843  % Loss:  0.41081510345099875\n",
            "Epoch:  24 accuracy:  84.86525192032288  % Loss:  0.3964151058856135\n",
            "Epoch:  25 accuracy:  84.67647441739356  % Loss:  0.39239900964177\n",
            "Epoch:  26 accuracy:  85.25582606431455  % Loss:  0.3834641809532751\n",
            "Epoch:  27 accuracy:  85.42507486004426  % Loss:  0.37625850021406326\n",
            "Epoch:  28 accuracy:  85.99140736883218  % Loss:  0.3796169637273456\n",
            "Epoch:  29 accuracy:  84.19476630647051  % Loss:  0.4182918601016286\n",
            "Epoch:  30 accuracy:  85.78310115870329  % Loss:  0.37183738404042493\n",
            "Epoch:  31 accuracy:  85.7635724515037  % Loss:  0.361080528665875\n",
            "Epoch:  32 accuracy:  85.49017055070955  % Loss:  0.3766685675412293\n",
            "Epoch:  33 accuracy:  85.12563468298399  % Loss:  0.39125567359301067\n",
            "Epoch:  34 accuracy:  85.77659158963677  % Loss:  0.3555889502631431\n",
            "Epoch:  35 accuracy:  86.23226142429371  % Loss:  0.34399708960189856\n",
            "Epoch:  36 accuracy:  86.4405676344226  % Loss:  0.3444478806123694\n",
            "Epoch:  37 accuracy:  86.0890509048301  % Loss:  0.3537099325094233\n",
            "Epoch:  38 accuracy:  86.88321833094649  % Loss:  0.32506644114643274\n",
            "Epoch:  39 accuracy:  87.13709152454108  % Loss:  0.3511861980703362\n",
            "Epoch:  40 accuracy:  83.7000390574144  % Loss:  0.41696589937843087\n",
            "Epoch:  41 accuracy:  86.77255565681551  % Loss:  0.34828660324896027\n",
            "Epoch:  42 accuracy:  86.47311547975524  % Loss:  0.35218231265599304\n",
            "Epoch:  43 accuracy:  87.0719958338758  % Loss:  0.32128558663411755\n",
            "Epoch:  44 accuracy:  86.98737143601093  % Loss:  0.3216924334091764\n",
            "Epoch:  45 accuracy:  87.0264288504101  % Loss:  0.31430643011672865\n",
            "Epoch:  46 accuracy:  87.27379247493816  % Loss:  0.31401712444313334\n",
            "Epoch:  47 accuracy:  87.06548626480927  % Loss:  0.3108088921338196\n",
            "Epoch:  48 accuracy:  87.96380679599011  % Loss:  0.29525709056384336\n",
            "Epoch:  49 accuracy:  88.3608905090483  % Loss:  0.2903828072473716\n",
            "Epoch:  50 accuracy:  87.5862517901315  % Loss:  0.299472233133692\n"
          ]
        }
      ]
    },
    {
      "cell_type": "code",
      "source": [
        "# test\n",
        "correct_test = 0\n",
        "\n",
        "total_test = 0\n",
        "\n",
        "with torch.no_grad():\n",
        "\n",
        "  for (imgs_test,labels_test) in test_loader_non_overlapping:\n",
        "\n",
        "    imgs_test = imgs_test.reshape(len(imgs_test),1,32,24)\n",
        "\n",
        "    imgs_test = imgs_test.to(device)\n",
        "\n",
        "    labels_test = labels_test.type(torch.LongTensor)\n",
        "\n",
        "    labels_test = labels_test.to(device)\n",
        "\n",
        "    outputs_test = model_non_overlapping_3layers(imgs_test)\n",
        "\n",
        "    labels_test = labels_test.reshape(labels_test.shape[0],)\n",
        "\n",
        "    predicted_test = torch.max(outputs_test.data,1)[1]\n",
        "      \n",
        "    total_test += labels_test.size(0)\n",
        "      \n",
        "    correct_test += (predicted_test == labels_test).sum().item()\n",
        "\n",
        "    test_accuracy = 100*correct_test/total_test\n",
        "\n",
        "print('Test accuracy is: ',test_accuracy)"
      ],
      "metadata": {
        "colab": {
          "base_uri": "https://localhost:8080/"
        },
        "id": "Hv7PB2wyr6pq",
        "outputId": "43be9716-2549-4957-c82a-8126e2cdce43"
      },
      "execution_count": null,
      "outputs": [
        {
          "output_type": "stream",
          "name": "stdout",
          "text": [
            "Test accuracy is:  83.60323886639677\n"
          ]
        }
      ]
    }
  ]
}