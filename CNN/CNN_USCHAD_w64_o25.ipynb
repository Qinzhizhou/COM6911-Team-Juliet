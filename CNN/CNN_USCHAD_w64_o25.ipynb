{
  "nbformat": 4,
  "nbformat_minor": 0,
  "metadata": {
    "colab": {
      "name": "CNN-USCHAD_w64_o25.ipynb",
      "provenance": [],
      "mount_file_id": "10dDXm9OgBUILJcdTKbGoKbZzJITWGmtN",
      "authorship_tag": "ABX9TyMDgq+7we+plChIgJ/3qu+T",
      "include_colab_link": true
    },
    "kernelspec": {
      "name": "python3",
      "display_name": "Python 3"
    },
    "language_info": {
      "name": "python"
    },
    "accelerator": "GPU"
  },
  "cells": [
    {
      "cell_type": "markdown",
      "metadata": {
        "id": "view-in-github",
        "colab_type": "text"
      },
      "source": [
        "<a href=\"https://colab.research.google.com/github/TtttttH/COM6911-Team-Juliet/blob/main/CNN/CNN_USCHAD_w64_o25.ipynb\" target=\"_parent\"><img src=\"https://colab.research.google.com/assets/colab-badge.svg\" alt=\"Open In Colab\"/></a>"
      ]
    },
    {
      "cell_type": "code",
      "execution_count": null,
      "metadata": {
        "id": "zJFfq9fSERfL"
      },
      "outputs": [],
      "source": [
        "import numpy as np\n",
        "import pandas as pd\n",
        "import re\n",
        "import matplotlib.pyplot as plt\n",
        "from collections import Counter\n",
        "from sklearn.model_selection import train_test_split\n",
        "\n",
        "from tqdm import tqdm\n",
        "import numpy as np\n",
        "import torch\n",
        "import torchvision\n",
        "import torch.nn as nn\n",
        "import torch.nn.functional as F\n",
        "from torch.autograd import Variable\n",
        "from torch.utils.data import TensorDataset\n",
        "import torch.optim as optim\n",
        "import torch.utils.data as data\n",
        "from torchvision import datasets\n",
        "import torchvision.transforms as transforms\n",
        "\n",
        "device = torch.device(\"cuda\" if torch.cuda.is_available() else \"cpu\") # use gpu"
      ]
    },
    {
      "cell_type": "code",
      "source": [
        "# loading data\n",
        "usc_raw_data = pd.read_csv('/content/drive/MyDrive/Industrial Team Project/USCHAD_rawdata.csv')"
      ],
      "metadata": {
        "id": "5HsCL942EWYi"
      },
      "execution_count": null,
      "outputs": []
    },
    {
      "cell_type": "code",
      "source": [
        "# only features and label.\n",
        "usc_unprocessed = usc_raw_data[['acc_x','acc_y','acc_z','gyro_x','gyro_y','gyro_z','label']]"
      ],
      "metadata": {
        "id": "o3UEJJkrEm8_"
      },
      "execution_count": null,
      "outputs": []
    },
    {
      "cell_type": "code",
      "source": [
        "# window_size: size of time window\n",
        "# step: overlapping\n",
        "# data: dataset\n",
        "def time_windows(window_size,overlapping,data):\n",
        "  sigmentation_data_temp = []\n",
        "  sigmentation_data = []\n",
        "  sigmentation_label = []\n",
        "  for i in range(0,len(data),overlapping):\n",
        "    acc_x = data['acc_x'].values[i:i+window_size]\n",
        "    acc_y = data['acc_y'].values[i:i+window_size]\n",
        "    acc_z = data['acc_z'].values[i:i+window_size]\n",
        "    gyro_x = data['gyro_x'].values[i:i+window_size]\n",
        "    gyro_y = data['gyro_y'].values[i:i+window_size]\n",
        "    gyro_z = data['gyro_z'].values[i:i+window_size]\n",
        "    total_label = data['label'].values[i:i+window_size]\n",
        "    label = Counter(total_label).most_common()[0][0]\n",
        "    sigmentation_data_temp.append([acc_x,acc_y,acc_z,gyro_x,gyro_y,gyro_z])\n",
        "    sigmentation_arr = np.asarray(sigmentation_data_temp)\n",
        "    sig_size = sigmentation_arr.shape\n",
        "    if sig_size[2] == window_size:\n",
        "      sigmentation_arr.reshape(window_size,6)\n",
        "      sigmentation_data.append(sigmentation_arr)\n",
        "      sigmentation_label.append(label)\n",
        "      sigmentation_data_temp = []\n",
        "    else:\n",
        "      sigmentation_data_temp = []\n",
        "\n",
        "  sigmentation_data_arr = np.asarray(sigmentation_data)\n",
        "  sigmentation_label_arr = np.asarray(sigmentation_label)\n",
        "\n",
        "  return sigmentation_data_arr,sigmentation_label_arr"
      ],
      "metadata": {
        "id": "_si9SPcAEosN"
      },
      "execution_count": null,
      "outputs": []
    },
    {
      "cell_type": "code",
      "source": [
        "# here use semi-non-overlapping\n",
        "# signal segmentation and relevant labels\n",
        "uci_readings,uci_labels = time_windows(64,48,usc_unprocessed)"
      ],
      "metadata": {
        "id": "JInz9kT8Eqmk"
      },
      "execution_count": null,
      "outputs": []
    },
    {
      "cell_type": "code",
      "source": [
        "# in the model, requires 0-n label so make labels from 1-12 into 0-11\n",
        "uci_labels = uci_labels-1"
      ],
      "metadata": {
        "id": "zH4KacJrFeXl"
      },
      "execution_count": null,
      "outputs": []
    },
    {
      "cell_type": "code",
      "source": [
        "# use train_test_split to generate train,val and test data\n",
        "x_train_25_overlapping,x_val_test_25_overlapping,y_train_25_overlapping,y_val_test_25_overlapping = train_test_split(uci_readings,uci_labels,test_size = 0.3)\n",
        "x_val_25_overlapping,x_test_25_overlapping,y_val_25_overlapping,y_test_25_overlapping = train_test_split(x_val_test_25_overlapping,y_val_test_25_overlapping,test_size = 0.3 )"
      ],
      "metadata": {
        "id": "mt5WF9MfFf4J"
      },
      "execution_count": null,
      "outputs": []
    },
    {
      "cell_type": "code",
      "source": [
        "train_dataset_25_overlapping = TensorDataset(torch.from_numpy(x_train_25_overlapping).to(torch.float32),torch.from_numpy(y_train_25_overlapping).to(torch.float32))\n",
        "val_dataset_25_overlapping = TensorDataset(torch.from_numpy(x_val_25_overlapping).to(torch.float32),torch.from_numpy(y_val_25_overlapping).to(torch.float32))\n",
        "test_dataset_25_overlapping = TensorDataset(torch.from_numpy(x_test_25_overlapping).to(torch.float32),torch.from_numpy(y_test_25_overlapping).to(torch.float32))"
      ],
      "metadata": {
        "id": "WGMNgVL6Fsrc"
      },
      "execution_count": null,
      "outputs": []
    },
    {
      "cell_type": "code",
      "source": [
        "# DataLoader generation\n",
        "train_loader_25_overlapping = data.DataLoader(dataset = train_dataset_25_overlapping,batch_size = 64,shuffle = True)\n",
        "val_loader_25_overlapping = data.DataLoader(dataset = val_dataset_25_overlapping,batch_size = 64,shuffle = True)\n",
        "test_loader_25_overlapping = data.DataLoader(dataset = test_dataset_25_overlapping,batch_size = 64,shuffle = False)"
      ],
      "metadata": {
        "id": "O5wMjCx2F1So"
      },
      "execution_count": null,
      "outputs": []
    },
    {
      "cell_type": "code",
      "source": [
        " # now define a class of CNN model\n",
        "class CNN_w64_o25(nn.Module):\n",
        "  def __init__(self):\n",
        "    super(CNN_w64_o25, self).__init__()\n",
        "    self.layer1 = nn.Sequential(\n",
        "            nn.Conv2d(1, 16, kernel_size=5, stride=1, padding=2),\n",
        "            nn.ReLU(),\n",
        "            nn.BatchNorm2d(16),\n",
        "            nn.MaxPool2d(kernel_size=2, stride=2))\n",
        "    self.layer2 = nn.Sequential(\n",
        "             nn.Conv2d(16, 32, kernel_size=5, stride=1, padding=2),\n",
        "             nn.ReLU(),\n",
        "             nn.BatchNorm2d(32),\n",
        "             nn.MaxPool2d(2,2))\n",
        "    self.layer3 = nn.Sequential(\n",
        "            nn.Conv2d(32, 64, kernel_size=5, stride=1, padding=2),\n",
        "            nn.ReLU()\n",
        "    )\n",
        "    self.drop_out = nn.Dropout()\n",
        "    self.fc1 = nn.Linear(1536, 512)\n",
        "    self.fc3 = nn.Linear(512,12)\n",
        "  def forward(self, x):\n",
        "        out = self.layer1(x)\n",
        "        out = self.layer2(out)\n",
        "        out = self.layer3(out)\n",
        "        out = out.reshape(out.size(0), -1)\n",
        "        out = self.drop_out(out)\n",
        "        out = self.fc1(out)\n",
        "        out = self.fc3(out)\n",
        "        return out\n",
        "        \n",
        "model_w64_o25 = CNN_w64_o25().to(device)"
      ],
      "metadata": {
        "id": "R6z3HeqZF8PY"
      },
      "execution_count": null,
      "outputs": []
    },
    {
      "cell_type": "code",
      "source": [
        "epoches = 50\n",
        "lr = 0.001\n",
        "criterion = nn.CrossEntropyLoss()\n",
        "optimizer = optim.SGD(model_w64_o25.parameters(),lr=lr, weight_decay=0.0001,momentum = 0.8)"
      ],
      "metadata": {
        "id": "G0W0iwvnGC-a"
      },
      "execution_count": null,
      "outputs": []
    },
    {
      "cell_type": "code",
      "source": [
        "# training\n",
        "loss_list = []\n",
        "for epoch in range(epoches):\n",
        "    acc = 0\n",
        "    correct = 0\n",
        "    total = 0\n",
        "    loss_num = 0\n",
        "    runtime_loss = 0\n",
        "    for (imgs,labels) in train_loader_25_overlapping:\n",
        "        imgs = imgs.reshape(len(imgs),1,24,16)     \n",
        "        imgs = imgs.to(device)\n",
        "        labels = labels.type(torch.LongTensor)\n",
        "        labels = labels.to(device)\n",
        "        optimizer.zero_grad()\n",
        "        outputs = model_w64_o25(imgs)\n",
        "        loss = criterion(outputs, labels)\n",
        "        runtime_loss += loss.item()\n",
        "        loss.backward()\n",
        "        optimizer.step()\n",
        "        total += labels.size(0)\n",
        "        _,predicted = torch.max(outputs.data,1)\n",
        "        correct += (predicted == labels).sum().item()\n",
        "        loss_num+=1\n",
        "    acc = 100 * correct / total\n",
        "    epoch_loss = runtime_loss / loss_num\n",
        "    loss_list.append(epoch_loss)\n",
        "    loss_num = 0\n",
        "    print(\"Epoch: \",epoch+1, \"accuracy: \", acc,' %',\"Loss: \",epoch_loss)"
      ],
      "metadata": {
        "colab": {
          "base_uri": "https://localhost:8080/"
        },
        "id": "eWMyaHDfGEsj",
        "outputId": "d8950c79-0dfa-40f2-c024-d86ef50fe006"
      },
      "execution_count": null,
      "outputs": [
        {
          "output_type": "stream",
          "name": "stdout",
          "text": [
            "Epoch:  1 accuracy:  38.17613747314977  % Loss:  1.6554227118931024\n",
            "Epoch:  2 accuracy:  52.23589142745558  % Loss:  1.2887566443910465\n",
            "Epoch:  3 accuracy:  60.22505370044913  % Loss:  1.0943831556858772\n",
            "Epoch:  4 accuracy:  67.31107205623901  % Loss:  0.9048560732240424\n",
            "Epoch:  5 accuracy:  72.52977933997266  % Loss:  0.7532237469685059\n",
            "Epoch:  6 accuracy:  74.62653778558875  % Loss:  0.6853508101703596\n",
            "Epoch:  7 accuracy:  75.95440343682874  % Loss:  0.6472582255436367\n",
            "Epoch:  8 accuracy:  77.09187658660417  % Loss:  0.6137319669336685\n",
            "Epoch:  9 accuracy:  77.82903729740285  % Loss:  0.591755616125562\n",
            "Epoch:  10 accuracy:  78.64186682288616  % Loss:  0.5710151963598457\n",
            "Epoch:  11 accuracy:  79.31312243702402  % Loss:  0.5541093163482856\n",
            "Epoch:  12 accuracy:  79.69634836945909  % Loss:  0.5414083523330004\n",
            "Epoch:  13 accuracy:  80.02099199375122  % Loss:  0.527454745425449\n",
            "Epoch:  14 accuracy:  80.44327279828158  % Loss:  0.5163309438831163\n",
            "Epoch:  15 accuracy:  80.7410661980082  % Loss:  0.5042535433438192\n",
            "Epoch:  16 accuracy:  81.13649677797305  % Loss:  0.49524274433551824\n",
            "Epoch:  17 accuracy:  81.12185120093731  % Loss:  0.49107448584668906\n",
            "Epoch:  18 accuracy:  81.77357937902754  % Loss:  0.47539068974682397\n",
            "Epoch:  19 accuracy:  81.95909002148018  % Loss:  0.47207495140118083\n",
            "Epoch:  20 accuracy:  82.19097832454598  % Loss:  0.46131055738178317\n",
            "Epoch:  21 accuracy:  82.47656707674282  % Loss:  0.45107310040971604\n",
            "Epoch:  22 accuracy:  82.71089630931459  % Loss:  0.44877153230531724\n",
            "Epoch:  23 accuracy:  82.82317906658855  % Loss:  0.4456683607443632\n",
            "Epoch:  24 accuracy:  83.07947666471392  % Loss:  0.4345198206010735\n",
            "Epoch:  25 accuracy:  83.5286076938098  % Loss:  0.42686069378986746\n",
            "Epoch:  26 accuracy:  83.29916032024995  % Loss:  0.4279532454408089\n",
            "Epoch:  27 accuracy:  83.67506346416715  % Loss:  0.4187517108485777\n",
            "Epoch:  28 accuracy:  83.8386057410662  % Loss:  0.4111164725979851\n",
            "Epoch:  29 accuracy:  83.79710993946495  % Loss:  0.4104121857658377\n",
            "Epoch:  30 accuracy:  84.20230423745362  % Loss:  0.4040741430429884\n",
            "Epoch:  31 accuracy:  84.41222417496583  % Loss:  0.39904968540493674\n",
            "Epoch:  32 accuracy:  84.37561023237649  % Loss:  0.3971282732607608\n",
            "Epoch:  33 accuracy:  84.57576645186487  % Loss:  0.39549796659842296\n",
            "Epoch:  34 accuracy:  84.75395430579965  % Loss:  0.3883829966722152\n",
            "Epoch:  35 accuracy:  84.91017379418082  % Loss:  0.3829467628563808\n",
            "Epoch:  36 accuracy:  85.16647139230619  % Loss:  0.3799814223638749\n",
            "Epoch:  37 accuracy:  85.13962116774067  % Loss:  0.3790198914392876\n",
            "Epoch:  38 accuracy:  85.46670572153876  % Loss:  0.3738038766077268\n",
            "Epoch:  39 accuracy:  85.48867408709236  % Loss:  0.36644470359252507\n",
            "Epoch:  40 accuracy:  85.40568248388986  % Loss:  0.36585083231911086\n",
            "Epoch:  41 accuracy:  85.45450107400899  % Loss:  0.36786030007122367\n",
            "Epoch:  42 accuracy:  85.6912712360867  % Loss:  0.3599882833717766\n",
            "Epoch:  43 accuracy:  85.80355399336067  % Loss:  0.35727198858993847\n",
            "Epoch:  44 accuracy:  85.98174184729545  % Loss:  0.3537684164348519\n",
            "Epoch:  45 accuracy:  86.04764694395625  % Loss:  0.34990947276307344\n",
            "Epoch:  46 accuracy:  85.3812731888303  % Loss:  0.36826697889244686\n",
            "Epoch:  47 accuracy:  85.62292520991994  % Loss:  0.36051367811405344\n",
            "Epoch:  48 accuracy:  86.0452060144503  % Loss:  0.34872790013386196\n",
            "Epoch:  49 accuracy:  86.12575668814685  % Loss:  0.3423931879135264\n",
            "Epoch:  50 accuracy:  86.40158172231986  % Loss:  0.33698499058598474\n"
          ]
        }
      ]
    },
    {
      "cell_type": "code",
      "source": [
        "# test\n",
        "correct_test = 0\n",
        "\n",
        "total_test = 0\n",
        "\n",
        "with torch.no_grad():\n",
        "\n",
        "  for (imgs_test,labels_test) in test_loader_25_overlapping:\n",
        "\n",
        "    imgs_test = imgs_test.reshape(len(imgs_test),1,24,16)\n",
        "\n",
        "    imgs_test = imgs_test.to(device)\n",
        "\n",
        "    labels_test = labels_test.type(torch.LongTensor)\n",
        "\n",
        "    labels_test = labels_test.to(device)\n",
        "\n",
        "    outputs_test = model_w64_o25(imgs_test)\n",
        "\n",
        "    labels_test = labels_test.reshape(labels_test.shape[0],)\n",
        "\n",
        "    predicted_test = torch.max(outputs_test.data,1)[1]\n",
        "      \n",
        "    total_test += labels_test.size(0)\n",
        "      \n",
        "    correct_test += (predicted_test == labels_test).sum().item()\n",
        "\n",
        "    test_accuracy = 100*correct_test/total_test\n",
        "\n",
        "print('Test accuracy is: ',test_accuracy)"
      ],
      "metadata": {
        "colab": {
          "base_uri": "https://localhost:8080/"
        },
        "id": "ZK8JaS3zGKI_",
        "outputId": "5f3608fd-4fdc-4200-fe62-03f95b92caae"
      },
      "execution_count": null,
      "outputs": [
        {
          "output_type": "stream",
          "name": "stdout",
          "text": [
            "Test accuracy is:  82.30827638572514\n"
          ]
        }
      ]
    }
  ]
}