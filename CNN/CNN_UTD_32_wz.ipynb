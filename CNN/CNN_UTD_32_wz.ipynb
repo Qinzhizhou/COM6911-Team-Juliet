{
 "cells": [
  {
   "cell_type": "code",
   "execution_count": 2,
   "id": "7895199d",
   "metadata": {},
   "outputs": [],
   "source": [
    "%matplotlib inline\n",
    "import scipy.io\n",
    "import numpy as np\n",
    "import pandas as pd\n",
    "from pathlib import Path\n",
    "import re\n",
    "from collections import Counter\n",
    "from matplotlib import pyplot as plt\n",
    "import torch\n",
    "import torch.nn as nn\n",
    "import torch.nn.functional as F\n",
    "import torch.optim as optim\n",
    "import torchvision\n",
    "from torchvision import datasets, transforms\n",
    "from torch.autograd import Variable\n",
    "from torch.utils.data import TensorDataset\n",
    "import torch.utils.data as data\n",
    "from torchvision import datasets\n",
    "device = torch.device(\"cuda\" if torch.cuda.is_available() else \"cpu\") # use gpu"
   ]
  },
  {
   "cell_type": "code",
   "execution_count": 3,
   "id": "c4ced3ab",
   "metadata": {},
   "outputs": [],
   "source": [
    "train_feature_75ol = np.load('../Data/UTDMHAD_data/UTD_train_feature_32wz_75ol.npy')\n",
    "train_label_75ol = np.load('../Data/UTDMHAD_data/UTD_train_label_32wz_75ol.npy')\n",
    "test_feature_75ol = np.load('../Data/UTDMHAD_data/UTD_test_feature_32wz_75ol.npy')\n",
    "test_label_75ol = np.load('../Data/UTDMHAD_data/UTD_test_label_32wz_75ol.npy')\n",
    "\n",
    "train_feature_50ol = np.load('../Data/UTDMHAD_data/UTD_train_feature_32wz_50ol.npy')\n",
    "train_label_50ol = np.load('../Data/UTDMHAD_data/UTD_train_label_32wz_50ol.npy')\n",
    "test_feature_50ol = np.load('../Data/UTDMHAD_data/UTD_test_feature_32wz_50ol.npy')\n",
    "test_label_50ol = np.load('../Data/UTDMHAD_data/UTD_test_label_32wz_50ol.npy')\n",
    "\n",
    "train_feature_25ol = np.load('../Data/UTDMHAD_data/UTD_train_feature_32wz_25ol.npy')\n",
    "train_label_25ol = np.load('../Data/UTDMHAD_data/UTD_train_label_32wz_25ol.npy')\n",
    "test_feature_25ol = np.load('../Data/UTDMHAD_data/UTD_test_feature_32wz_25ol.npy')\n",
    "test_label_25ol = np.load('../Data/UTDMHAD_data/UTD_test_label_32wz_25ol.npy')\n",
    "\n",
    "train_feature_0ol = np.load('../Data/UTDMHAD_data/UTD_train_feature_32wz_0ol.npy')\n",
    "train_label_0ol = np.load('../Data/UTDMHAD_data/UTD_train_label_32wz_0ol.npy')\n",
    "test_feature_0ol = np.load('../Data/UTDMHAD_data/UTD_test_feature_32wz_0ol.npy')\n",
    "test_label_0ol = np.load('../Data/UTDMHAD_data/UTD_test_label_32wz_0ol.npy')"
   ]
  },
  {
   "cell_type": "markdown",
   "id": "842fd43a",
   "metadata": {},
   "source": [
    "# 32 window_size %75 overlapping"
   ]
  },
  {
   "cell_type": "code",
   "execution_count": 4,
   "id": "908e0559",
   "metadata": {},
   "outputs": [],
   "source": [
    "train_dataset_75ol = TensorDataset(torch.from_numpy(train_feature_75ol).to(torch.float32),torch.from_numpy(train_label_75ol).to(torch.float32))\n",
    "\n",
    "test_dataset_75ol = TensorDataset(torch.from_numpy(test_feature_75ol).to(torch.float32),torch.from_numpy(test_label_75ol).to(torch.float32))\n"
   ]
  },
  {
   "cell_type": "code",
   "execution_count": 5,
   "id": "aa26f8e9",
   "metadata": {},
   "outputs": [],
   "source": [
    "train_loader_75ol = data.DataLoader(dataset = train_dataset_75ol, batch_size = 32, shuffle = True)\n",
    "\n",
    "test_loader_75ol = data.DataLoader(dataset = test_dataset_75ol, batch_size = 32, shuffle = False)"
   ]
  },
  {
   "cell_type": "code",
   "execution_count": 18,
   "id": "d7306257",
   "metadata": {},
   "outputs": [],
   "source": [
    "class CNN_UTD(nn.Module):\n",
    "    def __init__(self):\n",
    "        super(CNN_UTD, self).__init__()\n",
    "        self.layer1 = nn.Sequential(\n",
    "                nn.Conv2d(1, 16, kernel_size=3, stride=1, padding=2),\n",
    "                nn.ReLU(),\n",
    "                nn.BatchNorm2d(16),\n",
    "                nn.MaxPool2d(kernel_size=2, stride=2))\n",
    "        self.layer2 = nn.Sequential(\n",
    "                nn.Conv2d(16, 32, kernel_size=3, stride=1, padding=2),\n",
    "                nn.ReLU(),\n",
    "                nn.BatchNorm2d(32),\n",
    "                nn.MaxPool2d(2,2))\n",
    "        self.layer3 = nn.Sequential(\n",
    "                nn.Conv2d(32, 64, kernel_size=3, stride=1, padding=2),\n",
    "                nn.ReLU()\n",
    "        )\n",
    "        self.fc1 = nn.Linear(3520, 512)\n",
    "        self.fc3 = nn.Linear(512,27)\n",
    "    def forward(self, x):\n",
    "        out = self.layer1(x)\n",
    "        out = self.layer2(out)\n",
    "        out = self.layer3(out)\n",
    "        out = out.reshape(out.size(0), -1)\n",
    "        # out = self.drop_out(out)\n",
    "        out = self.fc1(out)           \n",
    "        out = self.fc3(out)\n",
    "        return out\n",
    "        \n",
    "model_75 = CNN_UTD().to(device)"
   ]
  },
  {
   "cell_type": "code",
   "execution_count": 19,
   "id": "0d050d87",
   "metadata": {},
   "outputs": [],
   "source": [
    "epoches = 20\n",
    "lr = 0.01\n",
    "criterion = nn.CrossEntropyLoss()\n",
    "optimizer = optim.SGD(model_75.parameters(),lr=lr, weight_decay=0.0001,momentum = 0.8)"
   ]
  },
  {
   "cell_type": "code",
   "execution_count": 20,
   "id": "f35f69d1",
   "metadata": {},
   "outputs": [
    {
     "name": "stdout",
     "output_type": "stream",
     "text": [
      "Epoch:  1 accuracy:  22.68086669114947  % Loss:  2.5917501718225613\n",
      "Epoch:  2 accuracy:  34.21226588321704  % Loss:  2.096889034403322\n",
      "Epoch:  3 accuracy:  40.543518178479616  % Loss:  1.8769991397857666\n",
      "Epoch:  4 accuracy:  45.053250091810504  % Loss:  1.7221473768843172\n",
      "Epoch:  5 accuracy:  48.703635695923616  % Loss:  1.611051515794136\n",
      "Epoch:  6 accuracy:  50.811604847594566  % Loss:  1.5192642760388728\n",
      "Epoch:  7 accuracy:  53.77892030848329  % Loss:  1.4389125813900585\n",
      "Epoch:  8 accuracy:  55.92361366140286  % Loss:  1.3580042469389562\n",
      "Epoch:  9 accuracy:  58.222548659566655  % Loss:  1.2938282737429714\n",
      "Epoch:  10 accuracy:  60.44069041498347  % Loss:  1.214375977365064\n",
      "Epoch:  11 accuracy:  62.39441792141021  % Loss:  1.1557284765680071\n",
      "Epoch:  12 accuracy:  64.32611090708777  % Loss:  1.0977607067202177\n",
      "Epoch:  13 accuracy:  66.24311421226588  % Loss:  1.0556696654065674\n",
      "Epoch:  14 accuracy:  67.76349614395887  % Loss:  0.9877359427056962\n",
      "Epoch:  15 accuracy:  69.28387807565186  % Loss:  0.9463672250369345\n",
      "Epoch:  16 accuracy:  71.27432978332722  % Loss:  0.8878627149431918\n",
      "Epoch:  17 accuracy:  71.69298567756151  % Loss:  0.8607659665211825\n",
      "Epoch:  18 accuracy:  73.11053984575835  % Loss:  0.8221198705860147\n",
      "Epoch:  19 accuracy:  74.01395519647447  % Loss:  0.7882047232607721\n",
      "Epoch:  20 accuracy:  74.8879911861917  % Loss:  0.7523168821429982\n"
     ]
    }
   ],
   "source": [
    "## training\n",
    "loss_list = []\n",
    "for epoch in range(epoches):\n",
    "    acc = 0\n",
    "    correct = 0\n",
    "    total = 0\n",
    "    loss_num = 0\n",
    "    runtime_loss = 0\n",
    "    for (imgs,labels) in train_loader_75ol:\n",
    "        imgs = imgs.reshape(len(imgs),1,32,6)\n",
    "#         imgs = imgs.reshape(len(imgs),1,16,24)     \n",
    "        imgs = imgs.to(device)\n",
    "        labels = labels.type(torch.LongTensor)\n",
    "        labels = labels.to(device)\n",
    "        optimizer.zero_grad()\n",
    "        outputs = model_75(imgs)\n",
    "        loss = criterion(outputs, labels)\n",
    "        runtime_loss += loss.item()\n",
    "        loss.backward()\n",
    "        optimizer.step()\n",
    "        total += labels.size(0)\n",
    "        _,predicted = torch.max(outputs.data,1)\n",
    "        correct += (predicted == labels).sum().item()\n",
    "        loss_num+=1\n",
    "    acc = 100 * correct / total\n",
    "    epoch_loss = runtime_loss / loss_num\n",
    "    loss_list.append(epoch_loss)\n",
    "    loss_num = 0\n",
    "    print(\"Epoch: \",epoch+1, \"accuracy: \", acc,' %',\"Loss: \",epoch_loss)"
   ]
  },
  {
   "cell_type": "code",
   "execution_count": 22,
   "id": "e192f7ab",
   "metadata": {},
   "outputs": [
    {
     "data": {
      "image/png": "[encoded data removed]",
      "text/plain": [
       "<Figure size 432x288 with 1 Axes>"
      ]
     },
     "metadata": {
      "needs_background": "light"
     },
     "output_type": "display_data"
    }
   ],
   "source": [
    "import matplotlib.pyplot as plt\n",
    "x = []\n",
    "for i in range(1,21):\n",
    "  x.append(i)\n",
    "y = loss_list\n",
    "fig = plt.figure()\n",
    "plt.plot(x,y,color = 'blue')\n",
    "plt.title('training loss history')\n",
    "plt.show()"
   ]
  },
  {
   "cell_type": "code",
   "execution_count": 23,
   "id": "17d256c2",
   "metadata": {},
   "outputs": [
    {
     "name": "stdout",
     "output_type": "stream",
     "text": [
      "validation accuracy is:  49.24605894448252\n"
     ]
    }
   ],
   "source": [
    "# test\n",
    "correct_test = 0\n",
    "\n",
    "total_test = 0\n",
    "\n",
    "with torch.no_grad():\n",
    "\n",
    "  for (imgs_test,labels_test) in test_loader_75ol:\n",
    "\n",
    "    imgs_test = imgs_test.reshape(len(imgs_test),1,32,6)\n",
    "\n",
    "    imgs_test = imgs_test.to(device)\n",
    "\n",
    "    labels_test = labels_test.type(torch.LongTensor)\n",
    "\n",
    "    labels_test = labels_test.to(device)\n",
    "\n",
    "    outputs_test = model_75(imgs_test)\n",
    "\n",
    "    labels_test = labels_test.reshape(labels_test.shape[0],)\n",
    "\n",
    "    predicted_test = torch.max(outputs_test.data,1)[1]\n",
    "      \n",
    "    total_test += labels_test.size(0)\n",
    "      \n",
    "    correct_test += (predicted_test == labels_test).sum().item()\n",
    "\n",
    "    test_accuracy = 100*correct_test/total_test\n",
    "\n",
    "print('validation accuracy is: ',test_accuracy)"
   ]
  },
  {
   "cell_type": "markdown",
   "id": "28026111",
   "metadata": {},
   "source": [
    "# 32 window_size %50 overlapping"
   ]
  },
  {
   "cell_type": "code",
   "execution_count": 24,
   "id": "66794c72",
   "metadata": {},
   "outputs": [],
   "source": [
    "train_dataset_50ol = TensorDataset(torch.from_numpy(train_feature_50ol).to(torch.float32),torch.from_numpy(train_label_50ol).to(torch.float32))\n",
    "\n",
    "test_dataset_50ol = TensorDataset(torch.from_numpy(test_feature_50ol).to(torch.float32),torch.from_numpy(test_label_50ol).to(torch.float32))\n",
    "\n",
    "train_loader_50ol = data.DataLoader(dataset = train_dataset_50ol, batch_size = 32, shuffle = True)\n",
    "\n",
    "test_loader_50ol = data.DataLoader(dataset = test_dataset_50ol, batch_size = 32, shuffle = False)\n"
   ]
  },
  {
   "cell_type": "code",
   "execution_count": 26,
   "id": "cf5ec4f1",
   "metadata": {},
   "outputs": [],
   "source": [
    "class CNN_UTD_50(nn.Module):\n",
    "    def __init__(self):\n",
    "        super(CNN_UTD_50, self).__init__()\n",
    "        self.layer1 = nn.Sequential(\n",
    "                nn.Conv2d(1, 16, kernel_size=3, stride=1, padding=2),\n",
    "                nn.ReLU(),\n",
    "                nn.BatchNorm2d(16),\n",
    "                nn.MaxPool2d(kernel_size=2, stride=2))\n",
    "        self.layer2 = nn.Sequential(\n",
    "                nn.Conv2d(16, 32, kernel_size=3, stride=1, padding=2),\n",
    "                nn.ReLU(),\n",
    "                nn.BatchNorm2d(32),\n",
    "                nn.MaxPool2d(2,2))\n",
    "        self.layer3 = nn.Sequential(\n",
    "                nn.Conv2d(32, 64, kernel_size=3, stride=1, padding=2),\n",
    "                nn.ReLU()\n",
    "        )\n",
    "        self.fc1 = nn.Linear(3520, 512)\n",
    "        self.fc3 = nn.Linear(512,27)\n",
    "    def forward(self, x):\n",
    "        out = self.layer1(x)\n",
    "        out = self.layer2(out)\n",
    "        out = self.layer3(out)\n",
    "        out = out.reshape(out.size(0), -1)\n",
    "        # out = self.drop_out(out)\n",
    "        out = self.fc1(out)           \n",
    "        out = self.fc3(out)\n",
    "        return out\n",
    "        \n",
    "model_50 = CNN_UTD_50().to(device)\n",
    "epoches = 20\n",
    "lr = 0.01\n",
    "criterion = nn.CrossEntropyLoss()\n",
    "optimizer = optim.SGD(model_50.parameters(),lr=lr, weight_decay=0.0001,momentum = 0.8)"
   ]
  },
  {
   "cell_type": "code",
   "execution_count": 27,
   "id": "d7f5bfe3",
   "metadata": {},
   "outputs": [
    {
     "name": "stdout",
     "output_type": "stream",
     "text": [
      "Epoch:  1 accuracy:  18.27262044653349  % Loss:  2.814808272419961\n",
      "Epoch:  2 accuracy:  29.832549941245592  % Loss:  2.316816548786253\n",
      "Epoch:  3 accuracy:  35.237955346651  % Loss:  2.0841485972695506\n",
      "Epoch:  4 accuracy:  39.60047003525264  % Loss:  1.9283271294804247\n",
      "Epoch:  5 accuracy:  43.06698002350176  % Loss:  1.784101492362403\n",
      "Epoch:  6 accuracy:  46.46004700352526  % Loss:  1.687443752803713\n",
      "Epoch:  7 accuracy:  49.26556991774383  % Loss:  1.573340012993611\n",
      "Epoch:  8 accuracy:  52.291421856639246  % Loss:  1.467766329156401\n",
      "Epoch:  9 accuracy:  55.15569917743831  % Loss:  1.3802575018484269\n",
      "Epoch:  10 accuracy:  57.16803760282021  % Loss:  1.3275889317754288\n",
      "Epoch:  11 accuracy:  60.370152761457106  % Loss:  1.222214077839829\n",
      "Epoch:  12 accuracy:  62.39717978848414  % Loss:  1.156755029035846\n",
      "Epoch:  13 accuracy:  64.21856639247943  % Loss:  1.1036214741742667\n",
      "Epoch:  14 accuracy:  66.42185663924795  % Loss:  1.03053583309684\n",
      "Epoch:  15 accuracy:  68.66921269095182  % Loss:  0.961348166488146\n",
      "Epoch:  16 accuracy:  70.15276145710928  % Loss:  0.9019642682142661\n",
      "Epoch:  17 accuracy:  72.16509988249119  % Loss:  0.8578524074643991\n",
      "Epoch:  18 accuracy:  73.57520564042304  % Loss:  0.8193247439995618\n",
      "Epoch:  19 accuracy:  74.39776733254995  % Loss:  0.7665209465183562\n",
      "Epoch:  20 accuracy:  76.14571092831963  % Loss:  0.737760520457102\n"
     ]
    }
   ],
   "source": [
    "# training\n",
    "loss_list = []\n",
    "for epoch in range(epoches):\n",
    "    acc = 0\n",
    "    correct = 0\n",
    "    total = 0\n",
    "    loss_num = 0\n",
    "    runtime_loss = 0\n",
    "    for (imgs,labels) in train_loader_50ol:\n",
    "        imgs = imgs.reshape(len(imgs),1,32,6)\n",
    "#         imgs = imgs.reshape(len(imgs),1,16,24)     \n",
    "        imgs = imgs.to(device)\n",
    "        labels = labels.type(torch.LongTensor)\n",
    "        labels = labels.to(device)\n",
    "        optimizer.zero_grad()\n",
    "        outputs = model_50(imgs)\n",
    "        loss = criterion(outputs, labels)\n",
    "        runtime_loss += loss.item()\n",
    "        loss.backward()\n",
    "        optimizer.step()\n",
    "        total += labels.size(0)\n",
    "        _,predicted = torch.max(outputs.data,1)\n",
    "        correct += (predicted == labels).sum().item()\n",
    "        loss_num+=1\n",
    "    acc = 100 * correct / total\n",
    "    epoch_loss = runtime_loss / loss_num\n",
    "    loss_list.append(epoch_loss)\n",
    "    loss_num = 0\n",
    "    print(\"Epoch: \",epoch+1, \"accuracy: \", acc,' %',\"Loss: \",epoch_loss)"
   ]
  },
  {
   "cell_type": "code",
   "execution_count": 28,
   "id": "87632d92",
   "metadata": {},
   "outputs": [
    {
     "name": "stdout",
     "output_type": "stream",
     "text": [
      "validation accuracy is:  41.94653872515421\n"
     ]
    }
   ],
   "source": [
    "# test\n",
    "correct_test = 0\n",
    "\n",
    "total_test = 0\n",
    "\n",
    "with torch.no_grad():\n",
    "\n",
    "  for (imgs_test,labels_test) in test_loader_50ol:\n",
    "\n",
    "    imgs_test = imgs_test.reshape(len(imgs_test),1,32,6)\n",
    "\n",
    "    imgs_test = imgs_test.to(device)\n",
    "\n",
    "    labels_test = labels_test.type(torch.LongTensor)\n",
    "\n",
    "    labels_test = labels_test.to(device)\n",
    "\n",
    "    outputs_test = model_50(imgs_test)\n",
    "\n",
    "    labels_test = labels_test.reshape(labels_test.shape[0],)\n",
    "\n",
    "    predicted_test = torch.max(outputs_test.data,1)[1]\n",
    "      \n",
    "    total_test += labels_test.size(0)\n",
    "      \n",
    "    correct_test += (predicted_test == labels_test).sum().item()\n",
    "\n",
    "    test_accuracy = 100*correct_test/total_test\n",
    "\n",
    "print('validation accuracy is: ',test_accuracy)"
   ]
  },
  {
   "cell_type": "markdown",
   "id": "7ef034a9",
   "metadata": {},
   "source": [
    "# 32 window_size %25 overlapping"
   ]
  },
  {
   "cell_type": "code",
   "execution_count": 32,
   "id": "bb611c2b",
   "metadata": {},
   "outputs": [],
   "source": [
    "train_dataset_25ol = TensorDataset(torch.from_numpy(train_feature_25ol).to(torch.float32),torch.from_numpy(train_label_25ol).to(torch.float32))\n",
    "\n",
    "test_dataset_25ol = TensorDataset(torch.from_numpy(test_feature_25ol).to(torch.float32),torch.from_numpy(test_label_25ol).to(torch.float32))\n",
    "\n",
    "train_loader_25ol = data.DataLoader(dataset = train_dataset_25ol, batch_size = 32, shuffle = True)\n",
    "\n",
    "test_loader_25ol = data.DataLoader(dataset = test_dataset_25ol, batch_size = 32, shuffle = False)\n"
   ]
  },
  {
   "cell_type": "code",
   "execution_count": 36,
   "id": "86e4b2bf",
   "metadata": {},
   "outputs": [],
   "source": [
    "class CNN_UTD_25(nn.Module):\n",
    "    def __init__(self):\n",
    "        super(CNN_UTD_25, self).__init__()\n",
    "        self.layer1 = nn.Sequential(\n",
    "                nn.Conv2d(1, 16, kernel_size=3, stride=1, padding=2),\n",
    "                nn.ReLU(),\n",
    "                nn.BatchNorm2d(16),\n",
    "                nn.MaxPool2d(kernel_size=2, stride=2))\n",
    "        self.layer2 = nn.Sequential(\n",
    "                nn.Conv2d(16, 32, kernel_size=3, stride=1, padding=2),\n",
    "                nn.ReLU(),\n",
    "                nn.BatchNorm2d(32),\n",
    "                nn.MaxPool2d(2,2))\n",
    "        self.layer3 = nn.Sequential(\n",
    "                nn.Conv2d(32, 64, kernel_size=3, stride=1, padding=2),\n",
    "                nn.ReLU()\n",
    "        )\n",
    "        self.fc1 = nn.Linear(3520, 512)\n",
    "        self.fc3 = nn.Linear(512,27)\n",
    "    def forward(self, x):\n",
    "        out = self.layer1(x)\n",
    "        out = self.layer2(out)\n",
    "        out = self.layer3(out)\n",
    "        out = out.reshape(out.size(0), -1)\n",
    "        # out = self.drop_out(out)\n",
    "        out = self.fc1(out)           \n",
    "        out = self.fc3(out)\n",
    "        return out\n",
    "        \n",
    "model_25 = CNN_UTD_25().to(device)\n",
    "epoches = 20\n",
    "lr = 0.01\n",
    "criterion = nn.CrossEntropyLoss()\n",
    "optimizer = optim.SGD(model_25.parameters(),lr=lr, weight_decay=0.0001,momentum = 0.8)"
   ]
  },
  {
   "cell_type": "code",
   "execution_count": 37,
   "id": "ab6bf48c",
   "metadata": {},
   "outputs": [
    {
     "name": "stdout",
     "output_type": "stream",
     "text": [
      "Epoch:  1 accuracy:  14.125165271044512  % Loss:  2.9484081201150385\n",
      "Epoch:  2 accuracy:  25.187307183781403  % Loss:  2.5135164848515683\n",
      "Epoch:  3 accuracy:  31.35742617893345  % Loss:  2.277346685738631\n",
      "Epoch:  4 accuracy:  36.40370207139709  % Loss:  2.0860377902715976\n",
      "Epoch:  5 accuracy:  39.40061701189951  % Loss:  1.9565894293113493\n",
      "Epoch:  6 accuracy:  41.780520052886736  % Loss:  1.8349828929968284\n",
      "Epoch:  7 accuracy:  45.813133539003964  % Loss:  1.7082097983696092\n",
      "Epoch:  8 accuracy:  48.72190392243279  % Loss:  1.6211552485613756\n",
      "Epoch:  9 accuracy:  51.36624063464081  % Loss:  1.5055127362130394\n",
      "Epoch:  10 accuracy:  54.58351696782724  % Loss:  1.4271448724706408\n",
      "Epoch:  11 accuracy:  57.88893785808726  % Loss:  1.3269594991710825\n",
      "Epoch:  12 accuracy:  60.709563684442486  % Loss:  1.232490964758564\n",
      "Epoch:  13 accuracy:  62.9352137505509  % Loss:  1.1614797241251233\n",
      "Epoch:  14 accuracy:  65.35918907007492  % Loss:  1.0855275707345613\n",
      "Epoch:  15 accuracy:  67.87130894667254  % Loss:  1.0036571894733\n",
      "Epoch:  16 accuracy:  69.21551344204495  % Loss:  0.9541447380898704\n",
      "Epoch:  17 accuracy:  71.74966945791097  % Loss:  0.8533778446660915\n",
      "Epoch:  18 accuracy:  74.4380784486558  % Loss:  0.7859630269903533\n",
      "Epoch:  19 accuracy:  74.5923314235346  % Loss:  0.7728694538835069\n",
      "Epoch:  20 accuracy:  77.19259585720582  % Loss:  0.7099466531629294\n"
     ]
    }
   ],
   "source": [
    "# training\n",
    "loss_list = []\n",
    "for epoch in range(epoches):\n",
    "    acc = 0\n",
    "    correct = 0\n",
    "    total = 0\n",
    "    loss_num = 0\n",
    "    runtime_loss = 0\n",
    "    for (imgs,labels) in train_loader_25ol:\n",
    "        imgs = imgs.reshape(len(imgs),1,32,6)\n",
    "#         imgs = imgs.reshape(len(imgs),1,16,24)     \n",
    "        imgs = imgs.to(device)\n",
    "        labels = labels.type(torch.LongTensor)\n",
    "        labels = labels.to(device)\n",
    "        optimizer.zero_grad()\n",
    "        outputs = model_25(imgs)\n",
    "        loss = criterion(outputs, labels)\n",
    "        runtime_loss += loss.item()\n",
    "        loss.backward()\n",
    "        optimizer.step()\n",
    "        total += labels.size(0)\n",
    "        _,predicted = torch.max(outputs.data,1)\n",
    "        correct += (predicted == labels).sum().item()\n",
    "        loss_num+=1\n",
    "    acc = 100 * correct / total\n",
    "    epoch_loss = runtime_loss / loss_num\n",
    "    loss_list.append(epoch_loss)\n",
    "    loss_num = 0\n",
    "    print(\"Epoch: \",epoch+1, \"accuracy: \", acc,' %',\"Loss: \",epoch_loss)"
   ]
  },
  {
   "cell_type": "code",
   "execution_count": 38,
   "id": "ac93a238",
   "metadata": {},
   "outputs": [
    {
     "name": "stdout",
     "output_type": "stream",
     "text": [
      "validation accuracy is:  41.67523124357657\n"
     ]
    }
   ],
   "source": [
    "# test\n",
    "correct_test = 0\n",
    "\n",
    "total_test = 0\n",
    "\n",
    "with torch.no_grad():\n",
    "\n",
    "  for (imgs_test,labels_test) in test_loader_25ol:\n",
    "\n",
    "    imgs_test = imgs_test.reshape(len(imgs_test),1,32,6)\n",
    "\n",
    "    imgs_test = imgs_test.to(device)\n",
    "\n",
    "    labels_test = labels_test.type(torch.LongTensor)\n",
    "\n",
    "    labels_test = labels_test.to(device)\n",
    "\n",
    "    outputs_test = model_25(imgs_test)\n",
    "\n",
    "    labels_test = labels_test.reshape(labels_test.shape[0],)\n",
    "\n",
    "    predicted_test = torch.max(outputs_test.data,1)[1]\n",
    "      \n",
    "    total_test += labels_test.size(0)\n",
    "      \n",
    "    correct_test += (predicted_test == labels_test).sum().item()\n",
    "\n",
    "    test_accuracy = 100*correct_test/total_test\n",
    "\n",
    "print('validation accuracy is: ',test_accuracy)"
   ]
  },
  {
   "cell_type": "markdown",
   "id": "6ba0aed8",
   "metadata": {},
   "source": [
    "# 32 window_size %0 overlapping"
   ]
  },
  {
   "cell_type": "code",
   "execution_count": 39,
   "id": "ff6fabe6",
   "metadata": {},
   "outputs": [],
   "source": [
    "train_dataset_0ol = TensorDataset(torch.from_numpy(train_feature_0ol).to(torch.float32),torch.from_numpy(train_label_0ol).to(torch.float32))\n",
    "\n",
    "test_dataset_0ol = TensorDataset(torch.from_numpy(test_feature_0ol).to(torch.float32),torch.from_numpy(test_label_0ol).to(torch.float32))\n",
    "\n",
    "train_loader_0ol = data.DataLoader(dataset = train_dataset_0ol, batch_size = 32, shuffle = True)\n",
    "\n",
    "test_loader_0ol = data.DataLoader(dataset = test_dataset_0ol, batch_size = 32, shuffle = False)\n"
   ]
  },
  {
   "cell_type": "code",
   "execution_count": 40,
   "id": "9dd958fd",
   "metadata": {},
   "outputs": [],
   "source": [
    "class CNN_UTD_0(nn.Module):\n",
    "    def __init__(self):\n",
    "        super(CNN_UTD_0, self).__init__()\n",
    "        self.layer1 = nn.Sequential(\n",
    "                nn.Conv2d(1, 16, kernel_size=3, stride=1, padding=2),\n",
    "                nn.ReLU(),\n",
    "                nn.BatchNorm2d(16),\n",
    "                nn.MaxPool2d(kernel_size=2, stride=2))\n",
    "        self.layer2 = nn.Sequential(\n",
    "                nn.Conv2d(16, 32, kernel_size=3, stride=1, padding=2),\n",
    "                nn.ReLU(),\n",
    "                nn.BatchNorm2d(32),\n",
    "                nn.MaxPool2d(2,2))\n",
    "        self.layer3 = nn.Sequential(\n",
    "                nn.Conv2d(32, 64, kernel_size=3, stride=1, padding=2),\n",
    "                nn.ReLU()\n",
    "        )\n",
    "        self.fc1 = nn.Linear(3520, 512)\n",
    "        self.fc3 = nn.Linear(512,27)\n",
    "    def forward(self, x):\n",
    "        out = self.layer1(x)\n",
    "        out = self.layer2(out)\n",
    "        out = self.layer3(out)\n",
    "        out = out.reshape(out.size(0), -1)\n",
    "        # out = self.drop_out(out)\n",
    "        out = self.fc1(out)           \n",
    "        out = self.fc3(out)\n",
    "        return out\n",
    "        \n",
    "model_0 = CNN_UTD_0().to(device)\n",
    "epoches = 20\n",
    "lr = 0.01\n",
    "criterion = nn.CrossEntropyLoss()\n",
    "optimizer = optim.SGD(model_0.parameters(),lr=lr, weight_decay=0.0001,momentum = 0.8)"
   ]
  },
  {
   "cell_type": "code",
   "execution_count": 41,
   "id": "2d9b81dd",
   "metadata": {},
   "outputs": [
    {
     "name": "stdout",
     "output_type": "stream",
     "text": [
      "Epoch:  1 accuracy:  12.72032902467685  % Loss:  3.0119180211396976\n",
      "Epoch:  2 accuracy:  23.707403055229143  % Loss:  2.591802924592918\n",
      "Epoch:  3 accuracy:  28.936545240893068  % Loss:  2.356608413090216\n",
      "Epoch:  4 accuracy:  33.07873090481786  % Loss:  2.1977288767556162\n",
      "Epoch:  5 accuracy:  36.28084606345476  % Loss:  2.060564413248936\n",
      "Epoch:  6 accuracy:  40.4524089306698  % Loss:  1.9142756239276066\n",
      "Epoch:  7 accuracy:  42.53819036427732  % Loss:  1.8108625723936846\n",
      "Epoch:  8 accuracy:  45.50528789659224  % Loss:  1.7202065358652132\n",
      "Epoch:  9 accuracy:  48.413631022326676  % Loss:  1.6279930121430726\n",
      "Epoch:  10 accuracy:  51.93889541715629  % Loss:  1.5045146351662753\n",
      "Epoch:  11 accuracy:  55.25851938895417  % Loss:  1.4044241816083962\n",
      "Epoch:  12 accuracy:  56.786133960047  % Loss:  1.3264305335338984\n",
      "Epoch:  13 accuracy:  60.54641598119859  % Loss:  1.2323707119326726\n",
      "Epoch:  14 accuracy:  62.54406580493537  % Loss:  1.159917518914303\n",
      "Epoch:  15 accuracy:  65.951821386604  % Loss:  1.0741298209841006\n",
      "Epoch:  16 accuracy:  68.09635722679201  % Loss:  1.0012527370007238\n",
      "Epoch:  17 accuracy:  70.53466509988249  % Loss:  0.9473013334742216\n",
      "Epoch:  18 accuracy:  72.76733254994124  % Loss:  0.8514675921368822\n",
      "Epoch:  19 accuracy:  74.41245593419507  % Loss:  0.8031150617889155\n",
      "Epoch:  20 accuracy:  74.14806110458284  % Loss:  0.7853910229473471\n"
     ]
    }
   ],
   "source": [
    "# training\n",
    "loss_list = []\n",
    "for epoch in range(epoches):\n",
    "    acc = 0\n",
    "    correct = 0\n",
    "    total = 0\n",
    "    loss_num = 0\n",
    "    runtime_loss = 0\n",
    "    for (imgs,labels) in train_loader_0ol:\n",
    "        imgs = imgs.reshape(len(imgs),1,32,6)\n",
    "#         imgs = imgs.reshape(len(imgs),1,16,24)     \n",
    "        imgs = imgs.to(device)\n",
    "        labels = labels.type(torch.LongTensor)\n",
    "        labels = labels.to(device)\n",
    "        optimizer.zero_grad()\n",
    "        outputs = model_0(imgs)\n",
    "        loss = criterion(outputs, labels)\n",
    "        runtime_loss += loss.item()\n",
    "        loss.backward()\n",
    "        optimizer.step()\n",
    "        total += labels.size(0)\n",
    "        _,predicted = torch.max(outputs.data,1)\n",
    "        correct += (predicted == labels).sum().item()\n",
    "        loss_num+=1\n",
    "    acc = 100 * correct / total\n",
    "    epoch_loss = runtime_loss / loss_num\n",
    "    loss_list.append(epoch_loss)\n",
    "    loss_num = 0\n",
    "    print(\"Epoch: \",epoch+1, \"accuracy: \", acc,' %',\"Loss: \",epoch_loss)"
   ]
  },
  {
   "cell_type": "code",
   "execution_count": 42,
   "id": "fe8e3f12",
   "metadata": {},
   "outputs": [
    {
     "name": "stdout",
     "output_type": "stream",
     "text": [
      "validation accuracy is:  38.24537354352296\n"
     ]
    }
   ],
   "source": [
    "# test\n",
    "correct_test = 0\n",
    "\n",
    "total_test = 0\n",
    "\n",
    "with torch.no_grad():\n",
    "\n",
    "  for (imgs_test,labels_test) in test_loader_0ol:\n",
    "\n",
    "    imgs_test = imgs_test.reshape(len(imgs_test),1,32,6)\n",
    "\n",
    "    imgs_test = imgs_test.to(device)\n",
    "\n",
    "    labels_test = labels_test.type(torch.LongTensor)\n",
    "\n",
    "    labels_test = labels_test.to(device)\n",
    "\n",
    "    outputs_test = model_0(imgs_test)\n",
    "\n",
    "    labels_test = labels_test.reshape(labels_test.shape[0],)\n",
    "\n",
    "    predicted_test = torch.max(outputs_test.data,1)[1]\n",
    "      \n",
    "    total_test += labels_test.size(0)\n",
    "      \n",
    "    correct_test += (predicted_test == labels_test).sum().item()\n",
    "\n",
    "    test_accuracy = 100*correct_test/total_test\n",
    "\n",
    "print('validation accuracy is: ',test_accuracy)"
   ]
  }
 ],
 "metadata": {
  "kernelspec": {
   "display_name": "Python 3 (ipykernel)",
   "language": "python",
   "name": "python3"
  },
  "language_info": {
   "codemirror_mode": {
    "name": "ipython",
    "version": 3
   },
   "file_extension": ".py",
   "mimetype": "text/x-python",
   "name": "python",
   "nbconvert_exporter": "python",
   "pygments_lexer": "ipython3",
   "version": "3.9.7"
  }
 },
 "nbformat": 4,
 "nbformat_minor": 5
}
