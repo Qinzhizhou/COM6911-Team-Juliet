{
 "cells": [
  {
   "cell_type": "code",
   "execution_count": 2,
   "id": "0d19eb33",
   "metadata": {},
   "outputs": [],
   "source": [
    "%matplotlib inline\n",
    "import scipy.io\n",
    "import numpy as np\n",
    "import pandas as pd\n",
    "from pathlib import Path\n",
    "import re\n",
    "from collections import Counter\n",
    "from matplotlib import pyplot as plt\n",
    "import torch\n",
    "import torch.nn as nn\n",
    "import torch.nn.functional as F\n",
    "import torch.optim as optim\n",
    "import torchvision\n",
    "from torchvision import datasets, transforms\n",
    "from torch.autograd import Variable\n",
    "from torch.utils.data import TensorDataset\n",
    "import torch.utils.data as data\n",
    "from torchvision import datasets\n",
    "device = torch.device(\"cuda\" if torch.cuda.is_available() else \"cpu\") # use gpu"
   ]
  },
  {
   "cell_type": "code",
   "execution_count": 3,
   "id": "d90ce163",
   "metadata": {},
   "outputs": [],
   "source": [
    "train_feature_75ol = np.load('../Data/UTDMHAD_data/UTD_train_feature_64wz_75ol.npy')\n",
    "train_label_75ol = np.load('../Data/UTDMHAD_data/UTD_train_label_64wz_75ol.npy')\n",
    "test_feature_75ol = np.load('../Data/UTDMHAD_data/UTD_test_feature_64wz_75ol.npy')\n",
    "test_label_75ol = np.load('../Data/UTDMHAD_data/UTD_test_label_64wz_75ol.npy')\n",
    "\n",
    "train_feature_50ol = np.load('../Data/UTDMHAD_data/UTD_train_feature_64wz_50ol.npy')\n",
    "train_label_50ol = np.load('../Data/UTDMHAD_data/UTD_train_label_64wz_50ol.npy')\n",
    "test_feature_50ol = np.load('../Data/UTDMHAD_data/UTD_test_feature_64wz_50ol.npy')\n",
    "test_label_50ol = np.load('../Data/UTDMHAD_data/UTD_test_label_64wz_50ol.npy')\n",
    "\n",
    "train_feature_25ol = np.load('../Data/UTDMHAD_data/UTD_train_feature_64wz_25ol.npy')\n",
    "train_label_25ol = np.load('../Data/UTDMHAD_data/UTD_train_label_64wz_25ol.npy')\n",
    "test_feature_25ol = np.load('../Data/UTDMHAD_data/UTD_test_feature_64wz_25ol.npy')\n",
    "test_label_25ol = np.load('../Data/UTDMHAD_data/UTD_test_label_64wz_25ol.npy')\n",
    "\n",
    "train_feature_0ol = np.load('../Data/UTDMHAD_data/UTD_train_feature_64wz_0ol.npy')\n",
    "train_label_0ol = np.load('../Data/UTDMHAD_data/UTD_train_label_64wz_0ol.npy')\n",
    "test_feature_0ol = np.load('../Data/UTDMHAD_data/UTD_test_feature_64wz_0ol.npy')\n",
    "test_label_0ol = np.load('../Data/UTDMHAD_data/UTD_test_label_64wz_0ol.npy')"
   ]
  },
  {
   "cell_type": "markdown",
   "id": "27b3c89d",
   "metadata": {},
   "source": [
    "# 64 window_size %75 overlapping"
   ]
  },
  {
   "cell_type": "code",
   "execution_count": 4,
   "id": "32d4c6b1",
   "metadata": {},
   "outputs": [],
   "source": [
    "train_dataset_75ol = TensorDataset(torch.from_numpy(train_feature_75ol).to(torch.float32),torch.from_numpy(train_label_75ol).to(torch.float32))\n",
    "\n",
    "test_dataset_75ol = TensorDataset(torch.from_numpy(test_feature_75ol).to(torch.float32),torch.from_numpy(test_label_75ol).to(torch.float32))\n"
   ]
  },
  {
   "cell_type": "code",
   "execution_count": 5,
   "id": "493498f6",
   "metadata": {},
   "outputs": [],
   "source": [
    "train_loader_75ol = data.DataLoader(dataset = train_dataset_75ol, batch_size = 32, shuffle = True)\n",
    "\n",
    "test_loader_75ol = data.DataLoader(dataset = test_dataset_75ol, batch_size = 32, shuffle = False)"
   ]
  },
  {
   "cell_type": "code",
   "execution_count": 35,
   "id": "4b36337d",
   "metadata": {},
   "outputs": [],
   "source": [
    "class CNN_UTD(nn.Module):\n",
    "    def __init__(self):\n",
    "        super(CNN_UTD, self).__init__()\n",
    "        self.layer1 = nn.Sequential(\n",
    "                nn.Conv2d(1, 16, kernel_size=3, stride=1, padding=2),\n",
    "                nn.ReLU(),\n",
    "                nn.BatchNorm2d(16),\n",
    "                nn.MaxPool2d(kernel_size=2, stride=2))\n",
    "        self.layer2 = nn.Sequential(\n",
    "                nn.Conv2d(16, 32, kernel_size=3, stride=1, padding=2),\n",
    "                nn.ReLU(),\n",
    "                nn.BatchNorm2d(32),\n",
    "                nn.MaxPool2d(2,2))\n",
    "        self.layer3 = nn.Sequential(\n",
    "                nn.Conv2d(32, 64, kernel_size=3, stride=1, padding=2),\n",
    "                nn.ReLU()\n",
    "        )\n",
    "        self.fc1 = nn.Linear(4224, 512)\n",
    "        self.fc3 = nn.Linear(512,27)\n",
    "    def forward(self, x):\n",
    "        out = self.layer1(x)\n",
    "        out = self.layer2(out)\n",
    "        out = self.layer3(out)\n",
    "        out = out.reshape(out.size(0), -1)\n",
    "        # out = self.drop_out(out)\n",
    "        out = self.fc1(out)           \n",
    "        out = self.fc3(out)\n",
    "        return out\n",
    "        \n",
    "model_75 = CNN_UTD().to(device)"
   ]
  },
  {
   "cell_type": "code",
   "execution_count": 36,
   "id": "26d1e6d3",
   "metadata": {},
   "outputs": [],
   "source": [
    "epoches = 20\n",
    "lr = 0.01\n",
    "criterion = nn.CrossEntropyLoss()\n",
    "optimizer = optim.SGD(model_75.parameters(),lr=lr, weight_decay=0.0001,momentum = 0.8)"
   ]
  },
  {
   "cell_type": "code",
   "execution_count": 37,
   "id": "b8bb337d",
   "metadata": {},
   "outputs": [
    {
     "name": "stdout",
     "output_type": "stream",
     "text": [
      "Epoch:  1 accuracy:  26.652953276520716  % Loss:  2.410090876297212\n",
      "Epoch:  2 accuracy:  43.241257713781955  % Loss:  1.7304281953354956\n",
      "Epoch:  3 accuracy:  50.47017337643256  % Loss:  1.474623506897492\n",
      "Epoch:  4 accuracy:  57.31707317073171  % Loss:  1.28027124723918\n",
      "Epoch:  5 accuracy:  62.19512195121951  % Loss:  1.1269277737174235\n",
      "Epoch:  6 accuracy:  65.22186306200412  % Loss:  1.0352648734486718\n",
      "Epoch:  7 accuracy:  69.52688803996473  % Loss:  0.8928823413703363\n",
      "Epoch:  8 accuracy:  72.62709374081693  % Loss:  0.8023004149886924\n",
      "Epoch:  9 accuracy:  75.47751983543932  % Loss:  0.7245515137211258\n",
      "Epoch:  10 accuracy:  78.18101674992654  % Loss:  0.6265140071581227\n",
      "Epoch:  11 accuracy:  80.23802527181898  % Loss:  0.5700831822526287\n",
      "Epoch:  12 accuracy:  82.2656479576844  % Loss:  0.5291379993790192\n",
      "Epoch:  13 accuracy:  83.47046723479284  % Loss:  0.482639439019239\n",
      "Epoch:  14 accuracy:  84.49897149573906  % Loss:  0.45304479019742616\n",
      "Epoch:  15 accuracy:  85.58624742873934  % Loss:  0.42204320266353135\n",
      "Epoch:  16 accuracy:  87.55509844255069  % Loss:  0.36967598300584603\n",
      "Epoch:  17 accuracy:  88.34851601528064  % Loss:  0.3396983655265799\n",
      "Epoch:  18 accuracy:  90.27328827505143  % Loss:  0.2906656577798402\n",
      "Epoch:  19 accuracy:  89.64149280047017  % Loss:  0.3052655389716088\n",
      "Epoch:  20 accuracy:  91.71319424037614  % Loss:  0.2552331442214514\n"
     ]
    }
   ],
   "source": [
    "## training\n",
    "loss_list = []\n",
    "for epoch in range(epoches):\n",
    "    acc = 0\n",
    "    correct = 0\n",
    "    total = 0\n",
    "    loss_num = 0\n",
    "    runtime_loss = 0\n",
    "    for (imgs,labels) in train_loader_75ol:\n",
    "        imgs = imgs.reshape(len(imgs),1,32,12)\n",
    "#         imgs = imgs.reshape(len(imgs),1,16,24)     \n",
    "        imgs = imgs.to(device)\n",
    "        labels = labels.type(torch.LongTensor)\n",
    "        labels = labels.to(device)\n",
    "        optimizer.zero_grad()\n",
    "        outputs = model_75(imgs)\n",
    "        loss = criterion(outputs, labels)\n",
    "        runtime_loss += loss.item()\n",
    "        loss.backward()\n",
    "        optimizer.step()\n",
    "        total += labels.size(0)\n",
    "        _,predicted = torch.max(outputs.data,1)\n",
    "        correct += (predicted == labels).sum().item()\n",
    "        loss_num+=1\n",
    "    acc = 100 * correct / total\n",
    "    epoch_loss = runtime_loss / loss_num\n",
    "    loss_list.append(epoch_loss)\n",
    "    loss_num = 0\n",
    "    print(\"Epoch: \",epoch+1, \"accuracy: \", acc,' %',\"Loss: \",epoch_loss)"
   ]
  },
  {
   "cell_type": "code",
   "execution_count": 39,
   "id": "1fb2512b",
   "metadata": {},
   "outputs": [
    {
     "data": {
      "image/png": "[encoded data removed]",
      "text/plain": [
       "<Figure size 432x288 with 1 Axes>"
      ]
     },
     "metadata": {
      "needs_background": "light"
     },
     "output_type": "display_data"
    }
   ],
   "source": [
    "import matplotlib.pyplot as plt\n",
    "x = []\n",
    "for i in range(1,21):\n",
    "  x.append(i)\n",
    "y = loss_list\n",
    "fig = plt.figure()\n",
    "plt.plot(x,y,color = 'blue')\n",
    "plt.title('training loss history')\n",
    "plt.show()"
   ]
  },
  {
   "cell_type": "code",
   "execution_count": 40,
   "id": "8caaeb43",
   "metadata": {},
   "outputs": [
    {
     "name": "stdout",
     "output_type": "stream",
     "text": [
      "validation accuracy is:  61.13776559287183\n"
     ]
    }
   ],
   "source": [
    "# test\n",
    "correct_test = 0\n",
    "\n",
    "total_test = 0\n",
    "\n",
    "with torch.no_grad():\n",
    "\n",
    "  for (imgs_test,labels_test) in test_loader_75ol:\n",
    "\n",
    "    imgs_test = imgs_test.reshape(len(imgs_test),1,32,12)\n",
    "\n",
    "    imgs_test = imgs_test.to(device)\n",
    "\n",
    "    labels_test = labels_test.type(torch.LongTensor)\n",
    "\n",
    "    labels_test = labels_test.to(device)\n",
    "\n",
    "    outputs_test = model_75(imgs_test)\n",
    "\n",
    "    labels_test = labels_test.reshape(labels_test.shape[0],)\n",
    "\n",
    "    predicted_test = torch.max(outputs_test.data,1)[1]\n",
    "      \n",
    "    total_test += labels_test.size(0)\n",
    "      \n",
    "    correct_test += (predicted_test == labels_test).sum().item()\n",
    "\n",
    "    test_accuracy = 100*correct_test/total_test\n",
    "\n",
    "print('validation accuracy is: ',test_accuracy)"
   ]
  },
  {
   "cell_type": "markdown",
   "id": "2349b53e",
   "metadata": {},
   "source": [
    "# 64 window_size %50 overlapping"
   ]
  },
  {
   "cell_type": "code",
   "execution_count": 17,
   "id": "b6c0822e",
   "metadata": {},
   "outputs": [],
   "source": [
    "train_dataset_50ol = TensorDataset(torch.from_numpy(train_feature_50ol).to(torch.float32),torch.from_numpy(train_label_50ol).to(torch.float32))\n",
    "\n",
    "test_dataset_50ol = TensorDataset(torch.from_numpy(test_feature_50ol).to(torch.float32),torch.from_numpy(test_label_50ol).to(torch.float32))\n",
    "\n",
    "train_loader_50ol = data.DataLoader(dataset = train_dataset_50ol, batch_size = 32, shuffle = True)\n",
    "\n",
    "test_loader_50ol = data.DataLoader(dataset = test_dataset_50ol, batch_size = 32, shuffle = False)\n"
   ]
  },
  {
   "cell_type": "code",
   "execution_count": 41,
   "id": "0fbd16f1",
   "metadata": {},
   "outputs": [],
   "source": [
    "class CNN_UTD_50(nn.Module):\n",
    "    def __init__(self):\n",
    "        super(CNN_UTD_50, self).__init__()\n",
    "        self.layer1 = nn.Sequential(\n",
    "                nn.Conv2d(1, 16, kernel_size=3, stride=1, padding=2),\n",
    "                nn.ReLU(),\n",
    "                nn.BatchNorm2d(16),\n",
    "                nn.MaxPool2d(kernel_size=2, stride=2))\n",
    "        self.layer2 = nn.Sequential(\n",
    "                nn.Conv2d(16, 32, kernel_size=3, stride=1, padding=2),\n",
    "                nn.ReLU(),\n",
    "                nn.BatchNorm2d(32),\n",
    "                nn.MaxPool2d(2,2))\n",
    "        self.layer3 = nn.Sequential(\n",
    "                nn.Conv2d(32, 64, kernel_size=3, stride=1, padding=2),\n",
    "                nn.ReLU()\n",
    "        )\n",
    "        self.fc1 = nn.Linear(4224, 512)\n",
    "        self.fc3 = nn.Linear(512,27)\n",
    "    def forward(self, x):\n",
    "        out = self.layer1(x)\n",
    "        out = self.layer2(out)\n",
    "        out = self.layer3(out)\n",
    "        out = out.reshape(out.size(0), -1)\n",
    "        # out = self.drop_out(out)\n",
    "        out = self.fc1(out)           \n",
    "        out = self.fc3(out)\n",
    "        return out\n",
    "        \n",
    "model_50 = CNN_UTD_50().to(device)\n",
    "epoches = 20\n",
    "lr = 0.01\n",
    "criterion = nn.CrossEntropyLoss()\n",
    "optimizer = optim.SGD(model_50.parameters(),lr=lr, weight_decay=0.0001,momentum = 0.8)"
   ]
  },
  {
   "cell_type": "code",
   "execution_count": 42,
   "id": "57f65fb4",
   "metadata": {},
   "outputs": [
    {
     "name": "stdout",
     "output_type": "stream",
     "text": [
      "Epoch:  1 accuracy:  18.660005877167205  % Loss:  2.789534646774007\n",
      "Epoch:  2 accuracy:  34.29327064354981  % Loss:  2.0811869619048644\n",
      "Epoch:  3 accuracy:  42.25683220687628  % Loss:  1.7918559635911033\n",
      "Epoch:  4 accuracy:  47.928298560094035  % Loss:  1.5732410778509123\n",
      "Epoch:  5 accuracy:  53.776079929473994  % Loss:  1.4156971891349721\n",
      "Epoch:  6 accuracy:  57.684396121069646  % Loss:  1.271762276364264\n",
      "Epoch:  7 accuracy:  62.444901557449306  % Loss:  1.1353088461350058\n",
      "Epoch:  8 accuracy:  65.85365853658537  % Loss:  1.0324666500091553\n",
      "Epoch:  9 accuracy:  70.46723479282986  % Loss:  0.8951127055649445\n",
      "Epoch:  10 accuracy:  73.55274757566853  % Loss:  0.8042206533044298\n",
      "Epoch:  11 accuracy:  76.13870114604761  % Loss:  0.7272459469108938\n",
      "Epoch:  12 accuracy:  77.96062297972378  % Loss:  0.6578477115553116\n",
      "Epoch:  13 accuracy:  79.16544225683221  % Loss:  0.6118153989593559\n",
      "Epoch:  14 accuracy:  83.51454598883338  % Loss:  0.4995865189583502\n",
      "Epoch:  15 accuracy:  85.89479870702321  % Loss:  0.43186477578689003\n",
      "Epoch:  16 accuracy:  87.68733470467235  % Loss:  0.37728904257310886\n",
      "Epoch:  17 accuracy:  87.62856303261827  % Loss:  0.3648242022946616\n",
      "Epoch:  18 accuracy:  89.00969732588892  % Loss:  0.33445320877237855\n",
      "Epoch:  19 accuracy:  91.0079341757273  % Loss:  0.2827458294265181\n",
      "Epoch:  20 accuracy:  90.80223332353806  % Loss:  0.2905099458087271\n"
     ]
    }
   ],
   "source": [
    "# training\n",
    "loss_list = []\n",
    "for epoch in range(epoches):\n",
    "    acc = 0\n",
    "    correct = 0\n",
    "    total = 0\n",
    "    loss_num = 0\n",
    "    runtime_loss = 0\n",
    "    for (imgs,labels) in train_loader_50ol:\n",
    "        imgs = imgs.reshape(len(imgs),1,32,12)\n",
    "#         imgs = imgs.reshape(len(imgs),1,16,24)     \n",
    "        imgs = imgs.to(device)\n",
    "        labels = labels.type(torch.LongTensor)\n",
    "        labels = labels.to(device)\n",
    "        optimizer.zero_grad()\n",
    "        outputs = model_50(imgs)\n",
    "        loss = criterion(outputs, labels)\n",
    "        runtime_loss += loss.item()\n",
    "        loss.backward()\n",
    "        optimizer.step()\n",
    "        total += labels.size(0)\n",
    "        _,predicted = torch.max(outputs.data,1)\n",
    "        correct += (predicted == labels).sum().item()\n",
    "        loss_num+=1\n",
    "    acc = 100 * correct / total\n",
    "    epoch_loss = runtime_loss / loss_num\n",
    "    loss_list.append(epoch_loss)\n",
    "    loss_num = 0\n",
    "    print(\"Epoch: \",epoch+1, \"accuracy: \", acc,' %',\"Loss: \",epoch_loss)"
   ]
  },
  {
   "cell_type": "code",
   "execution_count": 43,
   "id": "705df454",
   "metadata": {},
   "outputs": [
    {
     "name": "stdout",
     "output_type": "stream",
     "text": [
      "validation accuracy is:  53.32419465387252\n"
     ]
    }
   ],
   "source": [
    "# test\n",
    "correct_test = 0\n",
    "\n",
    "total_test = 0\n",
    "\n",
    "with torch.no_grad():\n",
    "\n",
    "  for (imgs_test,labels_test) in test_loader_50ol:\n",
    "\n",
    "    imgs_test = imgs_test.reshape(len(imgs_test),1,32,12)\n",
    "\n",
    "    imgs_test = imgs_test.to(device)\n",
    "\n",
    "    labels_test = labels_test.type(torch.LongTensor)\n",
    "\n",
    "    labels_test = labels_test.to(device)\n",
    "\n",
    "    outputs_test = model_50(imgs_test)\n",
    "\n",
    "    labels_test = labels_test.reshape(labels_test.shape[0],)\n",
    "\n",
    "    predicted_test = torch.max(outputs_test.data,1)[1]\n",
    "      \n",
    "    total_test += labels_test.size(0)\n",
    "      \n",
    "    correct_test += (predicted_test == labels_test).sum().item()\n",
    "\n",
    "    test_accuracy = 100*correct_test/total_test\n",
    "\n",
    "print('validation accuracy is: ',test_accuracy)"
   ]
  },
  {
   "cell_type": "markdown",
   "id": "78d4d7b6",
   "metadata": {},
   "source": [
    "# 64 window_size %25 overlapping"
   ]
  },
  {
   "cell_type": "code",
   "execution_count": 24,
   "id": "6abc3e87",
   "metadata": {},
   "outputs": [],
   "source": [
    "train_dataset_25ol = TensorDataset(torch.from_numpy(train_feature_25ol).to(torch.float32),torch.from_numpy(train_label_25ol).to(torch.float32))\n",
    "\n",
    "test_dataset_25ol = TensorDataset(torch.from_numpy(test_feature_25ol).to(torch.float32),torch.from_numpy(test_label_25ol).to(torch.float32))\n",
    "\n",
    "train_loader_25ol = data.DataLoader(dataset = train_dataset_25ol, batch_size = 32, shuffle = True)\n",
    "\n",
    "test_loader_25ol = data.DataLoader(dataset = test_dataset_25ol, batch_size = 32, shuffle = False)\n"
   ]
  },
  {
   "cell_type": "code",
   "execution_count": 49,
   "id": "a8783748",
   "metadata": {},
   "outputs": [],
   "source": [
    "class CNN_UTD_25(nn.Module):\n",
    "    def __init__(self):\n",
    "        super(CNN_UTD_25, self).__init__()\n",
    "        self.layer1 = nn.Sequential(\n",
    "                nn.Conv2d(1, 16, kernel_size=3, stride=1, padding=2),\n",
    "                nn.ReLU(),\n",
    "                nn.BatchNorm2d(16),\n",
    "                nn.MaxPool2d(kernel_size=2, stride=2))\n",
    "        self.layer2 = nn.Sequential(\n",
    "                nn.Conv2d(16, 32, kernel_size=3, stride=1, padding=2),\n",
    "                nn.ReLU(),\n",
    "                nn.BatchNorm2d(32),\n",
    "                nn.MaxPool2d(2,2))\n",
    "        self.layer3 = nn.Sequential(\n",
    "                nn.Conv2d(32, 64, kernel_size=3, stride=1, padding=2),\n",
    "                nn.ReLU()\n",
    "        )\n",
    "        self.fc1 = nn.Linear(4224, 512)\n",
    "        self.fc3 = nn.Linear(512,27)\n",
    "    def forward(self, x):\n",
    "        out = self.layer1(x)\n",
    "        out = self.layer2(out)\n",
    "        out = self.layer3(out)\n",
    "        out = out.reshape(out.size(0), -1)\n",
    "        # out = self.drop_out(out)\n",
    "        out = self.fc1(out)           \n",
    "        out = self.fc3(out)\n",
    "        return out\n",
    "        \n",
    "model_25 = CNN_UTD_25().to(device)\n",
    "epoches = 20\n",
    "lr = 0.01\n",
    "criterion = nn.CrossEntropyLoss()\n",
    "optimizer = optim.SGD(model_25.parameters(),lr=lr, weight_decay=0.0001,momentum = 0.8)"
   ]
  },
  {
   "cell_type": "code",
   "execution_count": 50,
   "id": "2f5c17f5",
   "metadata": {},
   "outputs": [
    {
     "name": "stdout",
     "output_type": "stream",
     "text": [
      "Epoch:  1 accuracy:  14.367562802996915  % Loss:  2.928686867297535\n",
      "Epoch:  2 accuracy:  31.42353459673865  % Loss:  2.283009779285377\n",
      "Epoch:  3 accuracy:  40.01762891141472  % Loss:  1.9031359058030894\n",
      "Epoch:  4 accuracy:  45.52666372851476  % Loss:  1.6914754837331638\n",
      "Epoch:  5 accuracy:  52.093433230498015  % Loss:  1.4960484513094727\n",
      "Epoch:  6 accuracy:  57.60246804759806  % Loss:  1.3378986044668815\n",
      "Epoch:  7 accuracy:  60.46716615249009  % Loss:  1.201899655268226\n",
      "Epoch:  8 accuracy:  63.155575143234906  % Loss:  1.0816934906261069\n",
      "Epoch:  9 accuracy:  69.89863375936535  % Loss:  0.9328893028514486\n",
      "Epoch:  10 accuracy:  71.13265755839576  % Loss:  0.8636608367234888\n",
      "Epoch:  11 accuracy:  74.52622300572939  % Loss:  0.7861558341644179\n",
      "Epoch:  12 accuracy:  78.49272807404142  % Loss:  0.6749595617744285\n",
      "Epoch:  13 accuracy:  82.01851035698546  % Loss:  0.5439796968245171\n",
      "Epoch:  14 accuracy:  84.31026884089907  % Loss:  0.4725023493380614\n",
      "Epoch:  15 accuracy:  87.1749669457911  % Loss:  0.38330641766669044\n",
      "Epoch:  16 accuracy:  88.8497135301895  % Loss:  0.3363603187698713\n",
      "Epoch:  17 accuracy:  89.42265315116792  % Loss:  0.31440296296922254\n",
      "Epoch:  18 accuracy:  87.6597620096959  % Loss:  0.3896775687454452\n",
      "Epoch:  19 accuracy:  91.93477302776553  % Loss:  0.2704923309280839\n",
      "Epoch:  20 accuracy:  93.56544733362715  % Loss:  0.20784457264022088\n"
     ]
    }
   ],
   "source": [
    "# training\n",
    "loss_list = []\n",
    "for epoch in range(epoches):\n",
    "    acc = 0\n",
    "    correct = 0\n",
    "    total = 0\n",
    "    loss_num = 0\n",
    "    runtime_loss = 0\n",
    "    for (imgs,labels) in train_loader_25ol:\n",
    "        imgs = imgs.reshape(len(imgs),1,32,12)\n",
    "#         imgs = imgs.reshape(len(imgs),1,16,24)     \n",
    "        imgs = imgs.to(device)\n",
    "        labels = labels.type(torch.LongTensor)\n",
    "        labels = labels.to(device)\n",
    "        optimizer.zero_grad()\n",
    "        outputs = model_25(imgs)\n",
    "        loss = criterion(outputs, labels)\n",
    "        runtime_loss += loss.item()\n",
    "        loss.backward()\n",
    "        optimizer.step()\n",
    "        total += labels.size(0)\n",
    "        _,predicted = torch.max(outputs.data,1)\n",
    "        correct += (predicted == labels).sum().item()\n",
    "        loss_num+=1\n",
    "    acc = 100 * correct / total\n",
    "    epoch_loss = runtime_loss / loss_num\n",
    "    loss_list.append(epoch_loss)\n",
    "    loss_num = 0\n",
    "    print(\"Epoch: \",epoch+1, \"accuracy: \", acc,' %',\"Loss: \",epoch_loss)"
   ]
  },
  {
   "cell_type": "code",
   "execution_count": 51,
   "id": "23ecd5cc",
   "metadata": {},
   "outputs": [
    {
     "data": {
      "image/png": "[encoded data removed]",
      "text/plain": [
       "<Figure size 432x288 with 1 Axes>"
      ]
     },
     "metadata": {
      "needs_background": "light"
     },
     "output_type": "display_data"
    }
   ],
   "source": [
    "import matplotlib.pyplot as plt\n",
    "x = []\n",
    "for i in range(1,21):\n",
    "  x.append(i)\n",
    "y = loss_list\n",
    "fig = plt.figure()\n",
    "plt.plot(x,y,color = 'blue')\n",
    "plt.title('training loss history')\n",
    "plt.show()"
   ]
  },
  {
   "cell_type": "code",
   "execution_count": 52,
   "id": "65bd474c",
   "metadata": {},
   "outputs": [
    {
     "name": "stdout",
     "output_type": "stream",
     "text": [
      "validation accuracy is:  49.84583761562179\n"
     ]
    }
   ],
   "source": [
    "# test\n",
    "correct_test = 0\n",
    "\n",
    "total_test = 0\n",
    "\n",
    "with torch.no_grad():\n",
    "\n",
    "  for (imgs_test,labels_test) in test_loader_25ol:\n",
    "\n",
    "    imgs_test = imgs_test.reshape(len(imgs_test),1,32,12)\n",
    "\n",
    "    imgs_test = imgs_test.to(device)\n",
    "\n",
    "    labels_test = labels_test.type(torch.LongTensor)\n",
    "\n",
    "    labels_test = labels_test.to(device)\n",
    "\n",
    "    outputs_test = model_25(imgs_test)\n",
    "\n",
    "    labels_test = labels_test.reshape(labels_test.shape[0],)\n",
    "\n",
    "    predicted_test = torch.max(outputs_test.data,1)[1]\n",
    "      \n",
    "    total_test += labels_test.size(0)\n",
    "      \n",
    "    correct_test += (predicted_test == labels_test).sum().item()\n",
    "\n",
    "    test_accuracy = 100*correct_test/total_test\n",
    "\n",
    "print('validation accuracy is: ',test_accuracy)"
   ]
  },
  {
   "cell_type": "markdown",
   "id": "a3af8935",
   "metadata": {},
   "source": [
    "# 64 window_size %0 overlapping"
   ]
  },
  {
   "cell_type": "code",
   "execution_count": 30,
   "id": "bb18952d",
   "metadata": {},
   "outputs": [],
   "source": [
    "train_dataset_0ol = TensorDataset(torch.from_numpy(train_feature_0ol).to(torch.float32),torch.from_numpy(train_label_0ol).to(torch.float32))\n",
    "\n",
    "test_dataset_0ol = TensorDataset(torch.from_numpy(test_feature_0ol).to(torch.float32),torch.from_numpy(test_label_0ol).to(torch.float32))\n",
    "\n",
    "train_loader_0ol = data.DataLoader(dataset = train_dataset_0ol, batch_size = 32, shuffle = True)\n",
    "\n",
    "test_loader_0ol = data.DataLoader(dataset = test_dataset_0ol, batch_size = 32, shuffle = False)\n"
   ]
  },
  {
   "cell_type": "code",
   "execution_count": 44,
   "id": "48220fdb",
   "metadata": {},
   "outputs": [],
   "source": [
    "class CNN_UTD_0(nn.Module):\n",
    "    def __init__(self):\n",
    "        super(CNN_UTD_0, self).__init__()\n",
    "        self.layer1 = nn.Sequential(\n",
    "                nn.Conv2d(1, 16, kernel_size=3, stride=1, padding=2),\n",
    "                nn.ReLU(),\n",
    "                nn.BatchNorm2d(16),\n",
    "                nn.MaxPool2d(kernel_size=2, stride=2))\n",
    "        self.layer2 = nn.Sequential(\n",
    "                nn.Conv2d(16, 32, kernel_size=3, stride=1, padding=2),\n",
    "                nn.ReLU(),\n",
    "                nn.BatchNorm2d(32),\n",
    "                nn.MaxPool2d(2,2))\n",
    "        self.layer3 = nn.Sequential(\n",
    "                nn.Conv2d(32, 64, kernel_size=3, stride=1, padding=2),\n",
    "                nn.ReLU()\n",
    "        )\n",
    "        self.fc1 = nn.Linear(4224, 512)\n",
    "        self.fc3 = nn.Linear(512,27)\n",
    "    def forward(self, x):\n",
    "        out = self.layer1(x)\n",
    "        out = self.layer2(out)\n",
    "        out = self.layer3(out)\n",
    "        out = out.reshape(out.size(0), -1)\n",
    "        # out = self.drop_out(out)\n",
    "        out = self.fc1(out)           \n",
    "        out = self.fc3(out)\n",
    "        return out\n",
    "        \n",
    "model_0 = CNN_UTD_0().to(device)\n",
    "epoches = 20\n",
    "lr = 0.01\n",
    "criterion = nn.CrossEntropyLoss()\n",
    "optimizer = optim.SGD(model_0.parameters(),lr=lr, weight_decay=0.0001,momentum = 0.8)"
   ]
  },
  {
   "cell_type": "code",
   "execution_count": 45,
   "id": "9c8b2b98",
   "metadata": {},
   "outputs": [
    {
     "name": "stdout",
     "output_type": "stream",
     "text": [
      "Epoch:  1 accuracy:  12.404467960023515  % Loss:  3.0233480400509305\n",
      "Epoch:  2 accuracy:  28.395061728395063  % Loss:  2.410914597687898\n",
      "Epoch:  3 accuracy:  34.97942386831276  % Loss:  2.057758064181716\n",
      "Epoch:  4 accuracy:  40.975896531452086  % Loss:  1.8186475899484422\n",
      "Epoch:  5 accuracy:  50.3233392122281  % Loss:  1.6192681082972773\n",
      "Epoch:  6 accuracy:  52.55731922398589  % Loss:  1.4562444123956892\n",
      "Epoch:  7 accuracy:  59.31804820693709  % Loss:  1.2823536252533947\n",
      "Epoch:  8 accuracy:  62.316284538506764  % Loss:  1.186236196094089\n",
      "Epoch:  9 accuracy:  66.01998824221046  % Loss:  1.0663131133273795\n",
      "Epoch:  10 accuracy:  71.5461493239271  % Loss:  0.8828773272258265\n",
      "Epoch:  11 accuracy:  75.19106407995297  % Loss:  0.7792473026999721\n",
      "Epoch:  12 accuracy:  77.13109935332157  % Loss:  0.7287383774916331\n",
      "Epoch:  13 accuracy:  82.59847148736037  % Loss:  0.5418479685430173\n",
      "Epoch:  14 accuracy:  85.00881834215167  % Loss:  0.4911627843976021\n",
      "Epoch:  15 accuracy:  86.06701940035273  % Loss:  0.4488267169368488\n",
      "Epoch:  16 accuracy:  88.53615520282187  % Loss:  0.3651092971364657\n",
      "Epoch:  17 accuracy:  89.82951205173427  % Loss:  0.34802494832762965\n",
      "Epoch:  18 accuracy:  84.12698412698413  % Loss:  0.5226444615810005\n",
      "Epoch:  19 accuracy:  82.12815990593768  % Loss:  0.5364007025405213\n",
      "Epoch:  20 accuracy:  92.88653733098178  % Loss:  0.2400315592272414\n"
     ]
    }
   ],
   "source": [
    "# training\n",
    "loss_list = []\n",
    "for epoch in range(epoches):\n",
    "    acc = 0\n",
    "    correct = 0\n",
    "    total = 0\n",
    "    loss_num = 0\n",
    "    runtime_loss = 0\n",
    "    for (imgs,labels) in train_loader_0ol:\n",
    "        imgs = imgs.reshape(len(imgs),1,32,12)\n",
    "#         imgs = imgs.reshape(len(imgs),1,16,24)     \n",
    "        imgs = imgs.to(device)\n",
    "        labels = labels.type(torch.LongTensor)\n",
    "        labels = labels.to(device)\n",
    "        optimizer.zero_grad()\n",
    "        outputs = model_0(imgs)\n",
    "        loss = criterion(outputs, labels)\n",
    "        runtime_loss += loss.item()\n",
    "        loss.backward()\n",
    "        optimizer.step()\n",
    "        total += labels.size(0)\n",
    "        _,predicted = torch.max(outputs.data,1)\n",
    "        correct += (predicted == labels).sum().item()\n",
    "        loss_num+=1\n",
    "    acc = 100 * correct / total\n",
    "    epoch_loss = runtime_loss / loss_num\n",
    "    loss_list.append(epoch_loss)\n",
    "    loss_num = 0\n",
    "    print(\"Epoch: \",epoch+1, \"accuracy: \", acc,' %',\"Loss: \",epoch_loss)"
   ]
  },
  {
   "cell_type": "code",
   "execution_count": 48,
   "id": "b351dd16",
   "metadata": {},
   "outputs": [
    {
     "data": {
      "image/png": "[encoded data removed]",
      "text/plain": [
       "<Figure size 432x288 with 1 Axes>"
      ]
     },
     "metadata": {
      "needs_background": "light"
     },
     "output_type": "display_data"
    }
   ],
   "source": [
    "import matplotlib.pyplot as plt\n",
    "x = []\n",
    "for i in range(1,21):\n",
    "  x.append(i)\n",
    "y = loss_list\n",
    "fig = plt.figure()\n",
    "plt.plot(x,y,color = 'blue')\n",
    "plt.title('training loss history')\n",
    "plt.show()"
   ]
  },
  {
   "cell_type": "code",
   "execution_count": 47,
   "id": "9faad3a6",
   "metadata": {},
   "outputs": [
    {
     "name": "stdout",
     "output_type": "stream",
     "text": [
      "validation accuracy is:  48.49315068493151\n"
     ]
    }
   ],
   "source": [
    "# test\n",
    "correct_test = 0\n",
    "\n",
    "total_test = 0\n",
    "\n",
    "with torch.no_grad():\n",
    "\n",
    "  for (imgs_test,labels_test) in test_loader_0ol:\n",
    "\n",
    "    imgs_test = imgs_test.reshape(len(imgs_test),1,32,12)\n",
    "\n",
    "    imgs_test = imgs_test.to(device)\n",
    "\n",
    "    labels_test = labels_test.type(torch.LongTensor)\n",
    "\n",
    "    labels_test = labels_test.to(device)\n",
    "\n",
    "    outputs_test = model_0(imgs_test)\n",
    "\n",
    "    labels_test = labels_test.reshape(labels_test.shape[0],)\n",
    "\n",
    "    predicted_test = torch.max(outputs_test.data,1)[1]\n",
    "      \n",
    "    total_test += labels_test.size(0)\n",
    "      \n",
    "    correct_test += (predicted_test == labels_test).sum().item()\n",
    "\n",
    "    test_accuracy = 100*correct_test/total_test\n",
    "\n",
    "print('validation accuracy is: ',test_accuracy)"
   ]
  }
 ],
 "metadata": {
  "kernelspec": {
   "display_name": "Python 3 (ipykernel)",
   "language": "python",
   "name": "python3"
  },
  "language_info": {
   "codemirror_mode": {
    "name": "ipython",
    "version": 3
   },
   "file_extension": ".py",
   "mimetype": "text/x-python",
   "name": "python",
   "nbconvert_exporter": "python",
   "pygments_lexer": "ipython3",
   "version": "3.9.7"
  }
 },
 "nbformat": 4,
 "nbformat_minor": 5
}
